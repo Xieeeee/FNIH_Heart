{
 "cells": [
  {
   "cell_type": "markdown",
   "id": "6049b115",
   "metadata": {},
   "source": [
    "# Most of this notebook is inspired by Ruth's notion:\n",
    "https://www.notion.so/LD-Score-Regression-96461063fe5b48daa8b5174998188825"
   ]
  },
  {
   "cell_type": "markdown",
   "id": "8816daaa",
   "metadata": {},
   "source": [
    "# Convert peaks to bed"
   ]
  },
  {
   "cell_type": "code",
   "execution_count": 2,
   "id": "d8289402",
   "metadata": {},
   "outputs": [
    {
     "name": "stderr",
     "output_type": "stream",
     "text": [
      "Warning message:\n",
      "“package ‘glmgampoi’ is not available for this version of R\n",
      "\n",
      "A version of this package for your version of R might be available elsewhere,\n",
      "see the ideas at\n",
      "https://cran.r-project.org/doc/manuals/r-patched/R-admin.html#Installing-packages”\n",
      "Warning message in p_install(package, character.only = TRUE, ...):\n",
      "“”\n",
      "Warning message in library(package, lib.loc = lib.loc, character.only = TRUE, logical.return = TRUE, :\n",
      "“there is no package called ‘glmgampoi’”\n",
      "Warning message in pacman::p_load(dplyr, stringr, data.table, tidyr, data.table, :\n",
      "\"Failed to install/load:\n",
      "glmgampoi\"\n"
     ]
    }
   ],
   "source": [
    "# Load packages\n",
    "pacman::p_load(dplyr, stringr, data.table, tidyr, data.table, Matrix,\n",
    "               hdf5r, Seurat, Signac,harmony, knitr, SoupX, cluster, glmgampoi,\n",
    "               EnsDb.Hsapiens.v86, \n",
    "               logr, parallel, future,\n",
    "               fpc,\n",
    "               ggplot2, ggpubr, ggrepel, ggbreak, gridExtra, patchwork, grid, ggh4x)"
   ]
  },
  {
   "cell_type": "code",
   "execution_count": 3,
   "id": "0fbe5e79",
   "metadata": {},
   "outputs": [],
   "source": [
    "peaks.dir = \"/nfs/lab/projects/mega_heart/FNIH/multiome/Analysis/1_preprocessing/PeakCalling/2_PeaksMap_Peakcalls/\"\n",
    "\n",
    "files = list.files(paste0(peaks.dir), pattern = \"peaks.xls\")"
   ]
  },
  {
   "cell_type": "code",
   "execution_count": 3,
   "id": "1252dd06",
   "metadata": {
    "scrolled": true
   },
   "outputs": [
    {
     "name": "stderr",
     "output_type": "stream",
     "text": [
      "Converting peaks to bed\n",
      "\n",
      "  - Only on standard Chromosomes: 175337\n",
      "\n",
      "  - After blacklist exclusion: 175041\n",
      "\n",
      "Saved peaks for: aCM\n",
      "\n",
      "  - Only on standard Chromosomes: 65539\n",
      "\n",
      "  - After blacklist exclusion: 65394\n",
      "\n",
      "Saved peaks for: Adipocyte\n",
      "\n",
      "  - Only on standard Chromosomes: 96442\n",
      "\n",
      "  - After blacklist exclusion: 96220\n",
      "\n",
      "Saved peaks for: Endocardial\n",
      "\n",
      "  - Only on standard Chromosomes: 131077\n",
      "\n",
      "  - After blacklist exclusion: 130803\n",
      "\n",
      "Saved peaks for: Endothelial\n",
      "\n",
      "  - Only on standard Chromosomes: 94845\n",
      "\n",
      "  - After blacklist exclusion: 94669\n",
      "\n",
      "Saved peaks for: Epicardial\n",
      "\n",
      "  - Only on standard Chromosomes: 174196\n",
      "\n",
      "  - After blacklist exclusion: 173900\n",
      "\n",
      "Saved peaks for: Fibroblast\n",
      "\n",
      "  - Only on standard Chromosomes: 80459\n",
      "\n",
      "  - After blacklist exclusion: 80228\n",
      "\n",
      "Saved peaks for: Lymphoid\n",
      "\n",
      "  - Only on standard Chromosomes: 143363\n",
      "\n",
      "  - After blacklist exclusion: 143065\n",
      "\n",
      "Saved peaks for: Myeloid\n",
      "\n",
      "  - Only on standard Chromosomes: 52864\n",
      "\n",
      "  - After blacklist exclusion: 52687\n",
      "\n",
      "Saved peaks for: Neuronal\n",
      "\n",
      "  - Only on standard Chromosomes: 103903\n",
      "\n",
      "  - After blacklist exclusion: 103685\n",
      "\n",
      "Saved peaks for: Pericyte\n",
      "\n",
      "  - Only on standard Chromosomes: 81561\n",
      "\n",
      "  - After blacklist exclusion: 81405\n",
      "\n",
      "Saved peaks for: SM\n",
      "\n",
      "  - Only on standard Chromosomes: 205547\n",
      "\n",
      "  - After blacklist exclusion: 205292\n",
      "\n",
      "Saved peaks for: vCM\n",
      "\n",
      "Done\n",
      "\n"
     ]
    }
   ],
   "source": [
    "message(paste0(\"Converting peaks to bed\"))\n",
    "for (i in seq_along(files)){\n",
    "    peaks.use = read.table(paste0(peaks.dir, files[i]),\n",
    "           header = TRUE)\n",
    "    celltype = str_split(peaks.use$name[1], \"_peak_\")[[1]][1]\n",
    "    \n",
    "    # Save bed file formatted for bedops\n",
    "    peaks.use = paste0(peaks.use$chr, \":\", peaks.use$start, \"-\", peaks.use$end)\n",
    "    \n",
    "    # remove peaks on nonstandard chromosomes and in genomic blacklist regions\n",
    "    peaks.use = StringToGRanges(peaks.use, sep = c(\":\", \"-\"))\n",
    "    peaks.use <- keepStandardChromosomes(peaks.use, pruning.mode = \"coarse\")\n",
    "    message(\"  - Only on standard Chromosomes: \", length(peaks.use))\n",
    "    peaks.use <- subsetByOverlaps(x = peaks.use, ranges = blacklist_hg38_unified, invert = TRUE)\n",
    "    message(\"  - After blacklist exclusion: \", length(peaks.use))\n",
    "    \n",
    "    peaks.use = as.data.frame(peaks.use)\n",
    "    # Save bed file formatted for bedops\n",
    "    peaks.use = peaks.use %>%\n",
    "        dplyr::select(seqnames, start, end)\n",
    "    \n",
    "    # Save narrow peak file\n",
    "    write.table(peaks.use, paste0(peaks.dir, celltype, \"_peaks.bed\"), \n",
    "                sep = '\\t', row.names = FALSE, col.names = FALSE, quote=FALSE)\n",
    "    message(\"Saved peaks for: \", celltype)    \n",
    "    \n",
    "}\n",
    "message(paste0(\"Done\"))"
   ]
  },
  {
   "cell_type": "markdown",
   "id": "17bbb749",
   "metadata": {},
   "source": [
    "# Convert to Hg19"
   ]
  },
  {
   "cell_type": "code",
   "execution_count": null,
   "id": "ffe6d62a",
   "metadata": {},
   "outputs": [],
   "source": [
    "# Installation found here:\n",
    "'https://github.com/bulik/ldsc'"
   ]
  },
  {
   "cell_type": "raw",
   "id": "0dbf1bfd",
   "metadata": {},
   "source": [
    "# Activate the conda enviroment \n",
    "source activate ldsc"
   ]
  },
  {
   "cell_type": "raw",
   "id": "d0c68dec",
   "metadata": {},
   "source": [
    "1) Make a txt file with all your celltype names:\n",
    "/nfs/lab/projects/mega_heart/FNIH/multiome/Analysis/3_downstream/Major_celltypes/LDSC/"
   ]
  },
  {
   "cell_type": "raw",
   "id": "fb5b7164",
   "metadata": {},
   "source": [
    "# Liftover\n",
    "for annot in $(cat /nfs/lab/projects/mega_heart/FNIH/multiome/Analysis/3_downstream/Major_celltypes/LDSC/celltypes.txt); do\n",
    "\n",
    "liftOver /nfs/lab/projects/mega_heart/FNIH/multiome/Analysis/1_preprocessing/PeakCalling/2_PeaksMap_Peakcalls/${annot}_peaks.bed /nfs/lab/liftOver/hg38ToHg19.over.chain.gz /nfs/lab/projects/mega_heart/FNIH/multiome/Analysis/1_preprocessing/PeakCalling/2_PeaksMap_Peakcalls/${annot}_peaksHg19.bed unMapped\n",
    "\n",
    "done"
   ]
  },
  {
   "cell_type": "markdown",
   "id": "1b139af5",
   "metadata": {},
   "source": [
    "# Create background peak set "
   ]
  },
  {
   "cell_type": "code",
   "execution_count": 6,
   "id": "d9989307",
   "metadata": {},
   "outputs": [
    {
     "data": {
      "text/html": [
       "<style>\n",
       ".list-inline {list-style: none; margin:0; padding: 0}\n",
       ".list-inline>li {display: inline-block}\n",
       ".list-inline>li:not(:last-child)::after {content: \"\\00b7\"; padding: 0 .5ex}\n",
       "</style>\n",
       "<ol class=list-inline><li>'/nfs/lab/projects/mega_heart/FNIH/multiome/Analysis/1_preprocessing/PeakCalling/2_PeaksMap_Peakcalls/aCM_peaksHg19.bed'</li><li>'/nfs/lab/projects/mega_heart/FNIH/multiome/Analysis/1_preprocessing/PeakCalling/2_PeaksMap_Peakcalls/Adipocyte_peaksHg19.bed'</li><li>'/nfs/lab/projects/mega_heart/FNIH/multiome/Analysis/1_preprocessing/PeakCalling/2_PeaksMap_Peakcalls/Endocardial_peaksHg19.bed'</li><li>'/nfs/lab/projects/mega_heart/FNIH/multiome/Analysis/1_preprocessing/PeakCalling/2_PeaksMap_Peakcalls/Endothelial_peaksHg19.bed'</li><li>'/nfs/lab/projects/mega_heart/FNIH/multiome/Analysis/1_preprocessing/PeakCalling/2_PeaksMap_Peakcalls/Epicardial_peaksHg19.bed'</li><li>'/nfs/lab/projects/mega_heart/FNIH/multiome/Analysis/1_preprocessing/PeakCalling/2_PeaksMap_Peakcalls/Fibroblast_peaksHg19.bed'</li><li>'/nfs/lab/projects/mega_heart/FNIH/multiome/Analysis/1_preprocessing/PeakCalling/2_PeaksMap_Peakcalls/Lymphoid_peaksHg19.bed'</li><li>'/nfs/lab/projects/mega_heart/FNIH/multiome/Analysis/1_preprocessing/PeakCalling/2_PeaksMap_Peakcalls/Myeloid_peaksHg19.bed'</li><li>'/nfs/lab/projects/mega_heart/FNIH/multiome/Analysis/1_preprocessing/PeakCalling/2_PeaksMap_Peakcalls/Neuronal_peaksHg19.bed'</li><li>'/nfs/lab/projects/mega_heart/FNIH/multiome/Analysis/1_preprocessing/PeakCalling/2_PeaksMap_Peakcalls/Pericyte_peaksHg19.bed'</li><li>'/nfs/lab/projects/mega_heart/FNIH/multiome/Analysis/1_preprocessing/PeakCalling/2_PeaksMap_Peakcalls/SM_peaksHg19.bed'</li><li>'/nfs/lab/projects/mega_heart/FNIH/multiome/Analysis/1_preprocessing/PeakCalling/2_PeaksMap_Peakcalls/vCM_peaksHg19.bed'</li></ol>\n"
      ],
      "text/latex": [
       "\\begin{enumerate*}\n",
       "\\item '/nfs/lab/projects/mega\\_heart/FNIH/multiome/Analysis/1\\_preprocessing/PeakCalling/2\\_PeaksMap\\_Peakcalls/aCM\\_peaksHg19.bed'\n",
       "\\item '/nfs/lab/projects/mega\\_heart/FNIH/multiome/Analysis/1\\_preprocessing/PeakCalling/2\\_PeaksMap\\_Peakcalls/Adipocyte\\_peaksHg19.bed'\n",
       "\\item '/nfs/lab/projects/mega\\_heart/FNIH/multiome/Analysis/1\\_preprocessing/PeakCalling/2\\_PeaksMap\\_Peakcalls/Endocardial\\_peaksHg19.bed'\n",
       "\\item '/nfs/lab/projects/mega\\_heart/FNIH/multiome/Analysis/1\\_preprocessing/PeakCalling/2\\_PeaksMap\\_Peakcalls/Endothelial\\_peaksHg19.bed'\n",
       "\\item '/nfs/lab/projects/mega\\_heart/FNIH/multiome/Analysis/1\\_preprocessing/PeakCalling/2\\_PeaksMap\\_Peakcalls/Epicardial\\_peaksHg19.bed'\n",
       "\\item '/nfs/lab/projects/mega\\_heart/FNIH/multiome/Analysis/1\\_preprocessing/PeakCalling/2\\_PeaksMap\\_Peakcalls/Fibroblast\\_peaksHg19.bed'\n",
       "\\item '/nfs/lab/projects/mega\\_heart/FNIH/multiome/Analysis/1\\_preprocessing/PeakCalling/2\\_PeaksMap\\_Peakcalls/Lymphoid\\_peaksHg19.bed'\n",
       "\\item '/nfs/lab/projects/mega\\_heart/FNIH/multiome/Analysis/1\\_preprocessing/PeakCalling/2\\_PeaksMap\\_Peakcalls/Myeloid\\_peaksHg19.bed'\n",
       "\\item '/nfs/lab/projects/mega\\_heart/FNIH/multiome/Analysis/1\\_preprocessing/PeakCalling/2\\_PeaksMap\\_Peakcalls/Neuronal\\_peaksHg19.bed'\n",
       "\\item '/nfs/lab/projects/mega\\_heart/FNIH/multiome/Analysis/1\\_preprocessing/PeakCalling/2\\_PeaksMap\\_Peakcalls/Pericyte\\_peaksHg19.bed'\n",
       "\\item '/nfs/lab/projects/mega\\_heart/FNIH/multiome/Analysis/1\\_preprocessing/PeakCalling/2\\_PeaksMap\\_Peakcalls/SM\\_peaksHg19.bed'\n",
       "\\item '/nfs/lab/projects/mega\\_heart/FNIH/multiome/Analysis/1\\_preprocessing/PeakCalling/2\\_PeaksMap\\_Peakcalls/vCM\\_peaksHg19.bed'\n",
       "\\end{enumerate*}\n"
      ],
      "text/markdown": [
       "1. '/nfs/lab/projects/mega_heart/FNIH/multiome/Analysis/1_preprocessing/PeakCalling/2_PeaksMap_Peakcalls/aCM_peaksHg19.bed'\n",
       "2. '/nfs/lab/projects/mega_heart/FNIH/multiome/Analysis/1_preprocessing/PeakCalling/2_PeaksMap_Peakcalls/Adipocyte_peaksHg19.bed'\n",
       "3. '/nfs/lab/projects/mega_heart/FNIH/multiome/Analysis/1_preprocessing/PeakCalling/2_PeaksMap_Peakcalls/Endocardial_peaksHg19.bed'\n",
       "4. '/nfs/lab/projects/mega_heart/FNIH/multiome/Analysis/1_preprocessing/PeakCalling/2_PeaksMap_Peakcalls/Endothelial_peaksHg19.bed'\n",
       "5. '/nfs/lab/projects/mega_heart/FNIH/multiome/Analysis/1_preprocessing/PeakCalling/2_PeaksMap_Peakcalls/Epicardial_peaksHg19.bed'\n",
       "6. '/nfs/lab/projects/mega_heart/FNIH/multiome/Analysis/1_preprocessing/PeakCalling/2_PeaksMap_Peakcalls/Fibroblast_peaksHg19.bed'\n",
       "7. '/nfs/lab/projects/mega_heart/FNIH/multiome/Analysis/1_preprocessing/PeakCalling/2_PeaksMap_Peakcalls/Lymphoid_peaksHg19.bed'\n",
       "8. '/nfs/lab/projects/mega_heart/FNIH/multiome/Analysis/1_preprocessing/PeakCalling/2_PeaksMap_Peakcalls/Myeloid_peaksHg19.bed'\n",
       "9. '/nfs/lab/projects/mega_heart/FNIH/multiome/Analysis/1_preprocessing/PeakCalling/2_PeaksMap_Peakcalls/Neuronal_peaksHg19.bed'\n",
       "10. '/nfs/lab/projects/mega_heart/FNIH/multiome/Analysis/1_preprocessing/PeakCalling/2_PeaksMap_Peakcalls/Pericyte_peaksHg19.bed'\n",
       "11. '/nfs/lab/projects/mega_heart/FNIH/multiome/Analysis/1_preprocessing/PeakCalling/2_PeaksMap_Peakcalls/SM_peaksHg19.bed'\n",
       "12. '/nfs/lab/projects/mega_heart/FNIH/multiome/Analysis/1_preprocessing/PeakCalling/2_PeaksMap_Peakcalls/vCM_peaksHg19.bed'\n",
       "\n",
       "\n"
      ],
      "text/plain": [
       " [1] \"/nfs/lab/projects/mega_heart/FNIH/multiome/Analysis/1_preprocessing/PeakCalling/2_PeaksMap_Peakcalls/aCM_peaksHg19.bed\"        \n",
       " [2] \"/nfs/lab/projects/mega_heart/FNIH/multiome/Analysis/1_preprocessing/PeakCalling/2_PeaksMap_Peakcalls/Adipocyte_peaksHg19.bed\"  \n",
       " [3] \"/nfs/lab/projects/mega_heart/FNIH/multiome/Analysis/1_preprocessing/PeakCalling/2_PeaksMap_Peakcalls/Endocardial_peaksHg19.bed\"\n",
       " [4] \"/nfs/lab/projects/mega_heart/FNIH/multiome/Analysis/1_preprocessing/PeakCalling/2_PeaksMap_Peakcalls/Endothelial_peaksHg19.bed\"\n",
       " [5] \"/nfs/lab/projects/mega_heart/FNIH/multiome/Analysis/1_preprocessing/PeakCalling/2_PeaksMap_Peakcalls/Epicardial_peaksHg19.bed\" \n",
       " [6] \"/nfs/lab/projects/mega_heart/FNIH/multiome/Analysis/1_preprocessing/PeakCalling/2_PeaksMap_Peakcalls/Fibroblast_peaksHg19.bed\" \n",
       " [7] \"/nfs/lab/projects/mega_heart/FNIH/multiome/Analysis/1_preprocessing/PeakCalling/2_PeaksMap_Peakcalls/Lymphoid_peaksHg19.bed\"   \n",
       " [8] \"/nfs/lab/projects/mega_heart/FNIH/multiome/Analysis/1_preprocessing/PeakCalling/2_PeaksMap_Peakcalls/Myeloid_peaksHg19.bed\"    \n",
       " [9] \"/nfs/lab/projects/mega_heart/FNIH/multiome/Analysis/1_preprocessing/PeakCalling/2_PeaksMap_Peakcalls/Neuronal_peaksHg19.bed\"   \n",
       "[10] \"/nfs/lab/projects/mega_heart/FNIH/multiome/Analysis/1_preprocessing/PeakCalling/2_PeaksMap_Peakcalls/Pericyte_peaksHg19.bed\"   \n",
       "[11] \"/nfs/lab/projects/mega_heart/FNIH/multiome/Analysis/1_preprocessing/PeakCalling/2_PeaksMap_Peakcalls/SM_peaksHg19.bed\"         \n",
       "[12] \"/nfs/lab/projects/mega_heart/FNIH/multiome/Analysis/1_preprocessing/PeakCalling/2_PeaksMap_Peakcalls/vCM_peaksHg19.bed\"        "
      ]
     },
     "metadata": {},
     "output_type": "display_data"
    }
   ],
   "source": [
    "files <- list.files(\"/nfs/lab/projects/mega_heart/FNIH/multiome/Analysis/1_preprocessing/PeakCalling/2_PeaksMap_Peakcalls\", \n",
    "                    pattern = \"_peaksHg19.bed\",\n",
    "                    full.names = TRUE)\n",
    "files"
   ]
  },
  {
   "cell_type": "code",
   "execution_count": 15,
   "id": "3483f825",
   "metadata": {},
   "outputs": [
    {
     "name": "stderr",
     "output_type": "stream",
     "text": [
      "Saved consensus peak list\n",
      "\n"
     ]
    }
   ],
   "source": [
    "# Read the peaks and combine them\n",
    "all_peaks <- lapply(files, function(file) {\n",
    "  read.delim(file, header = FALSE, col.names = c(\"chr\", \"start\", \"end\"))\n",
    "})\n",
    "\n",
    "# Combine all peak data into a single data frame\n",
    "all_peaks_df <- do.call(rbind, all_peaks)\n",
    "\n",
    "# Create a GRanges object\n",
    "granges_peaks <- GRanges(seqnames = all_peaks_df$chr,\n",
    "                         ranges = IRanges(start = all_peaks_df$start, end = all_peaks_df$end))\n",
    "# Sort the GRanges object\n",
    "granges_peaks <- sort(granges_peaks)\n",
    "\n",
    "# Merge overlapping ranges\n",
    "merged_peaks <- reduce(granges_peaks)\n",
    "\n",
    "# Save bed file \n",
    "merged_peaks = as.data.frame(merged_peaks)\n",
    "merged_peaks = merged_peaks %>%\n",
    "    dplyr::select(seqnames, start, end)\n",
    "\n",
    "# Save narrow peak file\n",
    "write.table(merged_peaks,\n",
    "            \"/nfs/lab/projects/mega_heart/FNIH/multiome/Analysis/1_preprocessing/PeakCalling/2_PeaksMap_Peakcalls/MergedPeaks_ConsensuspeaksHg19.bed\", \n",
    "            sep = '\\t', row.names = FALSE, col.names = FALSE, quote=FALSE)\n",
    "message(\"Saved consensus peak list\")    "
   ]
  },
  {
   "cell_type": "markdown",
   "id": "239af354",
   "metadata": {},
   "source": [
    "# Make annotations"
   ]
  },
  {
   "cell_type": "code",
   "execution_count": null,
   "id": "79fe4697",
   "metadata": {},
   "outputs": [],
   "source": [
    "# For celltypes\n",
    "\n",
    "N=22  # Number of parallel jobs allowed\n",
    "job_counter=0   # Initialize job counter\n",
    "\n",
    "# Loop over annotations (cell types)\n",
    "for annot in $(cat /nfs/lab/projects/mega_heart/FNIH/multiome/Analysis/3_downstream/Major_celltypes/LDSC/celltypes.txt); do\n",
    "\n",
    "    # Create a directory for each annotation if it doesn't exist\n",
    "    mkdir -p /nfs/lab/projects/mega_heart/FNIH/multiome/Analysis/3_downstream/Major_celltypes/LDSC/Annotations/hg19/${annot}_hg19\n",
    "\n",
    "    # Loop over chromosomes 1 to 22\n",
    "    for i in {1..22}; do\n",
    "        ((job_counter=job_counter%N))  # Control parallel job count\n",
    "        ((job_counter++==0)) && wait   # Wait if max jobs reached\n",
    "\n",
    "        # Run the make_annot.py script for each chromosome in parallel\n",
    "        python /nfs/lab/Luca/Scripts/ldsc/make_annot.py \\\n",
    "        --bed-file /nfs/lab/projects/mega_heart/FNIH/multiome/Analysis/1_preprocessing/PeakCalling/2_PeaksMap_Peakcalls/${annot}_peaksHg19.bed \\\n",
    "        --bimfile /nfs/lab/ysun/LDSC/1000G_EUR_Phase3_plink/1000G.EUR.QC.${i}.bim \\\n",
    "        --annot-file /nfs/lab/projects/mega_heart/FNIH/multiome/Analysis/3_downstream/Major_celltypes/LDSC/Annotations/hg19/${annot}_hg19/${annot}_hg19.${i}.annot.gz &\n",
    "    done\n",
    "done\n",
    "\n",
    "# Wait for all background jobs to finish before exiting\n",
    "wait\n",
    "exit 0"
   ]
  },
  {
   "cell_type": "code",
   "execution_count": null,
   "id": "02034a98",
   "metadata": {},
   "outputs": [],
   "source": [
    "# For background\n",
    "\n",
    "N=22  # Number of parallel jobs allowed\n",
    "job_counter=0   # Initialize job counter\n",
    "\n",
    "annot=\"Background\"\n",
    "\n",
    "    # Create a directory for each annotation if it doesn't exist\n",
    "    mkdir -p /nfs/lab/projects/mega_heart/FNIH/multiome/Analysis/3_downstream/Major_celltypes/LDSC/Annotations/hg19/${annot}_hg19\n",
    "\n",
    "    # Loop over chromosomes 1 to 22\n",
    "    for i in {1..22}; do\n",
    "        ((job_counter=job_counter%N))  # Control parallel job count\n",
    "        ((job_counter++==0)) && wait   # Wait if max jobs reached\n",
    "\n",
    "        # Run the make_annot.py script for each chromosome in parallel\n",
    "        python /nfs/lab/Luca/Scripts/ldsc/make_annot.py \\\n",
    "        --bed-file /nfs/lab/projects/mega_heart/FNIH/multiome/Analysis/1_preprocessing/PeakCalling/2_PeaksMap_Peakcalls/MergedPeaks_ConsensuspeaksHg19.bed \\\n",
    "        --bimfile /nfs/lab/ysun/LDSC/1000G_EUR_Phase3_plink/1000G.EUR.QC.${i}.bim \\\n",
    "        --annot-file /nfs/lab/projects/mega_heart/FNIH/multiome/Analysis/3_downstream/Major_celltypes/LDSC/Annotations/hg19/${annot}_hg19/${annot}_hg19.${i}.annot.gz &\n",
    "    done\n",
    "\n",
    "# Wait for all background jobs to finish before exiting\n",
    "wait\n",
    "exit 0"
   ]
  },
  {
   "cell_type": "markdown",
   "id": "5a5970ec",
   "metadata": {},
   "source": [
    "# LD score regression"
   ]
  },
  {
   "cell_type": "code",
   "execution_count": null,
   "id": "e3c7b661",
   "metadata": {},
   "outputs": [],
   "source": [
    "# For celltypes\n",
    "for annot in $(cat /nfs/lab/projects/mega_heart/FNIH/multiome/Analysis/3_downstream/Major_celltypes/LDSC/celltypes.txt); do\n",
    "    for i in {1..22}; do\n",
    "\n",
    "        python /nfs/lab/Luca/Scripts/ldsc/ldsc.py \\\n",
    "        --print-snps /nfs/lab/ysun/LDSC/1000G_EUR_Phase3_baseline_snps/hm.${i}.snp \\\n",
    "        --ld-wind-cm 1.0 \\\n",
    "        --out /nfs/lab/projects/mega_heart/FNIH/multiome/Analysis/3_downstream/Major_celltypes/LDSC/Annotations/hg19/${annot}_hg19/${annot}_hg19.${i} \\\n",
    "        --bfile /nfs/lab/ysun/LDSC/1000G_EUR_Phase3_plink/1000G.EUR.QC.${i} \\\n",
    "        --thin-annot \\\n",
    "        --annot /nfs/lab/projects/mega_heart/FNIH/multiome/Analysis/3_downstream/Major_celltypes/LDSC/Annotations/hg19/${annot}_hg19/${annot}_hg19.${i}.annot.gz \\\n",
    "        --l2 \n",
    "\n",
    "    done\n",
    "done"
   ]
  },
  {
   "cell_type": "code",
   "execution_count": null,
   "id": "0a20bfde",
   "metadata": {},
   "outputs": [],
   "source": [
    "# For bg\n",
    "annot=\"Background\"\n",
    "\n",
    "    for i in {1..22}; do\n",
    "\n",
    "        python /nfs/lab/Luca/Scripts/ldsc/ldsc.py \\\n",
    "        --print-snps /nfs/lab/ysun/LDSC/1000G_EUR_Phase3_baseline_snps/hm.${i}.snp \\\n",
    "        --ld-wind-cm 1.0 \\\n",
    "        --out /nfs/lab/projects/mega_heart/FNIH/multiome/Analysis/3_downstream/Major_celltypes/LDSC/Annotations/hg19/${annot}_hg19/${annot}_hg19.${i} \\\n",
    "        --bfile /nfs/lab/ysun/LDSC/1000G_EUR_Phase3_plink/1000G.EUR.QC.${i} \\\n",
    "        --thin-annot \\\n",
    "        --annot /nfs/lab/projects/mega_heart/FNIH/multiome/Analysis/3_downstream/Major_celltypes/LDSC/Annotations/hg19/${annot}_hg19/${annot}_hg19.${i}.annot.gz \\\n",
    "        --l2 \n",
    "    done"
   ]
  },
  {
   "cell_type": "code",
   "execution_count": null,
   "id": "3eb58f5c",
   "metadata": {},
   "outputs": [],
   "source": [
    "# For the future: Just add the background as one more celltype"
   ]
  },
  {
   "cell_type": "markdown",
   "id": "7be9b3d5",
   "metadata": {},
   "source": [
    "# Run partitioned heritability"
   ]
  },
  {
   "cell_type": "code",
   "execution_count": null,
   "id": "dc82283f",
   "metadata": {},
   "outputs": [],
   "source": [
    "# RUNNING ON Ophelia"
   ]
  },
  {
   "cell_type": "code",
   "execution_count": null,
   "id": "7044aee2",
   "metadata": {},
   "outputs": [],
   "source": [
    "# make a list of files one, per trait up to: \".ldsc.sumstats.gz\"\n",
    "## GCST90162626_buildGRCh37.tsv.ldsc.sumstats.gz -> GCST90162626_buildGRCh37.tsv"
   ]
  },
  {
   "cell_type": "code",
   "execution_count": null,
   "id": "94f49287",
   "metadata": {},
   "outputs": [],
   "source": [
    "N=50  # Number of parallel jobs allowed\n",
    "i=0   # Initialize job counter\n",
    "\n",
    "# Loop over traits\n",
    "for trait in $(cat /nfs/lab/projects/mega_heart/FNIH/multiome/Analysis/3_downstream/Major_celltypes/LDSC/Traits.txt); do\n",
    "    ((i=i%N)); ((i++==0)) && wait\n",
    "\n",
    "    # Extract the base name of the trait \n",
    "    trait_basename=$(basename ${trait})\n",
    "    trait_name=${trait_basename%.ldsc.sumstats.gz}\n",
    "\n",
    "    (\n",
    "    # Loop over annotations\n",
    "    for annot in $(cat /nfs/lab/projects/mega_heart/FNIH/multiome/Analysis/3_downstream/Major_celltypes/LDSC/celltypes.txt); do\n",
    "        python /nfs/lab/Luca/Scripts/ldsc/ldsc.py \\\n",
    "        --h2 ${trait} \\\n",
    "        --ref-ld-chr /nfs/lab/projects/mega_heart/FNIH/multiome/Analysis/3_downstream/Major_celltypes/LDSC/Annotations/hg19/${annot}_hg19/${annot}_hg19.,/nfs/lab/ysun/LDSC/1000G_EUR_Phase3_baseline/baseline.,/nfs/lab/projects/mega_heart/FNIH/multiome/Analysis/3_downstream/Major_celltypes/LDSC/Annotations/hg19/Background_hg19/Background_hg19.\\\n",
    "        --out /nfs/lab/projects/mega_heart/FNIH/multiome/Analysis/3_downstream/Major_celltypes/LDSC/Results/${trait_name}_hg19.${annot} \\\n",
    "        --overlap-annot  \\\n",
    "        --frqfile-chr /nfs/lab/ysun/LDSC/1000G_Phase3_frq/1000G.EUR.QC. \\\n",
    "        --w-ld-chr /nfs/lab/ysun/LDSC/weights_hm3_no_hla/weights. \\\n",
    "        --print-coefficients\n",
    "    done\n",
    "    ) &\n",
    "\n",
    "done\n",
    "exit 0"
   ]
  },
  {
   "cell_type": "markdown",
   "id": "c306f8ce",
   "metadata": {},
   "source": [
    "# Run on the latest 3 papers Ruth munged"
   ]
  },
  {
   "cell_type": "code",
   "execution_count": null,
   "id": "2e0dd1b7",
   "metadata": {},
   "outputs": [],
   "source": [
    "N=20  # Number of parallel jobs allowed\n",
    "i=0   # Initialize job counter\n",
    "\n",
    "# Loop over traits\n",
    "for trait in $(cat /nfs/lab/projects/mega_heart/FNIH/multiome/Analysis/3_downstream/Major_celltypes/LDSC/Traits_3Papers.txt); do\n",
    "    ((i=i%N)); ((i++==0)) && wait\n",
    "\n",
    "    # Extract the base name of the trait \n",
    "    trait_basename=$(basename ${trait})\n",
    "    trait_name=${trait_basename%.ldsc.sumstats.gz}\n",
    "\n",
    "    (\n",
    "    # Loop over annotations\n",
    "    for annot in $(cat /nfs/lab/projects/mega_heart/FNIH/multiome/Analysis/3_downstream/Major_celltypes/LDSC/celltypes.txt); do\n",
    "        python /nfs/lab/Luca/Scripts/ldsc/ldsc.py \\\n",
    "        --h2 ${trait} \\\n",
    "        --ref-ld-chr /nfs/lab/projects/mega_heart/FNIH/multiome/Analysis/3_downstream/Major_celltypes/LDSC/Annotations/hg19/${annot}_hg19/${annot}_hg19.,/nfs/lab/ysun/LDSC/1000G_EUR_Phase3_baseline/baseline.,/nfs/lab/projects/mega_heart/FNIH/multiome/Analysis/3_downstream/Major_celltypes/LDSC/Annotations/hg19/Background_hg19/Background_hg19.\\\n",
    "        --out /nfs/lab/projects/mega_heart/FNIH/multiome/Analysis/3_downstream/Major_celltypes/LDSC/Results/${trait_name}_hg19.${annot} \\\n",
    "        --overlap-annot  \\\n",
    "        --frqfile-chr /nfs/lab/ysun/LDSC/1000G_Phase3_frq/1000G.EUR.QC. \\\n",
    "        --w-ld-chr /nfs/lab/ysun/LDSC/weights_hm3_no_hla/weights. \\\n",
    "        --print-coefficients\n",
    "    done\n",
    "    ) &\n",
    "\n",
    "done\n",
    "exit 0"
   ]
  }
 ],
 "metadata": {
  "kernelspec": {
   "display_name": "Main_R_4.3",
   "language": "R",
   "name": "irs5"
  },
  "language_info": {
   "codemirror_mode": "r",
   "file_extension": ".r",
   "mimetype": "text/x-r-source",
   "name": "R",
   "pygments_lexer": "r",
   "version": "4.3.2"
  },
  "toc": {
   "base_numbering": 1,
   "nav_menu": {},
   "number_sections": true,
   "sideBar": true,
   "skip_h1_title": false,
   "title_cell": "Table of Contents",
   "title_sidebar": "Contents",
   "toc_cell": false,
   "toc_position": {
    "height": "calc(100% - 180px)",
    "left": "10px",
    "top": "150px",
    "width": "259.796875px"
   },
   "toc_section_display": true,
   "toc_window_display": true
  }
 },
 "nbformat": 4,
 "nbformat_minor": 5
}
