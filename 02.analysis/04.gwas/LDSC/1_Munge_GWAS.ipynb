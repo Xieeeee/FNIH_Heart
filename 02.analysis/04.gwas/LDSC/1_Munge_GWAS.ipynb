{
 "cells": [
  {
   "cell_type": "code",
   "execution_count": 5,
   "id": "d8289402",
   "metadata": {},
   "outputs": [
    {
     "name": "stderr",
     "output_type": "stream",
     "text": [
      "Warning message:\n",
      "“package ‘glmgampoi’ is not available for this version of R\n",
      "\n",
      "A version of this package for your version of R might be available elsewhere,\n",
      "see the ideas at\n",
      "https://cran.r-project.org/doc/manuals/r-patched/R-admin.html#Installing-packages”\n",
      "Warning message in p_install(package, character.only = TRUE, ...):\n",
      "“”\n",
      "Warning message in library(package, lib.loc = lib.loc, character.only = TRUE, logical.return = TRUE, :\n",
      "“there is no package called ‘glmgampoi’”\n",
      "Warning message in pacman::p_load(dplyr, stringr, data.table, tidyr, data.table, :\n",
      "\"Failed to install/load:\n",
      "glmgampoi\"\n"
     ]
    }
   ],
   "source": [
    "# Load packages\n",
    "pacman::p_load(dplyr, stringr, data.table, tidyr, data.table, Matrix,\n",
    "               hdf5r, Seurat, Signac,harmony, knitr, SoupX, cluster, glmgampoi,\n",
    "               EnsDb.Hsapiens.v86, \n",
    "               logr, parallel, future,\n",
    "               fpc,\n",
    "               ggplot2, ggpubr, ggrepel, ggbreak, gridExtra, patchwork, grid, ggh4x)"
   ]
  },
  {
   "cell_type": "markdown",
   "id": "471accb6",
   "metadata": {},
   "source": [
    "# Process GWAS summarys stats"
   ]
  },
  {
   "cell_type": "code",
   "execution_count": null,
   "id": "3c8371a4",
   "metadata": {},
   "outputs": [],
   "source": [
    "'Summary stats from other studies are usually a mess, there is some pre-processing to be done'\n",
    "'I created a google sheet where I report with unique IDs the study: '\n",
    "\n",
    "'https://docs.google.com/spreadsheets/d/1CEY6lpp3-KTTyUwgHAQo7Tmei7AFmEs3TfQcwZpQM_k/edit?usp=sharing'\n"
   ]
  },
  {
   "cell_type": "markdown",
   "id": "e524ce7c",
   "metadata": {},
   "source": [
    "  -h, --help            show this help message and exit\n",
    "  --sumstats SUMSTATS   Input filename.\n",
    "  --N N                 Sample size If this option is not set, will try to\n",
    "                        infer the sample size from the input file. If the\n",
    "                        input file contains a sample size column, and this\n",
    "                        flag is set, the argument to this flag has priority.\n",
    "  --N-cas N_CAS         Number of cases. If this option is not set, will try\n",
    "                        to infer the number of cases from the input file. If\n",
    "                        the input file contains a number of cases column, and\n",
    "                        this flag is set, the argument to this flag has\n",
    "                        priority.\n",
    "  --N-con N_CON         Number of controls. If this option is not set, will\n",
    "                        try to infer the number of controls from the input\n",
    "                        file. If the input file contains a number of controls\n",
    "                        column, and this flag is set, the argument to this\n",
    "                        flag has priority.\n",
    "  --out OUT             Output filename prefix.\n",
    "  --info-min INFO_MIN   Minimum INFO score.\n",
    "  --maf-min MAF_MIN     Minimum MAF.\n",
    "  --daner               Use this flag to parse Stephan Ripke's daner* file\n",
    "                        format.\n",
    "  --daner-n             Use this flag to parse more recent daner* formatted\n",
    "                        files, which include sample size column 'Nca' and\n",
    "                        'Nco'.\n",
    "  --no-alleles          Don't require alleles. Useful if only unsigned summary\n",
    "                        statistics are available and the goal is h2 /\n",
    "                        partitioned h2 estimation rather than rg estimation.\n",
    "  --merge-alleles MERGE_ALLELES\n",
    "                        Same as --merge, except the file should have three\n",
    "                        columns: SNP, A1, A2, and all alleles will be matched\n",
    "                        to the --merge-alleles file alleles.\n",
    "  --n-min N_MIN         Minimum N (sample size). Default is (90th percentile\n",
    "                        N) / 2.\n",
    "  --chunksize CHUNKSIZE\n",
    "                        Chunksize.\n",
    "  --snp SNP             Name of SNP column (if not a name that ldsc\n",
    "                        understands). NB: case insensitive.\n",
    "  --N-col N_COL         Name of N column (if not a name that ldsc\n",
    "                        understands). NB: case insensitive.\n",
    "  --N-cas-col N_CAS_COL\n",
    "                        Name of N column (if not a name that ldsc\n",
    "                        understands). NB: case insensitive.\n",
    "  --N-con-col N_CON_COL\n",
    "                        Name of N column (if not a name that ldsc\n",
    "                        understands). NB: case insensitive.\n",
    "  --a1 A1               Name of A1 column (if not a name that ldsc\n",
    "                        understands). NB: case insensitive.\n",
    "  --a2 A2               Name of A2 column (if not a name that ldsc\n",
    "                        understands). NB: case insensitive.\n",
    "  --p P                 Name of p-value column (if not a name that ldsc\n",
    "                        understands). NB: case insensitive.\n",
    "  --frq FRQ             Name of FRQ or MAF column (if not a name that ldsc\n",
    "                        understands). NB: case insensitive.\n",
    "  --signed-sumstats SIGNED_SUMSTATS\n",
    "                        Name of signed sumstat column, comma null value (e.g.,\n",
    "                        Z,0 or OR,1). NB: case insensitive.\n",
    "  --info INFO           Name of INFO column (if not a name that ldsc\n",
    "                        understands). NB: case insensitive.\n",
    "  --info-list INFO_LIST\n",
    "                        Comma-separated list of INFO columns. Will filter on\n",
    "                        the mean. NB: case insensitive.\n",
    "  --nstudy NSTUDY       Name of NSTUDY column (if not a name that ldsc\n",
    "                        understands). NB: case insensitive.\n",
    "  --nstudy-min NSTUDY_MIN\n",
    "                        Minimum # of studies. Default is to remove everything\n",
    "                        below the max, unless there is an N column, in which\n",
    "                        case do nothing.\n",
    "  --ignore IGNORE       Comma-separated list of column names to ignore.\n",
    "  --a1-inc              A1 is the increasing allele.\n",
    "  --keep-maf            Keep the MAF column (if one exists)."
   ]
  },
  {
   "cell_type": "code",
   "execution_count": null,
   "id": "02fb2103",
   "metadata": {},
   "outputs": [],
   "source": [
    "# 1 trait per folder\n",
    "\n",
    "# Unzip them\n",
    "'yes, u have to manually figure out if they are gzip, unzip or whatever, click on the link and see'\n",
    "# unzip or gunzip or tar\n",
    "\n",
    "# Fix the n (add the column and make sure all tables have this format:/nfs/lab/Luca/Assets/GWAS/CVDKP/CVDKP_7/CAD_GWAS_BBJ_meta_w_hm_rsids.tsv)\n",
    "\n",
    "# Add rsids\n",
    "\n",
    "# Munge them into traits location"
   ]
  },
  {
   "cell_type": "markdown",
   "id": "3cfd45cc",
   "metadata": {},
   "source": [
    "## MVP Munging - luca"
   ]
  },
  {
   "cell_type": "code",
   "execution_count": null,
   "id": "04a35ec2",
   "metadata": {},
   "outputs": [],
   "source": [
    "python /nfs/lab/ldsc/munge_sumstats.py \\\n",
    "--sumstats /nfs/lab/MVP/CAD.EUR.MVP_UKBB_cardC4D.NatMed2022.txt.gz \\\n",
    "--a1 EA \\\n",
    "--a2 NEA \\\n",
    "--p pvalue \\\n",
    "--snp rsmid \\\n",
    "--N-col TotalSampleSize \\\n",
    "--chunksize 500000 \\\n",
    "--frq af_alt \\\n",
    "--maf-min 0.01 \\\n",
    "--signed-sumstats beta,0 \\\n",
    "--merge-allele /nfs/lab/relgamal/LDSC/w_hm3.snplist \\\n",
    "--out /nfs/lab/Luca/Assets/GWAS/MVP/EUR.MVP_UKBB_cardC4D.NatMed2022.ldsc"
   ]
  },
  {
   "cell_type": "code",
   "execution_count": null,
   "id": "d777dc9f",
   "metadata": {},
   "outputs": [],
   "source": [
    "python /nfs/lab/ldsc/munge_sumstats.py \\\n",
    "--sumstats /nfs/lab/MVP/CAS.EUR.MVP.Circulation2023.txt.gz \\\n",
    "--a1 A1 \\\n",
    "--a2 A2 \\\n",
    "--ignore EA \\\n",
    "--p PVAL \\\n",
    "--snp SNP_ID \\\n",
    "--N 744995 \\\n",
    "--chunksize 500000 \\\n",
    "--frq af_alt \\\n",
    "--maf-min 0.01 \\\n",
    "--signed-sumstats beta,0 \\\n",
    "--merge-allele /nfs/lab/relgamal/LDSC/w_hm3.snplist \\\n",
    "--out /nfs/lab/Luca/Assets/GWAS/MVP/CAS.EUR.MVP.Circulation2023.ldsc"
   ]
  },
  {
   "cell_type": "code",
   "execution_count": null,
   "id": "8f33c41a",
   "metadata": {},
   "outputs": [],
   "source": [
    "python /nfs/lab/ldsc/munge_sumstats.py \\\n",
    "--sumstats /nfs/lab/MVP/CLEANED.MVP.EUR.PAD.results.anno.nodup.txt.gz \\\n",
    "--a1 EFFECT_ALLELE \\\n",
    "--a2 OTHER_ALLELE \\\n",
    "--p PVAL \\\n",
    "--snp SNP_ID \\\n",
    "--N-col N_TOTAL \\\n",
    "--chunksize 500000 \\\n",
    "--frq af_alt \\\n",
    "--maf-min 0.01 \\\n",
    "--signed-sumstats beta,0 \\\n",
    "--merge-allele /nfs/lab/relgamal/LDSC/w_hm3.snplist \\\n",
    "--out /nfs/lab/Luca/Assets/GWAS/MVP/CLEANED.MVP.EUR.PAD.ldsc"
   ]
  },
  {
   "cell_type": "code",
   "execution_count": null,
   "id": "b5c4b174",
   "metadata": {},
   "outputs": [],
   "source": [
    "python /nfs/lab/ldsc/munge_sumstats.py \\\n",
    "--sumstats /nfs/lab/MVP/DBP_MVP_White.results.gz \\\n",
    "--a1 Allele1 \\\n",
    "--a2 Allele2 \\\n",
    "--ignore EA \\\n",
    "--p Pvalue \\\n",
    "--snp SNP_ID \\\n",
    "--N-col SampleSize \\\n",
    "--chunksize 500000 \\\n",
    "--frq af_alt \\\n",
    "--maf-min 0.01 \\\n",
    "--signed-sumstats EffectEstimate,0 \\\n",
    "--merge-allele /nfs/lab/relgamal/LDSC/w_hm3.snplist \\\n",
    "--out /nfs/lab/Luca/Assets/GWAS/MVP/DBP_MVP_White.ldsc"
   ]
  },
  {
   "cell_type": "code",
   "execution_count": null,
   "id": "a1275676",
   "metadata": {},
   "outputs": [],
   "source": [
    "python /nfs/lab/ldsc/munge_sumstats.py \\\n",
    "--sumstats /nfs/lab/MVP/HF.EUR.MVP.NatComm2022.txt.gz \\\n",
    "--a1 Allele_1 \\\n",
    "--a2 Allele_2 \\\n",
    "--ignore Effect_allele \\\n",
    "--p P_value \\\n",
    "--snp SNP_ID \\\n",
    "--N-col Sample_size \\\n",
    "--chunksize 500000 \\\n",
    "--frq af_alt \\\n",
    "--maf-min 0.01 \\\n",
    "--signed-sumstats Estimate_Effect,0 \\\n",
    "--merge-allele /nfs/lab/relgamal/LDSC/w_hm3.snplist \\\n",
    "--out /nfs/lab/Luca/Assets/GWAS/MVP/HF.EUR.MVP.NatComm2022.ldsc"
   ]
  },
  {
   "cell_type": "code",
   "execution_count": null,
   "id": "9dc312fe",
   "metadata": {},
   "outputs": [],
   "source": [
    "python /nfs/lab/ldsc/munge_sumstats.py \\\n",
    "--sumstats /nfs/lab/MVP/HFpEF.EUR.MVP.NatComm2022.txt.gz \\\n",
    "--a1 Allele_1 \\\n",
    "--a2 Allele_2 \\\n",
    "--ignore Effect_allele \\\n",
    "--p P_value \\\n",
    "--snp SNP_ID \\\n",
    "--N-col Sample_size \\\n",
    "--chunksize 500000 \\\n",
    "--frq af_alt \\\n",
    "--maf-min 0.01 \\\n",
    "--signed-sumstats Estimate_Effect,0 \\\n",
    "--merge-allele /nfs/lab/relgamal/LDSC/w_hm3.snplist \\\n",
    "--out /nfs/lab/Luca/Assets/GWAS/MVP/HFpEF.EUR.MVP.NatComm2022.ldsc"
   ]
  },
  {
   "cell_type": "code",
   "execution_count": null,
   "id": "4ca47856",
   "metadata": {},
   "outputs": [],
   "source": [
    "python /nfs/lab/ldsc/munge_sumstats.py \\\n",
    "--sumstats /nfs/lab/MVP/HFrEF.EUR.MVP.NatComm2022.txt.gz \\\n",
    "--a1 Allele_1 \\\n",
    "--a2 Allele_2 \\\n",
    "--ignore Effect_allele \\\n",
    "--p P_value \\\n",
    "--snp SNP_ID \\\n",
    "--N-col Sample_size \\\n",
    "--chunksize 500000 \\\n",
    "--frq af_alt \\\n",
    "--maf-min 0.01 \\\n",
    "--signed-sumstats Estimate_Effect,0 \\\n",
    "--merge-allele /nfs/lab/relgamal/LDSC/w_hm3.snplist \\\n",
    "--out /nfs/lab/Luca/Assets/GWAS/MVP/HFrEF.EUR.MVP.NatComm2022.ldsc"
   ]
  },
  {
   "cell_type": "code",
   "execution_count": null,
   "id": "523cd58b",
   "metadata": {},
   "outputs": [],
   "source": [
    "##############PROBLEMATIC ONE #######################"
   ]
  },
  {
   "cell_type": "code",
   "execution_count": 52,
   "id": "7a11baae",
   "metadata": {
    "scrolled": true
   },
   "outputs": [
    {
     "data": {
      "text/html": [
       "<table class=\"dataframe\">\n",
       "<caption>A data.table: 6 × 15</caption>\n",
       "<thead>\n",
       "\t<tr><th scope=col>SNP_ID</th><th scope=col>CHROM</th><th scope=col>POS</th><th scope=col>Allele1</th><th scope=col>Allele2</th><th scope=col>EA</th><th scope=col>EAF</th><th scope=col>N</th><th scope=col>N_CASE</th><th scope=col>N_CONTROL</th><th scope=col>OR</th><th scope=col>CI</th><th scope=col>SE</th><th scope=col>P</th><th scope=col>IMP_QUAL</th></tr>\n",
       "\t<tr><th scope=col>&lt;chr&gt;</th><th scope=col>&lt;int&gt;</th><th scope=col>&lt;int&gt;</th><th scope=col>&lt;chr&gt;</th><th scope=col>&lt;chr&gt;</th><th scope=col>&lt;chr&gt;</th><th scope=col>&lt;dbl&gt;</th><th scope=col>&lt;int&gt;</th><th scope=col>&lt;int&gt;</th><th scope=col>&lt;int&gt;</th><th scope=col>&lt;dbl&gt;</th><th scope=col>&lt;chr&gt;</th><th scope=col>&lt;dbl&gt;</th><th scope=col>&lt;dbl&gt;</th><th scope=col>&lt;dbl&gt;</th></tr>\n",
       "</thead>\n",
       "<tbody>\n",
       "\t<tr><td>rs144804129</td><td>10</td><td>100000122</td><td>T</td><td>A</td><td>T</td><td>0.9997275</td><td>144970</td><td>5002</td><td>139968</td><td>1.0880205</td><td>0.1409, 8.403</td><td>1.04300</td><td>0.93490</td><td>0.433755</td></tr>\n",
       "\t<tr><td>rs6602381  </td><td>10</td><td> 10000018</td><td>A</td><td>G</td><td>A</td><td>0.5589000</td><td>144970</td><td>5002</td><td>139968</td><td>0.9819057</td><td>0.9425, 1.023</td><td>0.02092</td><td>0.38280</td><td>0.985864</td></tr>\n",
       "\t<tr><td>rs11442554 </td><td>10</td><td>100000554</td><td>I</td><td>D</td><td>I</td><td>0.4884000</td><td>144970</td><td>5002</td><td>139968</td><td>1.0094554</td><td>0.9557, 1.066</td><td>0.02791</td><td>0.73590</td><td>0.545618</td></tr>\n",
       "\t<tr><td>rs7899632  </td><td>10</td><td>100000625</td><td>A</td><td>G</td><td>A</td><td>0.5670000</td><td>144970</td><td>5002</td><td>139968</td><td>1.0000851</td><td>0.9601, 1.042</td><td>0.02082</td><td>0.99670</td><td>0.999831</td></tr>\n",
       "\t<tr><td>rs61875309 </td><td>10</td><td>100000645</td><td>A</td><td>C</td><td>A</td><td>0.7978000</td><td>144970</td><td>5002</td><td>139968</td><td>1.0012698</td><td>0.951, 1.054 </td><td>0.02629</td><td>0.96150</td><td>0.959398</td></tr>\n",
       "\t<tr><td>rs574200131</td><td>10</td><td>100001724</td><td>G</td><td>A</td><td>G</td><td>0.9986600</td><td>144970</td><td>5002</td><td>139968</td><td>0.5658649</td><td>0.3178, 1.008</td><td>0.29440</td><td>0.07128</td><td>0.577888</td></tr>\n",
       "</tbody>\n",
       "</table>\n"
      ],
      "text/latex": [
       "A data.table: 6 × 15\n",
       "\\begin{tabular}{lllllllllllllll}\n",
       " SNP\\_ID & CHROM & POS & Allele1 & Allele2 & EA & EAF & N & N\\_CASE & N\\_CONTROL & OR & CI & SE & P & IMP\\_QUAL\\\\\n",
       " <chr> & <int> & <int> & <chr> & <chr> & <chr> & <dbl> & <int> & <int> & <int> & <dbl> & <chr> & <dbl> & <dbl> & <dbl>\\\\\n",
       "\\hline\n",
       "\t rs144804129 & 10 & 100000122 & T & A & T & 0.9997275 & 144970 & 5002 & 139968 & 1.0880205 & 0.1409, 8.403 & 1.04300 & 0.93490 & 0.433755\\\\\n",
       "\t rs6602381   & 10 &  10000018 & A & G & A & 0.5589000 & 144970 & 5002 & 139968 & 0.9819057 & 0.9425, 1.023 & 0.02092 & 0.38280 & 0.985864\\\\\n",
       "\t rs11442554  & 10 & 100000554 & I & D & I & 0.4884000 & 144970 & 5002 & 139968 & 1.0094554 & 0.9557, 1.066 & 0.02791 & 0.73590 & 0.545618\\\\\n",
       "\t rs7899632   & 10 & 100000625 & A & G & A & 0.5670000 & 144970 & 5002 & 139968 & 1.0000851 & 0.9601, 1.042 & 0.02082 & 0.99670 & 0.999831\\\\\n",
       "\t rs61875309  & 10 & 100000645 & A & C & A & 0.7978000 & 144970 & 5002 & 139968 & 1.0012698 & 0.951, 1.054  & 0.02629 & 0.96150 & 0.959398\\\\\n",
       "\t rs574200131 & 10 & 100001724 & G & A & G & 0.9986600 & 144970 & 5002 & 139968 & 0.5658649 & 0.3178, 1.008 & 0.29440 & 0.07128 & 0.577888\\\\\n",
       "\\end{tabular}\n"
      ],
      "text/markdown": [
       "\n",
       "A data.table: 6 × 15\n",
       "\n",
       "| SNP_ID &lt;chr&gt; | CHROM &lt;int&gt; | POS &lt;int&gt; | Allele1 &lt;chr&gt; | Allele2 &lt;chr&gt; | EA &lt;chr&gt; | EAF &lt;dbl&gt; | N &lt;int&gt; | N_CASE &lt;int&gt; | N_CONTROL &lt;int&gt; | OR &lt;dbl&gt; | CI &lt;chr&gt; | SE &lt;dbl&gt; | P &lt;dbl&gt; | IMP_QUAL &lt;dbl&gt; |\n",
       "|---|---|---|---|---|---|---|---|---|---|---|---|---|---|---|\n",
       "| rs144804129 | 10 | 100000122 | T | A | T | 0.9997275 | 144970 | 5002 | 139968 | 1.0880205 | 0.1409, 8.403 | 1.04300 | 0.93490 | 0.433755 |\n",
       "| rs6602381   | 10 |  10000018 | A | G | A | 0.5589000 | 144970 | 5002 | 139968 | 0.9819057 | 0.9425, 1.023 | 0.02092 | 0.38280 | 0.985864 |\n",
       "| rs11442554  | 10 | 100000554 | I | D | I | 0.4884000 | 144970 | 5002 | 139968 | 1.0094554 | 0.9557, 1.066 | 0.02791 | 0.73590 | 0.545618 |\n",
       "| rs7899632   | 10 | 100000625 | A | G | A | 0.5670000 | 144970 | 5002 | 139968 | 1.0000851 | 0.9601, 1.042 | 0.02082 | 0.99670 | 0.999831 |\n",
       "| rs61875309  | 10 | 100000645 | A | C | A | 0.7978000 | 144970 | 5002 | 139968 | 1.0012698 | 0.951, 1.054  | 0.02629 | 0.96150 | 0.959398 |\n",
       "| rs574200131 | 10 | 100001724 | G | A | G | 0.9986600 | 144970 | 5002 | 139968 | 0.5658649 | 0.3178, 1.008 | 0.29440 | 0.07128 | 0.577888 |\n",
       "\n"
      ],
      "text/plain": [
       "  SNP_ID      CHROM POS       Allele1 Allele2 EA EAF       N      N_CASE\n",
       "1 rs144804129 10    100000122 T       A       T  0.9997275 144970 5002  \n",
       "2 rs6602381   10     10000018 A       G       A  0.5589000 144970 5002  \n",
       "3 rs11442554  10    100000554 I       D       I  0.4884000 144970 5002  \n",
       "4 rs7899632   10    100000625 A       G       A  0.5670000 144970 5002  \n",
       "5 rs61875309  10    100000645 A       C       A  0.7978000 144970 5002  \n",
       "6 rs574200131 10    100001724 G       A       G  0.9986600 144970 5002  \n",
       "  N_CONTROL OR        CI            SE      P       IMP_QUAL\n",
       "1 139968    1.0880205 0.1409, 8.403 1.04300 0.93490 0.433755\n",
       "2 139968    0.9819057 0.9425, 1.023 0.02092 0.38280 0.985864\n",
       "3 139968    1.0094554 0.9557, 1.066 0.02791 0.73590 0.545618\n",
       "4 139968    1.0000851 0.9601, 1.042 0.02082 0.99670 0.999831\n",
       "5 139968    1.0012698 0.951, 1.054  0.02629 0.96150 0.959398\n",
       "6 139968    0.5658649 0.3178, 1.008 0.29440 0.07128 0.577888"
      ]
     },
     "metadata": {},
     "output_type": "display_data"
    }
   ],
   "source": [
    "## This i have to logn the OR, there is no beta\n",
    "data = fread(\"/nfs/lab/MVP/MVP.EUR.AAA.fordbGaP.txt.gz\")\n",
    "head(data)"
   ]
  },
  {
   "cell_type": "code",
   "execution_count": 54,
   "id": "00206b79",
   "metadata": {},
   "outputs": [],
   "source": [
    "# Add Beta\n",
    "data$BETA = log(data$OR)"
   ]
  },
  {
   "cell_type": "code",
   "execution_count": 56,
   "id": "187876ae",
   "metadata": {},
   "outputs": [],
   "source": [
    "# Specify the file name\n",
    "file_name <- \"/nfs/lab/Luca/Assets/GWAS/MVP/MVP.EUR.AAA.fordbGaP_BETA.gz\"\n",
    "\n",
    "# Save the data frame to a gzipped file\n",
    "write.table(data, file = gzfile(file_name), row.names = FALSE, quote = FALSE, sep = \"\\t\")"
   ]
  },
  {
   "cell_type": "code",
   "execution_count": null,
   "id": "50d047db",
   "metadata": {},
   "outputs": [],
   "source": [
    "python /nfs/lab/ldsc/munge_sumstats.py \\\n",
    "--sumstats /nfs/lab/Luca/Assets/GWAS/MVP/MVP.EUR.AAA.fordbGaP_BETA.gz \\\n",
    "--a1 Allele1 \\\n",
    "--a2 Allele2 \\\n",
    "--p P \\\n",
    "--snp SNP_ID \\\n",
    "--chunksize 500000 \\\n",
    "--frq af_alt \\\n",
    "--maf-min 0.01 \\\n",
    "--signed-sumstats BETA,0 \\\n",
    "--merge-allele /nfs/lab/relgamal/LDSC/w_hm3.snplist \\\n",
    "--out /nfs/lab/Luca/Assets/GWAS/MVP/MVP.EUR.AAA.fordbGaP.ldsc"
   ]
  },
  {
   "cell_type": "code",
   "execution_count": null,
   "id": "b68189cc",
   "metadata": {},
   "outputs": [],
   "source": [
    "##############PROBLEMATIC ONE #######################"
   ]
  },
  {
   "cell_type": "code",
   "execution_count": null,
   "id": "7812a304",
   "metadata": {},
   "outputs": [],
   "source": [
    "python /nfs/lab/ldsc/munge_sumstats.py \\\n",
    "--sumstats /nfs/lab/MVP/MVP.T2D.EUR.MAF001.dbGaP.checked.txt.gz \\\n",
    "--a1 EA \\\n",
    "--a2 NEA \\\n",
    "--ignore EAF \\\n",
    "--p P \\\n",
    "--snp RSID \\\n",
    "--chunksize 500000 \\\n",
    "--frq af_alt \\\n",
    "--maf-min 0.01 \\\n",
    "--signed-sumstats BETA,0 \\\n",
    "--merge-allele /nfs/lab/relgamal/LDSC/w_hm3.snplist \\\n",
    "--out /nfs/lab/Luca/Assets/GWAS/MVP/MVP.T2D.EUR.MAF001.dbGaP.ldsc"
   ]
  },
  {
   "cell_type": "code",
   "execution_count": null,
   "id": "52adae5d",
   "metadata": {},
   "outputs": [],
   "source": [
    "python /nfs/lab/ldsc/munge_sumstats.py \\\n",
    "--sumstats /nfs/lab/MVP/PP_MVP_White.results.gz \\\n",
    "--a1 Allele1 \\\n",
    "--a2 Allele2 \\\n",
    "--ignore EA \\\n",
    "--p Pvalue \\\n",
    "--snp SNP_ID \\\n",
    "--N-col SampleSize \\\n",
    "--chunksize 500000 \\\n",
    "--frq af_alt \\\n",
    "--maf-min 0.01 \\\n",
    "--signed-sumstats EffectEstimate,0 \\\n",
    "--merge-allele /nfs/lab/relgamal/LDSC/w_hm3.snplist \\\n",
    "--out /nfs/lab/Luca/Assets/GWAS/MVP/PP_MVP_White.ldsc"
   ]
  },
  {
   "cell_type": "code",
   "execution_count": null,
   "id": "a5d66a58",
   "metadata": {},
   "outputs": [],
   "source": [
    "python /nfs/lab/ldsc/munge_sumstats.py \\\n",
    "--sumstats /nfs/lab/MVP/SBP_MVP_White.results.gz \\\n",
    "--a1 Allele1 \\\n",
    "--a2 Allele2 \\\n",
    "--ignore EA \\\n",
    "--p Pvalue \\\n",
    "--snp SNP_ID \\\n",
    "--N-col SampleSize \\\n",
    "--chunksize 500000 \\\n",
    "--frq af_alt \\\n",
    "--maf-min 0.01 \\\n",
    "--signed-sumstats EffectEstimate,0 \\\n",
    "--merge-allele /nfs/lab/relgamal/LDSC/w_hm3.snplist \\\n",
    "--out /nfs/lab/Luca/Assets/GWAS/MVP/SBP_MVP_White.results.ldsc"
   ]
  }
 ],
 "metadata": {
  "kernelspec": {
   "display_name": "Main_R_4.3",
   "language": "R",
   "name": "irs5"
  },
  "language_info": {
   "codemirror_mode": "r",
   "file_extension": ".r",
   "mimetype": "text/x-r-source",
   "name": "R",
   "pygments_lexer": "r",
   "version": "4.3.2"
  },
  "toc": {
   "base_numbering": 1,
   "nav_menu": {},
   "number_sections": true,
   "sideBar": true,
   "skip_h1_title": false,
   "title_cell": "Table of Contents",
   "title_sidebar": "Contents",
   "toc_cell": false,
   "toc_position": {},
   "toc_section_display": true,
   "toc_window_display": false
  }
 },
 "nbformat": 4,
 "nbformat_minor": 5
}
