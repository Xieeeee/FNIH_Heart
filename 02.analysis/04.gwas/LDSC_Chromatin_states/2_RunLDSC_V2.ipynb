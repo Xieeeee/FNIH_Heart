{
 "cells": [
  {
   "cell_type": "markdown",
   "id": "6049b115",
   "metadata": {},
   "source": [
    "# Most of this notebook is inspired by Ruth's notion:\n",
    "https://www.notion.so/LD-Score-Regression-96461063fe5b48daa8b5174998188825"
   ]
  },
  {
   "cell_type": "code",
   "execution_count": 1,
   "id": "d8289402",
   "metadata": {},
   "outputs": [
    {
     "name": "stderr",
     "output_type": "stream",
     "text": [
      "Warning message:\n",
      "“package ‘glmgampoi’ is not available for this version of R\n",
      "\n",
      "A version of this package for your version of R might be available elsewhere,\n",
      "see the ideas at\n",
      "https://cran.r-project.org/doc/manuals/r-patched/R-admin.html#Installing-packages”\n",
      "Warning message in p_install(package, character.only = TRUE, ...):\n",
      "“”\n",
      "Warning message in library(package, lib.loc = lib.loc, character.only = TRUE, logical.return = TRUE, :\n",
      "“there is no package called ‘glmgampoi’”\n",
      "Warning message in pacman::p_load(dplyr, stringr, data.table, tidyr, data.table, :\n",
      "\"Failed to install/load:\n",
      "glmgampoi\"\n"
     ]
    }
   ],
   "source": [
    "# Load packages\n",
    "pacman::p_load(dplyr, stringr, data.table, tidyr, data.table, Matrix,\n",
    "               hdf5r, Seurat, Signac,harmony, knitr, SoupX, cluster, glmgampoi,\n",
    "               EnsDb.Hsapiens.v86, \n",
    "               logr, parallel, future,\n",
    "               fpc,\n",
    "               ggplot2, ggpubr, ggrepel, ggbreak, gridExtra, patchwork, grid, ggh4x)"
   ]
  },
  {
   "cell_type": "markdown",
   "id": "8816daaa",
   "metadata": {},
   "source": [
    "# Split bed by emission state"
   ]
  },
  {
   "cell_type": "code",
   "execution_count": 35,
   "id": "834c74fd",
   "metadata": {},
   "outputs": [],
   "source": [
    "# Set directories\n",
    "peaks.dir = '/nfs/lab/tscc/luca/MEGA_Heart/peaks_LDSC_annotate/'\n",
    "peaks.split.dir = '/nfs/lab/tscc/luca/MEGA_Heart/peaks_LDSC_annotate/splitByES/'\n",
    "\n",
    "dir.create(peaks.split.dir)"
   ]
  },
  {
   "cell_type": "code",
   "execution_count": 31,
   "id": "4eeff001",
   "metadata": {},
   "outputs": [
    {
     "data": {
      "text/html": [
       "<style>\n",
       ".list-inline {list-style: none; margin:0; padding: 0}\n",
       ".list-inline>li {display: inline-block}\n",
       ".list-inline>li:not(:last-child)::after {content: \"\\00b7\"; padding: 0 .5ex}\n",
       "</style>\n",
       "<ol class=list-inline><li>'aCM_annotate.bed'</li><li>'Adipocyte_annotate.bed'</li><li>'Endocardial_annotate.bed'</li><li>'Endothelial_annotate.bed'</li><li>'Epicardial_annotate.bed'</li><li>'Fibroblast_annotate.bed'</li><li>'Lymphoid_annotate.bed'</li><li>'Myeloid_annotate.bed'</li><li>'Neuronal_annotate.bed'</li><li>'Pericyte_annotate.bed'</li><li>'SM_annotate.bed'</li><li>'vCM_annotate.bed'</li></ol>\n"
      ],
      "text/latex": [
       "\\begin{enumerate*}\n",
       "\\item 'aCM\\_annotate.bed'\n",
       "\\item 'Adipocyte\\_annotate.bed'\n",
       "\\item 'Endocardial\\_annotate.bed'\n",
       "\\item 'Endothelial\\_annotate.bed'\n",
       "\\item 'Epicardial\\_annotate.bed'\n",
       "\\item 'Fibroblast\\_annotate.bed'\n",
       "\\item 'Lymphoid\\_annotate.bed'\n",
       "\\item 'Myeloid\\_annotate.bed'\n",
       "\\item 'Neuronal\\_annotate.bed'\n",
       "\\item 'Pericyte\\_annotate.bed'\n",
       "\\item 'SM\\_annotate.bed'\n",
       "\\item 'vCM\\_annotate.bed'\n",
       "\\end{enumerate*}\n"
      ],
      "text/markdown": [
       "1. 'aCM_annotate.bed'\n",
       "2. 'Adipocyte_annotate.bed'\n",
       "3. 'Endocardial_annotate.bed'\n",
       "4. 'Endothelial_annotate.bed'\n",
       "5. 'Epicardial_annotate.bed'\n",
       "6. 'Fibroblast_annotate.bed'\n",
       "7. 'Lymphoid_annotate.bed'\n",
       "8. 'Myeloid_annotate.bed'\n",
       "9. 'Neuronal_annotate.bed'\n",
       "10. 'Pericyte_annotate.bed'\n",
       "11. 'SM_annotate.bed'\n",
       "12. 'vCM_annotate.bed'\n",
       "\n",
       "\n"
      ],
      "text/plain": [
       " [1] \"aCM_annotate.bed\"         \"Adipocyte_annotate.bed\"  \n",
       " [3] \"Endocardial_annotate.bed\" \"Endothelial_annotate.bed\"\n",
       " [5] \"Epicardial_annotate.bed\"  \"Fibroblast_annotate.bed\" \n",
       " [7] \"Lymphoid_annotate.bed\"    \"Myeloid_annotate.bed\"    \n",
       " [9] \"Neuronal_annotate.bed\"    \"Pericyte_annotate.bed\"   \n",
       "[11] \"SM_annotate.bed\"          \"vCM_annotate.bed\"        "
      ]
     },
     "metadata": {},
     "output_type": "display_data"
    }
   ],
   "source": [
    "files = list.files(paste0(peaks.dir))\n",
    "files"
   ]
  },
  {
   "cell_type": "code",
   "execution_count": 32,
   "id": "e0fc915b",
   "metadata": {},
   "outputs": [],
   "source": [
    "states = c(\"E1\", \"E2\", \"E3\", \"E4\", \"E5\")"
   ]
  },
  {
   "cell_type": "code",
   "execution_count": 38,
   "id": "0451219e",
   "metadata": {},
   "outputs": [
    {
     "name": "stderr",
     "output_type": "stream",
     "text": [
      "processing: aCM_annotate.bed\n",
      "\n",
      "  - State subset check: E1\n",
      "\n",
      "  - State subset check: E2\n",
      "\n",
      "  - State subset check: E3\n",
      "\n",
      "  - State subset check: E4\n",
      "\n",
      "  - State subset check: E5\n",
      "\n",
      "processing: Adipocyte_annotate.bed\n",
      "\n",
      "  - State subset check: E1\n",
      "\n",
      "  - State subset check: E2\n",
      "\n",
      "  - State subset check: E3\n",
      "\n",
      "  - State subset check: E4\n",
      "\n",
      "  - State subset check: E5\n",
      "\n",
      "processing: Endocardial_annotate.bed\n",
      "\n",
      "  - State subset check: E1\n",
      "\n",
      "  - State subset check: E2\n",
      "\n",
      "  - State subset check: E3\n",
      "\n",
      "  - State subset check: E4\n",
      "\n",
      "  - State subset check: E5\n",
      "\n",
      "processing: Endothelial_annotate.bed\n",
      "\n",
      "  - State subset check: E1\n",
      "\n",
      "  - State subset check: E2\n",
      "\n",
      "  - State subset check: E3\n",
      "\n",
      "  - State subset check: E4\n",
      "\n",
      "  - State subset check: E5\n",
      "\n",
      "processing: Epicardial_annotate.bed\n",
      "\n",
      "  - State subset check: E1\n",
      "\n",
      "  - State subset check: E2\n",
      "\n",
      "  - State subset check: E3\n",
      "\n",
      "  - State subset check: E4\n",
      "\n",
      "  - State subset check: E5\n",
      "\n",
      "processing: Fibroblast_annotate.bed\n",
      "\n",
      "  - State subset check: E1\n",
      "\n",
      "  - State subset check: E2\n",
      "\n",
      "  - State subset check: E3\n",
      "\n",
      "  - State subset check: E4\n",
      "\n",
      "  - State subset check: E5\n",
      "\n",
      "processing: Lymphoid_annotate.bed\n",
      "\n",
      "  - State subset check: E1\n",
      "\n",
      "  - State subset check: E2\n",
      "\n",
      "  - State subset check: E3\n",
      "\n",
      "  - State subset check: E4\n",
      "\n",
      "  - State subset check: E5\n",
      "\n",
      "processing: Myeloid_annotate.bed\n",
      "\n",
      "  - State subset check: E1\n",
      "\n",
      "  - State subset check: E2\n",
      "\n",
      "  - State subset check: E3\n",
      "\n",
      "  - State subset check: E4\n",
      "\n",
      "  - State subset check: E5\n",
      "\n",
      "processing: Neuronal_annotate.bed\n",
      "\n",
      "  - State subset check: E1\n",
      "\n",
      "  - State subset check: E2\n",
      "\n",
      "  - State subset check: E3\n",
      "\n",
      "  - State subset check: E4\n",
      "\n",
      "  - State subset check: E5\n",
      "\n",
      "processing: Pericyte_annotate.bed\n",
      "\n",
      "  - State subset check: E1\n",
      "\n",
      "  - State subset check: E2\n",
      "\n",
      "  - State subset check: E3\n",
      "\n",
      "  - State subset check: E4\n",
      "\n",
      "  - State subset check: E5\n",
      "\n",
      "processing: SM_annotate.bed\n",
      "\n",
      "  - State subset check: E1\n",
      "\n",
      "  - State subset check: E2\n",
      "\n",
      "  - State subset check: E3\n",
      "\n",
      "  - State subset check: E4\n",
      "\n",
      "  - State subset check: E5\n",
      "\n",
      "processing: vCM_annotate.bed\n",
      "\n",
      "  - State subset check: E1\n",
      "\n",
      "  - State subset check: E2\n",
      "\n",
      "  - State subset check: E3\n",
      "\n",
      "  - State subset check: E4\n",
      "\n",
      "  - State subset check: E5\n",
      "\n"
     ]
    }
   ],
   "source": [
    "for (i in seq_along(files)){\n",
    "    file.use = files[i]\n",
    "    message(\"processing: \", file.use)\n",
    "    celltype.use = gsub(pattern = \"_annotate.bed\", replacement = \"\", x = file.use)\n",
    "\n",
    "    # Load ES data\n",
    "    data <- read.table(paste0(peaks.dir, file.use), sep = '\\t', header = FALSE) %>%\n",
    "        dplyr::mutate(ID = paste(V1, V2, V3, sep = \"-\")) %>%\n",
    "        distinct(ID, .keep_all = TRUE) %>%\n",
    "        dplyr::select(V1, V2, V3, ID,\n",
    "                      ES = V4) %>%\n",
    "        dplyr::filter(ES != \".\")\n",
    "\n",
    "    for (state.use in states){\n",
    "        data.write = data %>%\n",
    "            dplyr::filter(ES == state.use) \n",
    "\n",
    "        message(\"  - State subset check: \", unique(data.write$ES))\n",
    "\n",
    "        data.write = data.write %>%\n",
    "            dplyr::select(V1, V2, V3)\n",
    "\n",
    "        # Save narrow peak file\n",
    "        write.table(data.write, paste0(peaks.split.dir,\n",
    "                                       celltype.use, \"--\", state.use,\n",
    "                                       \"_annotated_peaks.bed\"), \n",
    "                    sep = '\\t', row.names = FALSE, col.names = FALSE, quote=FALSE)\n",
    "    }\n",
    "}"
   ]
  },
  {
   "cell_type": "markdown",
   "id": "17bbb749",
   "metadata": {},
   "source": [
    "# Convert to Hg19"
   ]
  },
  {
   "cell_type": "code",
   "execution_count": null,
   "id": "ffe6d62a",
   "metadata": {},
   "outputs": [],
   "source": [
    "# Installation found here:\n",
    "'https://github.com/bulik/ldsc'"
   ]
  },
  {
   "cell_type": "raw",
   "id": "0dbf1bfd",
   "metadata": {},
   "source": [
    "# Activate the conda enviroment \n",
    "source activate ldsc"
   ]
  },
  {
   "cell_type": "raw",
   "id": "d0c68dec",
   "metadata": {},
   "source": [
    "1) Make a txt file with all your celltype names:\n",
    "/nfs/lab/projects/mega_heart/FNIH/multiome/Analysis/3_downstream/Major_celltypes/LDSC_ES/"
   ]
  },
  {
   "cell_type": "raw",
   "id": "fb5b7164",
   "metadata": {},
   "source": [
    "# Liftover\n",
    "for annot in $(cat /nfs/lab/projects/mega_heart/FNIH/multiome/Analysis/3_downstream/Major_celltypes/LDSC_ES/celltypes.txt); do\n",
    "\n",
    "liftOver /nfs/lab/tscc/luca/MEGA_Heart/peaks_LDSC_annotate/splitByES/${annot}_annotated_peaks.bed /nfs/lab/liftOver/hg38ToHg19.over.chain.gz /nfs/lab/tscc/luca/MEGA_Heart/peaks_LDSC_annotate/splitByES/Hg19/${annot}_Hg19_annotated_peaks.bed unMapped\n",
    "\n",
    "done"
   ]
  },
  {
   "cell_type": "markdown",
   "id": "1b139af5",
   "metadata": {},
   "source": [
    "# Create background peak set "
   ]
  },
  {
   "cell_type": "code",
   "execution_count": 39,
   "id": "ed8eb175",
   "metadata": {},
   "outputs": [
    {
     "data": {
      "text/html": [
       "'Just using the background for all CREs'"
      ],
      "text/latex": [
       "'Just using the background for all CREs'"
      ],
      "text/markdown": [
       "'Just using the background for all CREs'"
      ],
      "text/plain": [
       "[1] \"Just using the background for all CREs\""
      ]
     },
     "metadata": {},
     "output_type": "display_data"
    },
    {
     "data": {
      "text/html": [
       "'/nfs/lab/projects/mega_heart/FNIH/multiome/Analysis/1_preprocessing/PeakCalling/2_PeaksMap_Peakcalls/MergedPeaks_ConsensuspeaksHg19.bed'"
      ],
      "text/latex": [
       "'/nfs/lab/projects/mega\\_heart/FNIH/multiome/Analysis/1\\_preprocessing/PeakCalling/2\\_PeaksMap\\_Peakcalls/MergedPeaks\\_ConsensuspeaksHg19.bed'"
      ],
      "text/markdown": [
       "'/nfs/lab/projects/mega_heart/FNIH/multiome/Analysis/1_preprocessing/PeakCalling/2_PeaksMap_Peakcalls/MergedPeaks_ConsensuspeaksHg19.bed'"
      ],
      "text/plain": [
       "[1] \"/nfs/lab/projects/mega_heart/FNIH/multiome/Analysis/1_preprocessing/PeakCalling/2_PeaksMap_Peakcalls/MergedPeaks_ConsensuspeaksHg19.bed\""
      ]
     },
     "metadata": {},
     "output_type": "display_data"
    }
   ],
   "source": [
    "\"Just using the background for all CREs\"\n",
    "\"/nfs/lab/projects/mega_heart/FNIH/multiome/Analysis/1_preprocessing/PeakCalling/2_PeaksMap_Peakcalls/MergedPeaks_ConsensuspeaksHg19.bed\""
   ]
  },
  {
   "cell_type": "markdown",
   "id": "239af354",
   "metadata": {},
   "source": [
    "# Make annotations"
   ]
  },
  {
   "cell_type": "code",
   "execution_count": null,
   "id": "79fe4697",
   "metadata": {},
   "outputs": [],
   "source": [
    "# For celltypes\n",
    "\n",
    "N=22  # Number of parallel jobs allowed\n",
    "job_counter=0   # Initialize job counter\n",
    "\n",
    "# Loop over annotations (cell types)\n",
    "for annot in $(cat /nfs/lab/projects/mega_heart/FNIH/multiome/Analysis/3_downstream/Major_celltypes/LDSC_ES/celltypes.txt); do\n",
    "\n",
    "    # Create a directory for each annotation if it doesn't exist\n",
    "    mkdir -p /nfs/lab/projects/mega_heart/FNIH/multiome/Analysis/3_downstream/Major_celltypes/LDSC_ES/Annotations/Annotations/hg19/${annot}_hg19\n",
    "\n",
    "    # Loop over chromosomes 1 to 22\n",
    "    for i in {1..22}; do\n",
    "        ((job_counter=job_counter%N))  # Control parallel job count\n",
    "        ((job_counter++==0)) && wait   # Wait if max jobs reached\n",
    "\n",
    "        # Run the make_annot.py script for each chromosome in parallel\n",
    "        python /nfs/lab/Luca/Scripts/ldsc/make_annot.py \\\n",
    "        --bed-file /nfs/lab/tscc/luca/MEGA_Heart/peaks_LDSC_annotate/splitByES/Hg19/${annot}_Hg19_annotated_peaks.bed \\\n",
    "        --bimfile /nfs/lab/ysun/LDSC/1000G_EUR_Phase3_plink/1000G.EUR.QC.${i}.bim \\\n",
    "        --annot-file /nfs/lab/projects/mega_heart/FNIH/multiome/Analysis/3_downstream/Major_celltypes/LDSC_ES/Annotations/Annotations/hg19/${annot}_hg19/${annot}_hg19.${i}.annot.gz &\n",
    "    done\n",
    "done\n",
    "\n",
    "# Wait for all background jobs to finish before exiting\n",
    "wait\n",
    "exit 0"
   ]
  },
  {
   "cell_type": "markdown",
   "id": "5a5970ec",
   "metadata": {},
   "source": [
    "# LD score regression"
   ]
  },
  {
   "cell_type": "code",
   "execution_count": null,
   "id": "e3c7b661",
   "metadata": {},
   "outputs": [],
   "source": [
    "# For celltypes\n",
    "for annot in $(cat /nfs/lab/projects/mega_heart/FNIH/multiome/Analysis/3_downstream/Major_celltypes/LDSC_ES/celltypes.txt); do\n",
    "    for i in {1..22}; do\n",
    "\n",
    "        python /nfs/lab/Luca/Scripts/ldsc/ldsc.py \\\n",
    "        --print-snps /nfs/lab/ysun/LDSC/1000G_EUR_Phase3_baseline_snps/hm.${i}.snp \\\n",
    "        --ld-wind-cm 1.0 \\\n",
    "        --out /nfs/lab/projects/mega_heart/FNIH/multiome/Analysis/3_downstream/Major_celltypes/LDSC_ES/Annotations/Annotations/hg19/${annot}_hg19/${annot}_hg19.${i} \\\n",
    "        --bfile /nfs/lab/ysun/LDSC/1000G_EUR_Phase3_plink/1000G.EUR.QC.${i} \\\n",
    "        --thin-annot \\\n",
    "        --annot /nfs/lab/projects/mega_heart/FNIH/multiome/Analysis/3_downstream/Major_celltypes/LDSC_ES/Annotations/Annotations/hg19/${annot}_hg19/${annot}_hg19.${i}.annot.gz \\\n",
    "        --l2 \n",
    "\n",
    "    done\n",
    "done"
   ]
  },
  {
   "cell_type": "code",
   "execution_count": null,
   "id": "3eb58f5c",
   "metadata": {},
   "outputs": [],
   "source": [
    "# For the future: Just add the background as one more celltype"
   ]
  },
  {
   "cell_type": "markdown",
   "id": "7be9b3d5",
   "metadata": {},
   "source": [
    "# Run partitioned heritability"
   ]
  },
  {
   "cell_type": "code",
   "execution_count": null,
   "id": "dc82283f",
   "metadata": {},
   "outputs": [],
   "source": [
    "# RUNNING ON Ophelia"
   ]
  },
  {
   "cell_type": "code",
   "execution_count": null,
   "id": "7044aee2",
   "metadata": {},
   "outputs": [],
   "source": [
    "# make a list of files one, per trait up to: \".ldsc.sumstats.gz\"\n",
    "## GCST90162626_buildGRCh37.tsv.ldsc.sumstats.gz -> GCST90162626_buildGRCh37.tsv"
   ]
  },
  {
   "cell_type": "code",
   "execution_count": null,
   "id": "94f49287",
   "metadata": {},
   "outputs": [],
   "source": [
    "N=50  # Number of parallel jobs allowed\n",
    "i=0   # Initialize job counter\n",
    "\n",
    "# Loop over traits\n",
    "for trait in $(cat /nfs/lab/projects/mega_heart/FNIH/multiome/Analysis/3_downstream/Major_celltypes/LDSC/Traits.txt); do\n",
    "    ((i=i%N)); ((i++==0)) && wait\n",
    "\n",
    "    # Extract the base name of the trait \n",
    "    trait_basename=$(basename ${trait})\n",
    "    trait_name=${trait_basename%.ldsc.sumstats.gz}\n",
    "\n",
    "    (\n",
    "    # Loop over annotations\n",
    "    for annot in $(cat /nfs/lab/projects/mega_heart/FNIH/multiome/Analysis/3_downstream/Major_celltypes/LDSC_ES/celltypes.txt); do\n",
    "        python /nfs/lab/Luca/Scripts/ldsc/ldsc.py \\\n",
    "        --h2 ${trait} \\\n",
    "        --ref-ld-chr /nfs/lab/projects/mega_heart/FNIH/multiome/Analysis/3_downstream/Major_celltypes/LDSC_ES/Annotations/Annotations/hg19/${annot}_hg19/${annot}_hg19.,/nfs/lab/ysun/LDSC/1000G_EUR_Phase3_baseline/baseline.,/nfs/lab/projects/mega_heart/FNIH/multiome/Analysis/3_downstream/Major_celltypes/LDSC/Annotations/hg19/Background_hg19/Background_hg19.\\\n",
    "        --out /nfs/lab/projects/mega_heart/FNIH/multiome/Analysis/3_downstream/Major_celltypes/LDSC_ES/Results/${trait_name}_hg19.${annot} \\\n",
    "        --overlap-annot  \\\n",
    "        --frqfile-chr /nfs/lab/ysun/LDSC/1000G_Phase3_frq/1000G.EUR.QC. \\\n",
    "        --w-ld-chr /nfs/lab/ysun/LDSC/weights_hm3_no_hla/weights. \\\n",
    "        --print-coefficients\n",
    "    done\n",
    "    ) &\n",
    "\n",
    "done\n",
    "exit 0"
   ]
  },
  {
   "cell_type": "markdown",
   "id": "e493d6a2",
   "metadata": {},
   "source": [
    "# Run on the latest 3 papers Ruth munged"
   ]
  },
  {
   "cell_type": "code",
   "execution_count": null,
   "id": "d55cadef",
   "metadata": {},
   "outputs": [],
   "source": [
    "N=20  # Number of parallel jobs allowed\n",
    "i=0   # Initialize job counter\n",
    "\n",
    "# Loop over traits\n",
    "for trait in $(cat /nfs/lab/projects/mega_heart/FNIH/multiome/Analysis/3_downstream/Major_celltypes/LDSC/Traits_3Papers.txt); do\n",
    "    ((i=i%N)); ((i++==0)) && wait\n",
    "\n",
    "    # Extract the base name of the trait \n",
    "    trait_basename=$(basename ${trait})\n",
    "    trait_name=${trait_basename%.ldsc.sumstats.gz}\n",
    "\n",
    "    (\n",
    "    # Loop over annotations\n",
    "    for annot in $(cat /nfs/lab/projects/mega_heart/FNIH/multiome/Analysis/3_downstream/Major_celltypes/LDSC_ES/celltypes.txt); do\n",
    "        python /nfs/lab/Luca/Scripts/ldsc/ldsc.py \\\n",
    "        --h2 ${trait} \\\n",
    "        --ref-ld-chr /nfs/lab/projects/mega_heart/FNIH/multiome/Analysis/3_downstream/Major_celltypes/LDSC_ES/Annotations/Annotations/hg19/${annot}_hg19/${annot}_hg19.,/nfs/lab/ysun/LDSC/1000G_EUR_Phase3_baseline/baseline.,/nfs/lab/projects/mega_heart/FNIH/multiome/Analysis/3_downstream/Major_celltypes/LDSC/Annotations/hg19/Background_hg19/Background_hg19.\\\n",
    "        --out /nfs/lab/projects/mega_heart/FNIH/multiome/Analysis/3_downstream/Major_celltypes/LDSC_ES/Results/${trait_name}_hg19.${annot} \\\n",
    "        --overlap-annot  \\\n",
    "        --frqfile-chr /nfs/lab/ysun/LDSC/1000G_Phase3_frq/1000G.EUR.QC. \\\n",
    "        --w-ld-chr /nfs/lab/ysun/LDSC/weights_hm3_no_hla/weights. \\\n",
    "        --print-coefficients\n",
    "    done\n",
    "    ) &\n",
    "\n",
    "done\n",
    "exit 0"
   ]
  }
 ],
 "metadata": {
  "kernelspec": {
   "display_name": "Main_R_4.3",
   "language": "R",
   "name": "irs5"
  },
  "language_info": {
   "codemirror_mode": "r",
   "file_extension": ".r",
   "mimetype": "text/x-r-source",
   "name": "R",
   "pygments_lexer": "r",
   "version": "4.3.2"
  },
  "toc": {
   "base_numbering": 1,
   "nav_menu": {},
   "number_sections": true,
   "sideBar": true,
   "skip_h1_title": false,
   "title_cell": "Table of Contents",
   "title_sidebar": "Contents",
   "toc_cell": false,
   "toc_position": {
    "height": "calc(100% - 180px)",
    "left": "10px",
    "top": "150px",
    "width": "259.796875px"
   },
   "toc_section_display": true,
   "toc_window_display": true
  }
 },
 "nbformat": 4,
 "nbformat_minor": 5
}
