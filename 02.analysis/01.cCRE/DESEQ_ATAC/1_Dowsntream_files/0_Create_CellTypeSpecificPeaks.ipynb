{
 "cells": [
  {
   "cell_type": "markdown",
   "id": "e03da596",
   "metadata": {},
   "source": [
    "# Settings"
   ]
  },
  {
   "cell_type": "code",
   "execution_count": 1,
   "id": "1585e97f",
   "metadata": {},
   "outputs": [],
   "source": [
    "# Load packages\n",
    "pacman::p_load(dplyr, stringr, data.table, tidyr, data.table, Matrix, future, \n",
    "               hdf5r, Seurat, Signac,harmony, knitr, SoupX, \n",
    "               EnsDb.Hsapiens.v86, \n",
    "               logr, parallel, \n",
    "               ggplot2, ggpubr, ggrepel, ggbreak, gridExtra, patchwork, grid, ggh4x)"
   ]
  },
  {
   "cell_type": "code",
   "execution_count": 2,
   "id": "947750c2",
   "metadata": {},
   "outputs": [],
   "source": [
    "# Set options\n",
    "options(stringsAsFactors = FALSE)\n",
    "warnLevel <- getOption('warn')\n",
    "options(warn = -1)\n",
    "opts_chunk$set(tidy=TRUE)\n",
    "\n",
    "# set Future\n",
    "plan(\"multicore\", workers = 4)\n",
    "# set RAM treshold\n",
    "## 1000 = 1gb\n",
    "RAM.tresh = 10000 * 1024^2\n",
    "options(future.globals.maxSize = RAM.tresh)"
   ]
  },
  {
   "cell_type": "code",
   "execution_count": 3,
   "id": "c7e29a6f",
   "metadata": {},
   "outputs": [],
   "source": [
    "# Set directories\n",
    "base.dir = \"/nfs/lab/projects/mega_heart/\"\n",
    "assets.dir = \"/nfs/lab/projects/mega_heart/Assets/\"\n",
    "\n",
    "PEAKS.dir = \"/nfs/lab/projects/mega_heart/FNIH/multiome/Analysis/1_preprocessing/PeakCalling/2_PeaksMap_Peakcalls/\""
   ]
  },
  {
   "cell_type": "code",
   "execution_count": 4,
   "id": "022c7a81",
   "metadata": {},
   "outputs": [
    {
     "data": {
      "text/plain": [
       "GRanges object with 285873 ranges and 0 metadata columns:\n",
       "           seqnames              ranges strand\n",
       "              <Rle>           <IRanges>  <Rle>\n",
       "       [1]     chr1       181260-181560      *\n",
       "       [2]     chr1       191308-191608      *\n",
       "       [3]     chr1       779626-779926      *\n",
       "       [4]     chr1       807726-808026      *\n",
       "       [5]     chr1       818649-818949      *\n",
       "       ...      ...                 ...    ...\n",
       "  [285869]     chr9   95784035-95784234      *\n",
       "  [285870]     chr9 135804950-135805250      *\n",
       "  [285871]     chrX       338438-338682      *\n",
       "  [285872]     chrX   47573934-47574234      *\n",
       "  [285873]     chrX   68652886-68653186      *\n",
       "  -------\n",
       "  seqinfo: 24 sequences from an unspecified genome; no seqlengths"
      ]
     },
     "metadata": {},
     "output_type": "display_data"
    }
   ],
   "source": [
    "# Grep final peak list\n",
    "peak.list = read.table(paste0(PEAKS.dir, \"unified_peaks/FNIH_MultiomePeaks_FiltVariable.bed\"))\n",
    "peak.list = peak.list$V1\n",
    "peak.list = StringToGRanges(peak.list, sep = c(\":\", \"-\"))\n",
    "peak.list"
   ]
  },
  {
   "cell_type": "code",
   "execution_count": 5,
   "id": "30f29e14",
   "metadata": {},
   "outputs": [
    {
     "data": {
      "text/html": [
       "<style>\n",
       ".list-inline {list-style: none; margin:0; padding: 0}\n",
       ".list-inline>li {display: inline-block}\n",
       ".list-inline>li:not(:last-child)::after {content: \"\\00b7\"; padding: 0 .5ex}\n",
       "</style>\n",
       "<ol class=list-inline><li>'aCM_peaks.xls'</li><li>'Adipocyte_peaks.xls'</li><li>'Endocardial_peaks.xls'</li><li>'Endothelial_peaks.xls'</li><li>'Epicardial_peaks.xls'</li><li>'Fibroblast_peaks.xls'</li><li>'Lymphoid_peaks.xls'</li><li>'Myeloid_peaks.xls'</li><li>'Neuronal_peaks.xls'</li><li>'Pericyte_peaks.xls'</li><li>'SM_peaks.xls'</li><li>'vCM_peaks.xls'</li></ol>\n"
      ],
      "text/latex": [
       "\\begin{enumerate*}\n",
       "\\item 'aCM\\_peaks.xls'\n",
       "\\item 'Adipocyte\\_peaks.xls'\n",
       "\\item 'Endocardial\\_peaks.xls'\n",
       "\\item 'Endothelial\\_peaks.xls'\n",
       "\\item 'Epicardial\\_peaks.xls'\n",
       "\\item 'Fibroblast\\_peaks.xls'\n",
       "\\item 'Lymphoid\\_peaks.xls'\n",
       "\\item 'Myeloid\\_peaks.xls'\n",
       "\\item 'Neuronal\\_peaks.xls'\n",
       "\\item 'Pericyte\\_peaks.xls'\n",
       "\\item 'SM\\_peaks.xls'\n",
       "\\item 'vCM\\_peaks.xls'\n",
       "\\end{enumerate*}\n"
      ],
      "text/markdown": [
       "1. 'aCM_peaks.xls'\n",
       "2. 'Adipocyte_peaks.xls'\n",
       "3. 'Endocardial_peaks.xls'\n",
       "4. 'Endothelial_peaks.xls'\n",
       "5. 'Epicardial_peaks.xls'\n",
       "6. 'Fibroblast_peaks.xls'\n",
       "7. 'Lymphoid_peaks.xls'\n",
       "8. 'Myeloid_peaks.xls'\n",
       "9. 'Neuronal_peaks.xls'\n",
       "10. 'Pericyte_peaks.xls'\n",
       "11. 'SM_peaks.xls'\n",
       "12. 'vCM_peaks.xls'\n",
       "\n",
       "\n"
      ],
      "text/plain": [
       " [1] \"aCM_peaks.xls\"         \"Adipocyte_peaks.xls\"   \"Endocardial_peaks.xls\"\n",
       " [4] \"Endothelial_peaks.xls\" \"Epicardial_peaks.xls\"  \"Fibroblast_peaks.xls\" \n",
       " [7] \"Lymphoid_peaks.xls\"    \"Myeloid_peaks.xls\"     \"Neuronal_peaks.xls\"   \n",
       "[10] \"Pericyte_peaks.xls\"    \"SM_peaks.xls\"          \"vCM_peaks.xls\"        "
      ]
     },
     "metadata": {},
     "output_type": "display_data"
    }
   ],
   "source": [
    "# Grep original peak calles\n",
    "called.peaks = list.files(PEAKS.dir, \"_peaks.xls\")\n",
    "called.peaks"
   ]
  },
  {
   "cell_type": "code",
   "execution_count": 6,
   "id": "ce266136",
   "metadata": {},
   "outputs": [],
   "source": [
    "# Define lists of peaks by celltype\n",
    "aCM = c('aCM_peaks.xls')\n",
    "vCM = c(\"vCM_peaks.xls\")\n",
    "Adipocyte = c('Adipocyte_peaks.xls')\n",
    "Fibroblast = c('Fibroblast_peaks.xls')\n",
    "Endothelial = c(\"Endothelial_peaks.xls\")\n",
    "Endocardial = c('Endocardial_peaks.xls')\n",
    "Epicardial = c('Epicardial_peaks.xls')\n",
    "Lymphoid = c('Lymphoid_peaks.xls')\n",
    "Myeloid = c('Myeloid_peaks.xls')\n",
    "Neuronal = c('Neuronal_peaks.xls')\n",
    "Pericyte = c('Pericyte_peaks.xls')\n",
    "SM = c('SM_peaks.xls')"
   ]
  },
  {
   "cell_type": "code",
   "execution_count": 7,
   "id": "f38d1276",
   "metadata": {},
   "outputs": [
    {
     "data": {
      "text/html": [
       "'to simplify your life, make sure the names of the lists are equal to cell labels in adata'"
      ],
      "text/latex": [
       "'to simplify your life, make sure the names of the lists are equal to cell labels in adata'"
      ],
      "text/markdown": [
       "'to simplify your life, make sure the names of the lists are equal to cell labels in adata'"
      ],
      "text/plain": [
       "[1] \"to simplify your life, make sure the names of the lists are equal to cell labels in adata\""
      ]
     },
     "metadata": {},
     "output_type": "display_data"
    }
   ],
   "source": [
    "'to simplify your life, make sure the names of the lists are equal to cell labels in adata'"
   ]
  },
  {
   "cell_type": "code",
   "execution_count": 8,
   "id": "7adb1fd9",
   "metadata": {},
   "outputs": [
    {
     "name": "stderr",
     "output_type": "stream",
     "text": [
      "Processing :aCM_peaks.xls\n",
      "\n",
      " - Concatenated peaks :175499\n",
      "\n",
      " - Final peaks: 139616\n",
      "\n"
     ]
    },
    {
     "name": "stdout",
     "output_type": "stream",
     "text": [
      "[1] \" - Saving in: /nfs/lab/projects/mega_heart/FNIH/multiome/Analysis/1_preprocessing/PeakCalling/2_PeaksMap_Peakcalls/unified_peaks/aCM_UnifiedFiltVariable.bed\"\n"
     ]
    },
    {
     "name": "stderr",
     "output_type": "stream",
     "text": [
      "Processing :vCM_peaks.xls\n",
      "\n",
      " - Concatenated peaks :205726\n",
      "\n",
      " - Final peaks: 162084\n",
      "\n"
     ]
    },
    {
     "name": "stdout",
     "output_type": "stream",
     "text": [
      "[1] \" - Saving in: /nfs/lab/projects/mega_heart/FNIH/multiome/Analysis/1_preprocessing/PeakCalling/2_PeaksMap_Peakcalls/unified_peaks/vCM_UnifiedFiltVariable.bed\"\n"
     ]
    },
    {
     "name": "stderr",
     "output_type": "stream",
     "text": [
      "Processing :Adipocyte_peaks.xls\n",
      "\n",
      " - Concatenated peaks :65594\n",
      "\n",
      " - Final peaks: 35501\n",
      "\n"
     ]
    },
    {
     "name": "stdout",
     "output_type": "stream",
     "text": [
      "[1] \" - Saving in: /nfs/lab/projects/mega_heart/FNIH/multiome/Analysis/1_preprocessing/PeakCalling/2_PeaksMap_Peakcalls/unified_peaks/Adipocyte_UnifiedFiltVariable.bed\"\n"
     ]
    },
    {
     "name": "stderr",
     "output_type": "stream",
     "text": [
      "Processing :Fibroblast_peaks.xls\n",
      "\n",
      " - Concatenated peaks :174333\n",
      "\n",
      " - Final peaks: 129296\n",
      "\n"
     ]
    },
    {
     "name": "stdout",
     "output_type": "stream",
     "text": [
      "[1] \" - Saving in: /nfs/lab/projects/mega_heart/FNIH/multiome/Analysis/1_preprocessing/PeakCalling/2_PeaksMap_Peakcalls/unified_peaks/Fibroblast_UnifiedFiltVariable.bed\"\n"
     ]
    },
    {
     "name": "stderr",
     "output_type": "stream",
     "text": [
      "Processing :Endothelial_peaks.xls\n",
      "\n",
      " - Concatenated peaks :131222\n",
      "\n",
      " - Final peaks: 89791\n",
      "\n"
     ]
    },
    {
     "name": "stdout",
     "output_type": "stream",
     "text": [
      "[1] \" - Saving in: /nfs/lab/projects/mega_heart/FNIH/multiome/Analysis/1_preprocessing/PeakCalling/2_PeaksMap_Peakcalls/unified_peaks/Endothelial_UnifiedFiltVariable.bed\"\n"
     ]
    },
    {
     "name": "stderr",
     "output_type": "stream",
     "text": [
      "Processing :Endocardial_peaks.xls\n",
      "\n",
      " - Concatenated peaks :96526\n",
      "\n",
      " - Final peaks: 62275\n",
      "\n"
     ]
    },
    {
     "name": "stdout",
     "output_type": "stream",
     "text": [
      "[1] \" - Saving in: /nfs/lab/projects/mega_heart/FNIH/multiome/Analysis/1_preprocessing/PeakCalling/2_PeaksMap_Peakcalls/unified_peaks/Endocardial_UnifiedFiltVariable.bed\"\n"
     ]
    },
    {
     "name": "stderr",
     "output_type": "stream",
     "text": [
      "Processing :Epicardial_peaks.xls\n",
      "\n",
      " - Concatenated peaks :94892\n",
      "\n",
      " - Final peaks: 49313\n",
      "\n"
     ]
    },
    {
     "name": "stdout",
     "output_type": "stream",
     "text": [
      "[1] \" - Saving in: /nfs/lab/projects/mega_heart/FNIH/multiome/Analysis/1_preprocessing/PeakCalling/2_PeaksMap_Peakcalls/unified_peaks/Epicardial_UnifiedFiltVariable.bed\"\n"
     ]
    },
    {
     "name": "stderr",
     "output_type": "stream",
     "text": [
      "Processing :Lymphoid_peaks.xls\n",
      "\n",
      " - Concatenated peaks :80530\n",
      "\n",
      " - Final peaks: 46008\n",
      "\n"
     ]
    },
    {
     "name": "stdout",
     "output_type": "stream",
     "text": [
      "[1] \" - Saving in: /nfs/lab/projects/mega_heart/FNIH/multiome/Analysis/1_preprocessing/PeakCalling/2_PeaksMap_Peakcalls/unified_peaks/Lymphoid_UnifiedFiltVariable.bed\"\n"
     ]
    },
    {
     "name": "stderr",
     "output_type": "stream",
     "text": [
      "Processing :Myeloid_peaks.xls\n",
      "\n",
      " - Concatenated peaks :143460\n",
      "\n",
      " - Final peaks: 98275\n",
      "\n"
     ]
    },
    {
     "name": "stdout",
     "output_type": "stream",
     "text": [
      "[1] \" - Saving in: /nfs/lab/projects/mega_heart/FNIH/multiome/Analysis/1_preprocessing/PeakCalling/2_PeaksMap_Peakcalls/unified_peaks/Myeloid_UnifiedFiltVariable.bed\"\n"
     ]
    },
    {
     "name": "stderr",
     "output_type": "stream",
     "text": [
      "Processing :Neuronal_peaks.xls\n",
      "\n",
      " - Concatenated peaks :52911\n",
      "\n",
      " - Final peaks: 29658\n",
      "\n"
     ]
    },
    {
     "name": "stdout",
     "output_type": "stream",
     "text": [
      "[1] \" - Saving in: /nfs/lab/projects/mega_heart/FNIH/multiome/Analysis/1_preprocessing/PeakCalling/2_PeaksMap_Peakcalls/unified_peaks/Neuronal_UnifiedFiltVariable.bed\"\n"
     ]
    },
    {
     "name": "stderr",
     "output_type": "stream",
     "text": [
      "Processing :Pericyte_peaks.xls\n",
      "\n",
      " - Concatenated peaks :104004\n",
      "\n",
      " - Final peaks: 65897\n",
      "\n"
     ]
    },
    {
     "name": "stdout",
     "output_type": "stream",
     "text": [
      "[1] \" - Saving in: /nfs/lab/projects/mega_heart/FNIH/multiome/Analysis/1_preprocessing/PeakCalling/2_PeaksMap_Peakcalls/unified_peaks/Pericyte_UnifiedFiltVariable.bed\"\n"
     ]
    },
    {
     "name": "stderr",
     "output_type": "stream",
     "text": [
      "Processing :SM_peaks.xls\n",
      "\n",
      " - Concatenated peaks :81624\n",
      "\n",
      " - Final peaks: 52412\n",
      "\n"
     ]
    },
    {
     "name": "stdout",
     "output_type": "stream",
     "text": [
      "[1] \" - Saving in: /nfs/lab/projects/mega_heart/FNIH/multiome/Analysis/1_preprocessing/PeakCalling/2_PeaksMap_Peakcalls/unified_peaks/SM_UnifiedFiltVariable.bed\"\n"
     ]
    }
   ],
   "source": [
    "# Contatenate peaks together\n",
    "allPeakCalls = list(aCM, vCM, Adipocyte, Fibroblast, Endothelial, Endocardial, Epicardial, \n",
    "                   Lymphoid, Myeloid, Neuronal, Pericyte, SM)\n",
    "names(allPeakCalls) = c('aCM', 'vCM', 'Adipocyte', 'Fibroblast', 'Endothelial', 'Endocardial', 'Epicardial', 'Lymphoid', 'Myeloid', 'Neuronal', 'Pericyte', 'SM'\n",
    "                   )\n",
    "\n",
    "for (i.a in seq_along(allPeakCalls)){\n",
    "    PeakCalls.list.use = allPeakCalls[[i.a]]\n",
    "      # Reset concatenated peak list\n",
    "      PeakCalls.cat = NULL\n",
    "      for (i.b in seq_along(PeakCalls.list.use)){\n",
    "        # Load peaks\n",
    "        PeakCalls.use = PeakCalls.list.use[[i.b]]\n",
    "        message(\"Processing :\", PeakCalls.use)   \n",
    "        in.dir = paste0(PEAKS.dir, PeakCalls.use)\n",
    "        PeakCalls = read.table(in.dir, header = TRUE)\n",
    "        # Concatenate\n",
    "        PeakCalls.cat = rbind(PeakCalls.cat, PeakCalls)\n",
    "        message(\" - Concatenated peaks :\", nrow(PeakCalls.cat))\n",
    "    }\n",
    "    # Convert to granges\n",
    "    PeakCalls_gr <- GRanges(\n",
    "            seqnames = PeakCalls.cat$chr,\n",
    "            ranges = IRanges(start = PeakCalls.cat$start, end = PeakCalls.cat$end))\n",
    "    # Bed tools intersect\n",
    "    overlaps <- findOverlaps(peak.list, PeakCalls_gr)\n",
    "    # Extract the overlapping and unique regions from the unionpeaks\n",
    "    PeakCalls_gr_overlaps <- unique(peak.list[queryHits(overlaps)])\n",
    "    # Save final peaks list\n",
    "    message(\" - Final peaks: \", length(PeakCalls_gr_overlaps))\n",
    "    out.dir = paste0(PEAKS.dir,\n",
    "                     \"unified_peaks/\",\n",
    "                     names(allPeakCalls)[[i.a]],\n",
    "                     \"_UnifiedFiltVariable.bed\")\n",
    "    print(paste0(\" - Saving in: \", out.dir))\n",
    "    write.table(as.data.frame(PeakCalls_gr_overlaps), out.dir,\n",
    "                col.names = FALSE, row.names = FALSE, quote = FALSE, sep = \"\\t\")\n",
    "}"
   ]
  },
  {
   "cell_type": "code",
   "execution_count": 9,
   "id": "42415ee7",
   "metadata": {},
   "outputs": [
    {
     "data": {
      "text/plain": [
       "GRanges object with 52412 ranges and 0 metadata columns:\n",
       "          seqnames              ranges strand\n",
       "             <Rle>           <IRanges>  <Rle>\n",
       "      [1]     chr1       181260-181560      *\n",
       "      [2]     chr1       191308-191608      *\n",
       "      [3]     chr1       779626-779926      *\n",
       "      [4]     chr1       858669-858969      *\n",
       "      [5]     chr1       869758-870058      *\n",
       "      ...      ...                 ...    ...\n",
       "  [52408]     chr8 143771112-143771412      *\n",
       "  [52409]     chr9   33180913-33181213      *\n",
       "  [52410]     chr9   34589894-34590194      *\n",
       "  [52411]     chr9 135804950-135805250      *\n",
       "  [52412]     chrX   47573934-47574234      *\n",
       "  -------\n",
       "  seqinfo: 24 sequences from an unspecified genome; no seqlengths"
      ]
     },
     "metadata": {},
     "output_type": "display_data"
    }
   ],
   "source": [
    "PeakCalls_gr_overlaps"
   ]
  },
  {
   "cell_type": "code",
   "execution_count": 10,
   "id": "72cda0ed",
   "metadata": {},
   "outputs": [
    {
     "data": {
      "text/html": [
       "<table class=\"dataframe\">\n",
       "<caption>A data.frame: 52412 × 5</caption>\n",
       "<thead>\n",
       "\t<tr><th scope=col>seqnames</th><th scope=col>start</th><th scope=col>end</th><th scope=col>width</th><th scope=col>strand</th></tr>\n",
       "\t<tr><th scope=col>&lt;fct&gt;</th><th scope=col>&lt;int&gt;</th><th scope=col>&lt;int&gt;</th><th scope=col>&lt;int&gt;</th><th scope=col>&lt;fct&gt;</th></tr>\n",
       "</thead>\n",
       "<tbody>\n",
       "\t<tr><td>chr1</td><td> 181260</td><td> 181560</td><td>301</td><td>*</td></tr>\n",
       "\t<tr><td>chr1</td><td> 191308</td><td> 191608</td><td>301</td><td>*</td></tr>\n",
       "\t<tr><td>chr1</td><td> 779626</td><td> 779926</td><td>301</td><td>*</td></tr>\n",
       "\t<tr><td>chr1</td><td> 858669</td><td> 858969</td><td>301</td><td>*</td></tr>\n",
       "\t<tr><td>chr1</td><td> 869758</td><td> 870058</td><td>301</td><td>*</td></tr>\n",
       "\t<tr><td>chr1</td><td> 910044</td><td> 910344</td><td>301</td><td>*</td></tr>\n",
       "\t<tr><td>chr1</td><td> 923737</td><td> 924037</td><td>301</td><td>*</td></tr>\n",
       "\t<tr><td>chr1</td><td> 925537</td><td> 925773</td><td>237</td><td>*</td></tr>\n",
       "\t<tr><td>chr1</td><td> 941651</td><td> 941896</td><td>246</td><td>*</td></tr>\n",
       "\t<tr><td>chr1</td><td> 960408</td><td> 960708</td><td>301</td><td>*</td></tr>\n",
       "\t<tr><td>chr1</td><td> 966628</td><td> 966928</td><td>301</td><td>*</td></tr>\n",
       "\t<tr><td>chr1</td><td> 976057</td><td> 976357</td><td>301</td><td>*</td></tr>\n",
       "\t<tr><td>chr1</td><td> 980685</td><td> 980985</td><td>301</td><td>*</td></tr>\n",
       "\t<tr><td>chr1</td><td> 981591</td><td> 981793</td><td>203</td><td>*</td></tr>\n",
       "\t<tr><td>chr1</td><td> 982000</td><td> 982300</td><td>301</td><td>*</td></tr>\n",
       "\t<tr><td>chr1</td><td> 998608</td><td> 998837</td><td>230</td><td>*</td></tr>\n",
       "\t<tr><td>chr1</td><td> 999966</td><td>1000266</td><td>301</td><td>*</td></tr>\n",
       "\t<tr><td>chr1</td><td>1001811</td><td>1002111</td><td>301</td><td>*</td></tr>\n",
       "\t<tr><td>chr1</td><td>1005119</td><td>1005419</td><td>301</td><td>*</td></tr>\n",
       "\t<tr><td>chr1</td><td>1019354</td><td>1019654</td><td>301</td><td>*</td></tr>\n",
       "\t<tr><td>chr1</td><td>1032978</td><td>1033278</td><td>301</td><td>*</td></tr>\n",
       "\t<tr><td>chr1</td><td>1040639</td><td>1040939</td><td>301</td><td>*</td></tr>\n",
       "\t<tr><td>chr1</td><td>1059474</td><td>1059774</td><td>301</td><td>*</td></tr>\n",
       "\t<tr><td>chr1</td><td>1069231</td><td>1069531</td><td>301</td><td>*</td></tr>\n",
       "\t<tr><td>chr1</td><td>1079714</td><td>1080014</td><td>301</td><td>*</td></tr>\n",
       "\t<tr><td>chr1</td><td>1116083</td><td>1116383</td><td>301</td><td>*</td></tr>\n",
       "\t<tr><td>chr1</td><td>1132544</td><td>1132844</td><td>301</td><td>*</td></tr>\n",
       "\t<tr><td>chr1</td><td>1133367</td><td>1133667</td><td>301</td><td>*</td></tr>\n",
       "\t<tr><td>chr1</td><td>1135357</td><td>1135657</td><td>301</td><td>*</td></tr>\n",
       "\t<tr><td>chr1</td><td>1156926</td><td>1157169</td><td>244</td><td>*</td></tr>\n",
       "\t<tr><td>⋮</td><td>⋮</td><td>⋮</td><td>⋮</td><td>⋮</td></tr>\n",
       "\t<tr><td>chr11</td><td> 73061435</td><td> 73061735</td><td>301</td><td>*</td></tr>\n",
       "\t<tr><td>chr12</td><td>124480415</td><td>124480693</td><td>279</td><td>*</td></tr>\n",
       "\t<tr><td>chr12</td><td>124713356</td><td>124713656</td><td>301</td><td>*</td></tr>\n",
       "\t<tr><td>chr13</td><td> 48976057</td><td> 48976357</td><td>301</td><td>*</td></tr>\n",
       "\t<tr><td>chr14</td><td> 54784332</td><td> 54784632</td><td>301</td><td>*</td></tr>\n",
       "\t<tr><td>chr16</td><td> 30658233</td><td> 30658533</td><td>301</td><td>*</td></tr>\n",
       "\t<tr><td>chr17</td><td> 17770328</td><td> 17770628</td><td>301</td><td>*</td></tr>\n",
       "\t<tr><td>chr17</td><td> 57046093</td><td> 57046393</td><td>301</td><td>*</td></tr>\n",
       "\t<tr><td>chr17</td><td> 64230049</td><td> 64230349</td><td>301</td><td>*</td></tr>\n",
       "\t<tr><td>chr17</td><td> 82957296</td><td> 82957582</td><td>287</td><td>*</td></tr>\n",
       "\t<tr><td>chr18</td><td> 47795577</td><td> 47795786</td><td>210</td><td>*</td></tr>\n",
       "\t<tr><td>chr19</td><td>  5891880</td><td>  5892180</td><td>301</td><td>*</td></tr>\n",
       "\t<tr><td>chr19</td><td> 13937952</td><td> 13938252</td><td>301</td><td>*</td></tr>\n",
       "\t<tr><td>chr19</td><td> 56839739</td><td> 56840039</td><td>301</td><td>*</td></tr>\n",
       "\t<tr><td>chr2 </td><td> 85998753</td><td> 85999053</td><td>301</td><td>*</td></tr>\n",
       "\t<tr><td>chr2 </td><td>111618235</td><td>111618535</td><td>301</td><td>*</td></tr>\n",
       "\t<tr><td>chr2 </td><td>176122962</td><td>176123262</td><td>301</td><td>*</td></tr>\n",
       "\t<tr><td>chr22</td><td> 42129475</td><td> 42129775</td><td>301</td><td>*</td></tr>\n",
       "\t<tr><td>chr22</td><td> 50720450</td><td> 50720750</td><td>301</td><td>*</td></tr>\n",
       "\t<tr><td>chr3 </td><td>170357097</td><td>170357397</td><td>301</td><td>*</td></tr>\n",
       "\t<tr><td>chr4 </td><td> 16082406</td><td> 16082706</td><td>301</td><td>*</td></tr>\n",
       "\t<tr><td>chr5 </td><td>  5140149</td><td>  5140449</td><td>301</td><td>*</td></tr>\n",
       "\t<tr><td>chr5 </td><td>126851831</td><td>126852131</td><td>301</td><td>*</td></tr>\n",
       "\t<tr><td>chr7 </td><td>129780210</td><td>129780510</td><td>301</td><td>*</td></tr>\n",
       "\t<tr><td>chr7 </td><td>150396966</td><td>150397266</td><td>301</td><td>*</td></tr>\n",
       "\t<tr><td>chr8 </td><td>143771112</td><td>143771412</td><td>301</td><td>*</td></tr>\n",
       "\t<tr><td>chr9 </td><td> 33180913</td><td> 33181213</td><td>301</td><td>*</td></tr>\n",
       "\t<tr><td>chr9 </td><td> 34589894</td><td> 34590194</td><td>301</td><td>*</td></tr>\n",
       "\t<tr><td>chr9 </td><td>135804950</td><td>135805250</td><td>301</td><td>*</td></tr>\n",
       "\t<tr><td>chrX </td><td> 47573934</td><td> 47574234</td><td>301</td><td>*</td></tr>\n",
       "</tbody>\n",
       "</table>\n"
      ],
      "text/latex": [
       "A data.frame: 52412 × 5\n",
       "\\begin{tabular}{lllll}\n",
       " seqnames & start & end & width & strand\\\\\n",
       " <fct> & <int> & <int> & <int> & <fct>\\\\\n",
       "\\hline\n",
       "\t chr1 &  181260 &  181560 & 301 & *\\\\\n",
       "\t chr1 &  191308 &  191608 & 301 & *\\\\\n",
       "\t chr1 &  779626 &  779926 & 301 & *\\\\\n",
       "\t chr1 &  858669 &  858969 & 301 & *\\\\\n",
       "\t chr1 &  869758 &  870058 & 301 & *\\\\\n",
       "\t chr1 &  910044 &  910344 & 301 & *\\\\\n",
       "\t chr1 &  923737 &  924037 & 301 & *\\\\\n",
       "\t chr1 &  925537 &  925773 & 237 & *\\\\\n",
       "\t chr1 &  941651 &  941896 & 246 & *\\\\\n",
       "\t chr1 &  960408 &  960708 & 301 & *\\\\\n",
       "\t chr1 &  966628 &  966928 & 301 & *\\\\\n",
       "\t chr1 &  976057 &  976357 & 301 & *\\\\\n",
       "\t chr1 &  980685 &  980985 & 301 & *\\\\\n",
       "\t chr1 &  981591 &  981793 & 203 & *\\\\\n",
       "\t chr1 &  982000 &  982300 & 301 & *\\\\\n",
       "\t chr1 &  998608 &  998837 & 230 & *\\\\\n",
       "\t chr1 &  999966 & 1000266 & 301 & *\\\\\n",
       "\t chr1 & 1001811 & 1002111 & 301 & *\\\\\n",
       "\t chr1 & 1005119 & 1005419 & 301 & *\\\\\n",
       "\t chr1 & 1019354 & 1019654 & 301 & *\\\\\n",
       "\t chr1 & 1032978 & 1033278 & 301 & *\\\\\n",
       "\t chr1 & 1040639 & 1040939 & 301 & *\\\\\n",
       "\t chr1 & 1059474 & 1059774 & 301 & *\\\\\n",
       "\t chr1 & 1069231 & 1069531 & 301 & *\\\\\n",
       "\t chr1 & 1079714 & 1080014 & 301 & *\\\\\n",
       "\t chr1 & 1116083 & 1116383 & 301 & *\\\\\n",
       "\t chr1 & 1132544 & 1132844 & 301 & *\\\\\n",
       "\t chr1 & 1133367 & 1133667 & 301 & *\\\\\n",
       "\t chr1 & 1135357 & 1135657 & 301 & *\\\\\n",
       "\t chr1 & 1156926 & 1157169 & 244 & *\\\\\n",
       "\t ⋮ & ⋮ & ⋮ & ⋮ & ⋮\\\\\n",
       "\t chr11 &  73061435 &  73061735 & 301 & *\\\\\n",
       "\t chr12 & 124480415 & 124480693 & 279 & *\\\\\n",
       "\t chr12 & 124713356 & 124713656 & 301 & *\\\\\n",
       "\t chr13 &  48976057 &  48976357 & 301 & *\\\\\n",
       "\t chr14 &  54784332 &  54784632 & 301 & *\\\\\n",
       "\t chr16 &  30658233 &  30658533 & 301 & *\\\\\n",
       "\t chr17 &  17770328 &  17770628 & 301 & *\\\\\n",
       "\t chr17 &  57046093 &  57046393 & 301 & *\\\\\n",
       "\t chr17 &  64230049 &  64230349 & 301 & *\\\\\n",
       "\t chr17 &  82957296 &  82957582 & 287 & *\\\\\n",
       "\t chr18 &  47795577 &  47795786 & 210 & *\\\\\n",
       "\t chr19 &   5891880 &   5892180 & 301 & *\\\\\n",
       "\t chr19 &  13937952 &  13938252 & 301 & *\\\\\n",
       "\t chr19 &  56839739 &  56840039 & 301 & *\\\\\n",
       "\t chr2  &  85998753 &  85999053 & 301 & *\\\\\n",
       "\t chr2  & 111618235 & 111618535 & 301 & *\\\\\n",
       "\t chr2  & 176122962 & 176123262 & 301 & *\\\\\n",
       "\t chr22 &  42129475 &  42129775 & 301 & *\\\\\n",
       "\t chr22 &  50720450 &  50720750 & 301 & *\\\\\n",
       "\t chr3  & 170357097 & 170357397 & 301 & *\\\\\n",
       "\t chr4  &  16082406 &  16082706 & 301 & *\\\\\n",
       "\t chr5  &   5140149 &   5140449 & 301 & *\\\\\n",
       "\t chr5  & 126851831 & 126852131 & 301 & *\\\\\n",
       "\t chr7  & 129780210 & 129780510 & 301 & *\\\\\n",
       "\t chr7  & 150396966 & 150397266 & 301 & *\\\\\n",
       "\t chr8  & 143771112 & 143771412 & 301 & *\\\\\n",
       "\t chr9  &  33180913 &  33181213 & 301 & *\\\\\n",
       "\t chr9  &  34589894 &  34590194 & 301 & *\\\\\n",
       "\t chr9  & 135804950 & 135805250 & 301 & *\\\\\n",
       "\t chrX  &  47573934 &  47574234 & 301 & *\\\\\n",
       "\\end{tabular}\n"
      ],
      "text/markdown": [
       "\n",
       "A data.frame: 52412 × 5\n",
       "\n",
       "| seqnames &lt;fct&gt; | start &lt;int&gt; | end &lt;int&gt; | width &lt;int&gt; | strand &lt;fct&gt; |\n",
       "|---|---|---|---|---|\n",
       "| chr1 |  181260 |  181560 | 301 | * |\n",
       "| chr1 |  191308 |  191608 | 301 | * |\n",
       "| chr1 |  779626 |  779926 | 301 | * |\n",
       "| chr1 |  858669 |  858969 | 301 | * |\n",
       "| chr1 |  869758 |  870058 | 301 | * |\n",
       "| chr1 |  910044 |  910344 | 301 | * |\n",
       "| chr1 |  923737 |  924037 | 301 | * |\n",
       "| chr1 |  925537 |  925773 | 237 | * |\n",
       "| chr1 |  941651 |  941896 | 246 | * |\n",
       "| chr1 |  960408 |  960708 | 301 | * |\n",
       "| chr1 |  966628 |  966928 | 301 | * |\n",
       "| chr1 |  976057 |  976357 | 301 | * |\n",
       "| chr1 |  980685 |  980985 | 301 | * |\n",
       "| chr1 |  981591 |  981793 | 203 | * |\n",
       "| chr1 |  982000 |  982300 | 301 | * |\n",
       "| chr1 |  998608 |  998837 | 230 | * |\n",
       "| chr1 |  999966 | 1000266 | 301 | * |\n",
       "| chr1 | 1001811 | 1002111 | 301 | * |\n",
       "| chr1 | 1005119 | 1005419 | 301 | * |\n",
       "| chr1 | 1019354 | 1019654 | 301 | * |\n",
       "| chr1 | 1032978 | 1033278 | 301 | * |\n",
       "| chr1 | 1040639 | 1040939 | 301 | * |\n",
       "| chr1 | 1059474 | 1059774 | 301 | * |\n",
       "| chr1 | 1069231 | 1069531 | 301 | * |\n",
       "| chr1 | 1079714 | 1080014 | 301 | * |\n",
       "| chr1 | 1116083 | 1116383 | 301 | * |\n",
       "| chr1 | 1132544 | 1132844 | 301 | * |\n",
       "| chr1 | 1133367 | 1133667 | 301 | * |\n",
       "| chr1 | 1135357 | 1135657 | 301 | * |\n",
       "| chr1 | 1156926 | 1157169 | 244 | * |\n",
       "| ⋮ | ⋮ | ⋮ | ⋮ | ⋮ |\n",
       "| chr11 |  73061435 |  73061735 | 301 | * |\n",
       "| chr12 | 124480415 | 124480693 | 279 | * |\n",
       "| chr12 | 124713356 | 124713656 | 301 | * |\n",
       "| chr13 |  48976057 |  48976357 | 301 | * |\n",
       "| chr14 |  54784332 |  54784632 | 301 | * |\n",
       "| chr16 |  30658233 |  30658533 | 301 | * |\n",
       "| chr17 |  17770328 |  17770628 | 301 | * |\n",
       "| chr17 |  57046093 |  57046393 | 301 | * |\n",
       "| chr17 |  64230049 |  64230349 | 301 | * |\n",
       "| chr17 |  82957296 |  82957582 | 287 | * |\n",
       "| chr18 |  47795577 |  47795786 | 210 | * |\n",
       "| chr19 |   5891880 |   5892180 | 301 | * |\n",
       "| chr19 |  13937952 |  13938252 | 301 | * |\n",
       "| chr19 |  56839739 |  56840039 | 301 | * |\n",
       "| chr2  |  85998753 |  85999053 | 301 | * |\n",
       "| chr2  | 111618235 | 111618535 | 301 | * |\n",
       "| chr2  | 176122962 | 176123262 | 301 | * |\n",
       "| chr22 |  42129475 |  42129775 | 301 | * |\n",
       "| chr22 |  50720450 |  50720750 | 301 | * |\n",
       "| chr3  | 170357097 | 170357397 | 301 | * |\n",
       "| chr4  |  16082406 |  16082706 | 301 | * |\n",
       "| chr5  |   5140149 |   5140449 | 301 | * |\n",
       "| chr5  | 126851831 | 126852131 | 301 | * |\n",
       "| chr7  | 129780210 | 129780510 | 301 | * |\n",
       "| chr7  | 150396966 | 150397266 | 301 | * |\n",
       "| chr8  | 143771112 | 143771412 | 301 | * |\n",
       "| chr9  |  33180913 |  33181213 | 301 | * |\n",
       "| chr9  |  34589894 |  34590194 | 301 | * |\n",
       "| chr9  | 135804950 | 135805250 | 301 | * |\n",
       "| chrX  |  47573934 |  47574234 | 301 | * |\n",
       "\n"
      ],
      "text/plain": [
       "      seqnames start     end       width strand\n",
       "1     chr1      181260    181560   301   *     \n",
       "2     chr1      191308    191608   301   *     \n",
       "3     chr1      779626    779926   301   *     \n",
       "4     chr1      858669    858969   301   *     \n",
       "5     chr1      869758    870058   301   *     \n",
       "6     chr1      910044    910344   301   *     \n",
       "7     chr1      923737    924037   301   *     \n",
       "8     chr1      925537    925773   237   *     \n",
       "9     chr1      941651    941896   246   *     \n",
       "10    chr1      960408    960708   301   *     \n",
       "11    chr1      966628    966928   301   *     \n",
       "12    chr1      976057    976357   301   *     \n",
       "13    chr1      980685    980985   301   *     \n",
       "14    chr1      981591    981793   203   *     \n",
       "15    chr1      982000    982300   301   *     \n",
       "16    chr1      998608    998837   230   *     \n",
       "17    chr1      999966   1000266   301   *     \n",
       "18    chr1     1001811   1002111   301   *     \n",
       "19    chr1     1005119   1005419   301   *     \n",
       "20    chr1     1019354   1019654   301   *     \n",
       "21    chr1     1032978   1033278   301   *     \n",
       "22    chr1     1040639   1040939   301   *     \n",
       "23    chr1     1059474   1059774   301   *     \n",
       "24    chr1     1069231   1069531   301   *     \n",
       "25    chr1     1079714   1080014   301   *     \n",
       "26    chr1     1116083   1116383   301   *     \n",
       "27    chr1     1132544   1132844   301   *     \n",
       "28    chr1     1133367   1133667   301   *     \n",
       "29    chr1     1135357   1135657   301   *     \n",
       "30    chr1     1156926   1157169   244   *     \n",
       "⋮     ⋮        ⋮         ⋮         ⋮     ⋮     \n",
       "52383 chr11     73061435  73061735 301   *     \n",
       "52384 chr12    124480415 124480693 279   *     \n",
       "52385 chr12    124713356 124713656 301   *     \n",
       "52386 chr13     48976057  48976357 301   *     \n",
       "52387 chr14     54784332  54784632 301   *     \n",
       "52388 chr16     30658233  30658533 301   *     \n",
       "52389 chr17     17770328  17770628 301   *     \n",
       "52390 chr17     57046093  57046393 301   *     \n",
       "52391 chr17     64230049  64230349 301   *     \n",
       "52392 chr17     82957296  82957582 287   *     \n",
       "52393 chr18     47795577  47795786 210   *     \n",
       "52394 chr19      5891880   5892180 301   *     \n",
       "52395 chr19     13937952  13938252 301   *     \n",
       "52396 chr19     56839739  56840039 301   *     \n",
       "52397 chr2      85998753  85999053 301   *     \n",
       "52398 chr2     111618235 111618535 301   *     \n",
       "52399 chr2     176122962 176123262 301   *     \n",
       "52400 chr22     42129475  42129775 301   *     \n",
       "52401 chr22     50720450  50720750 301   *     \n",
       "52402 chr3     170357097 170357397 301   *     \n",
       "52403 chr4      16082406  16082706 301   *     \n",
       "52404 chr5       5140149   5140449 301   *     \n",
       "52405 chr5     126851831 126852131 301   *     \n",
       "52406 chr7     129780210 129780510 301   *     \n",
       "52407 chr7     150396966 150397266 301   *     \n",
       "52408 chr8     143771112 143771412 301   *     \n",
       "52409 chr9      33180913  33181213 301   *     \n",
       "52410 chr9      34589894  34590194 301   *     \n",
       "52411 chr9     135804950 135805250 301   *     \n",
       "52412 chrX      47573934  47574234 301   *     "
      ]
     },
     "metadata": {},
     "output_type": "display_data"
    }
   ],
   "source": [
    "as.data.frame(PeakCalls_gr_overlaps)"
   ]
  },
  {
   "cell_type": "code",
   "execution_count": null,
   "id": "6094c21c",
   "metadata": {},
   "outputs": [],
   "source": []
  }
 ],
 "metadata": {
  "kernelspec": {
   "display_name": "Main_R_4.3",
   "language": "R",
   "name": "irs5"
  },
  "language_info": {
   "codemirror_mode": "r",
   "file_extension": ".r",
   "mimetype": "text/x-r-source",
   "name": "R",
   "pygments_lexer": "r",
   "version": "4.3.2"
  },
  "toc": {
   "base_numbering": 1,
   "nav_menu": {},
   "number_sections": true,
   "sideBar": true,
   "skip_h1_title": false,
   "title_cell": "Table of Contents",
   "title_sidebar": "Contents",
   "toc_cell": false,
   "toc_position": {
    "height": "calc(100% - 180px)",
    "left": "10px",
    "top": "150px",
    "width": "165px"
   },
   "toc_section_display": true,
   "toc_window_display": true
  }
 },
 "nbformat": 4,
 "nbformat_minor": 5
}
