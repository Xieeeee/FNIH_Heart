{
 "cells": [
  {
   "cell_type": "markdown",
   "id": "e03da596",
   "metadata": {},
   "source": [
    "# Settings"
   ]
  },
  {
   "cell_type": "code",
   "execution_count": 1,
   "id": "88eb9a0a",
   "metadata": {
    "scrolled": true
   },
   "outputs": [
    {
     "data": {
      "text/html": [
       "TRUE"
      ],
      "text/latex": [
       "TRUE"
      ],
      "text/markdown": [
       "TRUE"
      ],
      "text/plain": [
       "[1] TRUE"
      ]
     },
     "metadata": {},
     "output_type": "display_data"
    },
    {
     "data": {
      "text/plain": [
       "Module(anndata)"
      ]
     },
     "metadata": {},
     "output_type": "display_data"
    },
    {
     "data": {
      "text/html": [
       "TRUE"
      ],
      "text/latex": [
       "TRUE"
      ],
      "text/markdown": [
       "TRUE"
      ],
      "text/plain": [
       "[1] TRUE"
      ]
     },
     "metadata": {},
     "output_type": "display_data"
    },
    {
     "data": {
      "text/plain": [
       "Module(leidenalg)"
      ]
     },
     "metadata": {},
     "output_type": "display_data"
    }
   ],
   "source": [
    "# Load Reticulate function\n",
    "Sys.setenv(RETICULATE_PYTHON=\"/home/luca/anaconda3/envs/reticulate/bin/python\")\n",
    "library(reticulate)\n",
    "reticulate::use_python(\"/home/luca/anaconda3/envs/reticulate/bin/python\")\n",
    "reticulate::use_condaenv(\"/home/luca/anaconda3/envs/reticulate\")\n",
    "reticulate::py_module_available(module='anndata') #needs to be TRUE\n",
    "reticulate::import('anndata') #good to make sure this doesn't error\n",
    "reticulate::py_module_available(module='leidenalg') #needs to be TRUE\n",
    "reticulate::import('leidenalg') #good to make sure this doesn't error"
   ]
  },
  {
   "cell_type": "code",
   "execution_count": 2,
   "id": "f6026c79",
   "metadata": {},
   "outputs": [],
   "source": [
    "## Patch for annotations in R4.1\n",
    "# BiocManager::install(\"Bioconductor/GenomeInfoDb\",lib = \"/home/luca/R/x86_64-pc-linux-gnu-library/4.1\",force = TRUE)\n",
    "# library(GenomeInfoDb,lib.loc=\"/home/luca/R/x86_64-pc-linux-gnu-library/4.1\")"
   ]
  },
  {
   "cell_type": "code",
   "execution_count": 3,
   "id": "1585e97f",
   "metadata": {},
   "outputs": [],
   "source": [
    "# Load packages\n",
    "pacman::p_load(dplyr, stringr, data.table, tidyr, data.table, Matrix, future, \n",
    "               hdf5r, Seurat, Signac,harmony, knitr, SoupX, \n",
    "               EnsDb.Hsapiens.v86, \n",
    "               logr, parallel, \n",
    "               ggplot2, ggpubr, ggrepel, ggbreak, gridExtra, patchwork, grid, ggh4x)"
   ]
  },
  {
   "cell_type": "code",
   "execution_count": 4,
   "id": "10e36b09",
   "metadata": {},
   "outputs": [],
   "source": [
    "# Load genome\n",
    "#suppressMessages(annotations <- GetGRangesFromEnsDb(ensdb=EnsDb.Hsapiens.v86))\n",
    "#genome(annotations) <- 'hg38'\n",
    "#seqlevelsStyle(annotations) <- 'UCSC'\n",
    "# Save table\n",
    "# writeRDS(annotations, \"/nfs/lab/Luca/Assets/references/Cellranger/hg38.annotations.rds\")\n",
    "\n",
    "# Load table\n",
    "annotations = readRDS(\"/nfs/lab/Luca/Assets/references/Cellranger/hg38.annotations.rds\")\n",
    "seqlevelsStyle(annotations) <- 'UCSC'\n",
    "genome(annotations) <- 'hg38'\n",
    "\n",
    "# Seq info downloaded from: https://github.com/broadinstitute/ichorCNA/issues/84\n",
    "seq.info = readRDS(\"/nfs/lab/Luca/Assets/references/Cellranger/seqinfo_hg38_ucsc.rds\")"
   ]
  },
  {
   "cell_type": "code",
   "execution_count": 5,
   "id": "947750c2",
   "metadata": {},
   "outputs": [],
   "source": [
    "# Set options\n",
    "options(stringsAsFactors = FALSE)\n",
    "warnLevel <- getOption('warn')\n",
    "options(warn = -1)\n",
    "opts_chunk$set(tidy=TRUE)\n",
    "\n",
    "# set Future\n",
    "plan(\"multicore\", workers = 4)\n",
    "# set RAM treshold\n",
    "## 1000 = 1gb\n",
    "RAM.tresh = 10000 * 1024^2\n",
    "options(future.globals.maxSize = RAM.tresh)"
   ]
  },
  {
   "cell_type": "code",
   "execution_count": 7,
   "id": "c7e29a6f",
   "metadata": {},
   "outputs": [],
   "source": [
    "# Set directories\n",
    "base.dir = \"/nfs/lab/projects/mega_heart/\"\n",
    "assets.dir = \"/nfs/lab/projects/mega_heart/Assets/\"\n",
    "\n",
    "step1.dir = \"/nfs/lab/projects/mega_heart/FNIH/multiome/Analysis/1_preprocessing/\"\n",
    "step2.dir = \"/nfs/lab/projects/mega_heart/FNIH/multiome/Analysis/3_downstream/Major_celltypes/\"\n",
    "PEAKS.dir = \"/nfs/lab/projects/mega_heart/FNIH/multiome/Analysis/1_preprocessing/PeakCalling/2_PeaksMap_Peakcalls/unified_peaks/\"\n",
    "\n",
    "\n",
    "counts.dir = paste0(step2.dir, \"ATAC/4Chambers/COUNTS/\")\n",
    "TPM.dir = paste0(step2.dir, \"ATAC/4Chambers/CPM/\")\n",
    "DESEQ.dir = paste0(step2.dir, \"ATAC/4Chambers/DESEQ/\")"
   ]
  },
  {
   "cell_type": "code",
   "execution_count": 8,
   "id": "1e88795c",
   "metadata": {},
   "outputs": [],
   "source": [
    "# Create those directories\n",
    "dir.create(step2.dir)\n",
    "dir.create(counts.dir)\n",
    "dir.create(TPM.dir)\n",
    "dir.create(DESEQ.dir)"
   ]
  },
  {
   "cell_type": "code",
   "execution_count": 9,
   "id": "979d19d9",
   "metadata": {},
   "outputs": [
    {
     "data": {
      "text/html": [
       "'/nfs/lab/projects/mega_heart/log/4chambers_ATAC_DownstreamFiles.log'"
      ],
      "text/latex": [
       "'/nfs/lab/projects/mega\\_heart/log/4chambers\\_ATAC\\_DownstreamFiles.log'"
      ],
      "text/markdown": [
       "'/nfs/lab/projects/mega_heart/log/4chambers_ATAC_DownstreamFiles.log'"
      ],
      "text/plain": [
       "[1] \"/nfs/lab/projects/mega_heart/log/4chambers_ATAC_DownstreamFiles.log\""
      ]
     },
     "metadata": {},
     "output_type": "display_data"
    }
   ],
   "source": [
    "log_open(file_name = paste0(base.dir, \"4chambers_ATAC_DownstreamFiles.log\"))"
   ]
  },
  {
   "cell_type": "markdown",
   "id": "5bf0520c",
   "metadata": {},
   "source": [
    "# Load assay"
   ]
  },
  {
   "cell_type": "code",
   "execution_count": 10,
   "id": "95e623c3",
   "metadata": {},
   "outputs": [
    {
     "name": "stdout",
     "output_type": "stream",
     "text": [
      "[1] \" Loading data\"\n",
      "[1] \"Done\"\n"
     ]
    }
   ],
   "source": [
    "log_print(\" Loading data\")\n",
    "adata = readRDS(paste(step1.dir, \"LV_RV_LA_RA.multiome.mrg.filt.MTless.silQC.curated.peaks.rds\", sep = \"\"))\n",
    "log_print(paste(\"Done\"))"
   ]
  },
  {
   "cell_type": "code",
   "execution_count": null,
   "id": "58af7054",
   "metadata": {},
   "outputs": [],
   "source": [
    "# Backup then indent\n",
    "# adata.bckp = adata"
   ]
  },
  {
   "cell_type": "code",
   "execution_count": 11,
   "id": "fb52cf96",
   "metadata": {},
   "outputs": [
    {
     "data": {
      "text/plain": [
       "An object of class Seurat \n",
       "392885 features across 329255 samples within 4 assays \n",
       "Active assay: ATAC (285873 features, 285873 variable features)\n",
       " 2 layers present: counts, data\n",
       " 3 other assays present: RNA, RNA_raw, SCT\n",
       " 7 dimensional reductions calculated: pca, harmony.rna, umap.rna, lsi, harmony.atac, umap.atac, umap.wnn"
      ]
     },
     "metadata": {},
     "output_type": "display_data"
    }
   ],
   "source": [
    "adata"
   ]
  },
  {
   "cell_type": "markdown",
   "id": "88bf16cd",
   "metadata": {},
   "source": [
    "# Cell count matrix  - ATAC"
   ]
  },
  {
   "cell_type": "code",
   "execution_count": 12,
   "id": "3e081f57",
   "metadata": {},
   "outputs": [
    {
     "data": {
      "text/html": [
       "<style>\n",
       ".list-inline {list-style: none; margin:0; padding: 0}\n",
       ".list-inline>li {display: inline-block}\n",
       ".list-inline>li:not(:last-child)::after {content: \"\\00b7\"; padding: 0 .5ex}\n",
       "</style>\n",
       "<ol class=list-inline><li>'DTX089'</li><li>'DTX119'</li><li>'D47'</li><li>'DTX027'</li><li>'D36'</li><li>'DTX097'</li><li>'DTX066'</li><li>'DTX088'</li><li>'D55'</li><li>'DTX093'</li><li>'DTX105'</li><li>'DTX077'</li><li>'D40'</li><li>'DTX062'</li><li>'DTX060'</li><li>'D38'</li><li>'DTX037'</li><li>'D53'</li><li>'DTX017'</li><li>'DTX114'</li><li>'D52'</li><li>'DTX065'</li><li>'D37'</li><li>'DTX081'</li><li>'D35'</li><li>'DTX091'</li><li>'DTX087'</li><li>'DTX096'</li><li>'DTX031'</li><li>'D51'</li></ol>\n"
      ],
      "text/latex": [
       "\\begin{enumerate*}\n",
       "\\item 'DTX089'\n",
       "\\item 'DTX119'\n",
       "\\item 'D47'\n",
       "\\item 'DTX027'\n",
       "\\item 'D36'\n",
       "\\item 'DTX097'\n",
       "\\item 'DTX066'\n",
       "\\item 'DTX088'\n",
       "\\item 'D55'\n",
       "\\item 'DTX093'\n",
       "\\item 'DTX105'\n",
       "\\item 'DTX077'\n",
       "\\item 'D40'\n",
       "\\item 'DTX062'\n",
       "\\item 'DTX060'\n",
       "\\item 'D38'\n",
       "\\item 'DTX037'\n",
       "\\item 'D53'\n",
       "\\item 'DTX017'\n",
       "\\item 'DTX114'\n",
       "\\item 'D52'\n",
       "\\item 'DTX065'\n",
       "\\item 'D37'\n",
       "\\item 'DTX081'\n",
       "\\item 'D35'\n",
       "\\item 'DTX091'\n",
       "\\item 'DTX087'\n",
       "\\item 'DTX096'\n",
       "\\item 'DTX031'\n",
       "\\item 'D51'\n",
       "\\end{enumerate*}\n"
      ],
      "text/markdown": [
       "1. 'DTX089'\n",
       "2. 'DTX119'\n",
       "3. 'D47'\n",
       "4. 'DTX027'\n",
       "5. 'D36'\n",
       "6. 'DTX097'\n",
       "7. 'DTX066'\n",
       "8. 'DTX088'\n",
       "9. 'D55'\n",
       "10. 'DTX093'\n",
       "11. 'DTX105'\n",
       "12. 'DTX077'\n",
       "13. 'D40'\n",
       "14. 'DTX062'\n",
       "15. 'DTX060'\n",
       "16. 'D38'\n",
       "17. 'DTX037'\n",
       "18. 'D53'\n",
       "19. 'DTX017'\n",
       "20. 'DTX114'\n",
       "21. 'D52'\n",
       "22. 'DTX065'\n",
       "23. 'D37'\n",
       "24. 'DTX081'\n",
       "25. 'D35'\n",
       "26. 'DTX091'\n",
       "27. 'DTX087'\n",
       "28. 'DTX096'\n",
       "29. 'DTX031'\n",
       "30. 'D51'\n",
       "\n",
       "\n"
      ],
      "text/plain": [
       " [1] \"DTX089\" \"DTX119\" \"D47\"    \"DTX027\" \"D36\"    \"DTX097\" \"DTX066\" \"DTX088\"\n",
       " [9] \"D55\"    \"DTX093\" \"DTX105\" \"DTX077\" \"D40\"    \"DTX062\" \"DTX060\" \"D38\"   \n",
       "[17] \"DTX037\" \"D53\"    \"DTX017\" \"DTX114\" \"D52\"    \"DTX065\" \"D37\"    \"DTX081\"\n",
       "[25] \"D35\"    \"DTX091\" \"DTX087\" \"DTX096\" \"DTX031\" \"D51\"   "
      ]
     },
     "metadata": {},
     "output_type": "display_data"
    }
   ],
   "source": [
    "samples = as.character(unique(adata$donor))\n",
    "samples"
   ]
  },
  {
   "cell_type": "code",
   "execution_count": 13,
   "id": "75c0fdef",
   "metadata": {},
   "outputs": [
    {
     "data": {
      "text/html": [
       "<style>\n",
       ".dl-inline {width: auto; margin:0; padding: 0}\n",
       ".dl-inline>dt, .dl-inline>dd {float: none; width: auto; display: inline-block}\n",
       ".dl-inline>dt::after {content: \":\\0020\"; padding-right: .5ex}\n",
       ".dl-inline>dt:not(:first-of-type) {padding-left: .5ex}\n",
       "</style><dl class=dl-inline><dt>QY_2193_1_2_QY_2192_1_2_AAACAGCCAACTAGGG-1</dt><dd>Fibroblast</dd><dt>QY_2193_1_2_QY_2192_1_2_AAACAGCCACTTACAG-1</dt><dd>Endothelial</dd><dt>QY_2193_1_2_QY_2192_1_2_AAACAGCCAGTTTGTG-1</dt><dd>vCM</dd><dt>QY_2193_1_2_QY_2192_1_2_AAACAGCCATCCGTAA-1</dt><dd>Endothelial</dd><dt>QY_2193_1_2_QY_2192_1_2_AAACAGCCATGCATAT-1</dt><dd>vCM</dd><dt>QY_2193_1_2_QY_2192_1_2_AAACATGCAGGCCTTG-1</dt><dd>Fibroblast</dd></dl>\n",
       "\n",
       "<details>\n",
       "\t<summary style=display:list-item;cursor:pointer>\n",
       "\t\t<strong>Levels</strong>:\n",
       "\t</summary>\n",
       "\t<style>\n",
       "\t.list-inline {list-style: none; margin:0; padding: 0}\n",
       "\t.list-inline>li {display: inline-block}\n",
       "\t.list-inline>li:not(:last-child)::after {content: \"\\00b7\"; padding: 0 .5ex}\n",
       "\t</style>\n",
       "\t<ol class=list-inline><li>'Fibroblast'</li><li>'Endothelial'</li><li>'vCM'</li><li>'Myeloid'</li><li>'Pericyte'</li><li>'Endocardial'</li><li>'Lymphoid'</li><li>'SM'</li><li>'Neuronal'</li><li>'Adipocyte'</li><li>'Epicardial'</li><li>'aCM'</li></ol>\n",
       "</details>"
      ],
      "text/latex": [
       "\\begin{description*}\n",
       "\\item[QY\\textbackslash{}\\_2193\\textbackslash{}\\_1\\textbackslash{}\\_2\\textbackslash{}\\_QY\\textbackslash{}\\_2192\\textbackslash{}\\_1\\textbackslash{}\\_2\\textbackslash{}\\_AAACAGCCAACTAGGG-1] Fibroblast\n",
       "\\item[QY\\textbackslash{}\\_2193\\textbackslash{}\\_1\\textbackslash{}\\_2\\textbackslash{}\\_QY\\textbackslash{}\\_2192\\textbackslash{}\\_1\\textbackslash{}\\_2\\textbackslash{}\\_AAACAGCCACTTACAG-1] Endothelial\n",
       "\\item[QY\\textbackslash{}\\_2193\\textbackslash{}\\_1\\textbackslash{}\\_2\\textbackslash{}\\_QY\\textbackslash{}\\_2192\\textbackslash{}\\_1\\textbackslash{}\\_2\\textbackslash{}\\_AAACAGCCAGTTTGTG-1] vCM\n",
       "\\item[QY\\textbackslash{}\\_2193\\textbackslash{}\\_1\\textbackslash{}\\_2\\textbackslash{}\\_QY\\textbackslash{}\\_2192\\textbackslash{}\\_1\\textbackslash{}\\_2\\textbackslash{}\\_AAACAGCCATCCGTAA-1] Endothelial\n",
       "\\item[QY\\textbackslash{}\\_2193\\textbackslash{}\\_1\\textbackslash{}\\_2\\textbackslash{}\\_QY\\textbackslash{}\\_2192\\textbackslash{}\\_1\\textbackslash{}\\_2\\textbackslash{}\\_AAACAGCCATGCATAT-1] vCM\n",
       "\\item[QY\\textbackslash{}\\_2193\\textbackslash{}\\_1\\textbackslash{}\\_2\\textbackslash{}\\_QY\\textbackslash{}\\_2192\\textbackslash{}\\_1\\textbackslash{}\\_2\\textbackslash{}\\_AAACATGCAGGCCTTG-1] Fibroblast\n",
       "\\end{description*}\n",
       "\n",
       "\\emph{Levels}: \\begin{enumerate*}\n",
       "\\item 'Fibroblast'\n",
       "\\item 'Endothelial'\n",
       "\\item 'vCM'\n",
       "\\item 'Myeloid'\n",
       "\\item 'Pericyte'\n",
       "\\item 'Endocardial'\n",
       "\\item 'Lymphoid'\n",
       "\\item 'SM'\n",
       "\\item 'Neuronal'\n",
       "\\item 'Adipocyte'\n",
       "\\item 'Epicardial'\n",
       "\\item 'aCM'\n",
       "\\end{enumerate*}\n"
      ],
      "text/markdown": [
       "QY_2193_1_2_QY_2192_1_2_AAACAGCCAACTAGGG-1\n",
       ":   FibroblastQY_2193_1_2_QY_2192_1_2_AAACAGCCACTTACAG-1\n",
       ":   EndothelialQY_2193_1_2_QY_2192_1_2_AAACAGCCAGTTTGTG-1\n",
       ":   vCMQY_2193_1_2_QY_2192_1_2_AAACAGCCATCCGTAA-1\n",
       ":   EndothelialQY_2193_1_2_QY_2192_1_2_AAACAGCCATGCATAT-1\n",
       ":   vCMQY_2193_1_2_QY_2192_1_2_AAACATGCAGGCCTTG-1\n",
       ":   Fibroblast\n",
       "\n",
       "\n",
       "**Levels**: 1. 'Fibroblast'\n",
       "2. 'Endothelial'\n",
       "3. 'vCM'\n",
       "4. 'Myeloid'\n",
       "5. 'Pericyte'\n",
       "6. 'Endocardial'\n",
       "7. 'Lymphoid'\n",
       "8. 'SM'\n",
       "9. 'Neuronal'\n",
       "10. 'Adipocyte'\n",
       "11. 'Epicardial'\n",
       "12. 'aCM'\n",
       "\n",
       "\n"
      ],
      "text/plain": [
       "QY_2193_1_2_QY_2192_1_2_AAACAGCCAACTAGGG-1 \n",
       "                                Fibroblast \n",
       "QY_2193_1_2_QY_2192_1_2_AAACAGCCACTTACAG-1 \n",
       "                               Endothelial \n",
       "QY_2193_1_2_QY_2192_1_2_AAACAGCCAGTTTGTG-1 \n",
       "                                       vCM \n",
       "QY_2193_1_2_QY_2192_1_2_AAACAGCCATCCGTAA-1 \n",
       "                               Endothelial \n",
       "QY_2193_1_2_QY_2192_1_2_AAACAGCCATGCATAT-1 \n",
       "                                       vCM \n",
       "QY_2193_1_2_QY_2192_1_2_AAACATGCAGGCCTTG-1 \n",
       "                                Fibroblast \n",
       "12 Levels: Fibroblast Endothelial vCM Myeloid Pericyte Endocardial ... aCM"
      ]
     },
     "metadata": {},
     "output_type": "display_data"
    },
    {
     "name": "stdout",
     "output_type": "stream",
     "text": [
      " [1] \"Fibroblast\"  \"Endothelial\" \"vCM\"         \"Myeloid\"     \"Pericyte\"   \n",
      " [6] \"Endocardial\" \"Lymphoid\"    \"SM\"          \"Neuronal\"    \"Adipocyte\"  \n",
      "[11] \"Epicardial\"  \"aCM\"        \n"
     ]
    },
    {
     "data": {
      "text/html": [
       "<style>\n",
       ".list-inline {list-style: none; margin:0; padding: 0}\n",
       ".list-inline>li {display: inline-block}\n",
       ".list-inline>li:not(:last-child)::after {content: \"\\00b7\"; padding: 0 .5ex}\n",
       "</style>\n",
       "<ol class=list-inline><li>285873</li><li>329255</li></ol>\n"
      ],
      "text/latex": [
       "\\begin{enumerate*}\n",
       "\\item 285873\n",
       "\\item 329255\n",
       "\\end{enumerate*}\n"
      ],
      "text/markdown": [
       "1. 285873\n",
       "2. 329255\n",
       "\n",
       "\n"
      ],
      "text/plain": [
       "[1] 285873 329255"
      ]
     },
     "metadata": {},
     "output_type": "display_data"
    },
    {
     "name": "stderr",
     "output_type": "stream",
     "text": [
      "  [[ suppressing 34 column names 'QY_2193_1_2_QY_2192_1_2_AAACAGCCAACTAGGG-1', 'QY_2193_1_2_QY_2192_1_2_AAACAGCCACTTACAG-1', 'QY_2193_1_2_QY_2192_1_2_AAACAGCCAGTTTGTG-1' ... ]]\n",
      "\n"
     ]
    },
    {
     "data": {
      "text/plain": [
       "6 x 329255 sparse Matrix of class \"dgCMatrix\"\n",
       "                                                                              \n",
       "chr1-181260-181560 . . . . . . . . . . . . . . . . . . . . . . . . . . . . . .\n",
       "chr1-191308-191608 . . . . . . . . . . . . . . . . . . . . . . . . . . . . . .\n",
       "chr1-779626-779926 . . . . . . . . . . . . . . . . . 1 . . . . . . . . . . . .\n",
       "chr1-807726-808026 . . . . . . . . . . . . . . . . . . . . . . . . . . . . . .\n",
       "chr1-818649-818949 . . . . . . . . . . . . . . . . . . . . . . 1 . . . . . . .\n",
       "chr1-832295-832595 . . . . . . . . . . . . . . . . . . . . . . . . . . . . . .\n",
       "                                 \n",
       "chr1-181260-181560 . . . . ......\n",
       "chr1-191308-191608 . . . . ......\n",
       "chr1-779626-779926 . . . . ......\n",
       "chr1-807726-808026 . . . . ......\n",
       "chr1-818649-818949 . . . . ......\n",
       "chr1-832295-832595 . . . . ......\n",
       "\n",
       " .....suppressing 329221 columns in show(); maybe adjust options(max.print=, width=)\n",
       " .............................."
      ]
     },
     "metadata": {},
     "output_type": "display_data"
    }
   ],
   "source": [
    "######## SET TO WHATEVER YOUR ASSIGNMENTS ARE STORED UNDER ########\n",
    "Idents(object = adata) <- \"cell.major_types\"\n",
    "head(Idents(adata))\n",
    "#### OUTPUT DIRECTORY #####\n",
    "outdir = counts.dir\n",
    "\n",
    "#pull out list of all cell types, removing ignore\n",
    "unique_cell_types <- unique(adata$cell.major_types)\n",
    "#unique_cell_types <- unique_cell_types[-c(11)]\n",
    "print(unique_cell_types)\n",
    "\n",
    "\n",
    "sample_bcs <- list()\n",
    "for (sample in samples){\n",
    "    sample_bcs[[sample]] <- row.names(adata[[]][adata[[]]$donor == sample,])\n",
    "}\n",
    "\n",
    "##############\n",
    "#### SET TO WHATEVER ASSAY YOU WANT TO USE ######\n",
    "DefaultAssay(adata) <- 'ATAC'\n",
    "gex.counts <- GetAssayData(adata, slot='counts')\n",
    "dim(gex.counts)\n",
    "head(gex.counts)\n",
    "adata_matrices <- adata"
   ]
  },
  {
   "cell_type": "code",
   "execution_count": 14,
   "id": "d3462899",
   "metadata": {},
   "outputs": [
    {
     "data": {
      "text/html": [
       "<style>\n",
       ".list-inline {list-style: none; margin:0; padding: 0}\n",
       ".list-inline>li {display: inline-block}\n",
       ".list-inline>li:not(:last-child)::after {content: \"\\00b7\"; padding: 0 .5ex}\n",
       "</style>\n",
       "<ol class=list-inline><li>'aCM_UnifiedFiltVariable.bed'</li><li>'Adipocyte_UnifiedFiltVariable.bed'</li><li>'byChromState'</li><li>'Endocardial_UnifiedFiltVariable.bed'</li><li>'Endothelial_UnifiedFiltVariable.bed'</li><li>'Epicardial_UnifiedFiltVariable.bed'</li><li>'Fibroblast_UnifiedFiltVariable.bed'</li><li>'FNIH_MultiomePeaks_filt.bed'</li><li>'FNIH_MultiomePeaks_FiltVariable_Homer.bed'</li><li>'FNIH_MultiomePeaks_FiltVariable.bed'</li><li>'FNIH_MultiomePeaks.bed'</li><li>'hg19'</li><li>'Lymphoid_UnifiedFiltVariable.bed'</li><li>'Myeloid_UnifiedFiltVariable.bed'</li><li>'Neuronal_UnifiedFiltVariable.bed'</li><li>'Pericyte_UnifiedFiltVariable.bed'</li><li>'SM_UnifiedFiltVariable.bed'</li><li>'vCM_UnifiedFiltVariable.bed'</li></ol>\n"
      ],
      "text/latex": [
       "\\begin{enumerate*}\n",
       "\\item 'aCM\\_UnifiedFiltVariable.bed'\n",
       "\\item 'Adipocyte\\_UnifiedFiltVariable.bed'\n",
       "\\item 'byChromState'\n",
       "\\item 'Endocardial\\_UnifiedFiltVariable.bed'\n",
       "\\item 'Endothelial\\_UnifiedFiltVariable.bed'\n",
       "\\item 'Epicardial\\_UnifiedFiltVariable.bed'\n",
       "\\item 'Fibroblast\\_UnifiedFiltVariable.bed'\n",
       "\\item 'FNIH\\_MultiomePeaks\\_filt.bed'\n",
       "\\item 'FNIH\\_MultiomePeaks\\_FiltVariable\\_Homer.bed'\n",
       "\\item 'FNIH\\_MultiomePeaks\\_FiltVariable.bed'\n",
       "\\item 'FNIH\\_MultiomePeaks.bed'\n",
       "\\item 'hg19'\n",
       "\\item 'Lymphoid\\_UnifiedFiltVariable.bed'\n",
       "\\item 'Myeloid\\_UnifiedFiltVariable.bed'\n",
       "\\item 'Neuronal\\_UnifiedFiltVariable.bed'\n",
       "\\item 'Pericyte\\_UnifiedFiltVariable.bed'\n",
       "\\item 'SM\\_UnifiedFiltVariable.bed'\n",
       "\\item 'vCM\\_UnifiedFiltVariable.bed'\n",
       "\\end{enumerate*}\n"
      ],
      "text/markdown": [
       "1. 'aCM_UnifiedFiltVariable.bed'\n",
       "2. 'Adipocyte_UnifiedFiltVariable.bed'\n",
       "3. 'byChromState'\n",
       "4. 'Endocardial_UnifiedFiltVariable.bed'\n",
       "5. 'Endothelial_UnifiedFiltVariable.bed'\n",
       "6. 'Epicardial_UnifiedFiltVariable.bed'\n",
       "7. 'Fibroblast_UnifiedFiltVariable.bed'\n",
       "8. 'FNIH_MultiomePeaks_filt.bed'\n",
       "9. 'FNIH_MultiomePeaks_FiltVariable_Homer.bed'\n",
       "10. 'FNIH_MultiomePeaks_FiltVariable.bed'\n",
       "11. 'FNIH_MultiomePeaks.bed'\n",
       "12. 'hg19'\n",
       "13. 'Lymphoid_UnifiedFiltVariable.bed'\n",
       "14. 'Myeloid_UnifiedFiltVariable.bed'\n",
       "15. 'Neuronal_UnifiedFiltVariable.bed'\n",
       "16. 'Pericyte_UnifiedFiltVariable.bed'\n",
       "17. 'SM_UnifiedFiltVariable.bed'\n",
       "18. 'vCM_UnifiedFiltVariable.bed'\n",
       "\n",
       "\n"
      ],
      "text/plain": [
       " [1] \"aCM_UnifiedFiltVariable.bed\"              \n",
       " [2] \"Adipocyte_UnifiedFiltVariable.bed\"        \n",
       " [3] \"byChromState\"                             \n",
       " [4] \"Endocardial_UnifiedFiltVariable.bed\"      \n",
       " [5] \"Endothelial_UnifiedFiltVariable.bed\"      \n",
       " [6] \"Epicardial_UnifiedFiltVariable.bed\"       \n",
       " [7] \"Fibroblast_UnifiedFiltVariable.bed\"       \n",
       " [8] \"FNIH_MultiomePeaks_filt.bed\"              \n",
       " [9] \"FNIH_MultiomePeaks_FiltVariable_Homer.bed\"\n",
       "[10] \"FNIH_MultiomePeaks_FiltVariable.bed\"      \n",
       "[11] \"FNIH_MultiomePeaks.bed\"                   \n",
       "[12] \"hg19\"                                     \n",
       "[13] \"Lymphoid_UnifiedFiltVariable.bed\"         \n",
       "[14] \"Myeloid_UnifiedFiltVariable.bed\"          \n",
       "[15] \"Neuronal_UnifiedFiltVariable.bed\"         \n",
       "[16] \"Pericyte_UnifiedFiltVariable.bed\"         \n",
       "[17] \"SM_UnifiedFiltVariable.bed\"               \n",
       "[18] \"vCM_UnifiedFiltVariable.bed\"              "
      ]
     },
     "metadata": {},
     "output_type": "display_data"
    },
    {
     "data": {
      "text/html": [
       "<style>\n",
       ".list-inline {list-style: none; margin:0; padding: 0}\n",
       ".list-inline>li {display: inline-block}\n",
       ".list-inline>li:not(:last-child)::after {content: \"\\00b7\"; padding: 0 .5ex}\n",
       "</style>\n",
       "<ol class=list-inline><li>'Fibroblast'</li><li>'Endothelial'</li><li>'vCM'</li><li>'Myeloid'</li><li>'Pericyte'</li><li>'Endocardial'</li><li>'Lymphoid'</li><li>'SM'</li><li>'Neuronal'</li><li>'Adipocyte'</li><li>'Epicardial'</li><li>'aCM'</li></ol>\n"
      ],
      "text/latex": [
       "\\begin{enumerate*}\n",
       "\\item 'Fibroblast'\n",
       "\\item 'Endothelial'\n",
       "\\item 'vCM'\n",
       "\\item 'Myeloid'\n",
       "\\item 'Pericyte'\n",
       "\\item 'Endocardial'\n",
       "\\item 'Lymphoid'\n",
       "\\item 'SM'\n",
       "\\item 'Neuronal'\n",
       "\\item 'Adipocyte'\n",
       "\\item 'Epicardial'\n",
       "\\item 'aCM'\n",
       "\\end{enumerate*}\n"
      ],
      "text/markdown": [
       "1. 'Fibroblast'\n",
       "2. 'Endothelial'\n",
       "3. 'vCM'\n",
       "4. 'Myeloid'\n",
       "5. 'Pericyte'\n",
       "6. 'Endocardial'\n",
       "7. 'Lymphoid'\n",
       "8. 'SM'\n",
       "9. 'Neuronal'\n",
       "10. 'Adipocyte'\n",
       "11. 'Epicardial'\n",
       "12. 'aCM'\n",
       "\n",
       "\n"
      ],
      "text/plain": [
       " [1] \"Fibroblast\"  \"Endothelial\" \"vCM\"         \"Myeloid\"     \"Pericyte\"   \n",
       " [6] \"Endocardial\" \"Lymphoid\"    \"SM\"          \"Neuronal\"    \"Adipocyte\"  \n",
       "[11] \"Epicardial\"  \"aCM\"        "
      ]
     },
     "metadata": {},
     "output_type": "display_data"
    },
    {
     "name": "stderr",
     "output_type": "stream",
     "text": [
      "NOTE: celltypes and peak names should match\n",
      "\n"
     ]
    }
   ],
   "source": [
    "# Load peaks list\n",
    "list.files(PEAKS.dir)\n",
    "\n",
    "# Match with celltypes\n",
    "unique_cell_types\n",
    "\n",
    "message(\"NOTE: celltypes and peak names should match\")"
   ]
  },
  {
   "cell_type": "code",
   "execution_count": 15,
   "id": "b9448eb2",
   "metadata": {},
   "outputs": [],
   "source": [
    "#looping through cell types by making ^ into a function\n",
    "get_per_sample_gex_SUMS <- function(cell.type, filename){\n",
    "    print(paste(cell.type,Sys.time()))\n",
    "\n",
    "    #pull out rows of gex.counts where BC Ident matches cell.type\n",
    "    bcs <- names(Idents(adata_matrices)[Idents(adata_matrices) == cell.type])\n",
    "    counts <- gex.counts[,colnames(gex.counts) %in% bcs]\n",
    "\n",
    "    #initialize the matrix of sample gex\n",
    "    counts.df <- as.data.frame(rep(0,length(row.names(gex.counts))))\n",
    "    row.names(counts.df) <- row.names(gex.counts)\n",
    "    colnames(counts.df) <- c('temp')\n",
    "\n",
    "    #go through samples and calculate sum of gex values\n",
    "    for (sample in samples){\n",
    "        sample_cols <- colnames(counts) %in% sample_bcs[[sample]]\n",
    "        counts.cut <- counts[,sample_cols]\n",
    "        \n",
    "        #if only one bc, this becomes a vector which is an issue\n",
    "        if (typeof(counts.cut) == 'double'){\n",
    "            mean.counts <- counts.cut\n",
    "        #if there are NO bcs, this will return NA (just return 0 for everything)\n",
    "        } else if(length(colnames(counts.cut)) == 0){\n",
    "            mean.counts <- rep(0,length(row.names(counts)))\n",
    "        } else {\n",
    "            mean.counts <- rowSums(counts.cut)\n",
    "        }\n",
    "        counts.df <- cbind(counts.df,as.data.frame(mean.counts))\n",
    "     }\n",
    "    fin.counts.df <- counts.df[,-c(1)]\n",
    "    colnames(fin.counts.df) <- samples\n",
    "\n",
    "    # Load celltype specific peaks\n",
    "    ct_specific_peaks <- read.table(paste0(PEAKS.dir, cell.type, \"_UnifiedFiltVariable.bed\"),\n",
    "                                    sep=\"\\t\", header = FALSE)\n",
    "    ct_specific_peaks = paste0(ct_specific_peaks$V1, \"-\", ct_specific_peaks$V2, \"-\", ct_specific_peaks$V3)\n",
    "    fin.counts.df = fin.counts.df[rownames(fin.counts.df) %in% ct_specific_peaks, ]\n",
    "    print(paste0(\" - peaks: \", nrow(fin.counts.df)))\n",
    "    #export df\n",
    "    write.table(fin.counts.df, filename, sep='\\t',quote=FALSE)\n",
    "}"
   ]
  },
  {
   "cell_type": "code",
   "execution_count": 16,
   "id": "efadc7f1",
   "metadata": {},
   "outputs": [
    {
     "name": "stdout",
     "output_type": "stream",
     "text": [
      "[1] \"Fibroblast 2025-01-27 11:50:40.444866\"\n",
      "[1] \" - peaks: 129296\"\n",
      "[1] \"Endothelial 2025-01-27 11:51:00.771338\"\n",
      "[1] \" - peaks: 89791\"\n",
      "[1] \"vCM 2025-01-27 11:51:14.906292\"\n",
      "[1] \" - peaks: 162084\"\n",
      "[1] \"Myeloid 2025-01-27 11:51:53.254793\"\n",
      "[1] \" - peaks: 98275\"\n",
      "[1] \"Pericyte 2025-01-27 11:52:08.174736\"\n",
      "[1] \" - peaks: 65897\"\n",
      "[1] \"Endocardial 2025-01-27 11:52:17.744501\"\n",
      "[1] \" - peaks: 62275\"\n",
      "[1] \"Lymphoid 2025-01-27 11:52:24.960312\"\n",
      "[1] \" - peaks: 46008\"\n",
      "[1] \"SM 2025-01-27 11:52:32.926787\"\n",
      "[1] \" - peaks: 52412\"\n",
      "[1] \"Neuronal 2025-01-27 11:52:39.228435\"\n",
      "[1] \" - peaks: 29658\"\n",
      "[1] \"Adipocyte 2025-01-27 11:52:44.378869\"\n",
      "[1] \" - peaks: 35501\"\n",
      "[1] \"Epicardial 2025-01-27 11:52:50.773793\"\n",
      "[1] \" - peaks: 49313\"\n",
      "[1] \"aCM 2025-01-27 11:52:57.183414\"\n",
      "[1] \" - peaks: 139616\"\n"
     ]
    }
   ],
   "source": [
    "##### NAME YOUR FILES #####\n",
    "for (cell.type in unique_cell_types){\n",
    "    filename <- paste(outdir, cell.type, '_perdonor.ATAC.counts', sep = \"\")\n",
    "    get_per_sample_gex_SUMS(cell.type, filename)\n",
    "}"
   ]
  },
  {
   "cell_type": "markdown",
   "id": "80f5cc15",
   "metadata": {},
   "source": [
    "# CPM"
   ]
  },
  {
   "cell_type": "code",
   "execution_count": 17,
   "id": "1a2ff299",
   "metadata": {},
   "outputs": [],
   "source": [
    "#looping through cell types by making ^ into a function\n",
    "calculate_CPM <- function(cell.type, cpm.filename, pseudobulk.filename){\n",
    "    x <- read.table(paste(pseudobulk.filename))\n",
    "    \n",
    "    cpm <- x\n",
    "    for (i in 1:ncol(x)){\n",
    "        cpm[,i] <- 1e6 * (x[,i]/sum(x[,i]))\n",
    "    }\n",
    "    \n",
    "    #export df\n",
    "    write.table(cpm, cpm.filename, sep='\\t',quote=FALSE)\n",
    "}"
   ]
  },
  {
   "cell_type": "code",
   "execution_count": 18,
   "id": "324979b5",
   "metadata": {},
   "outputs": [],
   "source": [
    "indir <- counts.dir\n",
    "outdir <- TPM.dir"
   ]
  },
  {
   "cell_type": "code",
   "execution_count": 19,
   "id": "36372582",
   "metadata": {},
   "outputs": [],
   "source": [
    "unique_cell_types = c('Fibroblast', 'Myeloid', 'Pericyte', 'Endocardial', 'Endothelial',\n",
    "                      'aCM', 'Lymphoid', 'Epicardial', 'SM', 'Neuronal', 'Adipocyte')"
   ]
  },
  {
   "cell_type": "code",
   "execution_count": 20,
   "id": "048e6b1e",
   "metadata": {},
   "outputs": [],
   "source": [
    "##### NAME YOUR FILES #####\n",
    "for (cell.type in unique_cell_types){\n",
    "    cpm.filename <- paste(outdir, cell.type, '_perdonor.ATAC.cpm', sep = \"\")\n",
    "    pseudobulk.filename <- paste(indir, cell.type, '_perdonor.ATAC.counts', sep = \"\")\n",
    "    calculate_CPM(cell.type, cpm.filename, pseudobulk.filename)\n",
    "}"
   ]
  },
  {
   "cell_type": "code",
   "execution_count": 21,
   "id": "61d9d37e",
   "metadata": {},
   "outputs": [
    {
     "name": "stderr",
     "output_type": "stream",
     "text": [
      "Processing Fibroblast\n",
      "\n",
      "Processing Myeloid\n",
      "\n",
      "Processing Pericyte\n",
      "\n",
      "Processing Endocardial\n",
      "\n",
      "Processing Endothelial\n",
      "\n",
      "Processing aCM\n",
      "\n",
      "Processing Lymphoid\n",
      "\n",
      "Processing Epicardial\n",
      "\n",
      "Processing SM\n",
      "\n",
      "Processing Neuronal\n",
      "\n",
      "Processing Adipocyte\n",
      "\n"
     ]
    },
    {
     "data": {
      "text/html": [
       "<style>\n",
       ".list-inline {list-style: none; margin:0; padding: 0}\n",
       ".list-inline>li {display: inline-block}\n",
       ".list-inline>li:not(:last-child)::after {content: \"\\00b7\"; padding: 0 .5ex}\n",
       "</style>\n",
       "<ol class=list-inline><li>129296</li><li>11</li></ol>\n"
      ],
      "text/latex": [
       "\\begin{enumerate*}\n",
       "\\item 129296\n",
       "\\item 11\n",
       "\\end{enumerate*}\n"
      ],
      "text/markdown": [
       "1. 129296\n",
       "2. 11\n",
       "\n",
       "\n"
      ],
      "text/plain": [
       "[1] 129296     11"
      ]
     },
     "metadata": {},
     "output_type": "display_data"
    },
    {
     "data": {
      "text/html": [
       "<table class=\"dataframe\">\n",
       "<caption>A data.frame: 6 × 11</caption>\n",
       "<thead>\n",
       "\t<tr><th></th><th scope=col>Fibroblast</th><th scope=col>Myeloid</th><th scope=col>Pericyte</th><th scope=col>Endocardial</th><th scope=col>Endothelial</th><th scope=col>aCM</th><th scope=col>Lymphoid</th><th scope=col>Epicardial</th><th scope=col>SM</th><th scope=col>Neuronal</th><th scope=col>Adipocyte</th></tr>\n",
       "\t<tr><th></th><th scope=col>&lt;dbl&gt;</th><th scope=col>&lt;dbl&gt;</th><th scope=col>&lt;dbl&gt;</th><th scope=col>&lt;dbl&gt;</th><th scope=col>&lt;dbl&gt;</th><th scope=col>&lt;dbl&gt;</th><th scope=col>&lt;dbl&gt;</th><th scope=col>&lt;dbl&gt;</th><th scope=col>&lt;dbl&gt;</th><th scope=col>&lt;dbl&gt;</th><th scope=col>&lt;dbl&gt;</th></tr>\n",
       "</thead>\n",
       "<tbody>\n",
       "\t<tr><th scope=row>chr1-181260-181560</th><td>9.632933</td><td>10.777465</td><td>10.664740</td><td>15.341643</td><td>12.481735</td><td>10.243690</td><td>14.303689</td><td>6.00566</td><td>13.585399</td><td>27.77125</td><td>25.79901</td></tr>\n",
       "\t<tr><th scope=row>chr1-191308-191608</th><td>5.959459</td><td> 7.877625</td><td> 6.872459</td><td>17.288083</td><td>12.457476</td><td>14.899194</td><td> 7.671111</td><td>     NA</td><td> 6.580643</td><td>22.94376</td><td>44.23927</td></tr>\n",
       "\t<tr><th scope=row>chr1-779626-779926</th><td>5.237409</td><td> 4.158349</td><td> 3.847444</td><td> 4.712415</td><td> 5.137712</td><td> 3.187757</td><td>       NA</td><td>     NA</td><td> 4.842369</td><td>      NA</td><td>      NA</td></tr>\n",
       "\t<tr><th scope=row>chr1-818649-818949</th><td>8.449336</td><td>       NA</td><td>       NA</td><td>       NA</td><td> 2.830931</td><td> 2.998760</td><td>       NA</td><td>     NA</td><td>       NA</td><td>      NA</td><td>12.49027</td></tr>\n",
       "\t<tr><th scope=row>chr1-836289-836554</th><td>1.146947</td><td>       NA</td><td> 1.461590</td><td>       NA</td><td>       NA</td><td>       NA</td><td>       NA</td><td>     NA</td><td>       NA</td><td>      NA</td><td>      NA</td></tr>\n",
       "\t<tr><th scope=row>chr1-844035-844335</th><td>1.324430</td><td>       NA</td><td>       NA</td><td>       NA</td><td>       NA</td><td> 3.278159</td><td> 2.803032</td><td>     NA</td><td>       NA</td><td>      NA</td><td>      NA</td></tr>\n",
       "</tbody>\n",
       "</table>\n"
      ],
      "text/latex": [
       "A data.frame: 6 × 11\n",
       "\\begin{tabular}{r|lllllllllll}\n",
       "  & Fibroblast & Myeloid & Pericyte & Endocardial & Endothelial & aCM & Lymphoid & Epicardial & SM & Neuronal & Adipocyte\\\\\n",
       "  & <dbl> & <dbl> & <dbl> & <dbl> & <dbl> & <dbl> & <dbl> & <dbl> & <dbl> & <dbl> & <dbl>\\\\\n",
       "\\hline\n",
       "\tchr1-181260-181560 & 9.632933 & 10.777465 & 10.664740 & 15.341643 & 12.481735 & 10.243690 & 14.303689 & 6.00566 & 13.585399 & 27.77125 & 25.79901\\\\\n",
       "\tchr1-191308-191608 & 5.959459 &  7.877625 &  6.872459 & 17.288083 & 12.457476 & 14.899194 &  7.671111 &      NA &  6.580643 & 22.94376 & 44.23927\\\\\n",
       "\tchr1-779626-779926 & 5.237409 &  4.158349 &  3.847444 &  4.712415 &  5.137712 &  3.187757 &        NA &      NA &  4.842369 &       NA &       NA\\\\\n",
       "\tchr1-818649-818949 & 8.449336 &        NA &        NA &        NA &  2.830931 &  2.998760 &        NA &      NA &        NA &       NA & 12.49027\\\\\n",
       "\tchr1-836289-836554 & 1.146947 &        NA &  1.461590 &        NA &        NA &        NA &        NA &      NA &        NA &       NA &       NA\\\\\n",
       "\tchr1-844035-844335 & 1.324430 &        NA &        NA &        NA &        NA &  3.278159 &  2.803032 &      NA &        NA &       NA &       NA\\\\\n",
       "\\end{tabular}\n"
      ],
      "text/markdown": [
       "\n",
       "A data.frame: 6 × 11\n",
       "\n",
       "| <!--/--> | Fibroblast &lt;dbl&gt; | Myeloid &lt;dbl&gt; | Pericyte &lt;dbl&gt; | Endocardial &lt;dbl&gt; | Endothelial &lt;dbl&gt; | aCM &lt;dbl&gt; | Lymphoid &lt;dbl&gt; | Epicardial &lt;dbl&gt; | SM &lt;dbl&gt; | Neuronal &lt;dbl&gt; | Adipocyte &lt;dbl&gt; |\n",
       "|---|---|---|---|---|---|---|---|---|---|---|---|\n",
       "| chr1-181260-181560 | 9.632933 | 10.777465 | 10.664740 | 15.341643 | 12.481735 | 10.243690 | 14.303689 | 6.00566 | 13.585399 | 27.77125 | 25.79901 |\n",
       "| chr1-191308-191608 | 5.959459 |  7.877625 |  6.872459 | 17.288083 | 12.457476 | 14.899194 |  7.671111 |      NA |  6.580643 | 22.94376 | 44.23927 |\n",
       "| chr1-779626-779926 | 5.237409 |  4.158349 |  3.847444 |  4.712415 |  5.137712 |  3.187757 |        NA |      NA |  4.842369 |       NA |       NA |\n",
       "| chr1-818649-818949 | 8.449336 |        NA |        NA |        NA |  2.830931 |  2.998760 |        NA |      NA |        NA |       NA | 12.49027 |\n",
       "| chr1-836289-836554 | 1.146947 |        NA |  1.461590 |        NA |        NA |        NA |        NA |      NA |        NA |       NA |       NA |\n",
       "| chr1-844035-844335 | 1.324430 |        NA |        NA |        NA |        NA |  3.278159 |  2.803032 |      NA |        NA |       NA |       NA |\n",
       "\n"
      ],
      "text/plain": [
       "                   Fibroblast Myeloid   Pericyte  Endocardial Endothelial\n",
       "chr1-181260-181560 9.632933   10.777465 10.664740 15.341643   12.481735  \n",
       "chr1-191308-191608 5.959459    7.877625  6.872459 17.288083   12.457476  \n",
       "chr1-779626-779926 5.237409    4.158349  3.847444  4.712415    5.137712  \n",
       "chr1-818649-818949 8.449336          NA        NA        NA    2.830931  \n",
       "chr1-836289-836554 1.146947          NA  1.461590        NA          NA  \n",
       "chr1-844035-844335 1.324430          NA        NA        NA          NA  \n",
       "                   aCM       Lymphoid  Epicardial SM        Neuronal Adipocyte\n",
       "chr1-181260-181560 10.243690 14.303689 6.00566    13.585399 27.77125 25.79901 \n",
       "chr1-191308-191608 14.899194  7.671111      NA     6.580643 22.94376 44.23927 \n",
       "chr1-779626-779926  3.187757        NA      NA     4.842369       NA       NA \n",
       "chr1-818649-818949  2.998760        NA      NA           NA       NA 12.49027 \n",
       "chr1-836289-836554        NA        NA      NA           NA       NA       NA \n",
       "chr1-844035-844335  3.278159  2.803032      NA           NA       NA       NA "
      ]
     },
     "metadata": {},
     "output_type": "display_data"
    }
   ],
   "source": [
    "# SAVE TPM per celltype\n",
    "TPM.by.cell <- data.frame()\n",
    "\n",
    "for (c in unique_cell_types) {\n",
    "    message(\"Processing \", c)\n",
    "    ct.TPM <- rowMeans(read.table(paste0(outdir,c,'_perdonor.ATAC.cpm')), na.rm=T)\n",
    "    if(length(rownames(TPM.by.cell)) == 0) {\n",
    "        TPM.by.cell <- data.frame(ct.TPM)\n",
    "        colnames(TPM.by.cell) <- c\n",
    "    } else {\n",
    "        TPM.by.cell[[c]] <- ct.TPM[rownames(TPM.by.cell)]\n",
    "    }\n",
    "}\n",
    "\n",
    "dim(TPM.by.cell)\n",
    "head(TPM.by.cell)\n",
    "\n",
    "write.table(TPM.by.cell, \n",
    "            paste0(outdir, 'AllCellTypes..ATAC.cpm'),\n",
    "           quote=F, col.names=T, row.names=T, sep='\\t')"
   ]
  },
  {
   "cell_type": "code",
   "execution_count": null,
   "id": "10f37c8a",
   "metadata": {},
   "outputs": [],
   "source": []
  }
 ],
 "metadata": {
  "kernelspec": {
   "display_name": "Main_R_4.3",
   "language": "R",
   "name": "irs5"
  },
  "language_info": {
   "codemirror_mode": "r",
   "file_extension": ".r",
   "mimetype": "text/x-r-source",
   "name": "R",
   "pygments_lexer": "r",
   "version": "4.3.2"
  },
  "toc": {
   "base_numbering": 1,
   "nav_menu": {},
   "number_sections": true,
   "sideBar": true,
   "skip_h1_title": false,
   "title_cell": "Table of Contents",
   "title_sidebar": "Contents",
   "toc_cell": false,
   "toc_position": {
    "height": "calc(100% - 180px)",
    "left": "10px",
    "top": "150px",
    "width": "196.390625px"
   },
   "toc_section_display": true,
   "toc_window_display": true
  }
 },
 "nbformat": 4,
 "nbformat_minor": 5
}
