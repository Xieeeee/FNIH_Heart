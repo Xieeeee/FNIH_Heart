{
 "cells": [
  {
   "cell_type": "markdown",
   "id": "a7852fde",
   "metadata": {},
   "source": [
    "# Settings"
   ]
  },
  {
   "cell_type": "code",
   "execution_count": 1,
   "id": "9d9502cb",
   "metadata": {},
   "outputs": [],
   "source": [
    "## Patch for annotations in R4.1\n",
    "# BiocManager::install(\"Bioconductor/GenomeInfoDb\",lib = \"/home/luca/R/x86_64-pc-linux-gnu-library/4.1\",force = TRUE)\n",
    "# library(GenomeInfoDb,lib.loc=\"/home/luca/R/x86_64-pc-linux-gnu-library/4.1\")"
   ]
  },
  {
   "cell_type": "code",
   "execution_count": 2,
   "id": "dadb788f",
   "metadata": {},
   "outputs": [],
   "source": [
    "# Load packages\n",
    "pacman::p_load(dplyr, stringr, data.table, tidyr, data.table, Matrix, tidyverse,\n",
    "               hdf5r, Seurat, Signac,harmony, knitr, SoupX,\n",
    "               EnsDb.Hsapiens.v86, fgsea,\n",
    "               logr, parallel, DESeq2,\n",
    "               ggplot2, ggpubr, ggrepel, ggbreak, gridExtra, patchwork, grid, ggh4x)"
   ]
  },
  {
   "cell_type": "code",
   "execution_count": 3,
   "id": "844120b7",
   "metadata": {},
   "outputs": [],
   "source": [
    "# Set options\n",
    "options(stringsAsFactors = FALSE)\n",
    "warnLevel <- getOption('warn')\n",
    "options(warn = -1)\n",
    "opts_chunk$set(tidy=TRUE)"
   ]
  },
  {
   "cell_type": "code",
   "execution_count": 8,
   "id": "13198121",
   "metadata": {},
   "outputs": [],
   "source": [
    "# Set directories\n",
    "assets.dir = \"/nfs/lab/projects/mega_heart/FNIH/multiome/Assets/\"\n",
    "\n",
    "step1.dir = \"/nfs/lab/projects/mega_heart/FNIH/multiome/Analysis/1_preprocessing/\"\n",
    "step2.dir = \"/nfs/lab/projects/mega_heart/FNIH/multiome/Analysis/3_downstream/Major_celltypes/\"\n",
    "\n",
    "counts.dir = paste0(step2.dir, \"ATAC/4Chambers/COUNTS/\")\n",
    "DESEQ.dir = paste0(step2.dir, \"ATAC/4Chambers/DESEQ/\")"
   ]
  },
  {
   "cell_type": "markdown",
   "id": "56d1b559",
   "metadata": {},
   "source": [
    "# DESeq2 - HF status"
   ]
  },
  {
   "cell_type": "code",
   "execution_count": 9,
   "id": "3b4b596d",
   "metadata": {},
   "outputs": [
    {
     "data": {
      "text/html": [
       "<table class=\"dataframe\">\n",
       "<caption>A data.frame: 2 × 25</caption>\n",
       "<thead>\n",
       "\t<tr><th></th><th scope=col>donor</th><th scope=col>condition</th><th scope=col>HF_status_base</th><th scope=col>HF_status</th><th scope=col>Diabetes_status</th><th scope=col>Age</th><th scope=col>Sex</th><th scope=col>Height</th><th scope=col>Weight</th><th scope=col>BMI</th><th scope=col>⋯</th><th scope=col>aCM</th><th scope=col>Lymphoid</th><th scope=col>Epicardial</th><th scope=col>Neuronal</th><th scope=col>SM</th><th scope=col>Adipocyte</th><th scope=col>Height.scaled</th><th scope=col>Weight.scaled</th><th scope=col>BMI.scaled</th><th scope=col>Age.scaled</th></tr>\n",
       "\t<tr><th></th><th scope=col>&lt;chr&gt;</th><th scope=col>&lt;chr&gt;</th><th scope=col>&lt;chr&gt;</th><th scope=col>&lt;chr&gt;</th><th scope=col>&lt;chr&gt;</th><th scope=col>&lt;int&gt;</th><th scope=col>&lt;chr&gt;</th><th scope=col>&lt;dbl&gt;</th><th scope=col>&lt;dbl&gt;</th><th scope=col>&lt;dbl&gt;</th><th scope=col>⋯</th><th scope=col>&lt;int&gt;</th><th scope=col>&lt;int&gt;</th><th scope=col>&lt;int&gt;</th><th scope=col>&lt;int&gt;</th><th scope=col>&lt;int&gt;</th><th scope=col>&lt;int&gt;</th><th scope=col>&lt;dbl&gt;</th><th scope=col>&lt;dbl&gt;</th><th scope=col>&lt;dbl&gt;</th><th scope=col>&lt;dbl&gt;</th></tr>\n",
       "</thead>\n",
       "<tbody>\n",
       "\t<tr><th scope=row>1</th><td>D35</td><td>CONTROL</td><td>NON_HF</td><td>NON_HF</td><td>NDM</td><td>20</td><td>male  </td><td>175.0</td><td>77.0</td><td>25.1</td><td>⋯</td><td>479</td><td> 65</td><td>  1</td><td>35</td><td>149</td><td>0</td><td> 0.1654396</td><td>-0.3470442</td><td>-0.4593617</td><td>-2.3804568</td></tr>\n",
       "\t<tr><th scope=row>2</th><td>D36</td><td>CONTROL</td><td>NON_HF</td><td>NON_HF</td><td>NDM</td><td>42</td><td>female</td><td>154.9</td><td>70.4</td><td>29.3</td><td>⋯</td><td>341</td><td>128</td><td>203</td><td>71</td><td>380</td><td>5</td><td>-1.2849828</td><td>-0.6857574</td><td> 0.4000232</td><td>-0.8551155</td></tr>\n",
       "</tbody>\n",
       "</table>\n"
      ],
      "text/latex": [
       "A data.frame: 2 × 25\n",
       "\\begin{tabular}{r|lllllllllllllllllllll}\n",
       "  & donor & condition & HF\\_status\\_base & HF\\_status & Diabetes\\_status & Age & Sex & Height & Weight & BMI & ⋯ & aCM & Lymphoid & Epicardial & Neuronal & SM & Adipocyte & Height.scaled & Weight.scaled & BMI.scaled & Age.scaled\\\\\n",
       "  & <chr> & <chr> & <chr> & <chr> & <chr> & <int> & <chr> & <dbl> & <dbl> & <dbl> & ⋯ & <int> & <int> & <int> & <int> & <int> & <int> & <dbl> & <dbl> & <dbl> & <dbl>\\\\\n",
       "\\hline\n",
       "\t1 & D35 & CONTROL & NON\\_HF & NON\\_HF & NDM & 20 & male   & 175.0 & 77.0 & 25.1 & ⋯ & 479 &  65 &   1 & 35 & 149 & 0 &  0.1654396 & -0.3470442 & -0.4593617 & -2.3804568\\\\\n",
       "\t2 & D36 & CONTROL & NON\\_HF & NON\\_HF & NDM & 42 & female & 154.9 & 70.4 & 29.3 & ⋯ & 341 & 128 & 203 & 71 & 380 & 5 & -1.2849828 & -0.6857574 &  0.4000232 & -0.8551155\\\\\n",
       "\\end{tabular}\n"
      ],
      "text/markdown": [
       "\n",
       "A data.frame: 2 × 25\n",
       "\n",
       "| <!--/--> | donor &lt;chr&gt; | condition &lt;chr&gt; | HF_status_base &lt;chr&gt; | HF_status &lt;chr&gt; | Diabetes_status &lt;chr&gt; | Age &lt;int&gt; | Sex &lt;chr&gt; | Height &lt;dbl&gt; | Weight &lt;dbl&gt; | BMI &lt;dbl&gt; | ⋯ ⋯ | aCM &lt;int&gt; | Lymphoid &lt;int&gt; | Epicardial &lt;int&gt; | Neuronal &lt;int&gt; | SM &lt;int&gt; | Adipocyte &lt;int&gt; | Height.scaled &lt;dbl&gt; | Weight.scaled &lt;dbl&gt; | BMI.scaled &lt;dbl&gt; | Age.scaled &lt;dbl&gt; |\n",
       "|---|---|---|---|---|---|---|---|---|---|---|---|---|---|---|---|---|---|---|---|---|---|\n",
       "| 1 | D35 | CONTROL | NON_HF | NON_HF | NDM | 20 | male   | 175.0 | 77.0 | 25.1 | ⋯ | 479 |  65 |   1 | 35 | 149 | 0 |  0.1654396 | -0.3470442 | -0.4593617 | -2.3804568 |\n",
       "| 2 | D36 | CONTROL | NON_HF | NON_HF | NDM | 42 | female | 154.9 | 70.4 | 29.3 | ⋯ | 341 | 128 | 203 | 71 | 380 | 5 | -1.2849828 | -0.6857574 |  0.4000232 | -0.8551155 |\n",
       "\n"
      ],
      "text/plain": [
       "  donor condition HF_status_base HF_status Diabetes_status Age Sex    Height\n",
       "1 D35   CONTROL   NON_HF         NON_HF    NDM             20  male   175.0 \n",
       "2 D36   CONTROL   NON_HF         NON_HF    NDM             42  female 154.9 \n",
       "  Weight BMI  ⋯ aCM Lymphoid Epicardial Neuronal SM  Adipocyte Height.scaled\n",
       "1 77.0   25.1 ⋯ 479  65        1        35       149 0          0.1654396   \n",
       "2 70.4   29.3 ⋯ 341 128      203        71       380 5         -1.2849828   \n",
       "  Weight.scaled BMI.scaled Age.scaled\n",
       "1 -0.3470442    -0.4593617 -2.3804568\n",
       "2 -0.6857574     0.4000232 -0.8551155"
      ]
     },
     "metadata": {},
     "output_type": "display_data"
    },
    {
     "data": {
      "text/html": [
       "<style>\n",
       ".list-inline {list-style: none; margin:0; padding: 0}\n",
       ".list-inline>li {display: inline-block}\n",
       ".list-inline>li:not(:last-child)::after {content: \"\\00b7\"; padding: 0 .5ex}\n",
       "</style>\n",
       "<ol class=list-inline><li>'donor'</li><li>'condition'</li><li>'HF_status_base'</li><li>'HF_status'</li><li>'Diabetes_status'</li><li>'Age'</li><li>'Sex'</li><li>'Height'</li><li>'Weight'</li><li>'BMI'</li><li>'Fibroblast'</li><li>'Myeloid'</li><li>'Pericyte'</li><li>'Endocardial'</li><li>'Endothelial'</li><li>'aCM'</li><li>'Lymphoid'</li><li>'Epicardial'</li><li>'Neuronal'</li><li>'SM'</li><li>'Adipocyte'</li><li>'Height.scaled'</li><li>'Weight.scaled'</li><li>'BMI.scaled'</li><li>'Age.scaled'</li></ol>\n"
      ],
      "text/latex": [
       "\\begin{enumerate*}\n",
       "\\item 'donor'\n",
       "\\item 'condition'\n",
       "\\item 'HF\\_status\\_base'\n",
       "\\item 'HF\\_status'\n",
       "\\item 'Diabetes\\_status'\n",
       "\\item 'Age'\n",
       "\\item 'Sex'\n",
       "\\item 'Height'\n",
       "\\item 'Weight'\n",
       "\\item 'BMI'\n",
       "\\item 'Fibroblast'\n",
       "\\item 'Myeloid'\n",
       "\\item 'Pericyte'\n",
       "\\item 'Endocardial'\n",
       "\\item 'Endothelial'\n",
       "\\item 'aCM'\n",
       "\\item 'Lymphoid'\n",
       "\\item 'Epicardial'\n",
       "\\item 'Neuronal'\n",
       "\\item 'SM'\n",
       "\\item 'Adipocyte'\n",
       "\\item 'Height.scaled'\n",
       "\\item 'Weight.scaled'\n",
       "\\item 'BMI.scaled'\n",
       "\\item 'Age.scaled'\n",
       "\\end{enumerate*}\n"
      ],
      "text/markdown": [
       "1. 'donor'\n",
       "2. 'condition'\n",
       "3. 'HF_status_base'\n",
       "4. 'HF_status'\n",
       "5. 'Diabetes_status'\n",
       "6. 'Age'\n",
       "7. 'Sex'\n",
       "8. 'Height'\n",
       "9. 'Weight'\n",
       "10. 'BMI'\n",
       "11. 'Fibroblast'\n",
       "12. 'Myeloid'\n",
       "13. 'Pericyte'\n",
       "14. 'Endocardial'\n",
       "15. 'Endothelial'\n",
       "16. 'aCM'\n",
       "17. 'Lymphoid'\n",
       "18. 'Epicardial'\n",
       "19. 'Neuronal'\n",
       "20. 'SM'\n",
       "21. 'Adipocyte'\n",
       "22. 'Height.scaled'\n",
       "23. 'Weight.scaled'\n",
       "24. 'BMI.scaled'\n",
       "25. 'Age.scaled'\n",
       "\n",
       "\n"
      ],
      "text/plain": [
       " [1] \"donor\"           \"condition\"       \"HF_status_base\"  \"HF_status\"      \n",
       " [5] \"Diabetes_status\" \"Age\"             \"Sex\"             \"Height\"         \n",
       " [9] \"Weight\"          \"BMI\"             \"Fibroblast\"      \"Myeloid\"        \n",
       "[13] \"Pericyte\"        \"Endocardial\"     \"Endothelial\"     \"aCM\"            \n",
       "[17] \"Lymphoid\"        \"Epicardial\"      \"Neuronal\"        \"SM\"             \n",
       "[21] \"Adipocyte\"       \"Height.scaled\"   \"Weight.scaled\"   \"BMI.scaled\"     \n",
       "[25] \"Age.scaled\"     "
      ]
     },
     "metadata": {},
     "output_type": "display_data"
    }
   ],
   "source": [
    "meta = read.table(paste(assets.dir, \"multiome_metadata_LA_cellnumbers.txt\", sep = \"\"))\n",
    "head(meta, n = 2)\n",
    "meta$Age.scaled = scale(meta$Age)\n",
    "colnames(meta)\n",
    "\n",
    "meta$HF_status = meta$HF_status_base"
   ]
  },
  {
   "cell_type": "code",
   "execution_count": 10,
   "id": "82d70e0c",
   "metadata": {},
   "outputs": [],
   "source": [
    "#Pseudobulk matrices directory\n",
    "dir <- counts.dir\n",
    "#Create outdir for results\n",
    "outdir <- DESEQ.dir\n",
    "# dir.create(outdir)\n",
    "#Get list of pseudobulk files\n",
    "files <- list.files(dir, pattern='_perdonor.ATAC.counts')\n",
    "#Cut off file suffices to get celltype names\n",
    "cells <- gsub('_perdonor.ATAC.counts','', files) "
   ]
  },
  {
   "cell_type": "code",
   "execution_count": 11,
   "id": "deac6546",
   "metadata": {},
   "outputs": [
    {
     "data": {
      "text/html": [
       "<style>\n",
       ".list-inline {list-style: none; margin:0; padding: 0}\n",
       ".list-inline>li {display: inline-block}\n",
       ".list-inline>li:not(:last-child)::after {content: \"\\00b7\"; padding: 0 .5ex}\n",
       "</style>\n",
       "<ol class=list-inline><li>'aCM_perdonor.ATAC.counts'</li><li>'Adipocyte_perdonor.ATAC.counts'</li><li>'Endocardial_perdonor.ATAC.counts'</li><li>'Endothelial_perdonor.ATAC.counts'</li><li>'Epicardial_perdonor.ATAC.counts'</li><li>'Fibroblast_perdonor.ATAC.counts'</li><li>'Lymphoid_perdonor.ATAC.counts'</li><li>'Myeloid_perdonor.ATAC.counts'</li><li>'Neuronal_perdonor.ATAC.counts'</li><li>'Pericyte_perdonor.ATAC.counts'</li><li>'SM_perdonor.ATAC.counts'</li><li>'vCM_perdonor.ATAC.counts'</li></ol>\n"
      ],
      "text/latex": [
       "\\begin{enumerate*}\n",
       "\\item 'aCM\\_perdonor.ATAC.counts'\n",
       "\\item 'Adipocyte\\_perdonor.ATAC.counts'\n",
       "\\item 'Endocardial\\_perdonor.ATAC.counts'\n",
       "\\item 'Endothelial\\_perdonor.ATAC.counts'\n",
       "\\item 'Epicardial\\_perdonor.ATAC.counts'\n",
       "\\item 'Fibroblast\\_perdonor.ATAC.counts'\n",
       "\\item 'Lymphoid\\_perdonor.ATAC.counts'\n",
       "\\item 'Myeloid\\_perdonor.ATAC.counts'\n",
       "\\item 'Neuronal\\_perdonor.ATAC.counts'\n",
       "\\item 'Pericyte\\_perdonor.ATAC.counts'\n",
       "\\item 'SM\\_perdonor.ATAC.counts'\n",
       "\\item 'vCM\\_perdonor.ATAC.counts'\n",
       "\\end{enumerate*}\n"
      ],
      "text/markdown": [
       "1. 'aCM_perdonor.ATAC.counts'\n",
       "2. 'Adipocyte_perdonor.ATAC.counts'\n",
       "3. 'Endocardial_perdonor.ATAC.counts'\n",
       "4. 'Endothelial_perdonor.ATAC.counts'\n",
       "5. 'Epicardial_perdonor.ATAC.counts'\n",
       "6. 'Fibroblast_perdonor.ATAC.counts'\n",
       "7. 'Lymphoid_perdonor.ATAC.counts'\n",
       "8. 'Myeloid_perdonor.ATAC.counts'\n",
       "9. 'Neuronal_perdonor.ATAC.counts'\n",
       "10. 'Pericyte_perdonor.ATAC.counts'\n",
       "11. 'SM_perdonor.ATAC.counts'\n",
       "12. 'vCM_perdonor.ATAC.counts'\n",
       "\n",
       "\n"
      ],
      "text/plain": [
       " [1] \"aCM_perdonor.ATAC.counts\"         \"Adipocyte_perdonor.ATAC.counts\"  \n",
       " [3] \"Endocardial_perdonor.ATAC.counts\" \"Endothelial_perdonor.ATAC.counts\"\n",
       " [5] \"Epicardial_perdonor.ATAC.counts\"  \"Fibroblast_perdonor.ATAC.counts\" \n",
       " [7] \"Lymphoid_perdonor.ATAC.counts\"    \"Myeloid_perdonor.ATAC.counts\"    \n",
       " [9] \"Neuronal_perdonor.ATAC.counts\"    \"Pericyte_perdonor.ATAC.counts\"   \n",
       "[11] \"SM_perdonor.ATAC.counts\"          \"vCM_perdonor.ATAC.counts\"        "
      ]
     },
     "metadata": {},
     "output_type": "display_data"
    },
    {
     "data": {
      "text/html": [
       "<style>\n",
       ".list-inline {list-style: none; margin:0; padding: 0}\n",
       ".list-inline>li {display: inline-block}\n",
       ".list-inline>li:not(:last-child)::after {content: \"\\00b7\"; padding: 0 .5ex}\n",
       "</style>\n",
       "<ol class=list-inline><li>'aCM'</li><li>'Adipocyte'</li><li>'Endocardial'</li><li>'Endothelial'</li><li>'Epicardial'</li><li>'Fibroblast'</li><li>'Lymphoid'</li><li>'Myeloid'</li><li>'Neuronal'</li><li>'Pericyte'</li><li>'SM'</li><li>'vCM'</li></ol>\n"
      ],
      "text/latex": [
       "\\begin{enumerate*}\n",
       "\\item 'aCM'\n",
       "\\item 'Adipocyte'\n",
       "\\item 'Endocardial'\n",
       "\\item 'Endothelial'\n",
       "\\item 'Epicardial'\n",
       "\\item 'Fibroblast'\n",
       "\\item 'Lymphoid'\n",
       "\\item 'Myeloid'\n",
       "\\item 'Neuronal'\n",
       "\\item 'Pericyte'\n",
       "\\item 'SM'\n",
       "\\item 'vCM'\n",
       "\\end{enumerate*}\n"
      ],
      "text/markdown": [
       "1. 'aCM'\n",
       "2. 'Adipocyte'\n",
       "3. 'Endocardial'\n",
       "4. 'Endothelial'\n",
       "5. 'Epicardial'\n",
       "6. 'Fibroblast'\n",
       "7. 'Lymphoid'\n",
       "8. 'Myeloid'\n",
       "9. 'Neuronal'\n",
       "10. 'Pericyte'\n",
       "11. 'SM'\n",
       "12. 'vCM'\n",
       "\n",
       "\n"
      ],
      "text/plain": [
       " [1] \"aCM\"         \"Adipocyte\"   \"Endocardial\" \"Endothelial\" \"Epicardial\" \n",
       " [6] \"Fibroblast\"  \"Lymphoid\"    \"Myeloid\"     \"Neuronal\"    \"Pericyte\"   \n",
       "[11] \"SM\"          \"vCM\"        "
      ]
     },
     "metadata": {},
     "output_type": "display_data"
    }
   ],
   "source": [
    "files\n",
    "cells"
   ]
  },
  {
   "cell_type": "code",
   "execution_count": 12,
   "id": "a85c99a2",
   "metadata": {},
   "outputs": [],
   "source": [
    "# List your contrasts  \n",
    "conditions.1 = c(\"HF\") # disease\n",
    "conditions.2 = c(\"NON_HF\") # control\n",
    "contrasts = c(paste0(conditions.1, \"_vs_\", conditions.2))\n",
    "\n",
    "# Write your formual\n",
    "deseq.formula <- as.formula('~ Sex + HF_status') # last variable is the testing variable"
   ]
  },
  {
   "cell_type": "code",
   "execution_count": 13,
   "id": "d7687b85",
   "metadata": {
    "scrolled": true
   },
   "outputs": [
    {
     "name": "stdout",
     "output_type": "stream",
     "text": [
      "[1] \"Analyzing: aCM\"\n"
     ]
    },
    {
     "name": "stderr",
     "output_type": "stream",
     "text": [
      "Donors detectected with celltype: 30\n",
      "\n",
      "subsetting metadata accordingly - Check that value is equal to above: 30\n",
      "\n",
      "  - HF_vs_NON_HF\n",
      "\n",
      "converting counts to integer mode\n",
      "\n",
      "estimating size factors\n",
      "\n",
      "estimating dispersions\n",
      "\n",
      "gene-wise dispersion estimates\n",
      "\n",
      "mean-dispersion relationship\n",
      "\n",
      "final dispersion estimates\n",
      "\n",
      "fitting model and testing\n",
      "\n",
      "-- replacing outliers and refitting for 131 genes\n",
      "-- DESeq argument 'minReplicatesForReplace' = 7 \n",
      "-- original counts are preserved in counts(dds)\n",
      "\n",
      "estimating dispersions\n",
      "\n",
      "fitting model and testing\n",
      "\n",
      "\u001b[1m\u001b[22mJoining with `by = join_by(SYMBOL)`\n"
     ]
    },
    {
     "name": "stdout",
     "output_type": "stream",
     "text": [
      "[1] \"Analyzing: Adipocyte\"\n"
     ]
    },
    {
     "name": "stderr",
     "output_type": "stream",
     "text": [
      "Donors detectected with celltype: 30\n",
      "\n",
      "subsetting metadata accordingly - Check that value is equal to above: 30\n",
      "\n",
      "  - HF_vs_NON_HF\n",
      "\n",
      "converting counts to integer mode\n",
      "\n",
      "estimating size factors\n",
      "\n",
      "estimating dispersions\n",
      "\n",
      "gene-wise dispersion estimates\n",
      "\n",
      "mean-dispersion relationship\n",
      "\n",
      "-- note: fitType='parametric', but the dispersion trend was not well captured by the\n",
      "   function: y = a/x + b, and a local regression fit was automatically substituted.\n",
      "   specify fitType='local' or 'mean' to avoid this message next time.\n",
      "\n",
      "final dispersion estimates\n",
      "\n",
      "fitting model and testing\n",
      "\n",
      "-- replacing outliers and refitting for 127 genes\n",
      "-- DESeq argument 'minReplicatesForReplace' = 7 \n",
      "-- original counts are preserved in counts(dds)\n",
      "\n",
      "estimating dispersions\n",
      "\n",
      "fitting model and testing\n",
      "\n",
      "\u001b[1m\u001b[22mJoining with `by = join_by(SYMBOL)`\n"
     ]
    },
    {
     "name": "stdout",
     "output_type": "stream",
     "text": [
      "[1] \"Analyzing: Endocardial\"\n"
     ]
    },
    {
     "name": "stderr",
     "output_type": "stream",
     "text": [
      "Donors detectected with celltype: 30\n",
      "\n",
      "subsetting metadata accordingly - Check that value is equal to above: 30\n",
      "\n",
      "  - HF_vs_NON_HF\n",
      "\n",
      "converting counts to integer mode\n",
      "\n",
      "estimating size factors\n",
      "\n",
      "estimating dispersions\n",
      "\n",
      "gene-wise dispersion estimates\n",
      "\n",
      "mean-dispersion relationship\n",
      "\n",
      "-- note: fitType='parametric', but the dispersion trend was not well captured by the\n",
      "   function: y = a/x + b, and a local regression fit was automatically substituted.\n",
      "   specify fitType='local' or 'mean' to avoid this message next time.\n",
      "\n",
      "final dispersion estimates\n",
      "\n",
      "fitting model and testing\n",
      "\n",
      "-- replacing outliers and refitting for 94 genes\n",
      "-- DESeq argument 'minReplicatesForReplace' = 7 \n",
      "-- original counts are preserved in counts(dds)\n",
      "\n",
      "estimating dispersions\n",
      "\n",
      "fitting model and testing\n",
      "\n",
      "\u001b[1m\u001b[22mJoining with `by = join_by(SYMBOL)`\n"
     ]
    },
    {
     "name": "stdout",
     "output_type": "stream",
     "text": [
      "[1] \"Analyzing: Endothelial\"\n"
     ]
    },
    {
     "name": "stderr",
     "output_type": "stream",
     "text": [
      "Donors detectected with celltype: 30\n",
      "\n",
      "subsetting metadata accordingly - Check that value is equal to above: 30\n",
      "\n",
      "  - HF_vs_NON_HF\n",
      "\n",
      "converting counts to integer mode\n",
      "\n",
      "estimating size factors\n",
      "\n",
      "estimating dispersions\n",
      "\n",
      "gene-wise dispersion estimates\n",
      "\n",
      "mean-dispersion relationship\n",
      "\n",
      "final dispersion estimates\n",
      "\n",
      "fitting model and testing\n",
      "\n",
      "-- replacing outliers and refitting for 74 genes\n",
      "-- DESeq argument 'minReplicatesForReplace' = 7 \n",
      "-- original counts are preserved in counts(dds)\n",
      "\n",
      "estimating dispersions\n",
      "\n",
      "fitting model and testing\n",
      "\n",
      "\u001b[1m\u001b[22mJoining with `by = join_by(SYMBOL)`\n"
     ]
    },
    {
     "name": "stdout",
     "output_type": "stream",
     "text": [
      "[1] \"Analyzing: Epicardial\"\n"
     ]
    },
    {
     "name": "stderr",
     "output_type": "stream",
     "text": [
      "Donors detectected with celltype: 28\n",
      "\n",
      "subsetting metadata accordingly - Check that value is equal to above: 28\n",
      "\n",
      "  - HF_vs_NON_HF\n",
      "\n",
      "converting counts to integer mode\n",
      "\n",
      "estimating size factors\n",
      "\n",
      "Error in DESeq2 processing for Epicardial HF_vs_NON_HF: every gene contains at least one zero, cannot compute log geometric means\n",
      "\n"
     ]
    },
    {
     "name": "stdout",
     "output_type": "stream",
     "text": [
      "[1] \"Analyzing: Fibroblast\"\n"
     ]
    },
    {
     "name": "stderr",
     "output_type": "stream",
     "text": [
      "Donors detectected with celltype: 30\n",
      "\n",
      "subsetting metadata accordingly - Check that value is equal to above: 30\n",
      "\n",
      "  - HF_vs_NON_HF\n",
      "\n",
      "converting counts to integer mode\n",
      "\n",
      "estimating size factors\n",
      "\n",
      "estimating dispersions\n",
      "\n",
      "gene-wise dispersion estimates\n",
      "\n",
      "mean-dispersion relationship\n",
      "\n",
      "final dispersion estimates\n",
      "\n",
      "fitting model and testing\n",
      "\n",
      "-- replacing outliers and refitting for 42 genes\n",
      "-- DESeq argument 'minReplicatesForReplace' = 7 \n",
      "-- original counts are preserved in counts(dds)\n",
      "\n",
      "estimating dispersions\n",
      "\n",
      "fitting model and testing\n",
      "\n",
      "\u001b[1m\u001b[22mJoining with `by = join_by(SYMBOL)`\n"
     ]
    },
    {
     "name": "stdout",
     "output_type": "stream",
     "text": [
      "[1] \"Analyzing: Lymphoid\"\n"
     ]
    },
    {
     "name": "stderr",
     "output_type": "stream",
     "text": [
      "Donors detectected with celltype: 30\n",
      "\n",
      "subsetting metadata accordingly - Check that value is equal to above: 30\n",
      "\n",
      "  - HF_vs_NON_HF\n",
      "\n",
      "converting counts to integer mode\n",
      "\n",
      "estimating size factors\n",
      "\n",
      "estimating dispersions\n",
      "\n",
      "gene-wise dispersion estimates\n",
      "\n",
      "mean-dispersion relationship\n",
      "\n",
      "final dispersion estimates\n",
      "\n",
      "fitting model and testing\n",
      "\n",
      "-- replacing outliers and refitting for 9 genes\n",
      "-- DESeq argument 'minReplicatesForReplace' = 7 \n",
      "-- original counts are preserved in counts(dds)\n",
      "\n",
      "estimating dispersions\n",
      "\n",
      "fitting model and testing\n",
      "\n",
      "\u001b[1m\u001b[22mJoining with `by = join_by(SYMBOL)`\n"
     ]
    },
    {
     "name": "stdout",
     "output_type": "stream",
     "text": [
      "[1] \"Analyzing: Myeloid\"\n"
     ]
    },
    {
     "name": "stderr",
     "output_type": "stream",
     "text": [
      "Donors detectected with celltype: 30\n",
      "\n",
      "subsetting metadata accordingly - Check that value is equal to above: 30\n",
      "\n",
      "  - HF_vs_NON_HF\n",
      "\n",
      "converting counts to integer mode\n",
      "\n",
      "estimating size factors\n",
      "\n",
      "estimating dispersions\n",
      "\n",
      "gene-wise dispersion estimates\n",
      "\n",
      "mean-dispersion relationship\n",
      "\n",
      "final dispersion estimates\n",
      "\n",
      "fitting model and testing\n",
      "\n",
      "-- replacing outliers and refitting for 8 genes\n",
      "-- DESeq argument 'minReplicatesForReplace' = 7 \n",
      "-- original counts are preserved in counts(dds)\n",
      "\n",
      "estimating dispersions\n",
      "\n",
      "fitting model and testing\n",
      "\n",
      "\u001b[1m\u001b[22mJoining with `by = join_by(SYMBOL)`\n"
     ]
    },
    {
     "name": "stdout",
     "output_type": "stream",
     "text": [
      "[1] \"Analyzing: Neuronal\"\n"
     ]
    },
    {
     "name": "stderr",
     "output_type": "stream",
     "text": [
      "Donors detectected with celltype: 30\n",
      "\n",
      "subsetting metadata accordingly - Check that value is equal to above: 30\n",
      "\n",
      "  - HF_vs_NON_HF\n",
      "\n",
      "converting counts to integer mode\n",
      "\n",
      "estimating size factors\n",
      "\n",
      "estimating dispersions\n",
      "\n",
      "gene-wise dispersion estimates\n",
      "\n",
      "mean-dispersion relationship\n",
      "\n",
      "-- note: fitType='parametric', but the dispersion trend was not well captured by the\n",
      "   function: y = a/x + b, and a local regression fit was automatically substituted.\n",
      "   specify fitType='local' or 'mean' to avoid this message next time.\n",
      "\n",
      "final dispersion estimates\n",
      "\n",
      "fitting model and testing\n",
      "\n",
      "-- replacing outliers and refitting for 4 genes\n",
      "-- DESeq argument 'minReplicatesForReplace' = 7 \n",
      "-- original counts are preserved in counts(dds)\n",
      "\n",
      "estimating dispersions\n",
      "\n",
      "fitting model and testing\n",
      "\n",
      "\u001b[1m\u001b[22mJoining with `by = join_by(SYMBOL)`\n"
     ]
    },
    {
     "name": "stdout",
     "output_type": "stream",
     "text": [
      "[1] \"Analyzing: Pericyte\"\n"
     ]
    },
    {
     "name": "stderr",
     "output_type": "stream",
     "text": [
      "Donors detectected with celltype: 30\n",
      "\n",
      "subsetting metadata accordingly - Check that value is equal to above: 30\n",
      "\n",
      "  - HF_vs_NON_HF\n",
      "\n",
      "converting counts to integer mode\n",
      "\n",
      "estimating size factors\n",
      "\n",
      "estimating dispersions\n",
      "\n",
      "gene-wise dispersion estimates\n",
      "\n",
      "mean-dispersion relationship\n",
      "\n",
      "final dispersion estimates\n",
      "\n",
      "fitting model and testing\n",
      "\n",
      "-- replacing outliers and refitting for 5 genes\n",
      "-- DESeq argument 'minReplicatesForReplace' = 7 \n",
      "-- original counts are preserved in counts(dds)\n",
      "\n",
      "estimating dispersions\n",
      "\n",
      "fitting model and testing\n",
      "\n",
      "\u001b[1m\u001b[22mJoining with `by = join_by(SYMBOL)`\n"
     ]
    },
    {
     "name": "stdout",
     "output_type": "stream",
     "text": [
      "[1] \"Analyzing: SM\"\n"
     ]
    },
    {
     "name": "stderr",
     "output_type": "stream",
     "text": [
      "Donors detectected with celltype: 30\n",
      "\n",
      "subsetting metadata accordingly - Check that value is equal to above: 30\n",
      "\n",
      "  - HF_vs_NON_HF\n",
      "\n",
      "converting counts to integer mode\n",
      "\n",
      "estimating size factors\n",
      "\n",
      "estimating dispersions\n",
      "\n",
      "gene-wise dispersion estimates\n",
      "\n",
      "mean-dispersion relationship\n",
      "\n",
      "-- note: fitType='parametric', but the dispersion trend was not well captured by the\n",
      "   function: y = a/x + b, and a local regression fit was automatically substituted.\n",
      "   specify fitType='local' or 'mean' to avoid this message next time.\n",
      "\n",
      "final dispersion estimates\n",
      "\n",
      "fitting model and testing\n",
      "\n",
      "-- replacing outliers and refitting for 13 genes\n",
      "-- DESeq argument 'minReplicatesForReplace' = 7 \n",
      "-- original counts are preserved in counts(dds)\n",
      "\n",
      "estimating dispersions\n",
      "\n",
      "fitting model and testing\n",
      "\n",
      "\u001b[1m\u001b[22mJoining with `by = join_by(SYMBOL)`\n"
     ]
    },
    {
     "name": "stdout",
     "output_type": "stream",
     "text": [
      "[1] \"Analyzing: vCM\"\n"
     ]
    },
    {
     "name": "stderr",
     "output_type": "stream",
     "text": [
      "Donors detectected with celltype: 30\n",
      "\n",
      "subsetting metadata accordingly - Check that value is equal to above: 30\n",
      "\n",
      "  - HF_vs_NON_HF\n",
      "\n",
      "converting counts to integer mode\n",
      "\n",
      "estimating size factors\n",
      "\n",
      "estimating dispersions\n",
      "\n",
      "gene-wise dispersion estimates\n",
      "\n",
      "mean-dispersion relationship\n",
      "\n",
      "final dispersion estimates\n",
      "\n",
      "fitting model and testing\n",
      "\n",
      "-- replacing outliers and refitting for 60 genes\n",
      "-- DESeq argument 'minReplicatesForReplace' = 7 \n",
      "-- original counts are preserved in counts(dds)\n",
      "\n",
      "estimating dispersions\n",
      "\n",
      "fitting model and testing\n",
      "\n",
      "\u001b[1m\u001b[22mJoining with `by = join_by(SYMBOL)`\n"
     ]
    }
   ],
   "source": [
    "deseq.stats = NULL\n",
    "\n",
    "for (i in seq_along(files)) {\n",
    "    file.use = files[i]\n",
    "    cell.use = cells[i]\n",
    "    print(paste0(\"Analyzing: \", cell.use))\n",
    "    raw_counts <- read.table(paste0(dir, file.use), header = TRUE, row.names = 1)\n",
    "    # Filter for only samples with any counts in the cell type\n",
    "    raw_counts = raw_counts[, (colSums(raw_counts != 0) > 0)]\n",
    "    message(\"Donors detectected with celltype: \", ncol(raw_counts))\n",
    "    meta_cell <- subset(meta, donor %in% colnames(raw_counts))\n",
    "    rownames(meta_cell) = meta_cell$donor\n",
    "    message(\"subsetting metadata accordingly - Check that value is equal to above: \", nrow(meta_cell))\n",
    "    # Ensure that the column names of raw_counts are in the same order as the library identifiers in meta_cell\n",
    "    meta_cell <- meta_cell[match(colnames(raw_counts), rownames(meta_cell)), ]\n",
    "    \n",
    "    for (c.i in seq_along(contrasts)) {\n",
    "        contrast.use = contrasts[c.i]\n",
    "        condition.1 = conditions.1[c.i]\n",
    "        condition.2 = conditions.2[c.i]\n",
    "        message(\"  - \", contrast.use)\n",
    "\n",
    "        # Create vectors of samples for each condition\n",
    "        samples.condition.1 <- meta_cell %>% \n",
    "                               dplyr::filter(HF_status %in% condition.1) %>% \n",
    "                               pull(donor)\n",
    "        samples.condition.2 <- meta_cell %>% \n",
    "                               dplyr::filter(HF_status %in% condition.2) %>% \n",
    "                               pull(donor)\n",
    "        \n",
    "        # Subset meta_cell for the current contrast\n",
    "        meta_cell.use <- meta_cell %>% \n",
    "                     dplyr::filter(donor %in% c(samples.condition.1, samples.condition.2)) \n",
    "        rownames(meta_cell.use) <- meta_cell.use$donor\n",
    "        \n",
    "        # Subset raw_counts for the donors in meta_cell\n",
    "        raw_counts_subset <- raw_counts[, colnames(raw_counts) %in% rownames(meta_cell.use)]\n",
    "\n",
    "        # Ensure that the column names of raw_counts are in the same order as the library identifiers in meta_cell\n",
    "        meta_cell.use <- meta_cell.use[match(colnames(raw_counts_subset), rownames(meta_cell.use)), ]\n",
    "        \n",
    "        # Check if enough samples are present for both conditions\n",
    "        if (length(unique(meta_cell$HF_status)) >= 2) {\n",
    "            tryCatch({\n",
    "            deseq.stats.tmp <- data.frame()\n",
    "            # Light pre-filtering\n",
    "            counts_filtered <- raw_counts_subset[rowSums(raw_counts_subset) >= 10,]\n",
    "\n",
    "            # Run DESeq2\n",
    "            dds <- DESeqDataSetFromMatrix(countData = round(counts_filtered),\n",
    "                                          colData = meta_cell.use, \n",
    "                                          design = deseq.formula)\n",
    "            dds$HF_status <- relevel(dds$HF_status, ref = condition.2)\n",
    "            dds <- DESeq(dds)\n",
    "            dds.results <- results(dds)\n",
    "            dds.results <- na.omit(dds.results[order(dds.results$padj), ])\n",
    "\n",
    "            # Write DESeq results to file\n",
    "            write.table(dds.results, \n",
    "                        file = paste0(outdir, cell.use, \"_\", contrast.use, \".dds.res\"), \n",
    "                        sep = '\\t', quote = FALSE)\n",
    "            \n",
    "            # Collect summary statistics\n",
    "            deseq.stats.tmp <- data.frame(\n",
    "                celltype = cell.use,\n",
    "                contrast = contrast.use,\n",
    "                up_pval = sum(dds.results$log2FoldChange > 0 & dds.results$pvalue < 0.05),\n",
    "                down_pval = sum(dds.results$log2FoldChange < 0 & dds.results$pvalue < 0.05),\n",
    "                up_padj = sum(dds.results$log2FoldChange > 0 & dds.results$padj < 0.1),\n",
    "                down_padj = sum(dds.results$log2FoldChange < 0 & dds.results$padj < 0.1))\n",
    "                deseq.stats <- rbind(deseq.stats, deseq.stats.tmp)\n",
    "\n",
    "                           # Make Volcano plot - Padj\n",
    "                            res = as.data.frame(dds.results)\n",
    "                            res$SYMBOL = rownames(res)\n",
    "                            res = res %>%\n",
    "                            dplyr::filter(!is.na(SYMBOL)) %>%\n",
    "                            dplyr::filter(padj < 0.1) %>%\n",
    "                            dplyr::group_by(sign(log2FoldChange)) %>%\n",
    "                            dplyr::mutate(rank = abs(log2FoldChange) * -log10(padj)) %>%\n",
    "                            dplyr::top_n(50, rank) %>%\n",
    "                            dplyr::mutate(delabel = SYMBOL) %>%\n",
    "                            ungroup() %>%\n",
    "                            dplyr::select(delabel, SYMBOL) %>%\n",
    "                            right_join(res) %>%\n",
    "                            dplyr::mutate(delabel = if_else(is.na(delabel), \"\", as.character(delabel))) \n",
    "\n",
    "                            # Add a new column for color based on significance and direction\n",
    "                            res$changes <- ifelse(res$log2FoldChange > 0 & res$padj < 0.1, \"Up-regulated\",\n",
    "                                                ifelse(res$log2FoldChange < 0 & res$padj < 0.1, \"Down-regulated\", \"NS\"))\n",
    "                            # Get the number of upregulated and downregulated genes\n",
    "                            n_up <- sum(res$changes == \"Up-regulated\")\n",
    "                            n_down <- sum(res$changes == \"Down-regulated\")\n",
    "\n",
    "                            # Modify log2FoldChange values to be max x\n",
    "                            res$log2FoldChange[res$log2FoldChange > 10] <- 10\n",
    "                            res$log2FoldChange[res$log2FoldChange < -10] <- -10\n",
    "                            # Modify padj values to be max x \n",
    "                            res$padj[res$padj < 10^-200] <- 10^-200\n",
    "                    \n",
    "                            plot = ggplot(res, aes(x=log2FoldChange, y=-log10(padj), label=delabel, color=changes)) +\n",
    "                                theme_bw() +\n",
    "                                labs(y=\"-log10(padj)\", x=\"log2FoldChange\", \n",
    "                                   title=paste(cell.use, \" - \",\n",
    "                                               condition.1, \"Vs\", condition.2, \"\\n\",\n",
    "                                              \"Up: \", n_up, \"-\",\n",
    "                                               \"Down: \", n_down)) +\n",
    "                                geom_point() +\n",
    "                                scale_color_manual(values=c(\"blue\", \"grey\", \"red\")) + \n",
    "                                theme(axis.text=element_text(size=16), axis.title=element_text(size=16, face=\"bold\"),\n",
    "                                    axis.text.x=element_text(), plot.title=element_text(size=18, face=\"bold\", hjust=0.5)) +\n",
    "                                scale_x_continuous(breaks=c(-10, -5, 0, 5, 10),\n",
    "                                            labels=c(\"< -10\", \"-5\", \"0\", \"5\", \"> 10\"), lim = c(-10, 10))+\n",
    "                                scale_y_continuous(breaks=c(0, 20, 40, 60, 80, 100, 200),\n",
    "                                            labels=c(\"0\", \"20\", \"40\", \"60\", \"80\", \"100\", \">200\"))+\n",
    "                                geom_text_repel(label=res$delabel, size=3.5, max.overlaps=10,\n",
    "                                              point.padding=0, min.segment.length=0,\n",
    "                                              max.time=20, max.iter=1e5, box.padding=0.3)\n",
    "                    \n",
    "                            ggsave(filename = paste0(outdir, cell.use, \"_\", contrast.use, \".volcanoPlot.pdf\"),\n",
    "                                   height = 10, width = 10,\n",
    "                                   plot = plot, device = \"pdf\")\n",
    "            }, error = function(e) {\n",
    "                message(\"Error in DESeq2 processing for \", cell.use, \" \", contrast.use, \": \", e$message)\n",
    "            })\n",
    "        } else {\n",
    "            message(\"Not enough samples for contrast: \", contrast.use)\n",
    "        }\n",
    "    }\n",
    "}"
   ]
  },
  {
   "cell_type": "code",
   "execution_count": 14,
   "id": "b6d5de77",
   "metadata": {
    "scrolled": false
   },
   "outputs": [
    {
     "data": {
      "text/html": [
       "<table class=\"dataframe\">\n",
       "<caption>A data.frame: 11 × 6</caption>\n",
       "<thead>\n",
       "\t<tr><th scope=col>celltype</th><th scope=col>contrast</th><th scope=col>up_pval</th><th scope=col>down_pval</th><th scope=col>up_padj</th><th scope=col>down_padj</th></tr>\n",
       "\t<tr><th scope=col>&lt;chr&gt;</th><th scope=col>&lt;chr&gt;</th><th scope=col>&lt;int&gt;</th><th scope=col>&lt;int&gt;</th><th scope=col>&lt;int&gt;</th><th scope=col>&lt;int&gt;</th></tr>\n",
       "</thead>\n",
       "<tbody>\n",
       "\t<tr><td>aCM        </td><td>HF_vs_NON_HF</td><td>12027</td><td> 8630</td><td> 4556</td><td> 3247</td></tr>\n",
       "\t<tr><td>Adipocyte  </td><td>HF_vs_NON_HF</td><td>  576</td><td>  444</td><td>    0</td><td>    0</td></tr>\n",
       "\t<tr><td>Endocardial</td><td>HF_vs_NON_HF</td><td> 2404</td><td> 1631</td><td>  290</td><td>   86</td></tr>\n",
       "\t<tr><td>Endothelial</td><td>HF_vs_NON_HF</td><td> 5958</td><td> 4230</td><td> 2771</td><td> 1502</td></tr>\n",
       "\t<tr><td>Fibroblast </td><td>HF_vs_NON_HF</td><td>15682</td><td>16112</td><td>11522</td><td>12418</td></tr>\n",
       "\t<tr><td>Lymphoid   </td><td>HF_vs_NON_HF</td><td> 1028</td><td>  836</td><td>    7</td><td>   12</td></tr>\n",
       "\t<tr><td>Myeloid    </td><td>HF_vs_NON_HF</td><td> 6977</td><td> 7102</td><td> 3308</td><td> 3067</td></tr>\n",
       "\t<tr><td>Neuronal   </td><td>HF_vs_NON_HF</td><td> 1150</td><td>  753</td><td>  158</td><td>   87</td></tr>\n",
       "\t<tr><td>Pericyte   </td><td>HF_vs_NON_HF</td><td> 3638</td><td> 3147</td><td> 1237</td><td> 1201</td></tr>\n",
       "\t<tr><td>SM         </td><td>HF_vs_NON_HF</td><td>  919</td><td> 1029</td><td>   84</td><td>   74</td></tr>\n",
       "\t<tr><td>vCM        </td><td>HF_vs_NON_HF</td><td>24053</td><td>23733</td><td>18458</td><td>19750</td></tr>\n",
       "</tbody>\n",
       "</table>\n"
      ],
      "text/latex": [
       "A data.frame: 11 × 6\n",
       "\\begin{tabular}{llllll}\n",
       " celltype & contrast & up\\_pval & down\\_pval & up\\_padj & down\\_padj\\\\\n",
       " <chr> & <chr> & <int> & <int> & <int> & <int>\\\\\n",
       "\\hline\n",
       "\t aCM         & HF\\_vs\\_NON\\_HF & 12027 &  8630 &  4556 &  3247\\\\\n",
       "\t Adipocyte   & HF\\_vs\\_NON\\_HF &   576 &   444 &     0 &     0\\\\\n",
       "\t Endocardial & HF\\_vs\\_NON\\_HF &  2404 &  1631 &   290 &    86\\\\\n",
       "\t Endothelial & HF\\_vs\\_NON\\_HF &  5958 &  4230 &  2771 &  1502\\\\\n",
       "\t Fibroblast  & HF\\_vs\\_NON\\_HF & 15682 & 16112 & 11522 & 12418\\\\\n",
       "\t Lymphoid    & HF\\_vs\\_NON\\_HF &  1028 &   836 &     7 &    12\\\\\n",
       "\t Myeloid     & HF\\_vs\\_NON\\_HF &  6977 &  7102 &  3308 &  3067\\\\\n",
       "\t Neuronal    & HF\\_vs\\_NON\\_HF &  1150 &   753 &   158 &    87\\\\\n",
       "\t Pericyte    & HF\\_vs\\_NON\\_HF &  3638 &  3147 &  1237 &  1201\\\\\n",
       "\t SM          & HF\\_vs\\_NON\\_HF &   919 &  1029 &    84 &    74\\\\\n",
       "\t vCM         & HF\\_vs\\_NON\\_HF & 24053 & 23733 & 18458 & 19750\\\\\n",
       "\\end{tabular}\n"
      ],
      "text/markdown": [
       "\n",
       "A data.frame: 11 × 6\n",
       "\n",
       "| celltype &lt;chr&gt; | contrast &lt;chr&gt; | up_pval &lt;int&gt; | down_pval &lt;int&gt; | up_padj &lt;int&gt; | down_padj &lt;int&gt; |\n",
       "|---|---|---|---|---|---|\n",
       "| aCM         | HF_vs_NON_HF | 12027 |  8630 |  4556 |  3247 |\n",
       "| Adipocyte   | HF_vs_NON_HF |   576 |   444 |     0 |     0 |\n",
       "| Endocardial | HF_vs_NON_HF |  2404 |  1631 |   290 |    86 |\n",
       "| Endothelial | HF_vs_NON_HF |  5958 |  4230 |  2771 |  1502 |\n",
       "| Fibroblast  | HF_vs_NON_HF | 15682 | 16112 | 11522 | 12418 |\n",
       "| Lymphoid    | HF_vs_NON_HF |  1028 |   836 |     7 |    12 |\n",
       "| Myeloid     | HF_vs_NON_HF |  6977 |  7102 |  3308 |  3067 |\n",
       "| Neuronal    | HF_vs_NON_HF |  1150 |   753 |   158 |    87 |\n",
       "| Pericyte    | HF_vs_NON_HF |  3638 |  3147 |  1237 |  1201 |\n",
       "| SM          | HF_vs_NON_HF |   919 |  1029 |    84 |    74 |\n",
       "| vCM         | HF_vs_NON_HF | 24053 | 23733 | 18458 | 19750 |\n",
       "\n"
      ],
      "text/plain": [
       "   celltype    contrast     up_pval down_pval up_padj down_padj\n",
       "1  aCM         HF_vs_NON_HF 12027    8630      4556    3247    \n",
       "2  Adipocyte   HF_vs_NON_HF   576     444         0       0    \n",
       "3  Endocardial HF_vs_NON_HF  2404    1631       290      86    \n",
       "4  Endothelial HF_vs_NON_HF  5958    4230      2771    1502    \n",
       "5  Fibroblast  HF_vs_NON_HF 15682   16112     11522   12418    \n",
       "6  Lymphoid    HF_vs_NON_HF  1028     836         7      12    \n",
       "7  Myeloid     HF_vs_NON_HF  6977    7102      3308    3067    \n",
       "8  Neuronal    HF_vs_NON_HF  1150     753       158      87    \n",
       "9  Pericyte    HF_vs_NON_HF  3638    3147      1237    1201    \n",
       "10 SM          HF_vs_NON_HF   919    1029        84      74    \n",
       "11 vCM         HF_vs_NON_HF 24053   23733     18458   19750    "
      ]
     },
     "metadata": {},
     "output_type": "display_data"
    }
   ],
   "source": [
    "deseq.stats"
   ]
  },
  {
   "cell_type": "code",
   "execution_count": 15,
   "id": "f39a7aee",
   "metadata": {},
   "outputs": [
    {
     "data": {
      "image/png": "[encoded data removed]",
      "text/plain": [
       "plot without title"
      ]
     },
     "metadata": {
      "image/png": {
       "height": 900,
       "width": 360
      }
     },
     "output_type": "display_data"
    }
   ],
   "source": [
    "deseq.stats.plot = deseq.stats %>%\n",
    "                  dplyr::select(celltype, contrast, up_padj, down_padj) %>%\n",
    "                  pivot_longer(\n",
    "                    cols = c(up_padj, down_padj),\n",
    "                    names_to = \"direction\",\n",
    "                    names_pattern = \"([^_]+)_.*\", # Captures everything before the underscore\n",
    "                    values_to = \"degenes\") %>%\n",
    "                 dplyr::mutate(direction = factor(direction, levels = c(\"up\", \"down\")),\n",
    "                              contrast = factor(contrast, levels = contrasts)) %>%\n",
    "                 dplyr::mutate(degenes = if_else(direction == \"down\", -degenes, degenes))\n",
    "\n",
    "\n",
    "options(repr.plot.width=6, repr.plot.height=15)\n",
    "width = 1\n",
    "# Plot with dynamic text positioning based on the sign of degenes\n",
    "ggplot(deseq.stats.plot, aes(x = contrast, y = degenes, fill = direction, label = degenes)) +\n",
    "  geom_bar(stat = \"identity\", color = \"black\") +\n",
    "  scale_fill_manual(values = c(\"up\" = \"red\", \"down\" = \"blue\")) + \n",
    "  theme_bw() +\n",
    "  labs(title = \"LA\", x = \"\", y = \" \\n Differential CREs \\n \") +\n",
    "  ylim(-25000, 25000) +\n",
    "  theme(axis.text.x = element_text(angle = 90, hjust = 1),\n",
    "        legend.position = \"none\", \n",
    "        plot.title = element_text(hjust = 0.5, face = \"bold\", size = 16)) +  \n",
    "  geom_text(aes(hjust = ifelse(degenes > 0, -0.3, 1.3)),\n",
    "            size = 3) +\n",
    "  facet_nested(rows = vars(celltype), scales = \"free\", space = \"free\") +\n",
    "  coord_flip()"
   ]
  },
  {
   "cell_type": "code",
   "execution_count": 16,
   "id": "54b6b0c0",
   "metadata": {},
   "outputs": [],
   "source": [
    "write.table(deseq.stats, \n",
    "            paste0(outdir, \"HFnonHF_ResultsSummaries.tsv\"),\n",
    "           quote=F, col.names=T, row.names=T, sep='\\t')"
   ]
  },
  {
   "cell_type": "code",
   "execution_count": null,
   "id": "0e03b768",
   "metadata": {},
   "outputs": [],
   "source": []
  }
 ],
 "metadata": {
  "kernelspec": {
   "display_name": "Main_R_4.3",
   "language": "R",
   "name": "irs5"
  },
  "language_info": {
   "codemirror_mode": "r",
   "file_extension": ".r",
   "mimetype": "text/x-r-source",
   "name": "R",
   "pygments_lexer": "r",
   "version": "4.3.2"
  },
  "toc": {
   "base_numbering": 1,
   "nav_menu": {},
   "number_sections": true,
   "sideBar": true,
   "skip_h1_title": false,
   "title_cell": "Table of Contents",
   "title_sidebar": "Contents",
   "toc_cell": false,
   "toc_position": {
    "height": "calc(100% - 180px)",
    "left": "10px",
    "top": "150px",
    "width": "173.1875px"
   },
   "toc_section_display": true,
   "toc_window_display": true
  }
 },
 "nbformat": 4,
 "nbformat_minor": 5
}
