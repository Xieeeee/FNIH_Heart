{
 "cells": [
  {
   "cell_type": "markdown",
   "id": "e03da596",
   "metadata": {},
   "source": [
    "# Settings"
   ]
  },
  {
   "cell_type": "code",
   "execution_count": 1,
   "id": "88eb9a0a",
   "metadata": {
    "scrolled": true
   },
   "outputs": [
    {
     "data": {
      "text/html": [
       "TRUE"
      ],
      "text/latex": [
       "TRUE"
      ],
      "text/markdown": [
       "TRUE"
      ],
      "text/plain": [
       "[1] TRUE"
      ]
     },
     "metadata": {},
     "output_type": "display_data"
    },
    {
     "data": {
      "text/plain": [
       "Module(anndata)"
      ]
     },
     "metadata": {},
     "output_type": "display_data"
    },
    {
     "data": {
      "text/html": [
       "TRUE"
      ],
      "text/latex": [
       "TRUE"
      ],
      "text/markdown": [
       "TRUE"
      ],
      "text/plain": [
       "[1] TRUE"
      ]
     },
     "metadata": {},
     "output_type": "display_data"
    },
    {
     "data": {
      "text/plain": [
       "Module(leidenalg)"
      ]
     },
     "metadata": {},
     "output_type": "display_data"
    }
   ],
   "source": [
    "# Load Reticulate function\n",
    "Sys.setenv(RETICULATE_PYTHON=\"/home/luca/anaconda3/envs/reticulate/bin/python\")\n",
    "library(reticulate)\n",
    "reticulate::use_python(\"/home/luca/anaconda3/envs/reticulate/bin/python\")\n",
    "reticulate::use_condaenv(\"/home/luca/anaconda3/envs/reticulate\")\n",
    "reticulate::py_module_available(module='anndata') #needs to be TRUE\n",
    "reticulate::import('anndata') #good to make sure this doesn't error\n",
    "reticulate::py_module_available(module='leidenalg') #needs to be TRUE\n",
    "reticulate::import('leidenalg') #good to make sure this doesn't error"
   ]
  },
  {
   "cell_type": "code",
   "execution_count": 2,
   "id": "f6026c79",
   "metadata": {},
   "outputs": [],
   "source": [
    "## Patch for annotations in R4.1\n",
    "# BiocManager::install(\"Bioconductor/GenomeInfoDb\",lib = \"/home/luca/R/x86_64-pc-linux-gnu-library/4.1\",force = TRUE)\n",
    "# library(GenomeInfoDb,lib.loc=\"/home/luca/R/x86_64-pc-linux-gnu-library/4.1\")"
   ]
  },
  {
   "cell_type": "code",
   "execution_count": 16,
   "id": "1585e97f",
   "metadata": {},
   "outputs": [],
   "source": [
    "# Load packages\n",
    "pacman::p_load(dplyr, stringr, data.table, tidyr, data.table, Matrix, future, \n",
    "               hdf5r, Seurat, Signac,harmony, knitr, SoupX, \n",
    "               EnsDb.Hsapiens.v86, \n",
    "               logr, parallel, \n",
    "               ggplot2, ggpubr, ggrepel, ggbreak, gridExtra, patchwork, grid, ggh4x)"
   ]
  },
  {
   "cell_type": "code",
   "execution_count": 4,
   "id": "10e36b09",
   "metadata": {},
   "outputs": [],
   "source": [
    "# Load genome\n",
    "#suppressMessages(annotations <- GetGRangesFromEnsDb(ensdb=EnsDb.Hsapiens.v86))\n",
    "#genome(annotations) <- 'hg38'\n",
    "#seqlevelsStyle(annotations) <- 'UCSC'\n",
    "# Save table\n",
    "# writeRDS(annotations, \"/nfs/lab/Luca/Assets/references/Cellranger/hg38.annotations.rds\")\n",
    "\n",
    "# Load table\n",
    "annotations = readRDS(\"/nfs/lab/Luca/Assets/references/Cellranger/hg38.annotations.rds\")\n",
    "seqlevelsStyle(annotations) <- 'UCSC'\n",
    "genome(annotations) <- 'hg38'\n",
    "\n",
    "# Seq info downloaded from: https://github.com/broadinstitute/ichorCNA/issues/84\n",
    "seq.info = readRDS(\"/nfs/lab/Luca/Assets/references/Cellranger/seqinfo_hg38_ucsc.rds\")"
   ]
  },
  {
   "cell_type": "code",
   "execution_count": 5,
   "id": "947750c2",
   "metadata": {},
   "outputs": [],
   "source": [
    "# Set options\n",
    "options(stringsAsFactors = FALSE)\n",
    "warnLevel <- getOption('warn')\n",
    "options(warn = -1)\n",
    "opts_chunk$set(tidy=TRUE)\n",
    "\n",
    "# set Future\n",
    "plan(\"multicore\", workers = 4)\n",
    "# set RAM treshold\n",
    "## 1000 = 1gb\n",
    "RAM.tresh = 10000 * 1024^2\n",
    "options(future.globals.maxSize = RAM.tresh)"
   ]
  },
  {
   "cell_type": "code",
   "execution_count": 12,
   "id": "c7e29a6f",
   "metadata": {},
   "outputs": [],
   "source": [
    "# Set directories\n",
    "base.dir = \"/nfs/lab/projects/mega_heart/\"\n",
    "assets.dir = \"/nfs/lab/projects/mega_heart/Assets/\"\n",
    "\n",
    "lv.windows.dir = \"/nfs/lab/scorban/fnih_heartLV/integration/Feb03_2024_seuratintegration/Feb03_2024_LVHeart_30donors_4lanes_mergedseuratobject_HVWs50K.txt\"\n",
    "rv.windows.dir = \"/nfs/lab/scorban/fnih_heartRV/integration/Feb01_2024_seuratintegration/Feb01_2024_RVHeart_30donors_4lanes_mergedseuratobject_HVWs50K.txt\"\n",
    "la.windows.dir = \"/nfs/lab/projects/mega_heart/FNIH/multiome/Analysis/0_multimodal_processing_SMC/LA/integration/May07_2024_LAHeart_30donors_4lanes_mergedseuratobject_HVWs50K.txt\"\n",
    "ra.windows.dir = \"/nfs/lab/projects/mega_heart/FNIH/multiome/Analysis/0_multimodal_processing_SMC/RA/integration/May08_2024_RAHeart_30donors_4lanes_mergedseuratobject_HVWs50K.txt\"\n",
    "\n",
    "cellranger.links.dir = \"/nfs/lab/projects/mega_heart/FNIH/multiome/cellranger.symlinks/\"\n",
    "\n",
    "step1.dir = \"/nfs/lab/projects/mega_heart/FNIH/multiome/Analysis/1_preprocessing/\"\n",
    "step2.dir = \"/nfs/lab/projects/mega_heart/FNIH/multiome/Analysis/3_downstream/Major_celltypes/\"\n",
    "\n",
    "counts.dir = paste0(step2.dir, \"RNA/4Chambers/COUNTS/\")\n",
    "TPM.dir = paste0(step2.dir, \"RNA/4Chambers/TPM/\")\n",
    "DESEQ.dir = paste0(step2.dir, \"RNA/4Chambers/DESEQ/\")\n",
    "GSEA.res.dir = paste0(step2.dir, \"RNA/4Chambers/DESEQ/GSEA/\")"
   ]
  },
  {
   "cell_type": "code",
   "execution_count": 7,
   "id": "1e88795c",
   "metadata": {},
   "outputs": [],
   "source": [
    "# Create those directories\n",
    "dir.create(paste0(step2.dir, \"RNA/\"))\n",
    "dir.create(paste0(step2.dir, \"RNA/4Chambers/\"))\n",
    "dir.create(step2.dir)\n",
    "dir.create(counts.dir)\n",
    "dir.create(TPM.dir)\n",
    "dir.create(DESEQ.dir)\n",
    "dir.create(GSEA.res.dir)"
   ]
  },
  {
   "cell_type": "code",
   "execution_count": 8,
   "id": "979d19d9",
   "metadata": {},
   "outputs": [
    {
     "data": {
      "text/html": [
       "'/nfs/lab/projects/mega_heart/log/LA_RNA_DownstreamFiles.log'"
      ],
      "text/latex": [
       "'/nfs/lab/projects/mega\\_heart/log/LA\\_RNA\\_DownstreamFiles.log'"
      ],
      "text/markdown": [
       "'/nfs/lab/projects/mega_heart/log/LA_RNA_DownstreamFiles.log'"
      ],
      "text/plain": [
       "[1] \"/nfs/lab/projects/mega_heart/log/LA_RNA_DownstreamFiles.log\""
      ]
     },
     "metadata": {},
     "output_type": "display_data"
    }
   ],
   "source": [
    "log_open(file_name = paste0(base.dir, \"LA_RNA_DownstreamFiles.log\"))"
   ]
  },
  {
   "cell_type": "markdown",
   "id": "5bf0520c",
   "metadata": {},
   "source": [
    "# Load assay"
   ]
  },
  {
   "cell_type": "code",
   "execution_count": 9,
   "id": "95e623c3",
   "metadata": {},
   "outputs": [
    {
     "name": "stdout",
     "output_type": "stream",
     "text": [
      "[1] \" Loading data\"\n",
      "[1] \"Done\"\n"
     ]
    }
   ],
   "source": [
    "log_print(\" Loading data\")\n",
    "adata = readRDS(paste(step1.dir, \"LV_RV_LA_RA.multiome.mrg.filt.MTless.silQC.curated.peaks.rds\", sep = \"\"))\n",
    "log_print(paste(\"Done\"))"
   ]
  },
  {
   "cell_type": "code",
   "execution_count": null,
   "id": "58af7054",
   "metadata": {},
   "outputs": [],
   "source": [
    "# Backup then indent\n",
    "# adata.bckp = adata"
   ]
  },
  {
   "cell_type": "code",
   "execution_count": 10,
   "id": "fb52cf96",
   "metadata": {},
   "outputs": [
    {
     "data": {
      "text/plain": [
       "An object of class Seurat \n",
       "392885 features across 329255 samples within 4 assays \n",
       "Active assay: ATAC (285873 features, 285873 variable features)\n",
       " 2 layers present: counts, data\n",
       " 3 other assays present: RNA, RNA_raw, SCT\n",
       " 7 dimensional reductions calculated: pca, harmony.rna, umap.rna, lsi, harmony.atac, umap.atac, umap.wnn"
      ]
     },
     "metadata": {},
     "output_type": "display_data"
    }
   ],
   "source": [
    "adata"
   ]
  },
  {
   "cell_type": "markdown",
   "id": "88bf16cd",
   "metadata": {},
   "source": [
    "# Cell count matrix  - RNA"
   ]
  },
  {
   "cell_type": "code",
   "execution_count": 11,
   "id": "3e081f57",
   "metadata": {},
   "outputs": [
    {
     "data": {
      "text/html": [
       "<style>\n",
       ".list-inline {list-style: none; margin:0; padding: 0}\n",
       ".list-inline>li {display: inline-block}\n",
       ".list-inline>li:not(:last-child)::after {content: \"\\00b7\"; padding: 0 .5ex}\n",
       "</style>\n",
       "<ol class=list-inline><li>'DTX089'</li><li>'DTX119'</li><li>'D47'</li><li>'DTX027'</li><li>'D36'</li><li>'DTX097'</li><li>'DTX066'</li><li>'DTX088'</li><li>'D55'</li><li>'DTX093'</li><li>'DTX105'</li><li>'DTX077'</li><li>'D40'</li><li>'DTX062'</li><li>'DTX060'</li><li>'D38'</li><li>'DTX037'</li><li>'D53'</li><li>'DTX017'</li><li>'DTX114'</li><li>'D52'</li><li>'DTX065'</li><li>'D37'</li><li>'DTX081'</li><li>'D35'</li><li>'DTX091'</li><li>'DTX087'</li><li>'DTX096'</li><li>'DTX031'</li><li>'D51'</li></ol>\n"
      ],
      "text/latex": [
       "\\begin{enumerate*}\n",
       "\\item 'DTX089'\n",
       "\\item 'DTX119'\n",
       "\\item 'D47'\n",
       "\\item 'DTX027'\n",
       "\\item 'D36'\n",
       "\\item 'DTX097'\n",
       "\\item 'DTX066'\n",
       "\\item 'DTX088'\n",
       "\\item 'D55'\n",
       "\\item 'DTX093'\n",
       "\\item 'DTX105'\n",
       "\\item 'DTX077'\n",
       "\\item 'D40'\n",
       "\\item 'DTX062'\n",
       "\\item 'DTX060'\n",
       "\\item 'D38'\n",
       "\\item 'DTX037'\n",
       "\\item 'D53'\n",
       "\\item 'DTX017'\n",
       "\\item 'DTX114'\n",
       "\\item 'D52'\n",
       "\\item 'DTX065'\n",
       "\\item 'D37'\n",
       "\\item 'DTX081'\n",
       "\\item 'D35'\n",
       "\\item 'DTX091'\n",
       "\\item 'DTX087'\n",
       "\\item 'DTX096'\n",
       "\\item 'DTX031'\n",
       "\\item 'D51'\n",
       "\\end{enumerate*}\n"
      ],
      "text/markdown": [
       "1. 'DTX089'\n",
       "2. 'DTX119'\n",
       "3. 'D47'\n",
       "4. 'DTX027'\n",
       "5. 'D36'\n",
       "6. 'DTX097'\n",
       "7. 'DTX066'\n",
       "8. 'DTX088'\n",
       "9. 'D55'\n",
       "10. 'DTX093'\n",
       "11. 'DTX105'\n",
       "12. 'DTX077'\n",
       "13. 'D40'\n",
       "14. 'DTX062'\n",
       "15. 'DTX060'\n",
       "16. 'D38'\n",
       "17. 'DTX037'\n",
       "18. 'D53'\n",
       "19. 'DTX017'\n",
       "20. 'DTX114'\n",
       "21. 'D52'\n",
       "22. 'DTX065'\n",
       "23. 'D37'\n",
       "24. 'DTX081'\n",
       "25. 'D35'\n",
       "26. 'DTX091'\n",
       "27. 'DTX087'\n",
       "28. 'DTX096'\n",
       "29. 'DTX031'\n",
       "30. 'D51'\n",
       "\n",
       "\n"
      ],
      "text/plain": [
       " [1] \"DTX089\" \"DTX119\" \"D47\"    \"DTX027\" \"D36\"    \"DTX097\" \"DTX066\" \"DTX088\"\n",
       " [9] \"D55\"    \"DTX093\" \"DTX105\" \"DTX077\" \"D40\"    \"DTX062\" \"DTX060\" \"D38\"   \n",
       "[17] \"DTX037\" \"D53\"    \"DTX017\" \"DTX114\" \"D52\"    \"DTX065\" \"D37\"    \"DTX081\"\n",
       "[25] \"D35\"    \"DTX091\" \"DTX087\" \"DTX096\" \"DTX031\" \"D51\"   "
      ]
     },
     "metadata": {},
     "output_type": "display_data"
    }
   ],
   "source": [
    "samples = as.character(unique(adata$donor))\n",
    "samples"
   ]
  },
  {
   "cell_type": "code",
   "execution_count": 12,
   "id": "75c0fdef",
   "metadata": {},
   "outputs": [
    {
     "data": {
      "text/html": [
       "<style>\n",
       ".dl-inline {width: auto; margin:0; padding: 0}\n",
       ".dl-inline>dt, .dl-inline>dd {float: none; width: auto; display: inline-block}\n",
       ".dl-inline>dt::after {content: \":\\0020\"; padding-right: .5ex}\n",
       ".dl-inline>dt:not(:first-of-type) {padding-left: .5ex}\n",
       "</style><dl class=dl-inline><dt>QY_2193_1_2_QY_2192_1_2_AAACAGCCAACTAGGG-1</dt><dd>Fibroblast</dd><dt>QY_2193_1_2_QY_2192_1_2_AAACAGCCACTTACAG-1</dt><dd>Endothelial</dd><dt>QY_2193_1_2_QY_2192_1_2_AAACAGCCAGTTTGTG-1</dt><dd>vCM</dd><dt>QY_2193_1_2_QY_2192_1_2_AAACAGCCATCCGTAA-1</dt><dd>Endothelial</dd><dt>QY_2193_1_2_QY_2192_1_2_AAACAGCCATGCATAT-1</dt><dd>vCM</dd><dt>QY_2193_1_2_QY_2192_1_2_AAACATGCAGGCCTTG-1</dt><dd>Fibroblast</dd></dl>\n",
       "\n",
       "<details>\n",
       "\t<summary style=display:list-item;cursor:pointer>\n",
       "\t\t<strong>Levels</strong>:\n",
       "\t</summary>\n",
       "\t<style>\n",
       "\t.list-inline {list-style: none; margin:0; padding: 0}\n",
       "\t.list-inline>li {display: inline-block}\n",
       "\t.list-inline>li:not(:last-child)::after {content: \"\\00b7\"; padding: 0 .5ex}\n",
       "\t</style>\n",
       "\t<ol class=list-inline><li>'Fibroblast'</li><li>'Endothelial'</li><li>'vCM'</li><li>'Myeloid'</li><li>'Pericyte'</li><li>'Endocardial'</li><li>'Lymphoid'</li><li>'SM'</li><li>'Neuronal'</li><li>'Adipocyte'</li><li>'Epicardial'</li><li>'aCM'</li></ol>\n",
       "</details>"
      ],
      "text/latex": [
       "\\begin{description*}\n",
       "\\item[QY\\textbackslash{}\\_2193\\textbackslash{}\\_1\\textbackslash{}\\_2\\textbackslash{}\\_QY\\textbackslash{}\\_2192\\textbackslash{}\\_1\\textbackslash{}\\_2\\textbackslash{}\\_AAACAGCCAACTAGGG-1] Fibroblast\n",
       "\\item[QY\\textbackslash{}\\_2193\\textbackslash{}\\_1\\textbackslash{}\\_2\\textbackslash{}\\_QY\\textbackslash{}\\_2192\\textbackslash{}\\_1\\textbackslash{}\\_2\\textbackslash{}\\_AAACAGCCACTTACAG-1] Endothelial\n",
       "\\item[QY\\textbackslash{}\\_2193\\textbackslash{}\\_1\\textbackslash{}\\_2\\textbackslash{}\\_QY\\textbackslash{}\\_2192\\textbackslash{}\\_1\\textbackslash{}\\_2\\textbackslash{}\\_AAACAGCCAGTTTGTG-1] vCM\n",
       "\\item[QY\\textbackslash{}\\_2193\\textbackslash{}\\_1\\textbackslash{}\\_2\\textbackslash{}\\_QY\\textbackslash{}\\_2192\\textbackslash{}\\_1\\textbackslash{}\\_2\\textbackslash{}\\_AAACAGCCATCCGTAA-1] Endothelial\n",
       "\\item[QY\\textbackslash{}\\_2193\\textbackslash{}\\_1\\textbackslash{}\\_2\\textbackslash{}\\_QY\\textbackslash{}\\_2192\\textbackslash{}\\_1\\textbackslash{}\\_2\\textbackslash{}\\_AAACAGCCATGCATAT-1] vCM\n",
       "\\item[QY\\textbackslash{}\\_2193\\textbackslash{}\\_1\\textbackslash{}\\_2\\textbackslash{}\\_QY\\textbackslash{}\\_2192\\textbackslash{}\\_1\\textbackslash{}\\_2\\textbackslash{}\\_AAACATGCAGGCCTTG-1] Fibroblast\n",
       "\\end{description*}\n",
       "\n",
       "\\emph{Levels}: \\begin{enumerate*}\n",
       "\\item 'Fibroblast'\n",
       "\\item 'Endothelial'\n",
       "\\item 'vCM'\n",
       "\\item 'Myeloid'\n",
       "\\item 'Pericyte'\n",
       "\\item 'Endocardial'\n",
       "\\item 'Lymphoid'\n",
       "\\item 'SM'\n",
       "\\item 'Neuronal'\n",
       "\\item 'Adipocyte'\n",
       "\\item 'Epicardial'\n",
       "\\item 'aCM'\n",
       "\\end{enumerate*}\n"
      ],
      "text/markdown": [
       "QY_2193_1_2_QY_2192_1_2_AAACAGCCAACTAGGG-1\n",
       ":   FibroblastQY_2193_1_2_QY_2192_1_2_AAACAGCCACTTACAG-1\n",
       ":   EndothelialQY_2193_1_2_QY_2192_1_2_AAACAGCCAGTTTGTG-1\n",
       ":   vCMQY_2193_1_2_QY_2192_1_2_AAACAGCCATCCGTAA-1\n",
       ":   EndothelialQY_2193_1_2_QY_2192_1_2_AAACAGCCATGCATAT-1\n",
       ":   vCMQY_2193_1_2_QY_2192_1_2_AAACATGCAGGCCTTG-1\n",
       ":   Fibroblast\n",
       "\n",
       "\n",
       "**Levels**: 1. 'Fibroblast'\n",
       "2. 'Endothelial'\n",
       "3. 'vCM'\n",
       "4. 'Myeloid'\n",
       "5. 'Pericyte'\n",
       "6. 'Endocardial'\n",
       "7. 'Lymphoid'\n",
       "8. 'SM'\n",
       "9. 'Neuronal'\n",
       "10. 'Adipocyte'\n",
       "11. 'Epicardial'\n",
       "12. 'aCM'\n",
       "\n",
       "\n"
      ],
      "text/plain": [
       "QY_2193_1_2_QY_2192_1_2_AAACAGCCAACTAGGG-1 \n",
       "                                Fibroblast \n",
       "QY_2193_1_2_QY_2192_1_2_AAACAGCCACTTACAG-1 \n",
       "                               Endothelial \n",
       "QY_2193_1_2_QY_2192_1_2_AAACAGCCAGTTTGTG-1 \n",
       "                                       vCM \n",
       "QY_2193_1_2_QY_2192_1_2_AAACAGCCATCCGTAA-1 \n",
       "                               Endothelial \n",
       "QY_2193_1_2_QY_2192_1_2_AAACAGCCATGCATAT-1 \n",
       "                                       vCM \n",
       "QY_2193_1_2_QY_2192_1_2_AAACATGCAGGCCTTG-1 \n",
       "                                Fibroblast \n",
       "12 Levels: Fibroblast Endothelial vCM Myeloid Pericyte Endocardial ... aCM"
      ]
     },
     "metadata": {},
     "output_type": "display_data"
    },
    {
     "name": "stdout",
     "output_type": "stream",
     "text": [
      " [1] \"Fibroblast\"  \"Endothelial\" \"vCM\"         \"Myeloid\"     \"Pericyte\"   \n",
      " [6] \"Endocardial\" \"Lymphoid\"    \"SM\"          \"Neuronal\"    \"Adipocyte\"  \n",
      "[11] \"Epicardial\"  \"aCM\"        \n"
     ]
    },
    {
     "data": {
      "text/html": [
       "<style>\n",
       ".list-inline {list-style: none; margin:0; padding: 0}\n",
       ".list-inline>li {display: inline-block}\n",
       ".list-inline>li:not(:last-child)::after {content: \"\\00b7\"; padding: 0 .5ex}\n",
       "</style>\n",
       "<ol class=list-inline><li>36510</li><li>329255</li></ol>\n"
      ],
      "text/latex": [
       "\\begin{enumerate*}\n",
       "\\item 36510\n",
       "\\item 329255\n",
       "\\end{enumerate*}\n"
      ],
      "text/markdown": [
       "1. 36510\n",
       "2. 329255\n",
       "\n",
       "\n"
      ],
      "text/plain": [
       "[1]  36510 329255"
      ]
     },
     "metadata": {},
     "output_type": "display_data"
    },
    {
     "name": "stderr",
     "output_type": "stream",
     "text": [
      "  [[ suppressing 34 column names 'QY_2193_1_2_QY_2192_1_2_AAACAGCCAACTAGGG-1', 'QY_2193_1_2_QY_2192_1_2_AAACAGCCACTTACAG-1', 'QY_2193_1_2_QY_2192_1_2_AAACAGCCAGTTTGTG-1' ... ]]\n",
      "\n"
     ]
    },
    {
     "data": {
      "text/plain": [
       "6 x 329255 sparse Matrix of class \"dgCMatrix\"\n",
       "                                                                               \n",
       "MIR1302-2HG . . . . . . . . . . . . . . . . . . . . . . . . . . . . . . . . . .\n",
       "FAM138A     . . . . . . . . . . . . . . . . . . . . . . . . . . . . . . . . . .\n",
       "OR4F5       . . . . . . . . . . . . . . . . . . . . . . . . . . . . . . . . . .\n",
       "AL627309.1  . . . . . . . . . . . . . . . . . . . . . . . . . . . . . . . . . .\n",
       "AL627309.3  . . . . . . . . . . . . . . . . . . . . . . . . . . . . . . . . . .\n",
       "AL627309.2  . . . . . . . . . . . . . . . . . . . . . . . . . . . . . . . . . .\n",
       "                  \n",
       "MIR1302-2HG ......\n",
       "FAM138A     ......\n",
       "OR4F5       ......\n",
       "AL627309.1  ......\n",
       "AL627309.3  ......\n",
       "AL627309.2  ......\n",
       "\n",
       " .....suppressing 329221 columns in show(); maybe adjust options(max.print=, width=)\n",
       " .............................."
      ]
     },
     "metadata": {},
     "output_type": "display_data"
    }
   ],
   "source": [
    "######## SET TO WHATEVER YOUR ASSIGNMENTS ARE STORED UNDER ########\n",
    "Idents(object = adata) <- \"cell.major_types\"\n",
    "head(Idents(adata))\n",
    "#### OUTPUT DIRECTORY #####\n",
    "outdir = counts.dir\n",
    "\n",
    "#pull out list of all cell types, removing ignore\n",
    "unique_cell_types <- unique(adata$cell.major_types)\n",
    "#unique_cell_types <- unique_cell_types[-c(11)]\n",
    "print(unique_cell_types)\n",
    "\n",
    "\n",
    "sample_bcs <- list()\n",
    "for (sample in samples){\n",
    "    sample_bcs[[sample]] <- row.names(adata[[]][adata[[]]$donor == sample,])\n",
    "}\n",
    "\n",
    "##############\n",
    "#### SET TO WHATEVER ASSAY YOU WANT TO USE ######\n",
    "DefaultAssay(adata) <- 'RNA'\n",
    "gex.counts <- GetAssayData(adata, slot='counts')\n",
    "dim(gex.counts)\n",
    "head(gex.counts)\n",
    "adata_matrices <- adata"
   ]
  },
  {
   "cell_type": "code",
   "execution_count": 13,
   "id": "b9448eb2",
   "metadata": {},
   "outputs": [],
   "source": [
    "#looping through cell types by making ^ into a function\n",
    "get_per_sample_gex_SUMS <- function(cell.type, filename){\n",
    "    print(paste(cell.type,Sys.time()))\n",
    "\n",
    "    #pull out rows of gex.counts where BC Ident matches cell.type\n",
    "    bcs <- names(Idents(adata_matrices)[Idents(adata_matrices) == cell.type])\n",
    "    counts <- gex.counts[,colnames(gex.counts) %in% bcs]\n",
    "    print(dim(counts))\n",
    "\n",
    "    #initialize the matrix of sample gex\n",
    "    counts.df <- as.data.frame(rep(0,length(row.names(gex.counts))))\n",
    "    row.names(counts.df) <- row.names(gex.counts)\n",
    "    colnames(counts.df) <- c('temp')\n",
    "\n",
    "    #go through samples and calculate sum of gex values\n",
    "    for (sample in samples){\n",
    "        sample_cols <- colnames(counts) %in% sample_bcs[[sample]]\n",
    "        counts.cut <- counts[,sample_cols]\n",
    "        \n",
    "        #if only one bc, this becomes a vector which is an issue\n",
    "        if (typeof(counts.cut) == 'double'){\n",
    "            mean.counts <- counts.cut\n",
    "        #if there are NO bcs, this will return NA (just return 0 for everything)\n",
    "        } else if(length(colnames(counts.cut)) == 0){\n",
    "            mean.counts <- rep(0,length(row.names(counts)))\n",
    "        } else {\n",
    "            mean.counts <- rowSums(counts.cut)\n",
    "        }\n",
    "        counts.df <- cbind(counts.df,as.data.frame(mean.counts))\n",
    "     }\n",
    "    fin.counts.df <- counts.df[,-c(1)]\n",
    "    colnames(fin.counts.df) <- samples\n",
    "    head(fin.counts.df)\n",
    "\n",
    "    #export df\n",
    "    write.table(fin.counts.df, filename, sep='\\t',quote=FALSE)\n",
    "}"
   ]
  },
  {
   "cell_type": "code",
   "execution_count": 14,
   "id": "efadc7f1",
   "metadata": {},
   "outputs": [
    {
     "name": "stdout",
     "output_type": "stream",
     "text": [
      "[1] \"Fibroblast 2025-01-28 13:07:31.436829\"\n",
      "[1] 36510 67157\n",
      "[1] \"Endothelial 2025-01-28 13:07:40.942306\"\n",
      "[1] 36510 53650\n",
      "[1] \"vCM 2025-01-28 13:07:47.630199\"\n",
      "[1] 36510 68449\n",
      "[1] \"Myeloid 2025-01-28 13:08:02.537411\"\n",
      "[1] 36510 51355\n",
      "[1] \"Pericyte 2025-01-28 13:08:10.954565\"\n",
      "[1] 36510 22489\n",
      "[1] \"Endocardial 2025-01-28 13:08:14.5894\"\n",
      "[1] 36510  8927\n",
      "[1] \"Lymphoid 2025-01-28 13:08:17.917017\"\n",
      "[1] 36510 20021\n",
      "[1] \"SM 2025-01-28 13:08:21.643059\"\n",
      "[1] 36510  6561\n",
      "[1] \"Neuronal 2025-01-28 13:08:24.198413\"\n",
      "[1] 36510  3962\n",
      "[1] \"Adipocyte 2025-01-28 13:08:26.634516\"\n",
      "[1] 36510  1122\n",
      "[1] \"Epicardial 2025-01-28 13:08:28.992895\"\n",
      "[1] 36510  1716\n",
      "[1] \"aCM 2025-01-28 13:08:31.489254\"\n",
      "[1] 36510 23846\n"
     ]
    }
   ],
   "source": [
    "##### NAME YOUR FILES #####\n",
    "for (cell.type in unique_cell_types){\n",
    "    filename <- paste(outdir, cell.type, '_perdonor.gex_SoupX.RNA.counts', sep = \"\")\n",
    "    get_per_sample_gex_SUMS(cell.type, filename)\n",
    "}"
   ]
  },
  {
   "cell_type": "code",
   "execution_count": 15,
   "id": "c10c577e",
   "metadata": {},
   "outputs": [],
   "source": [
    "#looping through cell types by making ^ into a function\n",
    "get_gex_SUMS <- function(cell.type, filename){\n",
    "    print(paste(cell.type,Sys.time()))\n",
    "\n",
    "    #pull out rows of gex.counts where BC Ident matches cell.type\n",
    "    bcs <- names(Idents(adata_matrices)[Idents(adata_matrices) == cell.type])\n",
    "    counts <- gex.counts[,colnames(gex.counts) %in% bcs]\n",
    "    print(dim(counts))\n",
    "\n",
    "    #grab and sum counts\n",
    "    counts.df <- as.data.frame(rep(0,length(row.names(gex.counts))))\n",
    "    row.names(counts.df) <- row.names(gex.counts)\n",
    "    colnames(counts.df) <- c('counts')\n",
    "    counts.df$counts = rowSums(counts)\n",
    "    write.table(counts.df, filename, sep='\\t',quote=FALSE)\n",
    "}"
   ]
  },
  {
   "cell_type": "code",
   "execution_count": 16,
   "id": "7282a26a",
   "metadata": {},
   "outputs": [
    {
     "name": "stdout",
     "output_type": "stream",
     "text": [
      "[1] \"Fibroblast 2025-01-28 13:08:37.935452\"\n",
      "[1] 36510 67157\n",
      "[1] \"Endothelial 2025-01-28 13:08:40.570469\"\n",
      "[1] 36510 53650\n",
      "[1] \"vCM 2025-01-28 13:08:42.480201\"\n",
      "[1] 36510 68449\n",
      "[1] \"Myeloid 2025-01-28 13:08:45.856776\"\n",
      "[1] 36510 51355\n",
      "[1] \"Pericyte 2025-01-28 13:08:48.16758\"\n",
      "[1] 36510 22489\n",
      "[1] \"Endocardial 2025-01-28 13:08:49.604749\"\n",
      "[1] 36510  8927\n",
      "[1] \"Lymphoid 2025-01-28 13:08:50.954432\"\n",
      "[1] 36510 20021\n",
      "[1] \"SM 2025-01-28 13:08:52.38736\"\n",
      "[1] 36510  6561\n",
      "[1] \"Neuronal 2025-01-28 13:08:53.596673\"\n",
      "[1] 36510  3962\n",
      "[1] \"Adipocyte 2025-01-28 13:08:54.830385\"\n",
      "[1] 36510  1122\n",
      "[1] \"Epicardial 2025-01-28 13:08:56.038428\"\n",
      "[1] 36510  1716\n",
      "[1] \"aCM 2025-01-28 13:08:57.220367\"\n",
      "[1] 36510 23846\n"
     ]
    }
   ],
   "source": [
    "##### NAME YOUR FILES #####\n",
    "for (cell.type in unique_cell_types){\n",
    "    filename <- paste(outdir, cell.type, '_gex_SoupX.RNA.counts', sep = \"\")\n",
    "    get_gex_SUMS(cell.type, filename)\n",
    "}"
   ]
  },
  {
   "cell_type": "markdown",
   "id": "fffb561e",
   "metadata": {},
   "source": [
    "# TPM"
   ]
  },
  {
   "cell_type": "code",
   "execution_count": 13,
   "id": "26670ddd",
   "metadata": {},
   "outputs": [],
   "source": [
    "# Gene Infos\n",
    "fin.gene.info = read.table(\"/nfs/lab/publicdata/gencode_v38/gene_info_withExonicGeneSizes.tsv\",\n",
    "                           header=T)\n",
    "\n",
    "### SOUPX correction MATRICES\n",
    "dir = counts.dir\n",
    "outdir = TPM.dir\n",
    "\n",
    "# TPM function\n",
    "make_tpm = function(counts, gene_sizes){\n",
    "    rpk <- counts / gene_sizes\n",
    "    tpm <- rpk\n",
    "    for (i in 1:ncol(rpk)){\n",
    "        tpm[,i] <- rpk[,i]/(sum(rpk[,i])/1e6)\n",
    "    }\n",
    "    return(tpm)\n",
    "}"
   ]
  },
  {
   "cell_type": "code",
   "execution_count": 14,
   "id": "37440564",
   "metadata": {
    "scrolled": true
   },
   "outputs": [
    {
     "data": {
      "text/html": [
       "<style>\n",
       ".list-inline {list-style: none; margin:0; padding: 0}\n",
       ".list-inline>li {display: inline-block}\n",
       ".list-inline>li:not(:last-child)::after {content: \"\\00b7\"; padding: 0 .5ex}\n",
       "</style>\n",
       "<ol class=list-inline><li>'aCM_perdonor.gex_SoupX.RNA.counts'</li><li>'Adipocyte_perdonor.gex_SoupX.RNA.counts'</li><li>'Endocardial_perdonor.gex_SoupX.RNA.counts'</li><li>'Endothelial_perdonor.gex_SoupX.RNA.counts'</li><li>'Epicardial_perdonor.gex_SoupX.RNA.counts'</li><li>'Fibroblast_perdonor.gex_SoupX.RNA.counts'</li><li>'Lymphoid_perdonor.gex_SoupX.RNA.counts'</li><li>'Myeloid_perdonor.gex_SoupX.RNA.counts'</li><li>'Neuronal_perdonor.gex_SoupX.RNA.counts'</li><li>'Pericyte_perdonor.gex_SoupX.RNA.counts'</li><li>'SM_perdonor.gex_SoupX.RNA.counts'</li><li>'vCM_perdonor.gex_SoupX.RNA.counts'</li></ol>\n"
      ],
      "text/latex": [
       "\\begin{enumerate*}\n",
       "\\item 'aCM\\_perdonor.gex\\_SoupX.RNA.counts'\n",
       "\\item 'Adipocyte\\_perdonor.gex\\_SoupX.RNA.counts'\n",
       "\\item 'Endocardial\\_perdonor.gex\\_SoupX.RNA.counts'\n",
       "\\item 'Endothelial\\_perdonor.gex\\_SoupX.RNA.counts'\n",
       "\\item 'Epicardial\\_perdonor.gex\\_SoupX.RNA.counts'\n",
       "\\item 'Fibroblast\\_perdonor.gex\\_SoupX.RNA.counts'\n",
       "\\item 'Lymphoid\\_perdonor.gex\\_SoupX.RNA.counts'\n",
       "\\item 'Myeloid\\_perdonor.gex\\_SoupX.RNA.counts'\n",
       "\\item 'Neuronal\\_perdonor.gex\\_SoupX.RNA.counts'\n",
       "\\item 'Pericyte\\_perdonor.gex\\_SoupX.RNA.counts'\n",
       "\\item 'SM\\_perdonor.gex\\_SoupX.RNA.counts'\n",
       "\\item 'vCM\\_perdonor.gex\\_SoupX.RNA.counts'\n",
       "\\end{enumerate*}\n"
      ],
      "text/markdown": [
       "1. 'aCM_perdonor.gex_SoupX.RNA.counts'\n",
       "2. 'Adipocyte_perdonor.gex_SoupX.RNA.counts'\n",
       "3. 'Endocardial_perdonor.gex_SoupX.RNA.counts'\n",
       "4. 'Endothelial_perdonor.gex_SoupX.RNA.counts'\n",
       "5. 'Epicardial_perdonor.gex_SoupX.RNA.counts'\n",
       "6. 'Fibroblast_perdonor.gex_SoupX.RNA.counts'\n",
       "7. 'Lymphoid_perdonor.gex_SoupX.RNA.counts'\n",
       "8. 'Myeloid_perdonor.gex_SoupX.RNA.counts'\n",
       "9. 'Neuronal_perdonor.gex_SoupX.RNA.counts'\n",
       "10. 'Pericyte_perdonor.gex_SoupX.RNA.counts'\n",
       "11. 'SM_perdonor.gex_SoupX.RNA.counts'\n",
       "12. 'vCM_perdonor.gex_SoupX.RNA.counts'\n",
       "\n",
       "\n"
      ],
      "text/plain": [
       " [1] \"aCM_perdonor.gex_SoupX.RNA.counts\"        \n",
       " [2] \"Adipocyte_perdonor.gex_SoupX.RNA.counts\"  \n",
       " [3] \"Endocardial_perdonor.gex_SoupX.RNA.counts\"\n",
       " [4] \"Endothelial_perdonor.gex_SoupX.RNA.counts\"\n",
       " [5] \"Epicardial_perdonor.gex_SoupX.RNA.counts\" \n",
       " [6] \"Fibroblast_perdonor.gex_SoupX.RNA.counts\" \n",
       " [7] \"Lymphoid_perdonor.gex_SoupX.RNA.counts\"   \n",
       " [8] \"Myeloid_perdonor.gex_SoupX.RNA.counts\"    \n",
       " [9] \"Neuronal_perdonor.gex_SoupX.RNA.counts\"   \n",
       "[10] \"Pericyte_perdonor.gex_SoupX.RNA.counts\"   \n",
       "[11] \"SM_perdonor.gex_SoupX.RNA.counts\"         \n",
       "[12] \"vCM_perdonor.gex_SoupX.RNA.counts\"        "
      ]
     },
     "metadata": {},
     "output_type": "display_data"
    },
    {
     "data": {
      "text/html": [
       "<style>\n",
       ".list-inline {list-style: none; margin:0; padding: 0}\n",
       ".list-inline>li {display: inline-block}\n",
       ".list-inline>li:not(:last-child)::after {content: \"\\00b7\"; padding: 0 .5ex}\n",
       "</style>\n",
       "<ol class=list-inline><li>'aCM'</li><li>'Adipocyte'</li><li>'Endocardial'</li><li>'Endothelial'</li><li>'Epicardial'</li><li>'Fibroblast'</li><li>'Lymphoid'</li><li>'Myeloid'</li><li>'Neuronal'</li><li>'Pericyte'</li><li>'SM'</li><li>'vCM'</li></ol>\n"
      ],
      "text/latex": [
       "\\begin{enumerate*}\n",
       "\\item 'aCM'\n",
       "\\item 'Adipocyte'\n",
       "\\item 'Endocardial'\n",
       "\\item 'Endothelial'\n",
       "\\item 'Epicardial'\n",
       "\\item 'Fibroblast'\n",
       "\\item 'Lymphoid'\n",
       "\\item 'Myeloid'\n",
       "\\item 'Neuronal'\n",
       "\\item 'Pericyte'\n",
       "\\item 'SM'\n",
       "\\item 'vCM'\n",
       "\\end{enumerate*}\n"
      ],
      "text/markdown": [
       "1. 'aCM'\n",
       "2. 'Adipocyte'\n",
       "3. 'Endocardial'\n",
       "4. 'Endothelial'\n",
       "5. 'Epicardial'\n",
       "6. 'Fibroblast'\n",
       "7. 'Lymphoid'\n",
       "8. 'Myeloid'\n",
       "9. 'Neuronal'\n",
       "10. 'Pericyte'\n",
       "11. 'SM'\n",
       "12. 'vCM'\n",
       "\n",
       "\n"
      ],
      "text/plain": [
       " [1] \"aCM\"         \"Adipocyte\"   \"Endocardial\" \"Endothelial\" \"Epicardial\" \n",
       " [6] \"Fibroblast\"  \"Lymphoid\"    \"Myeloid\"     \"Neuronal\"    \"Pericyte\"   \n",
       "[11] \"SM\"          \"vCM\"        "
      ]
     },
     "metadata": {},
     "output_type": "display_data"
    },
    {
     "name": "stderr",
     "output_type": "stream",
     "text": [
      "reading aCM_perdonor.gex_SoupX.RNA.counts\n",
      "\n",
      " - Subset to: 24228\n",
      "\n",
      " - expressed genes: 21237\n",
      "\n",
      "reading Adipocyte_perdonor.gex_SoupX.RNA.counts\n",
      "\n",
      " - Subset to: 24228\n",
      "\n",
      " - expressed genes: 18935\n",
      "\n",
      "reading Endocardial_perdonor.gex_SoupX.RNA.counts\n",
      "\n",
      " - Subset to: 24228\n",
      "\n",
      " - expressed genes: 20522\n",
      "\n",
      "reading Endothelial_perdonor.gex_SoupX.RNA.counts\n",
      "\n",
      " - Subset to: 24228\n",
      "\n",
      " - expressed genes: 21498\n",
      "\n",
      "reading Epicardial_perdonor.gex_SoupX.RNA.counts\n",
      "\n",
      " - Subset to: 24228\n",
      "\n",
      " - expressed genes: 19936\n",
      "\n",
      "reading Fibroblast_perdonor.gex_SoupX.RNA.counts\n",
      "\n",
      " - Subset to: 24228\n",
      "\n",
      " - expressed genes: 21615\n",
      "\n",
      "reading Lymphoid_perdonor.gex_SoupX.RNA.counts\n",
      "\n",
      " - Subset to: 24228\n",
      "\n",
      " - expressed genes: 21002\n",
      "\n",
      "reading Myeloid_perdonor.gex_SoupX.RNA.counts\n",
      "\n",
      " - Subset to: 24228\n",
      "\n",
      " - expressed genes: 21294\n",
      "\n",
      "reading Neuronal_perdonor.gex_SoupX.RNA.counts\n",
      "\n",
      " - Subset to: 24228\n",
      "\n",
      " - expressed genes: 19144\n",
      "\n",
      "reading Pericyte_perdonor.gex_SoupX.RNA.counts\n",
      "\n",
      " - Subset to: 24228\n",
      "\n",
      " - expressed genes: 20576\n",
      "\n",
      "reading SM_perdonor.gex_SoupX.RNA.counts\n",
      "\n",
      " - Subset to: 24228\n",
      "\n",
      " - expressed genes: 19833\n",
      "\n",
      "reading vCM_perdonor.gex_SoupX.RNA.counts\n",
      "\n",
      " - Subset to: 24228\n",
      "\n",
      " - expressed genes: 20960\n",
      "\n"
     ]
    }
   ],
   "source": [
    "# Per sample TPM\n",
    "# get list of files\n",
    "files = list.files(dir, pattern= \"_perdonor.gex_SoupX.RNA.counts\")\n",
    "files\n",
    "# cut off file suffices to get celltype names\n",
    "cells = gsub(\"_perdonor.gex_SoupX.RNA.counts\",\"\", files)\n",
    "cells \n",
    "\n",
    "for (FILE in files){\n",
    "    message(\"reading \", FILE)\n",
    "    cell = cells[which(files == FILE)]\n",
    "    counts = read.table(paste0(dir, FILE), row.names=1)\n",
    "    #sumreads[,cell]= rowSums(counts)\n",
    "    counts = subset(counts ,rownames(counts) %in% fin.gene.info$gene_name)\n",
    "    message(\" - Subset to: \", nrow(counts))\n",
    "    gene_sizes = fin.gene.info$exonic.gene.sizes[match(rownames(counts), fin.gene.info$gene_name)]\n",
    "    tpm_mat = make_tpm(counts, gene_sizes)\n",
    "    tpm_mat[is.na(tpm_mat)] <- 0\n",
    "    write.table(tpm_mat, paste0(outdir,  cell, \"_perdonor.gex_SoupX.RNA.tpm\"), sep=\"\\t\", quote=F)\n",
    "    \n",
    "    genes = data.frame(gene = rownames(tpm_mat), \n",
    "                   TPM = rowSums(tpm_mat))\n",
    "    write.table(genes, paste0(outdir,  cell, \".tpm\"), sep=\"\\t\", quote=F, \n",
    "                col.names = TRUE, row.names = FALSE)\n",
    "    \n",
    "    expressed.genes = genes %>%\n",
    "                    dplyr::filter(TPM > 1)\n",
    "    expressed.genes = as.data.frame(expressed.genes$gene)\n",
    "    message(\" - expressed genes: \", nrow(expressed.genes))\n",
    "    write.table(expressed.genes, paste0(outdir,  cell, \"_expressed.genes.TPM1.ls\"), sep=\"\\t\", quote=F, \n",
    "               col.names = FALSE, row.names = FALSE)\n",
    "}"
   ]
  },
  {
   "cell_type": "code",
   "execution_count": 15,
   "id": "0ceb52bd",
   "metadata": {},
   "outputs": [
    {
     "ename": "ERROR",
     "evalue": "Error in eval(expr, envir, enclos): object 'unique_cell_types' not found\n",
     "output_type": "error",
     "traceback": [
      "Error in eval(expr, envir, enclos): object 'unique_cell_types' not found\nTraceback:\n"
     ]
    }
   ],
   "source": [
    "# SAVE TPM per celltype\n",
    "TPM.by.cell <- data.frame()\n",
    "\n",
    "for (c in unique_cell_types) {\n",
    "    message(\"Processing \", c)\n",
    "    ct.TPM <- rowMeans(read.table(paste0(outdir,c,'_perdonor.gex_SoupX.RNA.tpm')), na.rm=T)\n",
    "    if(length(rownames(TPM.by.cell)) == 0) {\n",
    "        TPM.by.cell <- data.frame(ct.TPM)\n",
    "        colnames(TPM.by.cell) <- c\n",
    "    } else {\n",
    "        TPM.by.cell[[c]] <- ct.TPM[rownames(TPM.by.cell)]\n",
    "    }\n",
    "}\n",
    "\n",
    "dim(TPM.by.cell)\n",
    "head(TPM.by.cell)\n",
    "\n",
    "write.table(TPM.by.cell, \n",
    "            paste0(outdir, 'AllCellTypes.gex_SoupX.RNA.tpm'),\n",
    "           quote=F, col.names=T, row.names=T, sep='\\t')"
   ]
  },
  {
   "cell_type": "code",
   "execution_count": null,
   "id": "849666c0",
   "metadata": {},
   "outputs": [],
   "source": []
  }
 ],
 "metadata": {
  "kernelspec": {
   "display_name": "Main_R_4.3",
   "language": "R",
   "name": "irs5"
  },
  "language_info": {
   "codemirror_mode": "r",
   "file_extension": ".r",
   "mimetype": "text/x-r-source",
   "name": "R",
   "pygments_lexer": "r",
   "version": "4.3.2"
  },
  "toc": {
   "base_numbering": 1,
   "nav_menu": {},
   "number_sections": true,
   "sideBar": true,
   "skip_h1_title": false,
   "title_cell": "Table of Contents",
   "title_sidebar": "Contents",
   "toc_cell": false,
   "toc_position": {
    "height": "calc(100% - 180px)",
    "left": "10px",
    "top": "150px",
    "width": "196.390625px"
   },
   "toc_section_display": true,
   "toc_window_display": true
  }
 },
 "nbformat": 4,
 "nbformat_minor": 5
}
