{
 "cells": [
  {
   "cell_type": "code",
   "execution_count": 1,
   "id": "287eccff",
   "metadata": {},
   "outputs": [
    {
     "name": "stderr",
     "output_type": "stream",
     "text": [
      "/home/y2xie/miniconda3/envs/seurat/lib/python3.11/site-packages/anndata/utils.py:429: FutureWarning: Importing read_csv from `anndata` is deprecated. Import anndata.io.read_csv instead.\n",
      "  warnings.warn(msg, FutureWarning)\n",
      "/home/y2xie/miniconda3/envs/seurat/lib/python3.11/site-packages/anndata/utils.py:429: FutureWarning: Importing read_excel from `anndata` is deprecated. Import anndata.io.read_excel instead.\n",
      "  warnings.warn(msg, FutureWarning)\n",
      "/home/y2xie/miniconda3/envs/seurat/lib/python3.11/site-packages/anndata/utils.py:429: FutureWarning: Importing read_hdf from `anndata` is deprecated. Import anndata.io.read_hdf instead.\n",
      "  warnings.warn(msg, FutureWarning)\n",
      "/home/y2xie/miniconda3/envs/seurat/lib/python3.11/site-packages/anndata/utils.py:429: FutureWarning: Importing read_loom from `anndata` is deprecated. Import anndata.io.read_loom instead.\n",
      "  warnings.warn(msg, FutureWarning)\n",
      "/home/y2xie/miniconda3/envs/seurat/lib/python3.11/site-packages/anndata/utils.py:429: FutureWarning: Importing read_mtx from `anndata` is deprecated. Import anndata.io.read_mtx instead.\n",
      "  warnings.warn(msg, FutureWarning)\n",
      "/home/y2xie/miniconda3/envs/seurat/lib/python3.11/site-packages/anndata/utils.py:429: FutureWarning: Importing read_text from `anndata` is deprecated. Import anndata.io.read_text instead.\n",
      "  warnings.warn(msg, FutureWarning)\n",
      "/home/y2xie/miniconda3/envs/seurat/lib/python3.11/site-packages/anndata/utils.py:429: FutureWarning: Importing read_umi_tools from `anndata` is deprecated. Import anndata.io.read_umi_tools instead.\n",
      "  warnings.warn(msg, FutureWarning)\n"
     ]
    }
   ],
   "source": [
    "import os\n",
    "\n",
    "### openBLAS will not work properly in jupyter notebook\n",
    "os.environ['OPENBLAS_NUM_THREADS'] = '1'\n",
    "\n",
    "import pandas as pd\n",
    "import numpy as np\n",
    "from scipy import stats as ss\n",
    "import snapatac2 as snap\n",
    "import scanpy as sc\n",
    "import matplotlib as mpl\n",
    "mpl.rcParams['pdf.fonttype'] = 42\n",
    "\n",
    "import matplotlib.pyplot as plt\n",
    "import seaborn as sns\n",
    "from matplotlib import colors"
   ]
  },
  {
   "cell_type": "code",
   "execution_count": 2,
   "id": "f7ad37f4",
   "metadata": {},
   "outputs": [
    {
     "data": {
      "text/plain": [
       "'2.7.0'"
      ]
     },
     "execution_count": 2,
     "metadata": {},
     "output_type": "execute_result"
    }
   ],
   "source": [
    "snap.__version__"
   ]
  },
  {
   "cell_type": "markdown",
   "id": "b7e60ff4",
   "metadata": {},
   "source": [
    "## Read RNA metadata"
   ]
  },
  {
   "cell_type": "code",
   "execution_count": 3,
   "id": "1b27b4c9",
   "metadata": {
    "scrolled": true
   },
   "outputs": [
    {
     "name": "stdout",
     "output_type": "stream",
     "text": [
      "['QY_2600_processed.h5ad', 'QY_2602_processed.h5ad', 'QY_2604_processed.h5ad', 'QY_2606_processed.h5ad', 'QY_2608_processed.h5ad', 'QY_2610_processed.h5ad', 'QY_2612_processed.h5ad', 'QY_2614_processed.h5ad', 'QY_2616_processed.h5ad', 'QY_2618_processed.h5ad', 'QY_2620_processed.h5ad', 'QY_2622_processed.h5ad', 'QY_2624_processed.h5ad', 'QY_2626_processed.h5ad', 'QY_2661_processed.h5ad', 'QY_2663_processed.h5ad']\n"
     ]
    }
   ],
   "source": [
    "rmeta = pd.read_csv('FNIH_Heart_cluster/FNIH_Heart_pool_DPT_SNG_SoupX_reference_mapping_filtered.meta.xls', sep = '\\t')\n",
    "dna = np.unique(rmeta['dna'].dropna())\n",
    "file_dna = [name + \"_processed.h5ad\" for name in dna]\n",
    "print(file_dna)"
   ]
  },
  {
   "cell_type": "code",
   "execution_count": 7,
   "id": "bfe2cc5d",
   "metadata": {
    "collapsed": true
   },
   "outputs": [
    {
     "name": "stderr",
     "output_type": "stream",
     "text": [
      "/tmp/ipykernel_1619150/3163936700.py:5: DeprecationWarning: `Series._import_from_c` is deprecated. use _import_arrow_from_c; if you are using an extension, please compile it with latest 'pyo3-polars'\n",
      "  tmp_meta = pd.DataFrame(data.obs[:], index = [dna[i] + \":\" + dd for dd in data.obs_names], columns = data.obs[:].columns)\n",
      "/tmp/ipykernel_1619150/3163936700.py:5: DeprecationWarning: `Series._import_from_c` is deprecated. use _import_arrow_from_c; if you are using an extension, please compile it with latest 'pyo3-polars'\n",
      "  tmp_meta = pd.DataFrame(data.obs[:], index = [dna[i] + \":\" + dd for dd in data.obs_names], columns = data.obs[:].columns)\n",
      "/tmp/ipykernel_1619150/3163936700.py:5: DeprecationWarning: `Series._import_from_c` is deprecated. use _import_arrow_from_c; if you are using an extension, please compile it with latest 'pyo3-polars'\n",
      "  tmp_meta = pd.DataFrame(data.obs[:], index = [dna[i] + \":\" + dd for dd in data.obs_names], columns = data.obs[:].columns)\n",
      "/tmp/ipykernel_1619150/3163936700.py:5: DeprecationWarning: `Series._import_from_c` is deprecated. use _import_arrow_from_c; if you are using an extension, please compile it with latest 'pyo3-polars'\n",
      "  tmp_meta = pd.DataFrame(data.obs[:], index = [dna[i] + \":\" + dd for dd in data.obs_names], columns = data.obs[:].columns)\n",
      "/tmp/ipykernel_1619150/3163936700.py:5: DeprecationWarning: `Series._import_from_c` is deprecated. use _import_arrow_from_c; if you are using an extension, please compile it with latest 'pyo3-polars'\n",
      "  tmp_meta = pd.DataFrame(data.obs[:], index = [dna[i] + \":\" + dd for dd in data.obs_names], columns = data.obs[:].columns)\n",
      "/tmp/ipykernel_1619150/3163936700.py:5: DeprecationWarning: `Series._import_from_c` is deprecated. use _import_arrow_from_c; if you are using an extension, please compile it with latest 'pyo3-polars'\n",
      "  tmp_meta = pd.DataFrame(data.obs[:], index = [dna[i] + \":\" + dd for dd in data.obs_names], columns = data.obs[:].columns)\n",
      "/tmp/ipykernel_1619150/3163936700.py:5: DeprecationWarning: `Series._import_from_c` is deprecated. use _import_arrow_from_c; if you are using an extension, please compile it with latest 'pyo3-polars'\n",
      "  tmp_meta = pd.DataFrame(data.obs[:], index = [dna[i] + \":\" + dd for dd in data.obs_names], columns = data.obs[:].columns)\n",
      "/tmp/ipykernel_1619150/3163936700.py:5: DeprecationWarning: `Series._import_from_c` is deprecated. use _import_arrow_from_c; if you are using an extension, please compile it with latest 'pyo3-polars'\n",
      "  tmp_meta = pd.DataFrame(data.obs[:], index = [dna[i] + \":\" + dd for dd in data.obs_names], columns = data.obs[:].columns)\n",
      "/tmp/ipykernel_1619150/3163936700.py:5: DeprecationWarning: `Series._import_from_c` is deprecated. use _import_arrow_from_c; if you are using an extension, please compile it with latest 'pyo3-polars'\n",
      "  tmp_meta = pd.DataFrame(data.obs[:], index = [dna[i] + \":\" + dd for dd in data.obs_names], columns = data.obs[:].columns)\n",
      "/tmp/ipykernel_1619150/3163936700.py:5: DeprecationWarning: `Series._import_from_c` is deprecated. use _import_arrow_from_c; if you are using an extension, please compile it with latest 'pyo3-polars'\n",
      "  tmp_meta = pd.DataFrame(data.obs[:], index = [dna[i] + \":\" + dd for dd in data.obs_names], columns = data.obs[:].columns)\n",
      "/tmp/ipykernel_1619150/3163936700.py:5: DeprecationWarning: `Series._import_from_c` is deprecated. use _import_arrow_from_c; if you are using an extension, please compile it with latest 'pyo3-polars'\n",
      "  tmp_meta = pd.DataFrame(data.obs[:], index = [dna[i] + \":\" + dd for dd in data.obs_names], columns = data.obs[:].columns)\n",
      "/tmp/ipykernel_1619150/3163936700.py:5: DeprecationWarning: `Series._import_from_c` is deprecated. use _import_arrow_from_c; if you are using an extension, please compile it with latest 'pyo3-polars'\n",
      "  tmp_meta = pd.DataFrame(data.obs[:], index = [dna[i] + \":\" + dd for dd in data.obs_names], columns = data.obs[:].columns)\n",
      "/tmp/ipykernel_1619150/3163936700.py:5: DeprecationWarning: `Series._import_from_c` is deprecated. use _import_arrow_from_c; if you are using an extension, please compile it with latest 'pyo3-polars'\n",
      "  tmp_meta = pd.DataFrame(data.obs[:], index = [dna[i] + \":\" + dd for dd in data.obs_names], columns = data.obs[:].columns)\n",
      "/tmp/ipykernel_1619150/3163936700.py:5: DeprecationWarning: `Series._import_from_c` is deprecated. use _import_arrow_from_c; if you are using an extension, please compile it with latest 'pyo3-polars'\n",
      "  tmp_meta = pd.DataFrame(data.obs[:], index = [dna[i] + \":\" + dd for dd in data.obs_names], columns = data.obs[:].columns)\n",
      "/tmp/ipykernel_1619150/3163936700.py:5: DeprecationWarning: `Series._import_from_c` is deprecated. use _import_arrow_from_c; if you are using an extension, please compile it with latest 'pyo3-polars'\n",
      "  tmp_meta = pd.DataFrame(data.obs[:], index = [dna[i] + \":\" + dd for dd in data.obs_names], columns = data.obs[:].columns)\n",
      "/tmp/ipykernel_1619150/3163936700.py:5: DeprecationWarning: `Series._import_from_c` is deprecated. use _import_arrow_from_c; if you are using an extension, please compile it with latest 'pyo3-polars'\n",
      "  tmp_meta = pd.DataFrame(data.obs[:], index = [dna[i] + \":\" + dd for dd in data.obs_names], columns = data.obs[:].columns)\n"
     ]
    }
   ],
   "source": [
    "### read in pre-processed DNA \n",
    "dmeta = []\n",
    "for i, file in enumerate(file_dna):\n",
    "    data = snap.read(\"snapatac/\" + file)\n",
    "    tmp_meta = pd.DataFrame(data.obs[:], index = [dna[i] + \":\" + dd for dd in data.obs_names], columns = data.obs[:].columns) \n",
    "    dmeta.append(tmp_meta[['n_fragment','frac_dup','frac_mito','doublet_probability','doublet_score']])\n",
    "    data.close()"
   ]
  },
  {
   "cell_type": "code",
   "execution_count": 7,
   "id": "829e75bc",
   "metadata": {},
   "outputs": [
    {
     "name": "stdout",
     "output_type": "stream",
     "text": [
      "16\n",
      "16\n"
     ]
    }
   ],
   "source": [
    "print(len(np.unique([str(element) for element in rmeta['dna']])))\n",
    "print(len(dmeta))"
   ]
  },
  {
   "cell_type": "code",
   "execution_count": 10,
   "id": "8ec7e871",
   "metadata": {},
   "outputs": [
    {
     "name": "stdout",
     "output_type": "stream",
     "text": [
      "(131297, 28)\n",
      "(131253, 33)\n"
     ]
    }
   ],
   "source": [
    "rmeta = pd.read_csv('FNIH_Heart_pool_DPT_SNG_SoupX_reference_mapping_filtered.meta.xls', sep = '\\t')\n",
    "cdmeta = pd.concat(dmeta, axis=0)\n",
    "\n",
    "rmeta['atac_bc'] = rmeta['dna_bc']\n",
    "rmeta['dna_bc'] = rmeta['dna'].astype(str) + \":\" + rmeta['atac_bc'].astype(str)\n",
    "cdmeta = cdmeta.merge(rmeta, right_on = 'dna_bc', left_index = True)\n",
    "cdmeta.head()\n",
    "\n",
    "print(rmeta.shape)\n",
    "print(cdmeta.shape)"
   ]
  },
  {
   "cell_type": "code",
   "execution_count": 14,
   "id": "d0bbe82c",
   "metadata": {},
   "outputs": [],
   "source": [
    "cdmeta.to_csv(\"duck.csv\")"
   ]
  },
  {
   "cell_type": "markdown",
   "id": "0ecd9494",
   "metadata": {},
   "source": [
    "## Read in DNA data, split and clustering using snapATAC2"
   ]
  },
  {
   "cell_type": "code",
   "execution_count": 12,
   "id": "d7cc0c0b",
   "metadata": {
    "scrolled": true
   },
   "outputs": [
    {
     "name": "stderr",
     "output_type": "stream",
     "text": [
      "Unable to create stacked arrays for these keys: fragment_paired\n",
      "/tmp/ipykernel_1144683/2072313686.py:7: DeprecationWarning: `Series._import_from_c` is deprecated. use _import_arrow_from_c; if you are using an extension, please compile it with latest 'pyo3-polars'\n",
      "  unique_cell_ids = [sa + ':' + bc for sa, bc in zip(data.obs['sample'], data.obs_names)]\n"
     ]
    }
   ],
   "source": [
    "data = snap.AnnDataSet(\n",
    "    adatas = [(name, \"snapatac/\" + adata) for name, adata in zip(dna, file_dna)],\n",
    "    filename = \"FNIH_Donor_pool.histone.h5ads\"\n",
    ")\n",
    "\n",
    "### make sure barcode is unique\n",
    "unique_cell_ids = [sa + ':' + bc for sa, bc in zip(data.obs['sample'], data.obs_names)]\n",
    "data.obs_names = unique_cell_ids"
   ]
  },
  {
   "cell_type": "code",
   "execution_count": 13,
   "id": "79e11041",
   "metadata": {
    "scrolled": true
   },
   "outputs": [
    {
     "name": "stderr",
     "output_type": "stream",
     "text": [
      "/tmp/ipykernel_1144683/1326490887.py:2: DeprecationWarning: `Series._import_from_c` is deprecated. use _import_arrow_from_c; if you are using an extension, please compile it with latest 'pyo3-polars'\n",
      "  data = data.to_adata()\n",
      "/tmp/ipykernel_1144683/1326490887.py:2: DeprecationWarning: `Series._import_from_c` is deprecated. use _import_arrow_from_c; if you are using an extension, please compile it with latest 'pyo3-polars'\n",
      "  data = data.to_adata()\n",
      "... storing 'n_fragment' as categorical\n",
      "... storing 'frac_dup' as categorical\n",
      "... storing 'frac_mito' as categorical\n",
      "... storing 'doublet_probability' as categorical\n",
      "... storing 'doublet_score_x' as categorical\n",
      "... storing 'orig.ident' as categorical\n",
      "... storing 'nCount_RNA' as categorical\n",
      "... storing 'nFeature_RNA' as categorical\n",
      "... storing 'percent.mt' as categorical\n",
      "... storing 'percent.ribo' as categorical\n",
      "... storing 'RNA_snn_res.0.3' as categorical\n",
      "... storing 'seurat_clusters' as categorical\n",
      "... storing 'doublet_score_y' as categorical\n",
      "... storing 'doublet_ident' as categorical\n",
      "... storing 'DROPLET.TYPE' as categorical\n",
      "... storing 'BEST.GUESS' as categorical\n",
      "... storing 'NEXT.GUESS' as categorical\n",
      "... storing 'rna' as categorical\n",
      "... storing 'rna_bc' as categorical\n",
      "... storing 'dna' as categorical\n",
      "... storing 'library_info' as categorical\n",
      "... storing 'Donor' as categorical\n",
      "... storing 'Batch' as categorical\n",
      "... storing 'Target' as categorical\n",
      "... storing 'nCount_SCT' as categorical\n",
      "... storing 'nFeature_SCT' as categorical\n",
      "... storing 'SCT_snn_res.1' as categorical\n",
      "... storing 'predicted.celltype' as categorical\n",
      "... storing 'predicted.celltype_scores' as categorical\n",
      "... storing 'predicted.cellsubtype' as categorical\n",
      "... storing 'predicted.cellsubtype_scores' as categorical\n",
      "... storing 'atac_bc' as categorical\n"
     ]
    },
    {
     "data": {
      "text/plain": [
       "AnnData object with n_obs × n_vars = 131253 × 202081\n",
       "    obs: 'n_fragment', 'frac_dup', 'frac_mito', 'doublet_probability', 'doublet_score_x', 'orig.ident', 'nCount_RNA', 'nFeature_RNA', 'percent.mt', 'percent.ribo', 'RNA_snn_res.0.3', 'seurat_clusters', 'doublet_score_y', 'doublet_ident', 'DROPLET.TYPE', 'BEST.GUESS', 'NEXT.GUESS', 'rna', 'rna_bc', 'dna', 'library_info', 'dna_bc', 'Donor', 'Batch', 'Target', 'nCount_SCT', 'nFeature_SCT', 'SCT_snn_res.1', 'predicted.celltype', 'predicted.celltype_scores', 'predicted.cellsubtype', 'predicted.cellsubtype_scores', 'atac_bc'\n",
       "    uns: 'AnnDataSet'"
      ]
     },
     "execution_count": 13,
     "metadata": {},
     "output_type": "execute_result"
    }
   ],
   "source": [
    "### Convert to anndata in memory and subset singlet\n",
    "data = data.to_adata()\n",
    "tdata = data[np.intersect1d(data.obs.index, cdmeta['dna_bc']),:]\n",
    "\n",
    "cdmeta.index = cdmeta['dna_bc']\n",
    "tdata.obs = cdmeta.loc[tdata.obs_names]\n",
    "tdata.obs = tdata.obs.astype(str)\n",
    "tdata.write(\"FNIH_Donor_pool.histone.h5ad\")\n",
    "\n",
    "tdata"
   ]
  },
  {
   "cell_type": "code",
   "execution_count": 53,
   "id": "8ed5c515",
   "metadata": {},
   "outputs": [],
   "source": [
    "### calculate for heatmap\n",
    "tdata.obs['condition'] = tdata.obs['predicted.celltype'].astype(str) + \"_\" + tdata.obs['Target'].astype(str)\n",
    "rpm = snap.tl.aggregate_X(tdata, groupby = 'condition', normalize = \"RPM\")\n",
    "\n",
    "drpm = pd.DataFrame(rpm.X, columns = rpm.var_names, index = rpm.obs_names)\n",
    "drpm.T.to_csv('FNIH_Heart_pool.histone_RPM_by_condition.csv')"
   ]
  },
  {
   "cell_type": "markdown",
   "id": "451aeb87",
   "metadata": {},
   "source": [
    "## Split into K27ac and K27me3"
   ]
  },
  {
   "cell_type": "code",
   "execution_count": 15,
   "id": "655913fc",
   "metadata": {},
   "outputs": [],
   "source": [
    "k27ac_data = tdata[tdata.obs[\"Target\"] == \"H3K27ac\", :]\n",
    "k27me3_data = tdata[tdata.obs[\"Target\"] == \"H3K27me3\", :]"
   ]
  },
  {
   "cell_type": "code",
   "execution_count": 16,
   "id": "13de4aa7",
   "metadata": {},
   "outputs": [
    {
     "name": "stderr",
     "output_type": "stream",
     "text": [
      "/home/y2xie/miniconda3/envs/seurat/lib/python3.11/site-packages/snapatac2/preprocessing/_basic.py:976: ImplicitModificationWarning: Trying to modify attribute `.var` of view, initializing view as actual.\n",
      "  adata.var['count'] = count\n",
      "2024-09-17 08:47:29 - INFO - Selected 99907 features.\n",
      "2024-09-17 08:49:09,375 - harmonypy - INFO - Computing initial centroids with sklearn.KMeans...\n",
      "2024-09-17 08:49:09 - INFO - Computing initial centroids with sklearn.KMeans...\n",
      "2024-09-17 08:49:13,876 - harmonypy - INFO - sklearn.KMeans initialization complete.\n",
      "2024-09-17 08:49:13 - INFO - sklearn.KMeans initialization complete.\n",
      "2024-09-17 08:49:14,091 - harmonypy - INFO - Iteration 1 of 10\n",
      "2024-09-17 08:49:14 - INFO - Iteration 1 of 10\n",
      "2024-09-17 08:49:24,364 - harmonypy - INFO - Iteration 2 of 10\n",
      "2024-09-17 08:49:24 - INFO - Iteration 2 of 10\n",
      "2024-09-17 08:49:34,395 - harmonypy - INFO - Iteration 3 of 10\n",
      "2024-09-17 08:49:34 - INFO - Iteration 3 of 10\n",
      "2024-09-17 08:49:44,566 - harmonypy - INFO - Iteration 4 of 10\n",
      "2024-09-17 08:49:44 - INFO - Iteration 4 of 10\n",
      "2024-09-17 08:49:54,111 - harmonypy - INFO - Iteration 5 of 10\n",
      "2024-09-17 08:49:54 - INFO - Iteration 5 of 10\n",
      "2024-09-17 08:49:57,356 - harmonypy - INFO - Converged after 5 iterations\n",
      "2024-09-17 08:49:57 - INFO - Converged after 5 iterations\n"
     ]
    },
    {
     "name": "stdout",
     "output_type": "stream",
     "text": [
      "performing leiden clustering...\n"
     ]
    },
    {
     "name": "stderr",
     "output_type": "stream",
     "text": [
      "/home/y2xie/miniconda3/envs/seurat/lib/python3.11/site-packages/tqdm/auto.py:21: TqdmWarning: IProgress not found. Please update jupyter and ipywidgets. See https://ipywidgets.readthedocs.io/en/stable/user_install.html\n",
      "  from .autonotebook import tqdm as notebook_tqdm\n",
      "/home/y2xie/miniconda3/envs/seurat/lib/python3.11/site-packages/umap/umap_.py:1943: UserWarning: n_jobs value -1 overridden to 1 by setting random_state. Use no seed for parallelism.\n",
      "  warn(f\"n_jobs value {self.n_jobs} overridden to 1 by setting random_state. Use no seed for parallelism.\")\n"
     ]
    }
   ],
   "source": [
    "tmp = k27ac_data\n",
    "snap.pp.select_features(tmp, n_features = 100000,\n",
    "                        blacklist = \"/projects/ps-renlab/y2xie/projects/genome_ref/hg38_CnR_blacklist.bed\")\n",
    "snap.tl.spectral(tmp, weighted_by_sd = True, random_state = 921)\n",
    "if len(tmp.obs_names) >= 500000:\n",
    "    k = 50\n",
    "elif (len(tmp.obs_names) >= 200000 & len(tmp.obs_names) < 500000):\n",
    "    k = 25\n",
    "else:\n",
    "    k = 15\n",
    "\n",
    "### Batch correction\n",
    "snap.pp.harmony(tmp, batch = 'library_info')\n",
    "\n",
    "print(\"performing leiden clustering...\")\n",
    "snap.pp.knn(tmp, n_neighbors = k, random_state = 921, use_rep = 'X_spectral_harmony')\n",
    "snap.tl.umap(tmp, random_state = 921, use_rep = 'X_spectral_harmony')\n",
    "snap.tl.leiden(tmp, resolution = 0.5, objective_function = 'RBConfiguration',\n",
    "               use_leidenalg = True, weighted = True)\n",
    "# tmp.write(\"FNIH_Liver_pool_DPT_H3K27ac.h5ad\")\n",
    "k27ac_data = tmp"
   ]
  },
  {
   "cell_type": "code",
   "execution_count": 17,
   "id": "026d170b",
   "metadata": {},
   "outputs": [
    {
     "name": "stderr",
     "output_type": "stream",
     "text": [
      "/home/y2xie/miniconda3/envs/seurat/lib/python3.11/site-packages/snapatac2/preprocessing/_basic.py:976: ImplicitModificationWarning: Trying to modify attribute `.var` of view, initializing view as actual.\n",
      "  adata.var['count'] = count\n",
      "2024-09-17 08:51:33 - INFO - Selected 99876 features.\n",
      "2024-09-17 08:53:21,125 - harmonypy - INFO - Computing initial centroids with sklearn.KMeans...\n",
      "2024-09-17 08:53:21 - INFO - Computing initial centroids with sklearn.KMeans...\n",
      "2024-09-17 08:53:25,160 - harmonypy - INFO - sklearn.KMeans initialization complete.\n",
      "2024-09-17 08:53:25 - INFO - sklearn.KMeans initialization complete.\n",
      "2024-09-17 08:53:25,350 - harmonypy - INFO - Iteration 1 of 10\n",
      "2024-09-17 08:53:25 - INFO - Iteration 1 of 10\n",
      "2024-09-17 08:53:34,142 - harmonypy - INFO - Iteration 2 of 10\n",
      "2024-09-17 08:53:34 - INFO - Iteration 2 of 10\n",
      "2024-09-17 08:53:42,778 - harmonypy - INFO - Iteration 3 of 10\n",
      "2024-09-17 08:53:42 - INFO - Iteration 3 of 10\n",
      "2024-09-17 08:53:47,612 - harmonypy - INFO - Converged after 3 iterations\n",
      "2024-09-17 08:53:47 - INFO - Converged after 3 iterations\n"
     ]
    },
    {
     "name": "stdout",
     "output_type": "stream",
     "text": [
      "performing leiden clustering...\n"
     ]
    },
    {
     "name": "stderr",
     "output_type": "stream",
     "text": [
      "/home/y2xie/miniconda3/envs/seurat/lib/python3.11/site-packages/umap/umap_.py:1943: UserWarning: n_jobs value -1 overridden to 1 by setting random_state. Use no seed for parallelism.\n",
      "  warn(f\"n_jobs value {self.n_jobs} overridden to 1 by setting random_state. Use no seed for parallelism.\")\n"
     ]
    }
   ],
   "source": [
    "tmp = k27me3_data\n",
    "snap.pp.select_features(tmp, n_features = 100000,\n",
    "                        blacklist = \"/projects/ps-renlab/y2xie/projects/genome_ref/hg38_CnR_blacklist.bed\")\n",
    "snap.tl.spectral(tmp, weighted_by_sd = True, random_state = 921)\n",
    "if len(tmp.obs_names) >= 500000:\n",
    "    k = 50\n",
    "elif (len(tmp.obs_names) >= 200000 & len(tmp.obs_names) < 500000):\n",
    "    k = 25\n",
    "else:\n",
    "    k = 15\n",
    "\n",
    "### Batch correction\n",
    "snap.pp.harmony(tmp, batch = 'library_info')\n",
    "\n",
    "print(\"performing leiden clustering...\")\n",
    "snap.pp.knn(tmp, n_neighbors = k, random_state = 921, use_rep = 'X_spectral_harmony')\n",
    "snap.tl.umap(tmp, random_state = 921, use_rep = 'X_spectral_harmony')\n",
    "snap.tl.leiden(tmp, resolution = 0.5, objective_function = 'RBConfiguration',\n",
    "               use_leidenalg = True, weighted = True)\n",
    "# tmp.write(\"FNIH_Liver_pool_DPT_H3K27me3.h5ad\")\n",
    "k27me3_data = tmp"
   ]
  },
  {
   "cell_type": "code",
   "execution_count": 19,
   "id": "6fb4b87e",
   "metadata": {
    "scrolled": false
   },
   "outputs": [
    {
     "data": {
      "image/png": "[encoded data removed]",
      "text/plain": [
       "<Figure size 1500x700 with 2 Axes>"
      ]
     },
     "metadata": {},
     "output_type": "display_data"
    }
   ],
   "source": [
    "hhue = 'predicted.celltype'\n",
    "\n",
    "fig, axes = plt.subplots(1, 2, figsize=(15, 7))\n",
    "for i in range(len([k27ac_data, k27me3_data])):\n",
    "    data = [k27ac_data, k27me3_data][i]\n",
    "    ttarget = np.unique(data.obs['Target'])\n",
    "    yi = data.obsm['X_umap']\n",
    "    lmeta = data.obs\n",
    "\n",
    "    ax = axes[i]\n",
    "    sns.scatterplot(x=yi[:, 0], y=yi[:, 1], ax=ax, s=8, alpha=0.8, #palette = celltype_colors,\n",
    "                    linewidth=0, hue=lmeta[hhue], legend = False)\n",
    "    ax.set_title(ttarget)\n",
    "    sns.despine()\n",
    "    ax.spines['left'].set_linewidth(2) \n",
    "    ax.spines['bottom'].set_linewidth(2)\n",
    "    \n",
    "    ### manually label point\n",
    "    representative_points = []\n",
    "    for cluster in np.unique(lmeta[hhue]):\n",
    "        cluster_indices = np.where(lmeta == cluster)[0]\n",
    "        centroid = np.mean(yi[cluster_indices], axis=0)\n",
    "        representative_points.append(centroid)\n",
    "\n",
    "    for ii, label in enumerate(np.unique(lmeta[hhue])):\n",
    "        ax.annotate(label, (representative_points[ii][0], representative_points[ii][1]), fontsize=10, alpha=0.7)\n",
    "\n",
    "\n",
    "plt.tight_layout()"
   ]
  },
  {
   "cell_type": "markdown",
   "id": "ee0f48fc",
   "metadata": {},
   "source": [
    "## Retained only euchromsome for clustering"
   ]
  },
  {
   "cell_type": "code",
   "execution_count": 20,
   "id": "03277ad3",
   "metadata": {},
   "outputs": [
    {
     "name": "stderr",
     "output_type": "stream",
     "text": [
      "/home/y2xie/miniconda3/envs/seurat/lib/python3.11/site-packages/snapatac2/preprocessing/_basic.py:976: ImplicitModificationWarning: Trying to modify attribute `.var` of view, initializing view as actual.\n",
      "  adata.var['count'] = count\n",
      "2024-09-17 12:25:34 - INFO - Selected 99910 features.\n",
      "2024-09-17 12:27:42,230 - harmonypy - INFO - Computing initial centroids with sklearn.KMeans...\n",
      "2024-09-17 12:27:42 - INFO - Computing initial centroids with sklearn.KMeans...\n",
      "2024-09-17 12:27:46,524 - harmonypy - INFO - sklearn.KMeans initialization complete.\n",
      "2024-09-17 12:27:46 - INFO - sklearn.KMeans initialization complete.\n",
      "2024-09-17 12:27:46,769 - harmonypy - INFO - Iteration 1 of 10\n",
      "2024-09-17 12:27:46 - INFO - Iteration 1 of 10\n",
      "2024-09-17 12:27:58,154 - harmonypy - INFO - Iteration 2 of 10\n",
      "2024-09-17 12:27:58 - INFO - Iteration 2 of 10\n",
      "2024-09-17 12:28:10,304 - harmonypy - INFO - Iteration 3 of 10\n",
      "2024-09-17 12:28:10 - INFO - Iteration 3 of 10\n",
      "2024-09-17 12:28:22,256 - harmonypy - INFO - Iteration 4 of 10\n",
      "2024-09-17 12:28:22 - INFO - Iteration 4 of 10\n",
      "2024-09-17 12:28:26,657 - harmonypy - INFO - Converged after 4 iterations\n",
      "2024-09-17 12:28:26 - INFO - Converged after 4 iterations\n"
     ]
    },
    {
     "name": "stdout",
     "output_type": "stream",
     "text": [
      "performing leiden clustering...\n"
     ]
    },
    {
     "name": "stderr",
     "output_type": "stream",
     "text": [
      "/home/y2xie/miniconda3/envs/seurat/lib/python3.11/site-packages/umap/umap_.py:1943: UserWarning: n_jobs value -1 overridden to 1 by setting random_state. Use no seed for parallelism.\n",
      "  warn(f\"n_jobs value {self.n_jobs} overridden to 1 by setting random_state. Use no seed for parallelism.\")\n"
     ]
    }
   ],
   "source": [
    "chrx = [ele for ele in k27ac_data.var_names if 'chrX' in ele]\n",
    "keep_vars = ~k27ac_data.var_names.isin(chrx)\n",
    "k27ac_data = k27ac_data[:, keep_vars]\n",
    "\n",
    "tmp = k27ac_data\n",
    "snap.pp.select_features(tmp, n_features = 100000,\n",
    "                        blacklist = \"/projects/ps-renlab/y2xie/projects/genome_ref/hg38_CnR_blacklist.bed\")\n",
    "snap.tl.spectral(tmp, weighted_by_sd = True, random_state = 921)\n",
    "if len(tmp.obs_names) >= 500000:\n",
    "    k = 50\n",
    "elif (len(tmp.obs_names) >= 200000 & len(tmp.obs_names) < 500000):\n",
    "    k = 25\n",
    "else:\n",
    "    k = 15\n",
    "\n",
    "### Batch correction\n",
    "snap.pp.harmony(tmp, batch = 'library_info')\n",
    "\n",
    "print(\"performing leiden clustering...\")\n",
    "snap.pp.knn(tmp, n_neighbors = k, random_state = 921, use_rep = 'X_spectral_harmony')\n",
    "snap.tl.umap(tmp, random_state = 921, use_rep = 'X_spectral_harmony')\n",
    "snap.tl.leiden(tmp, resolution = 0.5, objective_function = 'RBConfiguration',\n",
    "               use_leidenalg = True, weighted = True)\n",
    "k27ac_data = tmp"
   ]
  },
  {
   "cell_type": "code",
   "execution_count": 21,
   "id": "73b43eae",
   "metadata": {},
   "outputs": [
    {
     "name": "stderr",
     "output_type": "stream",
     "text": [
      "/home/y2xie/miniconda3/envs/seurat/lib/python3.11/site-packages/snapatac2/preprocessing/_basic.py:976: ImplicitModificationWarning: Trying to modify attribute `.var` of view, initializing view as actual.\n",
      "  adata.var['count'] = count\n",
      "2024-09-17 12:30:36 - INFO - Selected 99870 features.\n",
      "2024-09-17 12:32:51,050 - harmonypy - INFO - Computing initial centroids with sklearn.KMeans...\n",
      "2024-09-17 12:32:51 - INFO - Computing initial centroids with sklearn.KMeans...\n",
      "2024-09-17 12:32:54,996 - harmonypy - INFO - sklearn.KMeans initialization complete.\n",
      "2024-09-17 12:32:54 - INFO - sklearn.KMeans initialization complete.\n",
      "2024-09-17 12:32:55,194 - harmonypy - INFO - Iteration 1 of 10\n",
      "2024-09-17 12:32:55 - INFO - Iteration 1 of 10\n",
      "2024-09-17 12:33:05,318 - harmonypy - INFO - Iteration 2 of 10\n",
      "2024-09-17 12:33:05 - INFO - Iteration 2 of 10\n",
      "2024-09-17 12:33:16,201 - harmonypy - INFO - Iteration 3 of 10\n",
      "2024-09-17 12:33:16 - INFO - Iteration 3 of 10\n",
      "2024-09-17 12:33:24,047 - harmonypy - INFO - Converged after 3 iterations\n",
      "2024-09-17 12:33:24 - INFO - Converged after 3 iterations\n"
     ]
    },
    {
     "name": "stdout",
     "output_type": "stream",
     "text": [
      "performing leiden clustering...\n"
     ]
    },
    {
     "name": "stderr",
     "output_type": "stream",
     "text": [
      "/home/y2xie/miniconda3/envs/seurat/lib/python3.11/site-packages/umap/umap_.py:1943: UserWarning: n_jobs value -1 overridden to 1 by setting random_state. Use no seed for parallelism.\n",
      "  warn(f\"n_jobs value {self.n_jobs} overridden to 1 by setting random_state. Use no seed for parallelism.\")\n"
     ]
    }
   ],
   "source": [
    "chrx = [ele for ele in k27me3_data.var_names if 'chrX' in ele]\n",
    "keep_vars = ~k27me3_data.var_names.isin(chrx)\n",
    "k27me3_data = k27me3_data[:, keep_vars]\n",
    "\n",
    "tmp = k27me3_data\n",
    "snap.pp.select_features(tmp, n_features = 100000,\n",
    "                        blacklist = \"/projects/ps-renlab/y2xie/projects/genome_ref/hg38_CnR_blacklist.bed\")\n",
    "snap.tl.spectral(tmp, weighted_by_sd = True, random_state = 921)\n",
    "if len(tmp.obs_names) >= 500000:\n",
    "    k = 50\n",
    "elif (len(tmp.obs_names) >= 200000 & len(tmp.obs_names) < 500000):\n",
    "    k = 25\n",
    "else:\n",
    "    k = 15\n",
    "\n",
    "### Batch correction\n",
    "snap.pp.harmony(tmp, batch = 'library_info')\n",
    "\n",
    "print(\"performing leiden clustering...\")\n",
    "snap.pp.knn(tmp, n_neighbors = k, random_state = 921, use_rep = 'X_spectral_harmony')\n",
    "snap.tl.umap(tmp, random_state = 921, use_rep = 'X_spectral_harmony')\n",
    "snap.tl.leiden(tmp, resolution = 0.5, objective_function = 'RBConfiguration',\n",
    "               use_leidenalg = True, weighted = True)\n",
    "k27me3_data = tmp"
   ]
  },
  {
   "cell_type": "code",
   "execution_count": 22,
   "id": "39b137d2",
   "metadata": {},
   "outputs": [
    {
     "data": {
      "image/png": "[encoded data removed]",
      "text/plain": [
       "<Figure size 1500x700 with 2 Axes>"
      ]
     },
     "metadata": {},
     "output_type": "display_data"
    }
   ],
   "source": [
    "hhue = 'predicted.celltype'\n",
    "\n",
    "fig, axes = plt.subplots(1, 2, figsize=(15, 7))\n",
    "for i in range(len([k27ac_data, k27me3_data])):\n",
    "    data = [k27ac_data, k27me3_data][i]\n",
    "    ttarget = np.unique(data.obs['Target'])\n",
    "    yi = data.obsm['X_umap']\n",
    "    lmeta = data.obs\n",
    "\n",
    "    ax = axes[i]\n",
    "    sns.scatterplot(x=yi[:, 0], y=yi[:, 1], ax=ax, s=8, alpha=0.8, # palette = celltype_colors,\n",
    "                    linewidth=0, hue=lmeta[hhue], legend = False)\n",
    "    ax.set_title(ttarget)\n",
    "    sns.despine()\n",
    "    ax.spines['left'].set_linewidth(2) \n",
    "    ax.spines['bottom'].set_linewidth(2)\n",
    "    \n",
    "    ### manually label point\n",
    "    representative_points = []\n",
    "    for cluster in np.unique(lmeta[hhue]):\n",
    "        cluster_indices = np.where(lmeta == cluster)[0]\n",
    "        centroid = np.mean(yi[cluster_indices], axis=0)\n",
    "        representative_points.append(centroid)\n",
    "\n",
    "    for ii, label in enumerate(np.unique(lmeta[hhue])):\n",
    "        ax.annotate(label, (representative_points[ii][0], representative_points[ii][1]), fontsize=10, alpha=0.7)\n",
    "\n",
    "\n",
    "plt.tight_layout()"
   ]
  },
  {
   "cell_type": "code",
   "execution_count": 23,
   "id": "6a8d4e7f",
   "metadata": {
    "scrolled": true
   },
   "outputs": [
    {
     "name": "stderr",
     "output_type": "stream",
     "text": [
      "... storing 'n_fragment' as categorical\n",
      "... storing 'frac_dup' as categorical\n",
      "... storing 'frac_mito' as categorical\n",
      "... storing 'doublet_probability' as categorical\n",
      "... storing 'doublet_score_x' as categorical\n",
      "... storing 'orig.ident' as categorical\n",
      "... storing 'nCount_RNA' as categorical\n",
      "... storing 'nFeature_RNA' as categorical\n",
      "... storing 'percent.mt' as categorical\n",
      "... storing 'percent.ribo' as categorical\n",
      "... storing 'RNA_snn_res.0.3' as categorical\n",
      "... storing 'seurat_clusters' as categorical\n",
      "... storing 'doublet_score_y' as categorical\n",
      "... storing 'doublet_ident' as categorical\n",
      "... storing 'DROPLET.TYPE' as categorical\n",
      "... storing 'BEST.GUESS' as categorical\n",
      "... storing 'NEXT.GUESS' as categorical\n",
      "... storing 'rna' as categorical\n",
      "... storing 'rna_bc' as categorical\n",
      "... storing 'dna' as categorical\n",
      "... storing 'library_info' as categorical\n",
      "... storing 'Donor' as categorical\n",
      "... storing 'Batch' as categorical\n",
      "... storing 'Target' as categorical\n",
      "... storing 'nCount_SCT' as categorical\n",
      "... storing 'nFeature_SCT' as categorical\n",
      "... storing 'SCT_snn_res.1' as categorical\n",
      "... storing 'predicted.celltype' as categorical\n",
      "... storing 'predicted.celltype_scores' as categorical\n",
      "... storing 'predicted.cellsubtype' as categorical\n",
      "... storing 'predicted.cellsubtype_scores' as categorical\n",
      "... storing 'atac_bc' as categorical\n",
      "... storing 'leiden' as categorical\n",
      "... storing 'n_fragment' as categorical\n",
      "... storing 'frac_dup' as categorical\n",
      "... storing 'frac_mito' as categorical\n",
      "... storing 'doublet_probability' as categorical\n",
      "... storing 'doublet_score_x' as categorical\n",
      "... storing 'orig.ident' as categorical\n",
      "... storing 'nCount_RNA' as categorical\n",
      "... storing 'nFeature_RNA' as categorical\n",
      "... storing 'percent.mt' as categorical\n",
      "... storing 'percent.ribo' as categorical\n",
      "... storing 'RNA_snn_res.0.3' as categorical\n",
      "... storing 'seurat_clusters' as categorical\n",
      "... storing 'doublet_score_y' as categorical\n",
      "... storing 'doublet_ident' as categorical\n",
      "... storing 'DROPLET.TYPE' as categorical\n",
      "... storing 'BEST.GUESS' as categorical\n",
      "... storing 'NEXT.GUESS' as categorical\n",
      "... storing 'rna' as categorical\n",
      "... storing 'rna_bc' as categorical\n",
      "... storing 'dna' as categorical\n",
      "... storing 'library_info' as categorical\n",
      "... storing 'Donor' as categorical\n",
      "... storing 'Batch' as categorical\n",
      "... storing 'Target' as categorical\n",
      "... storing 'nCount_SCT' as categorical\n",
      "... storing 'nFeature_SCT' as categorical\n",
      "... storing 'SCT_snn_res.1' as categorical\n",
      "... storing 'predicted.celltype' as categorical\n",
      "... storing 'predicted.celltype_scores' as categorical\n",
      "... storing 'predicted.cellsubtype' as categorical\n",
      "... storing 'predicted.cellsubtype_scores' as categorical\n",
      "... storing 'atac_bc' as categorical\n",
      "... storing 'leiden' as categorical\n"
     ]
    }
   ],
   "source": [
    "## save DNA objects\n",
    "k27ac_data.obs = k27ac_data.obs.astype(str)\n",
    "k27ac_data.write(\"FNIH_Heart_pool.H3K27ac.h5ad\")\n",
    "k27me3_data.obs = k27me3_data.obs.astype(str)\n",
    "k27me3_data.write(\"FNIH_Heart_pool.H3K27me3.h5ad\")"
   ]
  },
  {
   "cell_type": "code",
   "execution_count": 5,
   "id": "0a3c824a",
   "metadata": {},
   "outputs": [],
   "source": [
    "k27ac_data = snap.read(\"FNIH_Heart_cluster/FNIH_Heart_pool.H3K27ac.h5ad\", backed = None)\n",
    "k27me3_data = snap.read(\"FNIH_Heart_cluster/FNIH_Heart_pool.H3K27me3.h5ad\", backed = None)\n",
    "\n",
    "dmeta = pd.concat([k27ac_data.obs, k27me3_data.obs], axis = 0)"
   ]
  },
  {
   "cell_type": "code",
   "execution_count": 24,
   "id": "5f8516dd",
   "metadata": {},
   "outputs": [],
   "source": [
    "### Also export umap cood to save\n",
    "pd.DataFrame(k27ac_data.obsm['X_umap'], index=k27ac_data.obs_names).to_csv(\"FNIH_Heart_pool.H3K27ac.umap.csv\")\n",
    "pd.DataFrame(k27me3_data.obsm['X_umap'], index=k27me3_data.obs_names).to_csv(\"FNIH_Heart_pool.H3K27me3.umap.csv\")"
   ]
  },
  {
   "cell_type": "markdown",
   "id": "b5cd60b4",
   "metadata": {},
   "source": [
    "### Calculation cell type trees using histone data"
   ]
  },
  {
   "cell_type": "code",
   "execution_count": 29,
   "id": "36abefba",
   "metadata": {},
   "outputs": [
    {
     "name": "stderr",
     "output_type": "stream",
     "text": [
      "/tmp/ipykernel_4188860/2753830593.py:1: DtypeWarning: Columns (4,5,6,7,54,55,58,59,60,62,63,64,66,74,75,78,79,80,81,82,83,84,88,89,90,91,92,93,94,95,96,97,98,99,101,103) have mixed types. Specify dtype option on import or set low_memory=False.\n",
      "  nrmeta = pd.read_csv('integration/CAREHF_Multiome_DPT_RNA_int.meta.csv', index_col=0)\n"
     ]
    }
   ],
   "source": [
    "nrmeta = pd.read_csv('integration/CAREHF_Multiome_DPT_RNA_int.meta.csv', index_col=0)\n",
    "nrmeta = nrmeta.loc[nrmeta['orig.ident'] == 'DPT']\n",
    "nrmeta.index = nrmeta['dna'] + \":\" + nrmeta['dna_bc']"
   ]
  },
  {
   "cell_type": "code",
   "execution_count": 43,
   "id": "056f9c28",
   "metadata": {},
   "outputs": [
    {
     "name": "stdout",
     "output_type": "stream",
     "text": [
      "67476\n",
      "62167\n"
     ]
    }
   ],
   "source": [
    "print(len(nrmeta.loc[(nrmeta['integrated_majortype'] == 1) & (nrmeta['Target'] == 'H3K27ac')].index))\n",
    "print(len(nrmeta.loc[(nrmeta['integrated_majortype'] == 1) & (nrmeta['Target'] == 'H3K27me3')].index))"
   ]
  },
  {
   "cell_type": "code",
   "execution_count": 38,
   "id": "20223779",
   "metadata": {},
   "outputs": [
    {
     "name": "stdout",
     "output_type": "stream",
     "text": [
      "67462\n",
      "62138\n"
     ]
    }
   ],
   "source": [
    "cell1 = np.intersect1d(nrmeta.loc[(nrmeta['integrated_majortype'] == 1) & (nrmeta['Target'] == 'H3K27ac')].index, k27ac_data.obs_names)\n",
    "cell2 = np.intersect1d(nrmeta.loc[(nrmeta['integrated_majortype'] == 1) & (nrmeta['Target'] == 'H3K27me3')].index, k27me3_data.obs_names)\n",
    "print(len(cell1))\n",
    "print(len(cell2))"
   ]
  },
  {
   "cell_type": "code",
   "execution_count": 41,
   "id": "3e60760e",
   "metadata": {},
   "outputs": [
    {
     "name": "stderr",
     "output_type": "stream",
     "text": [
      "/tmp/ipykernel_4188860/3795961885.py:5: ImplicitModificationWarning: Trying to modify attribute `.obs` of view, initializing view as actual.\n",
      "  tdata.obs['n_fragment'] = pd.to_numeric(tdata.obs['n_fragment'])\n",
      "/tmp/ipykernel_4188860/3795961885.py:6: FutureWarning: The default of observed=False is deprecated and will be changed to True in a future version of pandas. Pass observed=False to retain current behavior or observed=True to adopt the future default and silence this warning.\n",
      "  total_frag = tdata.obs.groupby('predicted.celltype')['n_fragment'].sum()\n"
     ]
    }
   ],
   "source": [
    "tdata = k27ac_data[cell1,:]\n",
    "rpm = snap.tl.aggregate_X(tdata, groupby = 'predicted.celltype')\n",
    "rpm = pd.DataFrame(rpm.X.T, columns = rpm.obs_names, index = rpm.var_names)\n",
    "\n",
    "tdata.obs['n_fragment'] = pd.to_numeric(tdata.obs['n_fragment'])\n",
    "total_frag = tdata.obs.groupby('predicted.celltype')['n_fragment'].sum()\n",
    "cpm = (rpm / total_frag) * 1e6\n",
    "cpm.to_csv('FNIH_Heart_signal/FNIH_Heart_pool.H3K27ac.15kb.cpm.csv')\n",
    "cpm[k27ac_data.var.selected].to_csv('FNIH_Heart_signal/FNIH_Heart_pool.H3K27ac.var_15kb.cpm.csv')"
   ]
  },
  {
   "cell_type": "code",
   "execution_count": 42,
   "id": "7a36fd8f",
   "metadata": {
    "scrolled": true
   },
   "outputs": [
    {
     "name": "stderr",
     "output_type": "stream",
     "text": [
      "/tmp/ipykernel_4188860/1812342028.py:5: ImplicitModificationWarning: Trying to modify attribute `.obs` of view, initializing view as actual.\n",
      "  tdata.obs['n_fragment'] = pd.to_numeric(tdata.obs['n_fragment'])\n",
      "/tmp/ipykernel_4188860/1812342028.py:6: FutureWarning: The default of observed=False is deprecated and will be changed to True in a future version of pandas. Pass observed=False to retain current behavior or observed=True to adopt the future default and silence this warning.\n",
      "  total_frag = tdata.obs.groupby('predicted.celltype')['n_fragment'].sum()\n"
     ]
    }
   ],
   "source": [
    "tdata = k27me3_data[cell2,:]\n",
    "rpm = snap.tl.aggregate_X(tdata, groupby = 'predicted.celltype')\n",
    "rpm = pd.DataFrame(rpm.X.T, columns = rpm.obs_names, index = rpm.var_names)\n",
    "\n",
    "tdata.obs['n_fragment'] = pd.to_numeric(tdata.obs['n_fragment'])\n",
    "total_frag = tdata.obs.groupby('predicted.celltype')['n_fragment'].sum()\n",
    "cpm = (rpm / total_frag) * 1e6\n",
    "cpm.to_csv('FNIH_Heart_signal/FNIH_Heart_pool.H3K27me3.15kb.cpm.csv')\n",
    "cpm[k27me3_data.var.selected].to_csv('FNIH_Heart_signal/FNIH_Heart_pool.H3K27me3.var_15kb.cpm.csv')"
   ]
  },
  {
   "cell_type": "code",
   "execution_count": 114,
   "id": "6c20208a",
   "metadata": {
    "scrolled": true
   },
   "outputs": [
    {
     "name": "stderr",
     "output_type": "stream",
     "text": [
      "2025-03-17 21:00:45 - INFO - Selected 99033 features.\n",
      "2025-03-17 21:00:46 - INFO - Input contains 99033 features, now perform filtering with 'min_log_fc = 0.1' and 'min_pct = 0.1' ...\n",
      "2025-03-17 21:00:57 - WARNING - Zero feature left after filtering, perhaps 'min_log_fc' or 'min_pct' is too large\n",
      "2025-03-17 21:00:58 - INFO - Selected 98950 features.\n",
      "2025-03-17 21:00:59 - INFO - Input contains 98950 features, now perform filtering with 'min_log_fc = 0.1' and 'min_pct = 0.1' ...\n",
      "2025-03-17 21:01:09 - WARNING - Zero feature left after filtering, perhaps 'min_log_fc' or 'min_pct' is too large\n"
     ]
    },
    {
     "ename": "ValueError",
     "evalue": "No objects to concatenate",
     "output_type": "error",
     "traceback": [
      "\u001b[0;31m---------------------------------------------------------------------------\u001b[0m",
      "\u001b[0;31mValueError\u001b[0m                                Traceback (most recent call last)",
      "Cell \u001b[0;32mIn[114], line 32\u001b[0m\n\u001b[1;32m     29\u001b[0m         tmp[\u001b[38;5;124m'\u001b[39m\u001b[38;5;124mcelltype\u001b[39m\u001b[38;5;124m'\u001b[39m] \u001b[38;5;241m=\u001b[39m f\n\u001b[1;32m     30\u001b[0m         mregion\u001b[38;5;241m.\u001b[39mappend(tmp)\n\u001b[0;32m---> 32\u001b[0m pd\u001b[38;5;241m.\u001b[39mconcat(mregion, axis \u001b[38;5;241m=\u001b[39m \u001b[38;5;241m0\u001b[39m)\u001b[38;5;241m.\u001b[39mto_csv(\u001b[38;5;124m\"\u001b[39m\u001b[38;5;124mFNIH_Heart_analysis/H3K27me3_15kb_snapatac2_LR_test.csv\u001b[39m\u001b[38;5;124m\"\u001b[39m)\n",
      "File \u001b[0;32m~/miniconda3/envs/seurat/lib/python3.11/site-packages/pandas/core/reshape/concat.py:382\u001b[0m, in \u001b[0;36mconcat\u001b[0;34m(objs, axis, join, ignore_index, keys, levels, names, verify_integrity, sort, copy)\u001b[0m\n\u001b[1;32m    379\u001b[0m \u001b[38;5;28;01melif\u001b[39;00m copy \u001b[38;5;129;01mand\u001b[39;00m using_copy_on_write():\n\u001b[1;32m    380\u001b[0m     copy \u001b[38;5;241m=\u001b[39m \u001b[38;5;28;01mFalse\u001b[39;00m\n\u001b[0;32m--> 382\u001b[0m op \u001b[38;5;241m=\u001b[39m _Concatenator(\n\u001b[1;32m    383\u001b[0m     objs,\n\u001b[1;32m    384\u001b[0m     axis\u001b[38;5;241m=\u001b[39maxis,\n\u001b[1;32m    385\u001b[0m     ignore_index\u001b[38;5;241m=\u001b[39mignore_index,\n\u001b[1;32m    386\u001b[0m     join\u001b[38;5;241m=\u001b[39mjoin,\n\u001b[1;32m    387\u001b[0m     keys\u001b[38;5;241m=\u001b[39mkeys,\n\u001b[1;32m    388\u001b[0m     levels\u001b[38;5;241m=\u001b[39mlevels,\n\u001b[1;32m    389\u001b[0m     names\u001b[38;5;241m=\u001b[39mnames,\n\u001b[1;32m    390\u001b[0m     verify_integrity\u001b[38;5;241m=\u001b[39mverify_integrity,\n\u001b[1;32m    391\u001b[0m     copy\u001b[38;5;241m=\u001b[39mcopy,\n\u001b[1;32m    392\u001b[0m     sort\u001b[38;5;241m=\u001b[39msort,\n\u001b[1;32m    393\u001b[0m )\n\u001b[1;32m    395\u001b[0m \u001b[38;5;28;01mreturn\u001b[39;00m op\u001b[38;5;241m.\u001b[39mget_result()\n",
      "File \u001b[0;32m~/miniconda3/envs/seurat/lib/python3.11/site-packages/pandas/core/reshape/concat.py:445\u001b[0m, in \u001b[0;36m_Concatenator.__init__\u001b[0;34m(self, objs, axis, join, keys, levels, names, ignore_index, verify_integrity, copy, sort)\u001b[0m\n\u001b[1;32m    442\u001b[0m \u001b[38;5;28mself\u001b[39m\u001b[38;5;241m.\u001b[39mverify_integrity \u001b[38;5;241m=\u001b[39m verify_integrity\n\u001b[1;32m    443\u001b[0m \u001b[38;5;28mself\u001b[39m\u001b[38;5;241m.\u001b[39mcopy \u001b[38;5;241m=\u001b[39m copy\n\u001b[0;32m--> 445\u001b[0m objs, keys \u001b[38;5;241m=\u001b[39m \u001b[38;5;28mself\u001b[39m\u001b[38;5;241m.\u001b[39m_clean_keys_and_objs(objs, keys)\n\u001b[1;32m    447\u001b[0m \u001b[38;5;66;03m# figure out what our result ndim is going to be\u001b[39;00m\n\u001b[1;32m    448\u001b[0m ndims \u001b[38;5;241m=\u001b[39m \u001b[38;5;28mself\u001b[39m\u001b[38;5;241m.\u001b[39m_get_ndims(objs)\n",
      "File \u001b[0;32m~/miniconda3/envs/seurat/lib/python3.11/site-packages/pandas/core/reshape/concat.py:507\u001b[0m, in \u001b[0;36m_Concatenator._clean_keys_and_objs\u001b[0;34m(self, objs, keys)\u001b[0m\n\u001b[1;32m    504\u001b[0m     objs_list \u001b[38;5;241m=\u001b[39m \u001b[38;5;28mlist\u001b[39m(objs)\n\u001b[1;32m    506\u001b[0m \u001b[38;5;28;01mif\u001b[39;00m \u001b[38;5;28mlen\u001b[39m(objs_list) \u001b[38;5;241m==\u001b[39m \u001b[38;5;241m0\u001b[39m:\n\u001b[0;32m--> 507\u001b[0m     \u001b[38;5;28;01mraise\u001b[39;00m \u001b[38;5;167;01mValueError\u001b[39;00m(\u001b[38;5;124m\"\u001b[39m\u001b[38;5;124mNo objects to concatenate\u001b[39m\u001b[38;5;124m\"\u001b[39m)\n\u001b[1;32m    509\u001b[0m \u001b[38;5;28;01mif\u001b[39;00m keys \u001b[38;5;129;01mis\u001b[39;00m \u001b[38;5;28;01mNone\u001b[39;00m:\n\u001b[1;32m    510\u001b[0m     objs_list \u001b[38;5;241m=\u001b[39m \u001b[38;5;28mlist\u001b[39m(com\u001b[38;5;241m.\u001b[39mnot_none(\u001b[38;5;241m*\u001b[39mobjs_list))\n",
      "\u001b[0;31mValueError\u001b[0m: No objects to concatenate"
     ]
    }
   ],
   "source": [
    "### Find H3K27me3 marker regions!!! We dont need to test H3K27ac\n",
    "import warnings\n",
    "warnings.filterwarnings(\"ignore\")\n",
    "\n",
    "mregion = []\n",
    "for f in np.unique(tdata.obs['predicted.celltype']):\n",
    "    ### select variable features to test\n",
    "    \n",
    "    fcell = tdata.obs.loc[tdata.obs['predicted.celltype'] == f].index\n",
    "    tmp = tdata[fcell,:]\n",
    "    snap.pp.select_features(tmp, n_features = 100000, filter_lower_quantile=0.1,\n",
    "                            blacklist=\"/projects/ps-renlab2/y2xie/ps-renlab/y2xie/projects/genome_ref/hg38-blacklist.v2.bed\")\n",
    "\n",
    "    qfeatures = tmp.var.selected[tmp.var.selected].index\n",
    "    rcell = []\n",
    "    for i in np.unique(tdata.obs['predicted.celltype']):\n",
    "        cts = tdata.obs.loc[tdata.obs['predicted.celltype'] == i].index\n",
    "        if i != f and len(cts) > 500:\n",
    "            cells = np.random.choice(cts, size=500, replace=False)\n",
    "        else:\n",
    "            cells = cts\n",
    "            rcell.append(cells)      \n",
    "    rcell = np.concatenate(rcell)\n",
    "    fmarker = snap.tl.diff_test(tdata, fcell, rcell, features = qfeatures, \n",
    "                                direction='positive', \n",
    "                                min_log_fc=0.1, min_pct=0.1)\n",
    "    if fmarker.shape[0] != 0:\n",
    "        tmp = pd.DataFrame(fmarker, columns = fmarker.columns)\n",
    "        tmp['celltype'] = f\n",
    "        mregion.append(tmp)\n",
    "        \n",
    "# pd.concat(mregion, axis = 0).to_csv(\"FNIH_Heart_analysis/H3K27me3_15kb_snapatac2_LR_test.csv\")"
   ]
  },
  {
   "cell_type": "markdown",
   "id": "3be09a98",
   "metadata": {},
   "source": [
    "## Read and merge gene activity"
   ]
  },
  {
   "cell_type": "code",
   "execution_count": 10,
   "id": "fd782d45",
   "metadata": {},
   "outputs": [
    {
     "data": {
      "text/plain": [
       "(60606, 220043)"
      ]
     },
     "execution_count": 10,
     "metadata": {},
     "output_type": "execute_result"
    }
   ],
   "source": [
    "ga_list = []\n",
    "for f in dna:\n",
    "    ga = snap.read('snapatac/' + f + '_gene_matrix_raw.h5ad', backed=None)\n",
    "    tmp = pd.DataFrame(ga.X.T.toarray(), index=ga.var_names, columns=ga.obs_names)\n",
    "    tmp.columns = f + ':' + tmp.columns\n",
    "    ga_list.append(tmp)\n",
    "\n",
    "ga_list = pd.concat(ga_list, axis=1)\n",
    "ga_list.shape"
   ]
  },
  {
   "cell_type": "code",
   "execution_count": 52,
   "id": "aa2387be",
   "metadata": {
    "scrolled": true
   },
   "outputs": [
    {
     "name": "stderr",
     "output_type": "stream",
     "text": [
      "... storing 'n_fragment' as categorical\n",
      "... storing 'frac_dup' as categorical\n",
      "... storing 'doublet_probability' as categorical\n",
      "... storing 'doublet_score_x' as categorical\n",
      "... storing 'nCount_RNA' as categorical\n",
      "... storing 'nFeature_RNA' as categorical\n",
      "... storing 'percent.mt' as categorical\n",
      "... storing 'percent.ribo' as categorical\n",
      "... storing 'RNA_snn_res.0.3' as categorical\n",
      "... storing 'doublet_score_y' as categorical\n",
      "... storing 'NEXT.GUESS' as categorical\n",
      "... storing 'rna' as categorical\n",
      "... storing 'rna_bc' as categorical\n",
      "... storing 'dna' as categorical\n",
      "... storing 'library_info' as categorical\n",
      "... storing 'Target' as categorical\n",
      "... storing 'nCount_SCT' as categorical\n",
      "... storing 'nFeature_SCT' as categorical\n",
      "... storing 'predicted.celltype_scores' as categorical\n",
      "... storing 'predicted.cellsubtype_scores' as categorical\n",
      "... storing 'atac_bc' as categorical\n",
      "... storing 'leiden' as categorical\n"
     ]
    }
   ],
   "source": [
    "GA = anndata.AnnData(ga_list[dmeta.index].T)\n",
    "GA.obs = dmeta\n",
    "GA.write(\"FNIH_Heart_signal/FNIH_Heart_pool.GA.h5ad\")"
   ]
  },
  {
   "cell_type": "markdown",
   "id": "c752f409",
   "metadata": {},
   "source": [
    "## Generate peaks matrix"
   ]
  },
  {
   "cell_type": "code",
   "execution_count": null,
   "id": "1a3417af",
   "metadata": {},
   "outputs": [],
   "source": [
    "nrmeta = pd.read_csv('FNIH_Heart_cluster/FNIH_Heart_pool_DPT_SNG_SoupX_reference_mapping_filtered.meta.xls', index_col=0, sep = '\\t')\n",
    "nrmeta.index = nrmeta['dna'] + \":\" + nrmeta['dna_bc']"
   ]
  },
  {
   "cell_type": "code",
   "execution_count": 3,
   "id": "ada283c6",
   "metadata": {},
   "outputs": [
    {
     "name": "stderr",
     "output_type": "stream",
     "text": [
      "Unable to create stacked arrays for these keys: fragment_paired\n"
     ]
    },
    {
     "data": {
      "text/plain": [
       "AnnDataSet object with n_obs x n_vars = 220043 x 202081 backed at 'FNIH_Donor_pool.histone.h5ads'\n",
       "contains 16 AnnData objects with keys: 'QY_2600', 'QY_2602', 'QY_2604', 'QY_2606', 'QY_2608', 'QY_2610', 'QY_2612', 'QY_2614', 'QY_2616', 'QY_2618', 'QY_2620', 'QY_2622', 'QY_2624', 'QY_2626', 'QY_2661', 'QY_2663'\n",
       "    obs: 'sample'\n",
       "    uns: 'AnnDataSet'"
      ]
     },
     "execution_count": 3,
     "metadata": {},
     "output_type": "execute_result"
    }
   ],
   "source": [
    "k27ac_dts = snap.read_dataset(\"FNIH_Donor_pool.histone.h5ads\")\n",
    "k27ac_dts ### actually this is all histones"
   ]
  },
  {
   "cell_type": "code",
   "execution_count": 4,
   "id": "9111837e",
   "metadata": {
    "collapsed": true
   },
   "outputs": [
    {
     "name": "stderr",
     "output_type": "stream",
     "text": [
      "/home/y2xie/miniconda3/envs/seurat/lib/python3.11/site-packages/anndata/_core/anndata.py:183: ImplicitModificationWarning: Transforming to str index.\n",
      "  warnings.warn(\"Transforming to str index.\", ImplicitModificationWarning)\n"
     ]
    },
    {
     "ename": "RuntimeError",
     "evalue": "neither 'fragment_single' nor 'fragment_paired' is present in the '.obsm'",
     "output_type": "error",
     "traceback": [
      "\u001b[0;31m---------------------------------------------------------------------------\u001b[0m",
      "\u001b[0;31mRuntimeError\u001b[0m                              Traceback (most recent call last)",
      "Cell \u001b[0;32mIn[4], line 1\u001b[0m\n\u001b[0;32m----> 1\u001b[0m k27ac_peaks \u001b[38;5;241m=\u001b[39m snap\u001b[38;5;241m.\u001b[39mpp\u001b[38;5;241m.\u001b[39mmake_peak_matrix(k27ac_dts, peak_file \u001b[38;5;241m=\u001b[39m \u001b[38;5;124m'\u001b[39m\u001b[38;5;124m../10.conserved_peaks/parsePeak/FNIH_heart_H3K27ac.union.peak.bed\u001b[39m\u001b[38;5;124m'\u001b[39m,\u001b[38;5;66;03m# file = \"\",\u001b[39;00m\n\u001b[1;32m      2\u001b[0m                                        min_frag_size\u001b[38;5;241m=\u001b[39m\u001b[38;5;241m10\u001b[39m, max_frag_size\u001b[38;5;241m=\u001b[39m\u001b[38;5;241m5000\u001b[39m)\n\u001b[1;32m      3\u001b[0m k27ac_peaks\n",
      "File \u001b[0;32m~/miniconda3/envs/seurat/lib/python3.11/site-packages/snapatac2/preprocessing/_basic.py:624\u001b[0m, in \u001b[0;36mmake_peak_matrix\u001b[0;34m(adata, use_rep, inplace, file, backend, peak_file, chunk_size, use_x, min_frag_size, max_frag_size, counting_strategy)\u001b[0m\n\u001b[1;32m    622\u001b[0m \u001b[38;5;28;01melse\u001b[39;00m:\n\u001b[1;32m    623\u001b[0m     out \u001b[38;5;241m=\u001b[39m internal\u001b[38;5;241m.\u001b[39mAnnData(filename\u001b[38;5;241m=\u001b[39mfile, backend\u001b[38;5;241m=\u001b[39mbackend, obs\u001b[38;5;241m=\u001b[39madata\u001b[38;5;241m.\u001b[39mobs[:])\n\u001b[0;32m--> 624\u001b[0m internal\u001b[38;5;241m.\u001b[39mmk_peak_matrix(adata, peaks, chunk_size, use_x, counting_strategy, min_frag_size, max_frag_size, out)\n\u001b[1;32m    625\u001b[0m \u001b[38;5;28;01mreturn\u001b[39;00m out\n",
      "\u001b[0;31mRuntimeError\u001b[0m: neither 'fragment_single' nor 'fragment_paired' is present in the '.obsm'"
     ]
    }
   ],
   "source": [
    "k27ac_peaks = snap.pp.make_peak_matrix(k27ac_dts, peak_file = '../10.conserved_peaks/parsePeak/FNIH_heart_H3K27ac.union.peak.bed',# file = \"\",\n",
    "                                       min_frag_size=10, max_frag_size=5000)\n",
    "k27ac_peaks"
   ]
  },
  {
   "cell_type": "code",
   "execution_count": 12,
   "id": "862b30cb",
   "metadata": {},
   "outputs": [],
   "source": [
    "k27ac_dts.close()"
   ]
  },
  {
   "cell_type": "code",
   "execution_count": null,
   "id": "a17aae74",
   "metadata": {
    "scrolled": true
   },
   "outputs": [
    {
     "name": "stderr",
     "output_type": "stream",
     "text": [
      "/home/y2xie/miniconda3/envs/seurat/lib/python3.11/site-packages/anndata/_core/anndata.py:183: ImplicitModificationWarning: Transforming to str index.\n",
      "  warnings.warn(\"Transforming to str index.\", ImplicitModificationWarning)\n",
      "/home/y2xie/miniconda3/envs/seurat/lib/python3.11/site-packages/anndata/_core/anndata.py:183: ImplicitModificationWarning: Transforming to str index.\n",
      "  warnings.warn(\"Transforming to str index.\", ImplicitModificationWarning)\n",
      "/home/y2xie/miniconda3/envs/seurat/lib/python3.11/site-packages/anndata/_core/anndata.py:183: ImplicitModificationWarning: Transforming to str index.\n",
      "  warnings.warn(\"Transforming to str index.\", ImplicitModificationWarning)\n"
     ]
    }
   ],
   "source": [
    "### dont know why, works on other ways\n",
    "### update 241001: we specify the counting stragety as \"fragment\" since for histone modification\n",
    "### we focus more on the \"region\" where signal spans, instead of the Tn5 iinsertion events.\n",
    "peak_list = []\n",
    "for sample, f in zip(dna, file_dna):\n",
    "    data = snap.read(\"snapatac/\" + f)\n",
    "    tmp = snap.pp.make_peak_matrix(data, peak_file = '../10.conserved_peaks/parsePeak/FNIH_heart_H3K27ac.union.peak.bed', \n",
    "                                   min_frag_size=10, max_frag_size=5000, counting_strategy = 'fragment')\n",
    "    tmp.obs_names = sample + \":\" + tmp.obs_names\n",
    "    peak_list.append(tmp)\n",
    "    data.close()"
   ]
  },
  {
   "cell_type": "code",
   "execution_count": null,
   "id": "74f4ddea",
   "metadata": {
    "scrolled": true
   },
   "outputs": [],
   "source": [
    "import anndata as an\n",
    "k27ac_peaks = an.concat(peak_list)\n",
    "k27ac_peaks"
   ]
  },
  {
   "cell_type": "code",
   "execution_count": null,
   "id": "78c91b82",
   "metadata": {},
   "outputs": [],
   "source": [
    "## Add metadata too\n",
    "k27ac_peaks = k27ac_peaks[k27ac_data.obs_names,:]\n",
    "k27ac_peaks.obs = k27ac_data.obs.loc[k27ac_peaks.obs_names]\n",
    "\n",
    "k27ac_peaks.obs['chamber'] = nrmeta.loc[k27ac_peaks.obs_names]['chamber']\n",
    "k27ac_peaks.obs['Donor'] = nrmeta.loc[k27ac_peaks.obs_names]['Donor']\n",
    "k27ac_peaks.obs['HF'] = nrmeta.loc[k27ac_peaks.obs_names]['condition']\n",
    "k27ac_peaks.obs['disease'] = nrmeta.loc[k27ac_peaks.obs_names]['HF']\n",
    "k27ac_peaks.obs['Gender'] = nrmeta.loc[k27ac_peaks.obs_names]['Gender']"
   ]
  },
  {
   "cell_type": "code",
   "execution_count": 59,
   "id": "f87ba72e",
   "metadata": {},
   "outputs": [
    {
     "name": "stderr",
     "output_type": "stream",
     "text": [
      "... storing 'Donor' as categorical\n",
      "... storing 'chamber' as categorical\n",
      "... storing 'HF' as categorical\n",
      "... storing 'disease' as categorical\n",
      "... storing 'Gender' as categorical\n"
     ]
    }
   ],
   "source": [
    "k27ac_peaks.write(\"FNIH_Heart_signal/FNIH_Heart_pool.H3K27ac.peaks.h5ad\")"
   ]
  },
  {
   "cell_type": "code",
   "execution_count": 93,
   "id": "f5e626be",
   "metadata": {
    "scrolled": true
   },
   "outputs": [
    {
     "data": {
      "text/html": [
       "<div>\n",
       "<style scoped>\n",
       "    .dataframe tbody tr th:only-of-type {\n",
       "        vertical-align: middle;\n",
       "    }\n",
       "\n",
       "    .dataframe tbody tr th {\n",
       "        vertical-align: top;\n",
       "    }\n",
       "\n",
       "    .dataframe thead th {\n",
       "        text-align: right;\n",
       "    }\n",
       "</style>\n",
       "<table border=\"1\" class=\"dataframe\">\n",
       "  <thead>\n",
       "    <tr style=\"text-align: right;\">\n",
       "      <th></th>\n",
       "      <th>Adipocyte</th>\n",
       "      <th>Endocardial</th>\n",
       "      <th>Endothelial</th>\n",
       "      <th>Epicardial</th>\n",
       "      <th>Fibroblast</th>\n",
       "      <th>Lymphoid</th>\n",
       "      <th>Myeloid</th>\n",
       "      <th>Neuronal</th>\n",
       "      <th>Pericyte</th>\n",
       "      <th>SM</th>\n",
       "      <th>aCM</th>\n",
       "      <th>vCM</th>\n",
       "    </tr>\n",
       "  </thead>\n",
       "  <tbody>\n",
       "    <tr>\n",
       "      <th>chr1:9790-10789</th>\n",
       "      <td>15.0</td>\n",
       "      <td>102.0</td>\n",
       "      <td>837.0</td>\n",
       "      <td>26.0</td>\n",
       "      <td>515.0</td>\n",
       "      <td>367.0</td>\n",
       "      <td>1950.0</td>\n",
       "      <td>109.0</td>\n",
       "      <td>475.0</td>\n",
       "      <td>107.0</td>\n",
       "      <td>2387.0</td>\n",
       "      <td>1493.0</td>\n",
       "    </tr>\n",
       "    <tr>\n",
       "      <th>chr1:11807-12806</th>\n",
       "      <td>0.0</td>\n",
       "      <td>0.0</td>\n",
       "      <td>0.0</td>\n",
       "      <td>0.0</td>\n",
       "      <td>0.0</td>\n",
       "      <td>0.0</td>\n",
       "      <td>0.0</td>\n",
       "      <td>0.0</td>\n",
       "      <td>0.0</td>\n",
       "      <td>0.0</td>\n",
       "      <td>0.0</td>\n",
       "      <td>0.0</td>\n",
       "    </tr>\n",
       "    <tr>\n",
       "      <th>chr1:13164-14163</th>\n",
       "      <td>0.0</td>\n",
       "      <td>1.0</td>\n",
       "      <td>8.0</td>\n",
       "      <td>0.0</td>\n",
       "      <td>2.0</td>\n",
       "      <td>1.0</td>\n",
       "      <td>4.0</td>\n",
       "      <td>0.0</td>\n",
       "      <td>1.0</td>\n",
       "      <td>0.0</td>\n",
       "      <td>33.0</td>\n",
       "      <td>22.0</td>\n",
       "    </tr>\n",
       "    <tr>\n",
       "      <th>chr1:14215-15214</th>\n",
       "      <td>0.0</td>\n",
       "      <td>1.0</td>\n",
       "      <td>5.0</td>\n",
       "      <td>1.0</td>\n",
       "      <td>4.0</td>\n",
       "      <td>0.0</td>\n",
       "      <td>7.0</td>\n",
       "      <td>0.0</td>\n",
       "      <td>1.0</td>\n",
       "      <td>0.0</td>\n",
       "      <td>29.0</td>\n",
       "      <td>15.0</td>\n",
       "    </tr>\n",
       "    <tr>\n",
       "      <th>chr1:15727-16726</th>\n",
       "      <td>0.0</td>\n",
       "      <td>1.0</td>\n",
       "      <td>13.0</td>\n",
       "      <td>0.0</td>\n",
       "      <td>9.0</td>\n",
       "      <td>3.0</td>\n",
       "      <td>21.0</td>\n",
       "      <td>2.0</td>\n",
       "      <td>5.0</td>\n",
       "      <td>5.0</td>\n",
       "      <td>41.0</td>\n",
       "      <td>41.0</td>\n",
       "    </tr>\n",
       "    <tr>\n",
       "      <th>...</th>\n",
       "      <td>...</td>\n",
       "      <td>...</td>\n",
       "      <td>...</td>\n",
       "      <td>...</td>\n",
       "      <td>...</td>\n",
       "      <td>...</td>\n",
       "      <td>...</td>\n",
       "      <td>...</td>\n",
       "      <td>...</td>\n",
       "      <td>...</td>\n",
       "      <td>...</td>\n",
       "      <td>...</td>\n",
       "    </tr>\n",
       "    <tr>\n",
       "      <th>chrY:56762977-56763976</th>\n",
       "      <td>0.0</td>\n",
       "      <td>2.0</td>\n",
       "      <td>6.0</td>\n",
       "      <td>1.0</td>\n",
       "      <td>10.0</td>\n",
       "      <td>3.0</td>\n",
       "      <td>21.0</td>\n",
       "      <td>3.0</td>\n",
       "      <td>6.0</td>\n",
       "      <td>1.0</td>\n",
       "      <td>53.0</td>\n",
       "      <td>33.0</td>\n",
       "    </tr>\n",
       "    <tr>\n",
       "      <th>chrY:56764719-56765718</th>\n",
       "      <td>0.0</td>\n",
       "      <td>0.0</td>\n",
       "      <td>1.0</td>\n",
       "      <td>0.0</td>\n",
       "      <td>0.0</td>\n",
       "      <td>0.0</td>\n",
       "      <td>0.0</td>\n",
       "      <td>0.0</td>\n",
       "      <td>0.0</td>\n",
       "      <td>0.0</td>\n",
       "      <td>0.0</td>\n",
       "      <td>0.0</td>\n",
       "    </tr>\n",
       "    <tr>\n",
       "      <th>chrY:56766817-56767816</th>\n",
       "      <td>0.0</td>\n",
       "      <td>0.0</td>\n",
       "      <td>0.0</td>\n",
       "      <td>0.0</td>\n",
       "      <td>0.0</td>\n",
       "      <td>0.0</td>\n",
       "      <td>0.0</td>\n",
       "      <td>0.0</td>\n",
       "      <td>0.0</td>\n",
       "      <td>0.0</td>\n",
       "      <td>0.0</td>\n",
       "      <td>0.0</td>\n",
       "    </tr>\n",
       "    <tr>\n",
       "      <th>chrY:56768097-56769096</th>\n",
       "      <td>0.0</td>\n",
       "      <td>0.0</td>\n",
       "      <td>0.0</td>\n",
       "      <td>0.0</td>\n",
       "      <td>0.0</td>\n",
       "      <td>0.0</td>\n",
       "      <td>0.0</td>\n",
       "      <td>0.0</td>\n",
       "      <td>0.0</td>\n",
       "      <td>0.0</td>\n",
       "      <td>0.0</td>\n",
       "      <td>0.0</td>\n",
       "    </tr>\n",
       "    <tr>\n",
       "      <th>chrY:56769448-56770447</th>\n",
       "      <td>0.0</td>\n",
       "      <td>0.0</td>\n",
       "      <td>0.0</td>\n",
       "      <td>0.0</td>\n",
       "      <td>0.0</td>\n",
       "      <td>0.0</td>\n",
       "      <td>0.0</td>\n",
       "      <td>0.0</td>\n",
       "      <td>0.0</td>\n",
       "      <td>0.0</td>\n",
       "      <td>0.0</td>\n",
       "      <td>0.0</td>\n",
       "    </tr>\n",
       "  </tbody>\n",
       "</table>\n",
       "<p>418170 rows × 12 columns</p>\n",
       "</div>"
      ],
      "text/plain": [
       "                        Adipocyte  Endocardial  Endothelial  Epicardial  \\\n",
       "chr1:9790-10789              15.0        102.0        837.0        26.0   \n",
       "chr1:11807-12806              0.0          0.0          0.0         0.0   \n",
       "chr1:13164-14163              0.0          1.0          8.0         0.0   \n",
       "chr1:14215-15214              0.0          1.0          5.0         1.0   \n",
       "chr1:15727-16726              0.0          1.0         13.0         0.0   \n",
       "...                           ...          ...          ...         ...   \n",
       "chrY:56762977-56763976        0.0          2.0          6.0         1.0   \n",
       "chrY:56764719-56765718        0.0          0.0          1.0         0.0   \n",
       "chrY:56766817-56767816        0.0          0.0          0.0         0.0   \n",
       "chrY:56768097-56769096        0.0          0.0          0.0         0.0   \n",
       "chrY:56769448-56770447        0.0          0.0          0.0         0.0   \n",
       "\n",
       "                        Fibroblast  Lymphoid  Myeloid  Neuronal  Pericyte  \\\n",
       "chr1:9790-10789              515.0     367.0   1950.0     109.0     475.0   \n",
       "chr1:11807-12806               0.0       0.0      0.0       0.0       0.0   \n",
       "chr1:13164-14163               2.0       1.0      4.0       0.0       1.0   \n",
       "chr1:14215-15214               4.0       0.0      7.0       0.0       1.0   \n",
       "chr1:15727-16726               9.0       3.0     21.0       2.0       5.0   \n",
       "...                            ...       ...      ...       ...       ...   \n",
       "chrY:56762977-56763976        10.0       3.0     21.0       3.0       6.0   \n",
       "chrY:56764719-56765718         0.0       0.0      0.0       0.0       0.0   \n",
       "chrY:56766817-56767816         0.0       0.0      0.0       0.0       0.0   \n",
       "chrY:56768097-56769096         0.0       0.0      0.0       0.0       0.0   \n",
       "chrY:56769448-56770447         0.0       0.0      0.0       0.0       0.0   \n",
       "\n",
       "                           SM     aCM     vCM  \n",
       "chr1:9790-10789         107.0  2387.0  1493.0  \n",
       "chr1:11807-12806          0.0     0.0     0.0  \n",
       "chr1:13164-14163          0.0    33.0    22.0  \n",
       "chr1:14215-15214          0.0    29.0    15.0  \n",
       "chr1:15727-16726          5.0    41.0    41.0  \n",
       "...                       ...     ...     ...  \n",
       "chrY:56762977-56763976    1.0    53.0    33.0  \n",
       "chrY:56764719-56765718    0.0     0.0     0.0  \n",
       "chrY:56766817-56767816    0.0     0.0     0.0  \n",
       "chrY:56768097-56769096    0.0     0.0     0.0  \n",
       "chrY:56769448-56770447    0.0     0.0     0.0  \n",
       "\n",
       "[418170 rows x 12 columns]"
      ]
     },
     "execution_count": 93,
     "metadata": {},
     "output_type": "execute_result"
    }
   ],
   "source": [
    "k27ac_rpm = snap.tl.aggregate_X(k27ac_peaks, groupby = 'predicted.celltype')\n",
    "pd.DataFrame(k27ac_rpm.X.T, index=k27ac_rpm.var_names, columns=k27ac_rpm.obs_names)"
   ]
  },
  {
   "cell_type": "code",
   "execution_count": 97,
   "id": "27c9f9a9",
   "metadata": {
    "scrolled": true
   },
   "outputs": [
    {
     "name": "stderr",
     "output_type": "stream",
     "text": [
      "/home/y2xie/miniconda3/envs/seurat/lib/python3.11/site-packages/anndata/_core/anndata.py:183: ImplicitModificationWarning: Transforming to str index.\n",
      "  warnings.warn(\"Transforming to str index.\", ImplicitModificationWarning)\n",
      "/home/y2xie/miniconda3/envs/seurat/lib/python3.11/site-packages/anndata/_core/anndata.py:183: ImplicitModificationWarning: Transforming to str index.\n",
      "  warnings.warn(\"Transforming to str index.\", ImplicitModificationWarning)\n",
      "/home/y2xie/miniconda3/envs/seurat/lib/python3.11/site-packages/anndata/_core/anndata.py:183: ImplicitModificationWarning: Transforming to str index.\n",
      "  warnings.warn(\"Transforming to str index.\", ImplicitModificationWarning)\n",
      "/home/y2xie/miniconda3/envs/seurat/lib/python3.11/site-packages/anndata/_core/anndata.py:183: ImplicitModificationWarning: Transforming to str index.\n",
      "  warnings.warn(\"Transforming to str index.\", ImplicitModificationWarning)\n",
      "/home/y2xie/miniconda3/envs/seurat/lib/python3.11/site-packages/anndata/_core/anndata.py:183: ImplicitModificationWarning: Transforming to str index.\n",
      "  warnings.warn(\"Transforming to str index.\", ImplicitModificationWarning)\n",
      "/home/y2xie/miniconda3/envs/seurat/lib/python3.11/site-packages/anndata/_core/anndata.py:183: ImplicitModificationWarning: Transforming to str index.\n",
      "  warnings.warn(\"Transforming to str index.\", ImplicitModificationWarning)\n",
      "/home/y2xie/miniconda3/envs/seurat/lib/python3.11/site-packages/anndata/_core/anndata.py:183: ImplicitModificationWarning: Transforming to str index.\n",
      "  warnings.warn(\"Transforming to str index.\", ImplicitModificationWarning)\n",
      "/home/y2xie/miniconda3/envs/seurat/lib/python3.11/site-packages/anndata/_core/anndata.py:183: ImplicitModificationWarning: Transforming to str index.\n",
      "  warnings.warn(\"Transforming to str index.\", ImplicitModificationWarning)\n",
      "/home/y2xie/miniconda3/envs/seurat/lib/python3.11/site-packages/anndata/_core/anndata.py:183: ImplicitModificationWarning: Transforming to str index.\n",
      "  warnings.warn(\"Transforming to str index.\", ImplicitModificationWarning)\n",
      "/home/y2xie/miniconda3/envs/seurat/lib/python3.11/site-packages/anndata/_core/anndata.py:183: ImplicitModificationWarning: Transforming to str index.\n",
      "  warnings.warn(\"Transforming to str index.\", ImplicitModificationWarning)\n",
      "/home/y2xie/miniconda3/envs/seurat/lib/python3.11/site-packages/anndata/_core/anndata.py:183: ImplicitModificationWarning: Transforming to str index.\n",
      "  warnings.warn(\"Transforming to str index.\", ImplicitModificationWarning)\n",
      "/home/y2xie/miniconda3/envs/seurat/lib/python3.11/site-packages/anndata/_core/anndata.py:183: ImplicitModificationWarning: Transforming to str index.\n",
      "  warnings.warn(\"Transforming to str index.\", ImplicitModificationWarning)\n",
      "/home/y2xie/miniconda3/envs/seurat/lib/python3.11/site-packages/anndata/_core/anndata.py:183: ImplicitModificationWarning: Transforming to str index.\n",
      "  warnings.warn(\"Transforming to str index.\", ImplicitModificationWarning)\n",
      "/home/y2xie/miniconda3/envs/seurat/lib/python3.11/site-packages/anndata/_core/anndata.py:183: ImplicitModificationWarning: Transforming to str index.\n",
      "  warnings.warn(\"Transforming to str index.\", ImplicitModificationWarning)\n",
      "/home/y2xie/miniconda3/envs/seurat/lib/python3.11/site-packages/anndata/_core/anndata.py:183: ImplicitModificationWarning: Transforming to str index.\n",
      "  warnings.warn(\"Transforming to str index.\", ImplicitModificationWarning)\n",
      "/home/y2xie/miniconda3/envs/seurat/lib/python3.11/site-packages/anndata/_core/anndata.py:183: ImplicitModificationWarning: Transforming to str index.\n",
      "  warnings.warn(\"Transforming to str index.\", ImplicitModificationWarning)\n"
     ]
    }
   ],
   "source": [
    "# k27me3_peaks = snap.pp.make_peak_matrix(k27ac_dts, peak_file = '../10.conserved_peaks/parsePeak/FNIH_liver_H3K27me3.filteredNfixed.union.bed',# file = \"\",\n",
    "#                                        min_frag_size=10, max_frag_size=5000)\n",
    "peak_list = []\n",
    "for sample, f in zip(dna, file_dna):\n",
    "    data = snap.read(\"snapatac/\" + f)\n",
    "    tmp = snap.pp.make_peak_matrix(data, peak_file = '../10.conserved_peaks/parsePeak/FNIH_heart_H3K27me3.union.peak.bed', \n",
    "                                   min_frag_size=10, max_frag_size=5000, counting_strategy = 'fragment')\n",
    "    tmp.obs_names = sample + \":\" + tmp.obs_names\n",
    "    peak_list.append(tmp)\n",
    "    data.close()\n",
    "    \n",
    "k27me3_peaks = an.concat(peak_list)\n",
    "k27me3_peaks = k27me3_peaks[k27me3_data.obs_names,:]\n",
    "k27me3_peaks.obs = k27me3_data.obs.loc[k27me3_peaks.obs_names]\n",
    "\n",
    "k27me3_peaks.obs['chamber'] = nrmeta.loc[k27me3_peaks.obs_names]['chamber']\n",
    "k27me3_peaks.obs['Donor'] = nrmeta.loc[k27me3_peaks.obs_names]['Donor']\n",
    "k27me3_peaks.obs['HF'] = nrmeta.loc[k27me3_peaks.obs_names]['condition']\n",
    "k27me3_peaks.obs['disease'] = nrmeta.loc[k27me3_peaks.obs_names]['HF']\n",
    "k27me3_peaks.obs['Gender'] = nrmeta.loc[k27me3_peaks.obs_names]['Gender']\n",
    "\n",
    "k27me3_peaks.write(\"FNIH_Heart_signal/FNIH_Heart_pool.H3K27me3.peaks.h5ad\")"
   ]
  },
  {
   "cell_type": "markdown",
   "id": "725868fc",
   "metadata": {},
   "source": [
    "## Aggregate by predicted celltype label"
   ]
  },
  {
   "cell_type": "code",
   "execution_count": 110,
   "id": "3e97b725",
   "metadata": {
    "scrolled": true
   },
   "outputs": [],
   "source": [
    "k27ac_rpm = snap.tl.aggregate_X(k27ac_peaks, groupby = 'predicted.celltype')\n",
    "k27me3_rpm = snap.tl.aggregate_X(k27me3_peaks, groupby = 'predicted.celltype')"
   ]
  },
  {
   "cell_type": "code",
   "execution_count": 111,
   "id": "9323af9a",
   "metadata": {},
   "outputs": [],
   "source": [
    "k27ac_rpm = pd.DataFrame(k27ac_rpm.X.T, index=k27ac_rpm.var_names, columns=k27ac_rpm.obs_names)\n",
    "# k27ac_rpm.to_csv('FNIH_Heart_pool.H3K27ac.peaks.rpm.csv')\n",
    "\n",
    "k27me3_rpm = pd.DataFrame(k27me3_rpm.X.T, index=k27me3_rpm.var_names, columns=k27me3_rpm.obs_names)\n",
    "# k27me3_rpm.to_csv('FNIH_Heart_pool.H3K27me3.peaks.rpm.csv')"
   ]
  },
  {
   "cell_type": "code",
   "execution_count": 113,
   "id": "c7b7398a",
   "metadata": {},
   "outputs": [
    {
     "data": {
      "text/plain": [
       "(array([False,  True]), array([416794,   1376]))"
      ]
     },
     "execution_count": 113,
     "metadata": {},
     "output_type": "execute_result"
    }
   ],
   "source": [
    "np.unique(k27ac_rpm.sum(axis=1) == 0, return_counts = True)"
   ]
  },
  {
   "cell_type": "code",
   "execution_count": 114,
   "id": "f9f6bea0",
   "metadata": {},
   "outputs": [
    {
     "data": {
      "text/plain": [
       "(array([False,  True]), array([361848,   3604]))"
      ]
     },
     "execution_count": 114,
     "metadata": {},
     "output_type": "execute_result"
    }
   ],
   "source": [
    "np.unique(k27me3_rpm.sum(axis=1) == 0, return_counts = True)"
   ]
  },
  {
   "cell_type": "code",
   "execution_count": 115,
   "id": "839c9851",
   "metadata": {
    "scrolled": true
   },
   "outputs": [
    {
     "name": "stderr",
     "output_type": "stream",
     "text": [
      "/tmp/ipykernel_399377/1402318542.py:2: FutureWarning: The default of observed=False is deprecated and will be changed to True in a future version of pandas. Pass observed=False to retain current behavior or observed=True to adopt the future default and silence this warning.\n",
      "  total_frag = k27ac_peaks.obs.groupby('predicted.celltype')['n_fragment'].sum()\n",
      "/tmp/ipykernel_399377/1402318542.py:6: FutureWarning: The default of observed=False is deprecated and will be changed to True in a future version of pandas. Pass observed=False to retain current behavior or observed=True to adopt the future default and silence this warning.\n",
      "  total_frag = k27me3_peaks.obs.groupby('predicted.celltype')['n_fragment'].sum()\n"
     ]
    }
   ],
   "source": [
    "k27ac_peaks.obs['n_fragment'] = k27ac_data.obs['n_fragment'].cat.codes\n",
    "total_frag = k27ac_peaks.obs.groupby('predicted.celltype')['n_fragment'].sum()\n",
    "k27ac_cpm = (k27ac_rpm / total_frag) * 1e6\n",
    "\n",
    "k27me3_peaks.obs['n_fragment'] = k27me3_data.obs['n_fragment'].cat.codes\n",
    "total_frag = k27me3_peaks.obs.groupby('predicted.celltype')['n_fragment'].sum()\n",
    "k27me3_cpm = (k27me3_rpm / total_frag) * 1e6\n",
    "\n",
    "k27ac_cpm.to_csv('FNIH_Heart_pool.H3K27ac.peaks.cpm.csv')\n",
    "k27me3_cpm.to_csv('FNIH_Heart_pool.H3K27me3.peaks.cpm.csv')"
   ]
  },
  {
   "cell_type": "markdown",
   "id": "4f76f8b7",
   "metadata": {},
   "source": [
    "## Aggregate by predicted celltype label + Donor (for DE test)"
   ]
  },
  {
   "cell_type": "code",
   "execution_count": 141,
   "id": "ae0b421c",
   "metadata": {},
   "outputs": [],
   "source": []
  },
  {
   "cell_type": "code",
   "execution_count": 167,
   "id": "a6795f18",
   "metadata": {},
   "outputs": [],
   "source": [
    "k27ac_peaks.obs['chamber'] = nrmeta.loc[k27ac_peaks.obs_names]['chamber']\n",
    "k27ac_peaks.obs['Donor'] = nrmeta.loc[k27ac_peaks.obs_names]['Donor']\n",
    "\n",
    "k27me3_peaks.obs['chamber'] = nrmeta.loc[k27me3_peaks.obs_names]['chamber']\n",
    "k27me3_peaks.obs['Donor'] = nrmeta.loc[k27me3_peaks.obs_names]['Donor']"
   ]
  },
  {
   "cell_type": "code",
   "execution_count": 168,
   "id": "56c8544a",
   "metadata": {},
   "outputs": [],
   "source": [
    "k27ac_peaks.obs['condition'] = k27ac_peaks.obs['predicted.celltype'].astype(\"str\") + \":\" + k27ac_peaks.obs['chamber'].astype(\"str\") + \":\" + k27ac_peaks.obs['Donor'].astype(\"str\")\n",
    "k27me3_peaks.obs['condition'] = k27me3_peaks.obs['predicted.celltype'].astype(\"str\") + \":\" + k27me3_peaks.obs['chamber'].astype(\"str\") + \":\" + k27me3_peaks.obs['Donor'].astype(\"str\")"
   ]
  },
  {
   "cell_type": "code",
   "execution_count": 169,
   "id": "db2dc404",
   "metadata": {},
   "outputs": [],
   "source": [
    "k27ac_rpm = snap.tl.aggregate_X(k27ac_peaks, groupby = 'condition')\n",
    "k27me3_rpm = snap.tl.aggregate_X(k27me3_peaks, groupby = 'condition')"
   ]
  },
  {
   "cell_type": "code",
   "execution_count": 170,
   "id": "6012e53f",
   "metadata": {},
   "outputs": [],
   "source": [
    "k27ac_rpm = pd.DataFrame(k27ac_rpm.X.T, index=k27ac_rpm.var_names, columns=k27ac_rpm.obs_names)\n",
    "k27me3_rpm = pd.DataFrame(k27me3_rpm.X.T, index=k27me3_rpm.var_names, columns=k27me3_rpm.obs_names)\n",
    "k27ac_rpm.to_csv('FNIH_Heart_pool_chamber_celltype_donor.H3K27ac.peaks.rpm.csv')\n",
    "k27me3_rpm.to_csv('FNIH_Heart_pool_chamber_celltype_donor.H3K27me3.peaks.rpm.csv')"
   ]
  },
  {
   "cell_type": "code",
   "execution_count": 129,
   "id": "8a8d5326",
   "metadata": {},
   "outputs": [],
   "source": [
    "total_frag = k27ac_peaks.obs.groupby('condition')['n_fragment'].sum()\n",
    "k27ac_cpm = (k27ac_rpm / total_frag) * 1e6\n",
    "\n",
    "# k27me3_peaks.obs['n_fragment'] = k27me3_data.obs['n_fragment'].cat.codes\n",
    "total_frag = k27me3_peaks.obs.groupby('condition')['n_fragment'].sum()\n",
    "k27me3_cpm = (k27me3_rpm / total_frag) * 1e6\n",
    "\n",
    "k27ac_cpm.to_csv('FNIH_Heart_pool_celltype_donor.H3K27ac.peaks.cpm.csv')\n",
    "k27me3_cpm.to_csv('FNIH_Heart_pool_celltype_donor.H3K27me3.peaks.cpm.csv')"
   ]
  },
  {
   "cell_type": "markdown",
   "id": "280ca807",
   "metadata": {},
   "source": [
    "## Genearate TSS matrix"
   ]
  },
  {
   "cell_type": "code",
   "execution_count": 179,
   "id": "b8a5d06e",
   "metadata": {
    "collapsed": true
   },
   "outputs": [
    {
     "name": "stderr",
     "output_type": "stream",
     "text": [
      "/home/y2xie/miniconda3/envs/seurat/lib/python3.11/site-packages/anndata/_core/anndata.py:183: ImplicitModificationWarning: Transforming to str index.\n",
      "  warnings.warn(\"Transforming to str index.\", ImplicitModificationWarning)\n",
      "/home/y2xie/miniconda3/envs/seurat/lib/python3.11/site-packages/anndata/_core/anndata.py:183: ImplicitModificationWarning: Transforming to str index.\n",
      "  warnings.warn(\"Transforming to str index.\", ImplicitModificationWarning)\n",
      "/home/y2xie/miniconda3/envs/seurat/lib/python3.11/site-packages/anndata/_core/anndata.py:183: ImplicitModificationWarning: Transforming to str index.\n",
      "  warnings.warn(\"Transforming to str index.\", ImplicitModificationWarning)\n",
      "/home/y2xie/miniconda3/envs/seurat/lib/python3.11/site-packages/anndata/_core/anndata.py:183: ImplicitModificationWarning: Transforming to str index.\n",
      "  warnings.warn(\"Transforming to str index.\", ImplicitModificationWarning)\n",
      "/home/y2xie/miniconda3/envs/seurat/lib/python3.11/site-packages/anndata/_core/anndata.py:183: ImplicitModificationWarning: Transforming to str index.\n",
      "  warnings.warn(\"Transforming to str index.\", ImplicitModificationWarning)\n",
      "/home/y2xie/miniconda3/envs/seurat/lib/python3.11/site-packages/anndata/_core/anndata.py:183: ImplicitModificationWarning: Transforming to str index.\n",
      "  warnings.warn(\"Transforming to str index.\", ImplicitModificationWarning)\n",
      "/home/y2xie/miniconda3/envs/seurat/lib/python3.11/site-packages/anndata/_core/anndata.py:183: ImplicitModificationWarning: Transforming to str index.\n",
      "  warnings.warn(\"Transforming to str index.\", ImplicitModificationWarning)\n",
      "/home/y2xie/miniconda3/envs/seurat/lib/python3.11/site-packages/anndata/_core/anndata.py:183: ImplicitModificationWarning: Transforming to str index.\n",
      "  warnings.warn(\"Transforming to str index.\", ImplicitModificationWarning)\n",
      "/home/y2xie/miniconda3/envs/seurat/lib/python3.11/site-packages/anndata/_core/anndata.py:183: ImplicitModificationWarning: Transforming to str index.\n",
      "  warnings.warn(\"Transforming to str index.\", ImplicitModificationWarning)\n",
      "/home/y2xie/miniconda3/envs/seurat/lib/python3.11/site-packages/anndata/_core/anndata.py:183: ImplicitModificationWarning: Transforming to str index.\n",
      "  warnings.warn(\"Transforming to str index.\", ImplicitModificationWarning)\n",
      "/home/y2xie/miniconda3/envs/seurat/lib/python3.11/site-packages/anndata/_core/anndata.py:183: ImplicitModificationWarning: Transforming to str index.\n",
      "  warnings.warn(\"Transforming to str index.\", ImplicitModificationWarning)\n",
      "/home/y2xie/miniconda3/envs/seurat/lib/python3.11/site-packages/anndata/_core/anndata.py:183: ImplicitModificationWarning: Transforming to str index.\n",
      "  warnings.warn(\"Transforming to str index.\", ImplicitModificationWarning)\n",
      "/home/y2xie/miniconda3/envs/seurat/lib/python3.11/site-packages/anndata/_core/anndata.py:183: ImplicitModificationWarning: Transforming to str index.\n",
      "  warnings.warn(\"Transforming to str index.\", ImplicitModificationWarning)\n",
      "/home/y2xie/miniconda3/envs/seurat/lib/python3.11/site-packages/anndata/_core/anndata.py:183: ImplicitModificationWarning: Transforming to str index.\n",
      "  warnings.warn(\"Transforming to str index.\", ImplicitModificationWarning)\n",
      "/home/y2xie/miniconda3/envs/seurat/lib/python3.11/site-packages/anndata/_core/anndata.py:183: ImplicitModificationWarning: Transforming to str index.\n",
      "  warnings.warn(\"Transforming to str index.\", ImplicitModificationWarning)\n",
      "/home/y2xie/miniconda3/envs/seurat/lib/python3.11/site-packages/anndata/_core/anndata.py:183: ImplicitModificationWarning: Transforming to str index.\n",
      "  warnings.warn(\"Transforming to str index.\", ImplicitModificationWarning)\n"
     ]
    }
   ],
   "source": [
    "qry_peaks = \"/projects/ps-renlab/y2xie/projects/genome_ref/refdata-cellranger-arc-GRCh38-2020-A-2.0.0/regions/tss_1500bp.bed\"\n",
    "peak_list = []\n",
    "for sample, f in zip(dna, file_dna):\n",
    "    data = snap.read(\"snapatac/\" + f)\n",
    "    tmp = snap.pp.make_peak_matrix(data, peak_file = qry_peaks, \n",
    "                                   min_frag_size=10, max_frag_size=5000, counting_strategy = 'fragment')\n",
    "    tmp.obs_names = sample + \":\" + tmp.obs_names\n",
    "    \n",
    "    ### is there dup var?\n",
    "    rrm = tmp.var.index.duplicated()\n",
    "    ttmp = tmp[:, ~rrm].copy()\n",
    "    peak_list.append(ttmp)\n",
    "    data.close()"
   ]
  },
  {
   "cell_type": "code",
   "execution_count": 219,
   "id": "0b5df78a",
   "metadata": {
    "scrolled": true
   },
   "outputs": [],
   "source": [
    "k27me3_peaks = an.concat(peak_list)\n",
    "k27me3_peaks = k27me3_peaks[k27me3_data.obs_names,:]\n",
    "k27me3_peaks.obs = k27me3_data.obs.loc[k27me3_peaks.obs_names]\n",
    "k27me3_peaks.obs['chamber'] = nrmeta.loc[k27me3_peaks.obs_names]['chamber']\n",
    "k27me3_peaks.obs['Donor'] = nrmeta.loc[k27me3_peaks.obs_names]['Donor']\n",
    "\n",
    "k27me3_peaks.write(\"FNIH_Heart_pool.H3K27me3.TSS.h5ad\")\n",
    "\n",
    "k27ac_peaks = an.concat(peak_list)\n",
    "k27ac_peaks = k27ac_peaks[k27ac_data.obs_names,:]\n",
    "k27ac_peaks.obs = k27ac_data.obs.loc[k27ac_peaks.obs_names]\n",
    "k27ac_peaks.obs['chamber'] = nrmeta.loc[k27ac_peaks.obs_names]['chamber']\n",
    "k27ac_peaks.obs['Donor'] = nrmeta.loc[k27ac_peaks.obs_names]['Donor']\n",
    "\n",
    "k27ac_peaks.write(\"FNIH_Heart_pool.H3K27ac.TSS.h5ad\")"
   ]
  },
  {
   "cell_type": "code",
   "execution_count": 226,
   "id": "0ac715f9",
   "metadata": {},
   "outputs": [
    {
     "name": "stderr",
     "output_type": "stream",
     "text": [
      "... storing 'Donor' as categorical\n",
      "... storing 'chamber' as categorical\n"
     ]
    }
   ],
   "source": [
    "k27ac_peaks = an.concat(peak_list)\n",
    "k27ac_peaks = k27ac_peaks[k27ac_data.obs_names,:]\n",
    "k27ac_peaks.obs = k27ac_data.obs.loc[k27ac_peaks.obs_names]\n",
    "k27ac_peaks.obs['chamber'] = nrmeta.loc[k27ac_peaks.obs_names]['chamber']\n",
    "k27ac_peaks.obs['Donor'] = nrmeta.loc[k27ac_peaks.obs_names]['Donor']\n",
    "\n",
    "k27ac_peaks.write(\"FNIH_Heart_pool.H3K27ac.TSS.h5ad\")"
   ]
  },
  {
   "cell_type": "code",
   "execution_count": 227,
   "id": "b0d67a0b",
   "metadata": {},
   "outputs": [],
   "source": [
    "k27ac_peaks.obs['condition'] = k27ac_peaks.obs['predicted.celltype'].astype(\"str\") + \":\" + k27ac_peaks.obs['chamber'].astype(\"str\") + \":\" + k27ac_peaks.obs['Donor'].astype(\"str\")\n",
    "\n",
    "rpm = snap.tl.aggregate_X(k27ac_peaks, groupby = 'condition')\n",
    "rpm = pd.DataFrame(rpm.X.T, index=rpm.var_names, columns=rpm.obs_names)\n",
    "rpm.to_csv('FNIH_Heart_pool_chamber_celltype_donor.H3K27ac.TSS.rpm.csv')"
   ]
  },
  {
   "cell_type": "code",
   "execution_count": 224,
   "id": "d09e281d",
   "metadata": {},
   "outputs": [],
   "source": [
    "k27me3_peaks.obs['condition'] = k27me3_peaks.obs['predicted.celltype'].astype(\"str\") + \":\" + k27me3_peaks.obs['chamber'].astype(\"str\") + \":\" + k27me3_peaks.obs['Donor'].astype(\"str\")\n",
    "\n",
    "rpm = snap.tl.aggregate_X(k27me3_peaks, groupby = 'condition')\n",
    "rpm = pd.DataFrame(rpm.X.T, index=rpm.var_names, columns=rpm.obs_names)\n",
    "rpm.to_csv('FNIH_Heart_pool_chamber_celltype_donor.H3K27me3.TSS.rpm.csv')"
   ]
  },
  {
   "cell_type": "markdown",
   "id": "4a0a56af",
   "metadata": {},
   "source": [
    "## Generate ATAC-peak based matrix"
   ]
  },
  {
   "cell_type": "code",
   "execution_count": 230,
   "id": "61fdc4b9",
   "metadata": {
    "scrolled": true
   },
   "outputs": [
    {
     "name": "stderr",
     "output_type": "stream",
     "text": [
      "/home/y2xie/miniconda3/envs/seurat/lib/python3.11/site-packages/anndata/_core/anndata.py:183: ImplicitModificationWarning: Transforming to str index.\n",
      "  warnings.warn(\"Transforming to str index.\", ImplicitModificationWarning)\n",
      "/home/y2xie/miniconda3/envs/seurat/lib/python3.11/site-packages/anndata/_core/anndata.py:183: ImplicitModificationWarning: Transforming to str index.\n",
      "  warnings.warn(\"Transforming to str index.\", ImplicitModificationWarning)\n",
      "/home/y2xie/miniconda3/envs/seurat/lib/python3.11/site-packages/anndata/_core/anndata.py:183: ImplicitModificationWarning: Transforming to str index.\n",
      "  warnings.warn(\"Transforming to str index.\", ImplicitModificationWarning)\n",
      "/home/y2xie/miniconda3/envs/seurat/lib/python3.11/site-packages/anndata/_core/anndata.py:183: ImplicitModificationWarning: Transforming to str index.\n",
      "  warnings.warn(\"Transforming to str index.\", ImplicitModificationWarning)\n",
      "/home/y2xie/miniconda3/envs/seurat/lib/python3.11/site-packages/anndata/_core/anndata.py:183: ImplicitModificationWarning: Transforming to str index.\n",
      "  warnings.warn(\"Transforming to str index.\", ImplicitModificationWarning)\n",
      "/home/y2xie/miniconda3/envs/seurat/lib/python3.11/site-packages/anndata/_core/anndata.py:183: ImplicitModificationWarning: Transforming to str index.\n",
      "  warnings.warn(\"Transforming to str index.\", ImplicitModificationWarning)\n",
      "/home/y2xie/miniconda3/envs/seurat/lib/python3.11/site-packages/anndata/_core/anndata.py:183: ImplicitModificationWarning: Transforming to str index.\n",
      "  warnings.warn(\"Transforming to str index.\", ImplicitModificationWarning)\n",
      "/home/y2xie/miniconda3/envs/seurat/lib/python3.11/site-packages/anndata/_core/anndata.py:183: ImplicitModificationWarning: Transforming to str index.\n",
      "  warnings.warn(\"Transforming to str index.\", ImplicitModificationWarning)\n",
      "/home/y2xie/miniconda3/envs/seurat/lib/python3.11/site-packages/anndata/_core/anndata.py:183: ImplicitModificationWarning: Transforming to str index.\n",
      "  warnings.warn(\"Transforming to str index.\", ImplicitModificationWarning)\n",
      "/home/y2xie/miniconda3/envs/seurat/lib/python3.11/site-packages/anndata/_core/anndata.py:183: ImplicitModificationWarning: Transforming to str index.\n",
      "  warnings.warn(\"Transforming to str index.\", ImplicitModificationWarning)\n",
      "/home/y2xie/miniconda3/envs/seurat/lib/python3.11/site-packages/anndata/_core/anndata.py:183: ImplicitModificationWarning: Transforming to str index.\n",
      "  warnings.warn(\"Transforming to str index.\", ImplicitModificationWarning)\n",
      "/home/y2xie/miniconda3/envs/seurat/lib/python3.11/site-packages/anndata/_core/anndata.py:183: ImplicitModificationWarning: Transforming to str index.\n",
      "  warnings.warn(\"Transforming to str index.\", ImplicitModificationWarning)\n",
      "/home/y2xie/miniconda3/envs/seurat/lib/python3.11/site-packages/anndata/_core/anndata.py:183: ImplicitModificationWarning: Transforming to str index.\n",
      "  warnings.warn(\"Transforming to str index.\", ImplicitModificationWarning)\n",
      "/home/y2xie/miniconda3/envs/seurat/lib/python3.11/site-packages/anndata/_core/anndata.py:183: ImplicitModificationWarning: Transforming to str index.\n",
      "  warnings.warn(\"Transforming to str index.\", ImplicitModificationWarning)\n",
      "/home/y2xie/miniconda3/envs/seurat/lib/python3.11/site-packages/anndata/_core/anndata.py:183: ImplicitModificationWarning: Transforming to str index.\n",
      "  warnings.warn(\"Transforming to str index.\", ImplicitModificationWarning)\n",
      "/home/y2xie/miniconda3/envs/seurat/lib/python3.11/site-packages/anndata/_core/anndata.py:183: ImplicitModificationWarning: Transforming to str index.\n",
      "  warnings.warn(\"Transforming to str index.\", ImplicitModificationWarning)\n"
     ]
    }
   ],
   "source": [
    "qry_peaks = \"/projects/ps-renlab2/y2xie/projects/77.LC/81.FNIH_DPT_IGM_240827/reference/FNIH_peaks/Heart_UnionPeak.bed\"\n",
    "peak_list = []\n",
    "for sample, f in zip(dna, file_dna):\n",
    "    data = snap.read(\"snapatac/\" + f)\n",
    "    tmp = snap.pp.make_peak_matrix(data, peak_file = qry_peaks, \n",
    "                                   min_frag_size=10, max_frag_size=5000, counting_strategy = 'fragment')\n",
    "    tmp.obs_names = sample + \":\" + tmp.obs_names\n",
    "    \n",
    "    ### is there dup var?\n",
    "#     rrm = tmp.var.index.duplicated()\n",
    "#     ttmp = tmp[:, ~rrm].copy()\n",
    "    peak_list.append(tmp)\n",
    "    data.close()"
   ]
  },
  {
   "cell_type": "code",
   "execution_count": 231,
   "id": "14edfd45",
   "metadata": {},
   "outputs": [
    {
     "name": "stderr",
     "output_type": "stream",
     "text": [
      "... storing 'Donor' as categorical\n",
      "... storing 'chamber' as categorical\n",
      "... storing 'Donor' as categorical\n",
      "... storing 'chamber' as categorical\n"
     ]
    }
   ],
   "source": [
    "annpeak = an.concat(peak_list)\n",
    "k27me3_peaks = annpeak[k27me3_data.obs_names,:]\n",
    "k27me3_peaks.obs = k27me3_data.obs.loc[k27me3_peaks.obs_names]\n",
    "k27me3_peaks.obs['chamber'] = nrmeta.loc[k27me3_peaks.obs_names]['chamber']\n",
    "k27me3_peaks.obs['Donor'] = nrmeta.loc[k27me3_peaks.obs_names]['Donor']\n",
    "k27me3_peaks.obs['HF'] = nrmeta.loc[k27me3_peaks.obs_names]['condition']\n",
    "k27me3_peaks.obs['disease'] = nrmeta.loc[k27me3_peaks.obs_names]['HF']\n",
    "k27me3_peaks.obs['Gender'] = nrmeta.loc[k27me3_peaks.obs_names]['Gender']\n",
    "\n",
    "k27me3_peaks.write(\"FNIH_Heart_signal/FNIH_Heart_pool.H3K27me3.HeartUnionPeak.h5ad\")\n",
    "\n",
    "k27ac_peaks = annpeak[k27ac_data.obs_names,:]\n",
    "k27ac_peaks.obs = k27ac_data.obs.loc[k27ac_peaks.obs_names]\n",
    "k27ac_peaks.obs['chamber'] = nrmeta.loc[k27ac_peaks.obs_names]['chamber']\n",
    "k27ac_peaks.obs['Donor'] = nrmeta.loc[k27ac_peaks.obs_names]['Donor']\n",
    "k27ac_peaks.obs['HF'] = nrmeta.loc[k27ac_peaks.obs_names]['condition']\n",
    "k27ac_peaks.obs['disease'] = nrmeta.loc[k27ac_peaks.obs_names]['HF']\n",
    "k27ac_peaks.obs['Gender'] = nrmeta.loc[k27ac_peaks.obs_names]['Gender']\n",
    "\n",
    "k27ac_peaks.write(\"FNIH_Heart_signal/FNIH_Heart_pool.H3K27ac.HeartUnionPeak.h5ad\")"
   ]
  },
  {
   "cell_type": "code",
   "execution_count": 3,
   "id": "0def95a1",
   "metadata": {},
   "outputs": [],
   "source": [
    "k27ac_peaks = snap.read(\"FNIH_Heart_signal/FNIH_Heart_pool.H3K27ac.HeartUnionPeak.h5ad\", backed = None)\n",
    "k27me3_peaks = snap.read(\"FNIH_Heart_signal/FNIH_Heart_pool.H3K27me3.HeartUnionPeak.h5ad\", backed = None)"
   ]
  },
  {
   "cell_type": "code",
   "execution_count": 6,
   "id": "f786cea4",
   "metadata": {},
   "outputs": [
    {
     "data": {
      "text/plain": [
       "(array(['Adipocyte', 'Endocardial', 'Endothelial', 'Epicardial',\n",
       "        'Fibroblast', 'Lymphoid', 'Myeloid', 'Neuronal', 'Pericyte', 'SM',\n",
       "        'aCM', 'vCM'], dtype=object),\n",
       " array([  123,  1132, 13451,   585,  5750,  2890, 12591,   982,  6436,\n",
       "         1305,  9820, 13260]))"
      ]
     },
     "execution_count": 6,
     "metadata": {},
     "output_type": "execute_result"
    }
   ],
   "source": [
    "np.unique(k27ac_peaks.obs['predicted.celltype'], return_counts=True)"
   ]
  },
  {
   "cell_type": "code",
   "execution_count": 7,
   "id": "0b3a9ff6",
   "metadata": {},
   "outputs": [
    {
     "data": {
      "text/plain": [
       "(array(['Adipocyte', 'Endocardial', 'Endothelial', 'Epicardial',\n",
       "        'Fibroblast', 'Lymphoid', 'Myeloid', 'Neuronal', 'Pericyte', 'SM',\n",
       "        'aCM', 'vCM'], dtype=object),\n",
       " array([  122,  1146, 14447,   537,  6834,  3064, 10697,   903,  4744,\n",
       "         1307,  8452, 10675]))"
      ]
     },
     "execution_count": 7,
     "metadata": {},
     "output_type": "execute_result"
    }
   ],
   "source": [
    "np.unique(k27me3_peaks.obs['predicted.celltype'], return_counts=True)"
   ]
  },
  {
   "cell_type": "code",
   "execution_count": 232,
   "id": "0b408b68",
   "metadata": {},
   "outputs": [],
   "source": [
    "k27ac_peaks.obs['condition'] = k27ac_peaks.obs['predicted.celltype'].astype(\"str\") + \":\" + k27ac_peaks.obs['chamber'].astype(\"str\") + \":\" + k27ac_peaks.obs['Donor'].astype(\"str\")\n",
    "\n",
    "rpm = snap.tl.aggregate_X(k27ac_peaks, groupby = 'condition')\n",
    "rpm = pd.DataFrame(rpm.X.T, index=rpm.var_names, columns=rpm.obs_names)\n",
    "rpm.to_csv('FNIH_Heart_pool_chamber_celltype_donor.H3K27ac.HeartUnionPeak.rpm.csv')"
   ]
  },
  {
   "cell_type": "code",
   "execution_count": 233,
   "id": "ef921f9d",
   "metadata": {},
   "outputs": [],
   "source": [
    "k27me3_peaks.obs['condition'] = k27me3_peaks.obs['predicted.celltype'].astype(\"str\") + \":\" + k27me3_peaks.obs['chamber'].astype(\"str\") + \":\" + k27me3_peaks.obs['Donor'].astype(\"str\")\n",
    "\n",
    "rpm = snap.tl.aggregate_X(k27me3_peaks, groupby = 'condition')\n",
    "rpm = pd.DataFrame(rpm.X.T, index=rpm.var_names, columns=rpm.obs_names)\n",
    "rpm.to_csv('FNIH_Heart_pool_chamber_celltype_donor.H3K27me3.HeartUnionPeak.rpm.csv')"
   ]
  },
  {
   "cell_type": "code",
   "execution_count": 50,
   "id": "9da9c0ce",
   "metadata": {},
   "outputs": [],
   "source": [
    "k27ac_peaks.obs['condition'] = k27ac_peaks.obs['predicted.celltype'].astype(\"str\") \n",
    "k27ac_peaks.obs['n_fragment'] = pd.to_numeric(k27ac_peaks.obs['n_fragment'])\n",
    "rpm = snap.tl.aggregate_X(k27ac_peaks, groupby = 'condition')\n",
    "rpm = pd.DataFrame(rpm.X.T, index=rpm.var_names, columns=rpm.obs_names)\n",
    "total_frag = k27ac_peaks.obs.groupby('condition')['n_fragment'].sum()\n",
    "cpm = (rpm / total_frag) * 1e6\n",
    "cpm.to_csv('FNIH_Heart_signal/FNIH_Heart_pool.H3K27ac.HeartUnionPeak.cpm.csv')\n",
    "\n",
    "k27me3_peaks.obs['condition'] = k27me3_peaks.obs['predicted.celltype'].astype(\"str\")\n",
    "k27me3_peaks.obs['n_fragment'] = pd.to_numeric(k27me3_peaks.obs['n_fragment'])\n",
    "rpm = snap.tl.aggregate_X(k27me3_peaks, groupby = 'condition')\n",
    "rpm = pd.DataFrame(rpm.X.T, index=rpm.var_names, columns=rpm.obs_names)\n",
    "total_frag = k27me3_peaks.obs.groupby('condition')['n_fragment'].sum()\n",
    "cpm = (rpm / total_frag) * 1e6\n",
    "cpm.to_csv('FNIH_Heart_signal/FNIH_Heart_pool.H3K27me3.HeartUnionPeak.cpm.csv')"
   ]
  },
  {
   "cell_type": "code",
   "execution_count": 5,
   "id": "b8f48e4b",
   "metadata": {},
   "outputs": [],
   "source": [
    "dinfo = pd.read_csv('../reference/CAREHF_FNIH_donor.simple.info', sep = '\\t', index_col=0)\n",
    "idx = pd.Index(dinfo['Patient.ID']).get_indexer(k27me3_peaks.obs['Donor'])\n",
    "\n",
    "k27me3_peaks.obs['HF'] = np.array(dinfo.iloc[idx]['condition'])\n",
    "k27me3_peaks.obs['condition'] = k27me3_peaks.obs['predicted.celltype'].astype(\"str\") + \"-\" + k27me3_peaks.obs['HF'].astype(\"str\")\n",
    "\n",
    "idx = pd.Index(dinfo['Patient.ID']).get_indexer(k27ac_peaks.obs['Donor'])\n",
    "k27ac_peaks.obs['HF'] = np.array(dinfo.iloc[idx]['condition'])\n",
    "k27ac_peaks.obs['condition'] = k27ac_peaks.obs['predicted.celltype'].astype(\"str\") + \"-\" + k27ac_peaks.obs['HF'].astype(\"str\")"
   ]
  },
  {
   "cell_type": "code",
   "execution_count": 4,
   "id": "4ebcffe2",
   "metadata": {},
   "outputs": [],
   "source": [
    "k27ac_data = snap.read(\"FNIH_Heart_cluster/FNIH_Heart_pool.H3K27ac.h5ad\", backed = None)\n",
    "k27me3_data = snap.read(\"FNIH_Heart_cluster/FNIH_Heart_pool.H3K27me3.h5ad\", backed = None)"
   ]
  },
  {
   "cell_type": "code",
   "execution_count": 14,
   "id": "d2ff22e4",
   "metadata": {},
   "outputs": [
    {
     "name": "stderr",
     "output_type": "stream",
     "text": [
      "/tmp/ipykernel_561264/1362029716.py:4: FutureWarning: The default of observed=False is deprecated and will be changed to True in a future version of pandas. Pass observed=False to retain current behavior or observed=True to adopt the future default and silence this warning.\n",
      "  total_frag = k27ac_peaks.obs.groupby('condition')['n_fragment'].sum()\n",
      "/tmp/ipykernel_561264/1362029716.py:11: FutureWarning: The default of observed=False is deprecated and will be changed to True in a future version of pandas. Pass observed=False to retain current behavior or observed=True to adopt the future default and silence this warning.\n",
      "  total_frag = k27me3_peaks.obs.groupby('condition')['n_fragment'].sum()\n"
     ]
    }
   ],
   "source": [
    "rpm = snap.tl.aggregate_X(k27ac_peaks, groupby = 'condition')\n",
    "rpm = pd.DataFrame(rpm.X.T, index=rpm.var_names, columns=rpm.obs_names)\n",
    "k27ac_peaks.obs['n_fragment'] = pd.to_numeric(k27ac_data.obs['n_fragment'])\n",
    "total_frag = k27ac_peaks.obs.groupby('condition')['n_fragment'].sum()\n",
    "cpm = (rpm / total_frag) * 1e6\n",
    "cpm.to_csv('FNIH_Heart_signal/FNIH_Heart_pool.H3K27ac.disease.HeartUnionPeak.cpm.csv')\n",
    "\n",
    "rpm = snap.tl.aggregate_X(k27me3_peaks, groupby = 'condition')\n",
    "rpm = pd.DataFrame(rpm.X.T, index=rpm.var_names, columns=rpm.obs_names)\n",
    "k27me3_peaks.obs['n_fragment'] = pd.to_numeric(k27me3_data.obs['n_fragment'])\n",
    "total_frag = k27me3_peaks.obs.groupby('condition')['n_fragment'].sum()\n",
    "cpm = (rpm / total_frag) * 1e6\n",
    "cpm.to_csv('FNIH_Heart_signal/FNIH_Heart_pool.H3K27me3.disease.HeartUnionPeak.cpm.csv')"
   ]
  },
  {
   "cell_type": "code",
   "execution_count": 36,
   "id": "2c359d4e",
   "metadata": {},
   "outputs": [
    {
     "data": {
      "text/plain": [
       "(191678, 347)"
      ]
     },
     "execution_count": 36,
     "metadata": {},
     "output_type": "execute_result"
    }
   ],
   "source": [
    "dinfo = pd.read_csv('../reference/CAREHF_FNIH_donor.simple.info', sep = '\\t', index_col=0)\n",
    "nrmeta = pd.read_csv('FNIH_Heart_cluster/FNIH_Heart_pool_DPT_SNG_SoupX_reference_mapping_filtered.meta.xls', index_col=0, sep = '\\t')\n",
    "nrmeta.index = nrmeta['dna'] + \":\" + nrmeta['dna_bc']\n",
    "k27me3_data.obs['Donor'] = nrmeta.loc[k27me3_data.obs_names]['Donor']\n",
    "k27me3_data.obs['condition'] = k27me3_data.obs['predicted.celltype'].astype(\"str\") + \":\" + k27me3_data.obs['Donor'].astype(\"str\")\n",
    "rpm = snap.tl.aggregate_X(k27me3_data, groupby = 'condition')\n",
    "rpm = pd.DataFrame(rpm.X.T, index=rpm.var_names, columns=rpm.obs_names)\n",
    "rpm.to_csv(\"FNIH_Heart_signal/FNIH_Heart_pool.H3K27me3.15kb.csv\")\n",
    "\n",
    "rpm.shape"
   ]
  },
  {
   "cell_type": "code",
   "execution_count": 8,
   "id": "3c128dd0",
   "metadata": {},
   "outputs": [
    {
     "data": {
      "text/plain": [
       "(191678, 24)"
      ]
     },
     "execution_count": 8,
     "metadata": {},
     "output_type": "execute_result"
    }
   ],
   "source": [
    "dinfo = pd.read_csv('../reference/CAREHF_FNIH_donor.simple.info', sep = '\\t', index_col=0)\n",
    "nrmeta = pd.read_csv('FNIH_Heart_cluster/FNIH_Heart_pool_DPT_SNG_SoupX_reference_mapping_filtered.meta.xls', index_col=0, sep = '\\t')\n",
    "nrmeta.index = nrmeta['dna'] + \":\" + nrmeta['dna_bc']\n",
    "k27me3_data.obs['HF'] = nrmeta.loc[k27me3_data.obs_names]['condition']\n",
    "k27me3_data.obs['condition'] = k27me3_data.obs['predicted.celltype'].astype(\"str\") + \":\" + k27me3_data.obs['HF'].astype(\"str\")\n",
    "rpm = snap.tl.aggregate_X(k27me3_data, groupby = 'condition')\n",
    "rpm = pd.DataFrame(rpm.X.T, index=rpm.var_names, columns=rpm.obs_names)\n",
    "rpm.shape"
   ]
  },
  {
   "cell_type": "code",
   "execution_count": 11,
   "id": "7c7e48cf",
   "metadata": {},
   "outputs": [],
   "source": [
    "k27me3_data.obs['n_fragment'] = pd.to_numeric(k27me3_data.obs['n_fragment'])\n",
    "total_frag = k27me3_data.obs.groupby('condition')['n_fragment'].sum()\n",
    "cpm = (rpm / total_frag) * 1e6\n",
    "cpm.to_csv(\"FNIH_Heart_signal/FNIH_Heart_pool.celltype_disease.H3K27me3.15kb.cpm.csv\")"
   ]
  },
  {
   "cell_type": "code",
   "execution_count": null,
   "id": "54953302",
   "metadata": {},
   "outputs": [],
   "source": []
  },
  {
   "cell_type": "code",
   "execution_count": 8,
   "id": "9085da03",
   "metadata": {},
   "outputs": [
    {
     "name": "stderr",
     "output_type": "stream",
     "text": [
      "... storing 'HF' as categorical\n",
      "... storing 'condition' as categorical\n",
      "... storing 'HF' as categorical\n",
      "... storing 'condition' as categorical\n"
     ]
    }
   ],
   "source": [
    "# k27ac_peaks.write(\"FNIH_Heart_signal/FNIH_Heart_pool.H3K27ac.HeartUnionPeak.h5ad\")\n",
    "# k27me3_peaks.write(\"FNIH_Heart_signal/FNIH_Heart_pool.H3K27me3.HeartUnionPeak.h5ad\")"
   ]
  },
  {
   "cell_type": "markdown",
   "id": "70e58f91",
   "metadata": {},
   "source": [
    "### Subtype level"
   ]
  },
  {
   "cell_type": "code",
   "execution_count": 28,
   "id": "28fb3550",
   "metadata": {
    "scrolled": true
   },
   "outputs": [
    {
     "name": "stderr",
     "output_type": "stream",
     "text": [
      "/tmp/ipykernel_2961651/1907370631.py:2: DtypeWarning: Columns (4,5,6,7,54,55,58,59,60,62,63,64,66,74,75,78,79,80,81,82,83,84,88,89,90,91,92,93,94,95,96,97,98,99,101,103) have mixed types. Specify dtype option on import or set low_memory=False.\n",
      "  meta = pd.read_csv(\"../../81.FNIH_DPT_IGM_240827/05.R/integration/CAREHF_Multiome_DPT_RNA_int.meta.csv\", index_col = 0)\n"
     ]
    }
   ],
   "source": [
    "# meta = pd.read_csv(\"../../87.FNIH_DHC_IGM_240925/05.R/integration/All_data.int.csv\", index_col=0)\n",
    "meta = pd.read_csv(\"../../81.FNIH_DPT_IGM_240827/05.R/integration/CAREHF_Multiome_DPT_RNA_int.meta.csv\", index_col = 0)\n",
    "tmeta = meta.loc[(meta['orig.ident'] == 'DPT') & (meta['Target'] == 'H3K27ac') & (meta['integrated_subtype'] == 1)]\n",
    "tmeta.index = tmeta.dna + \":\" + tmeta.dna_bc"
   ]
  },
  {
   "cell_type": "code",
   "execution_count": 14,
   "id": "93dd87c4",
   "metadata": {},
   "outputs": [
    {
     "name": "stderr",
     "output_type": "stream",
     "text": [
      "/tmp/ipykernel_2961651/2965765999.py:2: ImplicitModificationWarning: Trying to modify attribute `.obs` of view, initializing view as actual.\n",
      "  tmp.obs['subtype'] = tmeta.loc[tmp.obs_names]['nn2.cell_subtype']\n"
     ]
    }
   ],
   "source": [
    "tmp = k27ac_peaks[np.intersect1d(k27ac_peaks.obs_names, tmeta.index),:]\n",
    "tmp.obs['subtype'] = tmeta.loc[tmp.obs_names]['nn2.cell_subtype']\n",
    "tmp.obs['Donor'] = tmeta.loc[tmp.obs_names]['Donor']\n",
    "tmp.obs['condition'] = tmp.obs['subtype'].astype(\"str\") + \":\" + tmp.obs['Donor'].astype(\"str\")\n",
    "\n",
    "tmp.obs['n_fragment'] = pd.to_numeric(tmp.obs['n_fragment'])\n",
    "rpm = snap.tl.aggregate_X(tmp, groupby = 'condition')\n",
    "rpm = pd.DataFrame(rpm.X.T, index=rpm.var_names, columns=rpm.obs_names)\n",
    "rpm.to_csv(\"FNIH_Heart_signal/FNIH_Heart_pool_cellsubtype_donor.H3K27ac.HeartUnionPeak.rpm.csv\")"
   ]
  },
  {
   "cell_type": "code",
   "execution_count": 69,
   "id": "9f2a7a88",
   "metadata": {},
   "outputs": [
    {
     "name": "stderr",
     "output_type": "stream",
     "text": [
      "/tmp/ipykernel_2496444/2947664978.py:2: ImplicitModificationWarning: Trying to modify attribute `.obs` of view, initializing view as actual.\n",
      "  tmp.obs['condition'] = tmeta.loc[tmp.obs_names]['nn2.cell_subtype']\n"
     ]
    }
   ],
   "source": [
    "tmp = k27ac_peaks[np.intersect1d(k27ac_peaks.obs_names, tmeta.index),:]\n",
    "tmp.obs['condition'] = tmeta.loc[tmp.obs_names]['nn2.cell_subtype']\n",
    "tmp.obs['n_fragment'] = tmp.obs['n_fragment'].cat.codes\n",
    "rpm = snap.tl.aggregate_X(tmp, groupby = 'condition')\n",
    "rpm = pd.DataFrame(rpm.X.T, index=rpm.var_names, columns=rpm.obs_names)\n",
    "total_frag = tmp.obs.groupby('condition')['n_fragment'].sum()\n",
    "cpm = (rpm / total_frag) * 1e6\n",
    "cpm.to_csv('FNIH_Heart_pool.H3K27ac.HeartUnionPeak.cellsubtype.cpm.csv')"
   ]
  },
  {
   "cell_type": "code",
   "execution_count": 15,
   "id": "9a85e5ef",
   "metadata": {},
   "outputs": [
    {
     "name": "stderr",
     "output_type": "stream",
     "text": [
      "/tmp/ipykernel_2961651/698176392.py:5: ImplicitModificationWarning: Trying to modify attribute `.obs` of view, initializing view as actual.\n",
      "  tmp.obs['subtype'] = tmeta.loc[tmp.obs_names]['nn2.cell_subtype']\n"
     ]
    }
   ],
   "source": [
    "tmeta = meta.loc[(meta['orig.ident'] == 'DPT') & (meta['Target'] == 'H3K27me3') & (meta['integrated_subtype'] == 1)]\n",
    "tmeta.index = tmeta.dna + \":\" + tmeta.dna_bc\n",
    "\n",
    "tmp = k27me3_peaks[np.intersect1d(k27me3_peaks.obs_names, tmeta.index),:]\n",
    "tmp.obs['subtype'] = tmeta.loc[tmp.obs_names]['nn2.cell_subtype']\n",
    "tmp.obs['Donor'] = tmeta.loc[tmp.obs_names]['Donor']\n",
    "tmp.obs['condition'] = tmp.obs['subtype'].astype(\"str\") + \":\" + tmp.obs['Donor'].astype(\"str\")\n",
    "\n",
    "tmp.obs['n_fragment'] = pd.to_numeric(tmp.obs['n_fragment'])\n",
    "rpm = snap.tl.aggregate_X(tmp, groupby = 'condition')\n",
    "rpm = pd.DataFrame(rpm.X.T, index=rpm.var_names, columns=rpm.obs_names)\n",
    "rpm.to_csv(\"FNIH_Heart_signal/FNIH_Heart_pool_cellsubtype_donor.H3K27me3.HeartUnionPeak.rpm.csv\")"
   ]
  },
  {
   "cell_type": "code",
   "execution_count": 70,
   "id": "1428f797",
   "metadata": {},
   "outputs": [
    {
     "name": "stderr",
     "output_type": "stream",
     "text": [
      "/tmp/ipykernel_2496444/3878854169.py:5: ImplicitModificationWarning: Trying to modify attribute `.obs` of view, initializing view as actual.\n",
      "  tmp.obs['condition'] = tmeta.loc[tmp.obs_names]['nn2.cell_subtype']\n"
     ]
    }
   ],
   "source": [
    "tmp = k27me3_peaks[np.intersect1d(k27me3_peaks.obs_names, tmeta.index),:]\n",
    "tmp.obs['condition'] = tmeta.loc[tmp.obs_names]['nn2.cell_subtype']\n",
    "tmp.obs['n_fragment'] = tmp.obs['n_fragment'].cat.codes\n",
    "rpm = snap.tl.aggregate_X(tmp, groupby = 'condition')\n",
    "rpm = pd.DataFrame(rpm.X.T, index=rpm.var_names, columns=rpm.obs_names)\n",
    "total_frag = tmp.obs.groupby('condition')['n_fragment'].sum()\n",
    "cpm = (rpm / total_frag) * 1e6\n",
    "cpm.to_csv('FNIH_Heart_pool.H3K27me3.HeartUnionPeak.cellsubtype.cpm.csv')"
   ]
  },
  {
   "cell_type": "markdown",
   "id": "5e2dc371",
   "metadata": {},
   "source": [
    "### Celltype by donor"
   ]
  },
  {
   "cell_type": "code",
   "execution_count": 30,
   "id": "cb8a437d",
   "metadata": {},
   "outputs": [
    {
     "name": "stderr",
     "output_type": "stream",
     "text": [
      "/tmp/ipykernel_2961651/1620451170.py:3: ImplicitModificationWarning: Trying to modify attribute `.obs` of view, initializing view as actual.\n",
      "  tmp.obs['nn2.celltype'] = tmeta.loc[tmp.obs_names]['nn2.celltype']\n"
     ]
    },
    {
     "data": {
      "text/html": [
       "<div>\n",
       "<style scoped>\n",
       "    .dataframe tbody tr th:only-of-type {\n",
       "        vertical-align: middle;\n",
       "    }\n",
       "\n",
       "    .dataframe tbody tr th {\n",
       "        vertical-align: top;\n",
       "    }\n",
       "\n",
       "    .dataframe thead th {\n",
       "        text-align: right;\n",
       "    }\n",
       "</style>\n",
       "<table border=\"1\" class=\"dataframe\">\n",
       "  <thead>\n",
       "    <tr style=\"text-align: right;\">\n",
       "      <th></th>\n",
       "      <th>Adipocyte:D35</th>\n",
       "      <th>Adipocyte:D36</th>\n",
       "      <th>Adipocyte:D37</th>\n",
       "      <th>Adipocyte:D38</th>\n",
       "      <th>Adipocyte:D40</th>\n",
       "      <th>Adipocyte:D51</th>\n",
       "      <th>Adipocyte:D52</th>\n",
       "      <th>Adipocyte:D53</th>\n",
       "      <th>Adipocyte:D55</th>\n",
       "      <th>Adipocyte:DTX027</th>\n",
       "      <th>...</th>\n",
       "      <th>vCM:DTX087</th>\n",
       "      <th>vCM:DTX088</th>\n",
       "      <th>vCM:DTX089</th>\n",
       "      <th>vCM:DTX091</th>\n",
       "      <th>vCM:DTX093</th>\n",
       "      <th>vCM:DTX096</th>\n",
       "      <th>vCM:DTX097</th>\n",
       "      <th>vCM:DTX105</th>\n",
       "      <th>vCM:DTX114</th>\n",
       "      <th>vCM:DTX119</th>\n",
       "    </tr>\n",
       "  </thead>\n",
       "  <tbody>\n",
       "    <tr>\n",
       "      <th>chr1:9790-10789</th>\n",
       "      <td>1.0</td>\n",
       "      <td>4.0</td>\n",
       "      <td>1.0</td>\n",
       "      <td>1.0</td>\n",
       "      <td>0.0</td>\n",
       "      <td>2.0</td>\n",
       "      <td>1.0</td>\n",
       "      <td>1.0</td>\n",
       "      <td>0.0</td>\n",
       "      <td>0.0</td>\n",
       "      <td>...</td>\n",
       "      <td>20.0</td>\n",
       "      <td>16.0</td>\n",
       "      <td>80.0</td>\n",
       "      <td>27.0</td>\n",
       "      <td>8.0</td>\n",
       "      <td>10.0</td>\n",
       "      <td>6.0</td>\n",
       "      <td>39.0</td>\n",
       "      <td>27.0</td>\n",
       "      <td>12.0</td>\n",
       "    </tr>\n",
       "    <tr>\n",
       "      <th>chr1:11807-12806</th>\n",
       "      <td>0.0</td>\n",
       "      <td>0.0</td>\n",
       "      <td>0.0</td>\n",
       "      <td>0.0</td>\n",
       "      <td>0.0</td>\n",
       "      <td>0.0</td>\n",
       "      <td>0.0</td>\n",
       "      <td>0.0</td>\n",
       "      <td>0.0</td>\n",
       "      <td>0.0</td>\n",
       "      <td>...</td>\n",
       "      <td>0.0</td>\n",
       "      <td>0.0</td>\n",
       "      <td>0.0</td>\n",
       "      <td>0.0</td>\n",
       "      <td>0.0</td>\n",
       "      <td>0.0</td>\n",
       "      <td>0.0</td>\n",
       "      <td>0.0</td>\n",
       "      <td>0.0</td>\n",
       "      <td>0.0</td>\n",
       "    </tr>\n",
       "    <tr>\n",
       "      <th>chr1:13164-14163</th>\n",
       "      <td>0.0</td>\n",
       "      <td>0.0</td>\n",
       "      <td>0.0</td>\n",
       "      <td>0.0</td>\n",
       "      <td>0.0</td>\n",
       "      <td>0.0</td>\n",
       "      <td>0.0</td>\n",
       "      <td>0.0</td>\n",
       "      <td>0.0</td>\n",
       "      <td>0.0</td>\n",
       "      <td>...</td>\n",
       "      <td>1.0</td>\n",
       "      <td>0.0</td>\n",
       "      <td>7.0</td>\n",
       "      <td>0.0</td>\n",
       "      <td>0.0</td>\n",
       "      <td>0.0</td>\n",
       "      <td>1.0</td>\n",
       "      <td>0.0</td>\n",
       "      <td>1.0</td>\n",
       "      <td>0.0</td>\n",
       "    </tr>\n",
       "    <tr>\n",
       "      <th>chr1:14215-15214</th>\n",
       "      <td>0.0</td>\n",
       "      <td>0.0</td>\n",
       "      <td>0.0</td>\n",
       "      <td>0.0</td>\n",
       "      <td>0.0</td>\n",
       "      <td>0.0</td>\n",
       "      <td>0.0</td>\n",
       "      <td>0.0</td>\n",
       "      <td>0.0</td>\n",
       "      <td>0.0</td>\n",
       "      <td>...</td>\n",
       "      <td>0.0</td>\n",
       "      <td>0.0</td>\n",
       "      <td>1.0</td>\n",
       "      <td>0.0</td>\n",
       "      <td>1.0</td>\n",
       "      <td>1.0</td>\n",
       "      <td>0.0</td>\n",
       "      <td>0.0</td>\n",
       "      <td>0.0</td>\n",
       "      <td>0.0</td>\n",
       "    </tr>\n",
       "    <tr>\n",
       "      <th>chr1:15727-16726</th>\n",
       "      <td>0.0</td>\n",
       "      <td>0.0</td>\n",
       "      <td>0.0</td>\n",
       "      <td>0.0</td>\n",
       "      <td>0.0</td>\n",
       "      <td>0.0</td>\n",
       "      <td>0.0</td>\n",
       "      <td>0.0</td>\n",
       "      <td>0.0</td>\n",
       "      <td>0.0</td>\n",
       "      <td>...</td>\n",
       "      <td>0.0</td>\n",
       "      <td>0.0</td>\n",
       "      <td>4.0</td>\n",
       "      <td>1.0</td>\n",
       "      <td>0.0</td>\n",
       "      <td>0.0</td>\n",
       "      <td>0.0</td>\n",
       "      <td>2.0</td>\n",
       "      <td>0.0</td>\n",
       "      <td>0.0</td>\n",
       "    </tr>\n",
       "  </tbody>\n",
       "</table>\n",
       "<p>5 rows × 381 columns</p>\n",
       "</div>"
      ],
      "text/plain": [
       "                  Adipocyte:D35  Adipocyte:D36  Adipocyte:D37  Adipocyte:D38  \\\n",
       "chr1:9790-10789             1.0            4.0            1.0            1.0   \n",
       "chr1:11807-12806            0.0            0.0            0.0            0.0   \n",
       "chr1:13164-14163            0.0            0.0            0.0            0.0   \n",
       "chr1:14215-15214            0.0            0.0            0.0            0.0   \n",
       "chr1:15727-16726            0.0            0.0            0.0            0.0   \n",
       "\n",
       "                  Adipocyte:D40  Adipocyte:D51  Adipocyte:D52  Adipocyte:D53  \\\n",
       "chr1:9790-10789             0.0            2.0            1.0            1.0   \n",
       "chr1:11807-12806            0.0            0.0            0.0            0.0   \n",
       "chr1:13164-14163            0.0            0.0            0.0            0.0   \n",
       "chr1:14215-15214            0.0            0.0            0.0            0.0   \n",
       "chr1:15727-16726            0.0            0.0            0.0            0.0   \n",
       "\n",
       "                  Adipocyte:D55  Adipocyte:DTX027  ...  vCM:DTX087  \\\n",
       "chr1:9790-10789             0.0               0.0  ...        20.0   \n",
       "chr1:11807-12806            0.0               0.0  ...         0.0   \n",
       "chr1:13164-14163            0.0               0.0  ...         1.0   \n",
       "chr1:14215-15214            0.0               0.0  ...         0.0   \n",
       "chr1:15727-16726            0.0               0.0  ...         0.0   \n",
       "\n",
       "                  vCM:DTX088  vCM:DTX089  vCM:DTX091  vCM:DTX093  vCM:DTX096  \\\n",
       "chr1:9790-10789         16.0        80.0        27.0         8.0        10.0   \n",
       "chr1:11807-12806         0.0         0.0         0.0         0.0         0.0   \n",
       "chr1:13164-14163         0.0         7.0         0.0         0.0         0.0   \n",
       "chr1:14215-15214         0.0         1.0         0.0         1.0         1.0   \n",
       "chr1:15727-16726         0.0         4.0         1.0         0.0         0.0   \n",
       "\n",
       "                  vCM:DTX097  vCM:DTX105  vCM:DTX114  vCM:DTX119  \n",
       "chr1:9790-10789          6.0        39.0        27.0        12.0  \n",
       "chr1:11807-12806         0.0         0.0         0.0         0.0  \n",
       "chr1:13164-14163         1.0         0.0         1.0         0.0  \n",
       "chr1:14215-15214         0.0         0.0         0.0         0.0  \n",
       "chr1:15727-16726         0.0         2.0         0.0         0.0  \n",
       "\n",
       "[5 rows x 381 columns]"
      ]
     },
     "execution_count": 30,
     "metadata": {},
     "output_type": "execute_result"
    }
   ],
   "source": [
    "k27ac_peaks = snap.read(\"FNIH_Heart_signal/FNIH_Heart_pool.H3K27ac.peaks.h5ad\", backed=None)\n",
    "tmp = k27ac_peaks[np.intersect1d(k27ac_peaks.obs_names, tmeta.index),:]\n",
    "tmp.obs['nn2.celltype'] = tmeta.loc[tmp.obs_names]['nn2.celltype']\n",
    "tmp.obs['Donor'] = tmeta.loc[tmp.obs_names]['Donor']\n",
    "tmp.obs['condition'] = tmp.obs['nn2.celltype'].astype(\"str\") + \":\" + tmp.obs['Donor'].astype(\"str\")\n",
    "\n",
    "rpm = snap.tl.aggregate_X(tmp, groupby = 'condition')\n",
    "rpm = pd.DataFrame(rpm.X.T, index=rpm.var_names, columns=rpm.obs_names)\n",
    "rpm.to_csv('FNIH_Heart_signal/FNIH_Heart_pool_celltype_donor.H3K27ac.rpm.csv')\n",
    "\n",
    "rpm.head()"
   ]
  },
  {
   "cell_type": "markdown",
   "id": "58a2764e",
   "metadata": {},
   "source": [
    "## Generate tile matrix for hic analysis (10k / 100k)"
   ]
  },
  {
   "cell_type": "code",
   "execution_count": 8,
   "id": "9c280b5d",
   "metadata": {
    "scrolled": true
   },
   "outputs": [
    {
     "name": "stderr",
     "output_type": "stream",
     "text": [
      "/home/y2xie/miniconda3/envs/seurat/lib/python3.11/site-packages/anndata/_core/aligned_df.py:68: ImplicitModificationWarning: Transforming to str index.\n",
      "  warnings.warn(\"Transforming to str index.\", ImplicitModificationWarning)\n",
      "/home/y2xie/miniconda3/envs/seurat/lib/python3.11/site-packages/anndata/_core/aligned_df.py:68: ImplicitModificationWarning: Transforming to str index.\n",
      "  warnings.warn(\"Transforming to str index.\", ImplicitModificationWarning)\n",
      "/home/y2xie/miniconda3/envs/seurat/lib/python3.11/site-packages/anndata/_core/aligned_df.py:68: ImplicitModificationWarning: Transforming to str index.\n",
      "  warnings.warn(\"Transforming to str index.\", ImplicitModificationWarning)\n",
      "/home/y2xie/miniconda3/envs/seurat/lib/python3.11/site-packages/anndata/_core/aligned_df.py:68: ImplicitModificationWarning: Transforming to str index.\n",
      "  warnings.warn(\"Transforming to str index.\", ImplicitModificationWarning)\n",
      "/home/y2xie/miniconda3/envs/seurat/lib/python3.11/site-packages/anndata/_core/aligned_df.py:68: ImplicitModificationWarning: Transforming to str index.\n",
      "  warnings.warn(\"Transforming to str index.\", ImplicitModificationWarning)\n",
      "/home/y2xie/miniconda3/envs/seurat/lib/python3.11/site-packages/anndata/_core/aligned_df.py:68: ImplicitModificationWarning: Transforming to str index.\n",
      "  warnings.warn(\"Transforming to str index.\", ImplicitModificationWarning)\n",
      "/home/y2xie/miniconda3/envs/seurat/lib/python3.11/site-packages/anndata/_core/aligned_df.py:68: ImplicitModificationWarning: Transforming to str index.\n",
      "  warnings.warn(\"Transforming to str index.\", ImplicitModificationWarning)\n",
      "/home/y2xie/miniconda3/envs/seurat/lib/python3.11/site-packages/anndata/_core/aligned_df.py:68: ImplicitModificationWarning: Transforming to str index.\n",
      "  warnings.warn(\"Transforming to str index.\", ImplicitModificationWarning)\n",
      "/home/y2xie/miniconda3/envs/seurat/lib/python3.11/site-packages/anndata/_core/aligned_df.py:68: ImplicitModificationWarning: Transforming to str index.\n",
      "  warnings.warn(\"Transforming to str index.\", ImplicitModificationWarning)\n",
      "/home/y2xie/miniconda3/envs/seurat/lib/python3.11/site-packages/anndata/_core/aligned_df.py:68: ImplicitModificationWarning: Transforming to str index.\n",
      "  warnings.warn(\"Transforming to str index.\", ImplicitModificationWarning)\n",
      "/home/y2xie/miniconda3/envs/seurat/lib/python3.11/site-packages/anndata/_core/aligned_df.py:68: ImplicitModificationWarning: Transforming to str index.\n",
      "  warnings.warn(\"Transforming to str index.\", ImplicitModificationWarning)\n",
      "/home/y2xie/miniconda3/envs/seurat/lib/python3.11/site-packages/anndata/_core/aligned_df.py:68: ImplicitModificationWarning: Transforming to str index.\n",
      "  warnings.warn(\"Transforming to str index.\", ImplicitModificationWarning)\n",
      "/home/y2xie/miniconda3/envs/seurat/lib/python3.11/site-packages/anndata/_core/aligned_df.py:68: ImplicitModificationWarning: Transforming to str index.\n",
      "  warnings.warn(\"Transforming to str index.\", ImplicitModificationWarning)\n",
      "/home/y2xie/miniconda3/envs/seurat/lib/python3.11/site-packages/anndata/_core/aligned_df.py:68: ImplicitModificationWarning: Transforming to str index.\n",
      "  warnings.warn(\"Transforming to str index.\", ImplicitModificationWarning)\n",
      "/home/y2xie/miniconda3/envs/seurat/lib/python3.11/site-packages/anndata/_core/aligned_df.py:68: ImplicitModificationWarning: Transforming to str index.\n",
      "  warnings.warn(\"Transforming to str index.\", ImplicitModificationWarning)\n",
      "/home/y2xie/miniconda3/envs/seurat/lib/python3.11/site-packages/anndata/_core/aligned_df.py:68: ImplicitModificationWarning: Transforming to str index.\n",
      "  warnings.warn(\"Transforming to str index.\", ImplicitModificationWarning)\n"
     ]
    }
   ],
   "source": [
    "peak_list = []\n",
    "for sample, f in zip(dna, file_dna):\n",
    "    data = snap.read(\"snapatac/\" + f)\n",
    "    tmp = snap.pp.add_tile_matrix(data, bin_size=10000, inplace = False,\n",
    "                                   min_frag_size=10, max_frag_size=5000, counting_strategy = 'fragment')\n",
    "    tmp.obs_names = sample + \":\" + tmp.obs_names\n",
    "    peak_list.append(tmp)\n",
    "    data.close()"
   ]
  },
  {
   "cell_type": "code",
   "execution_count": 9,
   "id": "bb4fe1c2",
   "metadata": {
    "scrolled": true
   },
   "outputs": [
    {
     "data": {
      "text/plain": [
       "AnnData object with n_obs × n_vars = 220043 × 303114\n",
       "    obs: 'n_fragment', 'frac_dup', 'frac_mito', 'doublet_probability', 'doublet_score', 'leiden'"
      ]
     },
     "execution_count": 9,
     "metadata": {},
     "output_type": "execute_result"
    }
   ],
   "source": [
    "import anndata as an\n",
    "bmtx = an.concat(peak_list)\n",
    "bmtx"
   ]
  },
  {
   "cell_type": "code",
   "execution_count": 11,
   "id": "278b2adf",
   "metadata": {},
   "outputs": [
    {
     "data": {
      "text/plain": [
       "AnnData object with n_obs × n_vars = 68325 × 303114\n",
       "    obs: 'n_fragment', 'frac_dup', 'frac_mito', 'doublet_probability', 'doublet_score_x', 'orig.ident', 'nCount_RNA', 'nFeature_RNA', 'percent.mt', 'percent.ribo', 'RNA_snn_res.0.3', 'seurat_clusters', 'doublet_score_y', 'doublet_ident', 'DROPLET.TYPE', 'BEST.GUESS', 'NEXT.GUESS', 'rna', 'rna_bc', 'dna', 'library_info', 'dna_bc', 'Donor', 'Batch', 'Target', 'nCount_SCT', 'nFeature_SCT', 'SCT_snn_res.1', 'predicted.celltype', 'predicted.celltype_scores', 'predicted.cellsubtype', 'predicted.cellsubtype_scores', 'atac_bc', 'leiden'"
      ]
     },
     "execution_count": 11,
     "metadata": {},
     "output_type": "execute_result"
    }
   ],
   "source": [
    "## Add metadata too\n",
    "k27ac_peaks = bmtx[k27ac_data.obs_names,:]\n",
    "k27ac_peaks.obs = k27ac_data.obs.loc[k27ac_peaks.obs_names]\n",
    "k27ac_peaks.write(\"FNIH_Heart_pool.H3K27ac.10kb.h5ad\")\n",
    "\n",
    "k27ac_peaks"
   ]
  },
  {
   "cell_type": "code",
   "execution_count": 12,
   "id": "be120864",
   "metadata": {},
   "outputs": [
    {
     "data": {
      "text/plain": [
       "AnnData object with n_obs × n_vars = 62928 × 303114\n",
       "    obs: 'n_fragment', 'frac_dup', 'frac_mito', 'doublet_probability', 'doublet_score_x', 'orig.ident', 'nCount_RNA', 'nFeature_RNA', 'percent.mt', 'percent.ribo', 'RNA_snn_res.0.3', 'seurat_clusters', 'doublet_score_y', 'doublet_ident', 'DROPLET.TYPE', 'BEST.GUESS', 'NEXT.GUESS', 'rna', 'rna_bc', 'dna', 'library_info', 'dna_bc', 'Donor', 'Batch', 'Target', 'nCount_SCT', 'nFeature_SCT', 'SCT_snn_res.1', 'predicted.celltype', 'predicted.celltype_scores', 'predicted.cellsubtype', 'predicted.cellsubtype_scores', 'atac_bc', 'leiden'"
      ]
     },
     "execution_count": 12,
     "metadata": {},
     "output_type": "execute_result"
    }
   ],
   "source": [
    "k27me3_peaks = bmtx[k27me3_data.obs_names,:]\n",
    "k27me3_peaks.obs = k27me3_data.obs.loc[k27me3_peaks.obs_names]\n",
    "k27me3_peaks.write(\"FNIH_Heart_pool.H3K27me3.10kb.h5ad\")\n",
    "\n",
    "k27me3_peaks"
   ]
  },
  {
   "cell_type": "code",
   "execution_count": 21,
   "id": "93cdac74",
   "metadata": {},
   "outputs": [],
   "source": [
    "### 100kb regions\n",
    "k27me3_peaks = snap.read('FNIH_Heart_signal/FNIH_Heart_pool.H3K27me3.100kb.h5ad', backed = None)\n",
    "nrmeta = pd.read_csv('FNIH_Heart_cluster/FNIH_Heart_pool_DPT_SNG_SoupX_reference_mapping_filtered.meta.xls', index_col=0, sep = '\\t')\n",
    "nrmeta.index = nrmeta['dna'] + \":\" + nrmeta['dna_bc']\n",
    "k27me3_peaks.obs['HF'] = nrmeta.loc[k27me3_peaks.obs_names]['condition']\n",
    "k27me3_peaks.obs['condition'] = k27me3_peaks.obs['predicted.celltype'].astype(\"str\") + \":\" + k27me3_peaks.obs['HF'].astype(\"str\")\n",
    "\n",
    "k27me3_rpm = snap.tl.aggregate_X(k27me3_peaks, groupby = 'condition')\n",
    "k27me3_rpm = pd.DataFrame(k27me3_rpm.X.T, index=k27me3_rpm.var_names, columns=k27me3_rpm.obs_names)\n",
    "k27me3_peaks.obs['n_fragment'] = pd.to_numeric(k27me3_peaks.obs['n_fragment'])\n",
    "total_frag = k27me3_peaks.obs.groupby('condition')['n_fragment'].sum()\n",
    "k27me3_cpm = (k27me3_rpm / total_frag) * 1e6\n",
    "k27me3_cpm.to_csv('FNIH_Heart_signal/FNIH_Heart_pool_celltype_disease.H3K27me3.100kb.cpm.csv')"
   ]
  },
  {
   "cell_type": "code",
   "execution_count": 3,
   "id": "97928b71",
   "metadata": {},
   "outputs": [],
   "source": [
    "k27ac_peaks = snap.read('FNIH_Heart_signal/FNIH_Heart_pool.H3K27ac.100kb.h5ad', backed = None)\n",
    "nrmeta = pd.read_csv('FNIH_Heart_cluster/FNIH_Heart_pool_DPT_SNG_SoupX_reference_mapping_filtered.meta.xls', index_col=0, sep = '\\t')\n",
    "nrmeta.index = nrmeta['dna'] + \":\" + nrmeta['dna_bc']\n",
    "k27ac_peaks.obs['HF'] = nrmeta.loc[k27ac_peaks.obs_names]['condition']\n",
    "k27ac_peaks.obs['condition'] = k27ac_peaks.obs['predicted.celltype'].astype(\"str\") + \":\" + k27ac_peaks.obs['HF'].astype(\"str\")\n",
    "\n",
    "k27ac_rpm = snap.tl.aggregate_X(k27ac_peaks, groupby = 'condition')\n",
    "k27ac_rpm = pd.DataFrame(k27ac_rpm.X.T, index=k27ac_rpm.var_names, columns=k27ac_rpm.obs_names)\n",
    "k27ac_peaks.obs['n_fragment'] = pd.to_numeric(k27ac_peaks.obs['n_fragment'])\n",
    "total_frag = k27ac_peaks.obs.groupby('condition')['n_fragment'].sum()\n",
    "k27ac_cpm = (k27ac_rpm / total_frag) * 1e6\n",
    "k27ac_cpm.to_csv('FNIH_Heart_signal/FNIH_Heart_pool_celltype_disease.H3K27ac.100kb.cpm.csv')"
   ]
  },
  {
   "cell_type": "code",
   "execution_count": 9,
   "id": "51240ffd",
   "metadata": {
    "scrolled": false
   },
   "outputs": [
    {
     "name": "stderr",
     "output_type": "stream",
     "text": [
      "/tmp/ipykernel_681108/1303903627.py:8: FutureWarning: The default of observed=False is deprecated and will be changed to True in a future version of pandas. Pass observed=False to retain current behavior or observed=True to adopt the future default and silence this warning.\n",
      "  total_frag = k27ac_peaks.obs.groupby('predicted.celltype')['n_fragment'].sum()\n",
      "/tmp/ipykernel_681108/1303903627.py:12: FutureWarning: The default of observed=False is deprecated and will be changed to True in a future version of pandas. Pass observed=False to retain current behavior or observed=True to adopt the future default and silence this warning.\n",
      "  total_frag = k27me3_peaks.obs.groupby('predicted.celltype')['n_fragment'].sum()\n"
     ]
    }
   ],
   "source": [
    "### 10kb regions\n",
    "k27ac_rpm = snap.tl.aggregate_X(k27ac_peaks, groupby = 'predicted.celltype')\n",
    "k27ac_rpm = pd.DataFrame(k27ac_rpm.X.T, index=k27ac_rpm.var_names, columns=k27ac_rpm.obs_names)\n",
    "\n",
    "k27me3_rpm = snap.tl.aggregate_X(k27me3_peaks, groupby = 'predicted.celltype')\n",
    "k27me3_rpm = pd.DataFrame(k27me3_rpm.X.T, index=k27me3_rpm.var_names, columns=k27me3_rpm.obs_names)\n",
    "\n",
    "k27ac_peaks.obs['n_fragment'] = pd.to_numeric(k27ac_peaks.obs['n_fragment'])\n",
    "total_frag = k27ac_peaks.obs.groupby('predicted.celltype')['n_fragment'].sum()\n",
    "k27ac_cpm = (k27ac_rpm / total_frag) * 1e6\n",
    "\n",
    "k27me3_peaks.obs['n_fragment'] = pd.to_numeric(k27me3_peaks.obs['n_fragment'])\n",
    "total_frag = k27me3_peaks.obs.groupby('predicted.celltype')['n_fragment'].sum()\n",
    "k27me3_cpm = (k27me3_rpm / total_frag) * 1e6\n",
    "\n",
    "k27ac_cpm.to_csv('FNIH_Heart_pool.H3K27ac.10kb.cpm.csv')\n",
    "k27me3_cpm.to_csv('FNIH_Heart_pool.H3K27me3.10kb.cpm.csv')"
   ]
  },
  {
   "cell_type": "code",
   "execution_count": 22,
   "id": "346ab63b",
   "metadata": {},
   "outputs": [],
   "source": [
    "dinfo = pd.read_csv('../reference/CAREHF_FNIH_donor.simple.info', sep = '\\t', index_col=0)\n",
    "nrmeta = pd.read_csv('FNIH_Heart_cluster/FNIH_Heart_pool_DPT_SNG_SoupX_reference_mapping_filtered.meta.xls', index_col=0, sep = '\\t')\n",
    "nrmeta.index = nrmeta['dna'] + \":\" + nrmeta['dna_bc']\n",
    "k27ac_peaks.obs['Donor'] = nrmeta.loc[k27ac_peaks.obs_names]['Donor']\n",
    "k27me3_peaks.obs['Donor'] = nrmeta.loc[k27me3_peaks.obs_names]['Donor']\n",
    "\n",
    "idx = pd.Index(dinfo['Patient.ID']).get_indexer(k27ac_peaks.obs['Donor'])\n",
    "k27ac_peaks.obs['HF'] = np.array(dinfo.iloc[idx]['condition'])\n",
    "idx = pd.Index(dinfo['Patient.ID']).get_indexer(k27me3_peaks.obs['Donor'])\n",
    "k27me3_peaks.obs['HF'] = np.array(dinfo.iloc[idx]['condition'])"
   ]
  },
  {
   "cell_type": "code",
   "execution_count": 26,
   "id": "8513d42a",
   "metadata": {},
   "outputs": [],
   "source": [
    "k27ac_peaks.obs['condition'] = k27ac_peaks.obs['predicted.celltype'].astype(\"str\") + \":\" + k27ac_peaks.obs['HF'].astype(\"str\")\n",
    "k27me3_peaks.obs['condition'] = k27me3_peaks.obs['predicted.celltype'].astype(\"str\") + \":\" + k27me3_peaks.obs['HF'].astype(\"str\")\n",
    "\n",
    "k27ac_rpm = snap.tl.aggregate_X(k27ac_peaks, groupby = 'condition')\n",
    "k27ac_rpm = pd.DataFrame(k27ac_rpm.X.T, index=k27ac_rpm.var_names, columns=k27ac_rpm.obs_names)\n",
    "\n",
    "k27me3_rpm = snap.tl.aggregate_X(k27me3_peaks, groupby = 'condition')\n",
    "k27me3_rpm = pd.DataFrame(k27me3_rpm.X.T, index=k27me3_rpm.var_names, columns=k27me3_rpm.obs_names)\n",
    "\n",
    "total_frag = k27ac_peaks.obs.groupby('condition')['n_fragment'].sum()\n",
    "k27ac_cpm = (k27ac_rpm / total_frag) * 1e6\n",
    "\n",
    "total_frag = k27me3_peaks.obs.groupby('condition')['n_fragment'].sum()\n",
    "k27me3_cpm = (k27me3_rpm / total_frag) * 1e6\n",
    "\n",
    "k27ac_cpm.to_csv('FNIH_Heart_pool.H3K27ac.disease_celltype.10kb.cpm.csv')\n",
    "k27me3_cpm.to_csv('FNIH_Heart_pool.H3K27me3.disease_celltype.10kb.cpm.csv')"
   ]
  },
  {
   "cell_type": "markdown",
   "id": "6b464280",
   "metadata": {},
   "source": [
    "## Calculate for ATAC shuffled peaks"
   ]
  },
  {
   "cell_type": "code",
   "execution_count": 76,
   "id": "24221278",
   "metadata": {},
   "outputs": [
    {
     "data": {
      "text/html": [
       "<div>\n",
       "<style scoped>\n",
       "    .dataframe tbody tr th:only-of-type {\n",
       "        vertical-align: middle;\n",
       "    }\n",
       "\n",
       "    .dataframe tbody tr th {\n",
       "        vertical-align: top;\n",
       "    }\n",
       "\n",
       "    .dataframe thead th {\n",
       "        text-align: right;\n",
       "    }\n",
       "</style>\n",
       "<table border=\"1\" class=\"dataframe\">\n",
       "  <thead>\n",
       "    <tr style=\"text-align: right;\">\n",
       "      <th></th>\n",
       "      <th>chrom</th>\n",
       "      <th>start</th>\n",
       "      <th>end</th>\n",
       "      <th>width</th>\n",
       "      <th>strand</th>\n",
       "      <th>name</th>\n",
       "      <th>range</th>\n",
       "    </tr>\n",
       "  </thead>\n",
       "  <tbody>\n",
       "    <tr>\n",
       "      <th>0</th>\n",
       "      <td>chr14</td>\n",
       "      <td>82314125</td>\n",
       "      <td>82314425</td>\n",
       "      <td>301</td>\n",
       "      <td>*</td>\n",
       "      <td>Adipocyte_UnifiedFiltVariable_shuf_1</td>\n",
       "      <td>chr14:82314125-82314425</td>\n",
       "    </tr>\n",
       "    <tr>\n",
       "      <th>1</th>\n",
       "      <td>chr4</td>\n",
       "      <td>180566465</td>\n",
       "      <td>180566765</td>\n",
       "      <td>301</td>\n",
       "      <td>*</td>\n",
       "      <td>Adipocyte_UnifiedFiltVariable_shuf_2</td>\n",
       "      <td>chr4:180566465-180566765</td>\n",
       "    </tr>\n",
       "    <tr>\n",
       "      <th>2</th>\n",
       "      <td>chrX</td>\n",
       "      <td>117732382</td>\n",
       "      <td>117732682</td>\n",
       "      <td>301</td>\n",
       "      <td>*</td>\n",
       "      <td>Adipocyte_UnifiedFiltVariable_shuf_3</td>\n",
       "      <td>chrX:117732382-117732682</td>\n",
       "    </tr>\n",
       "    <tr>\n",
       "      <th>3</th>\n",
       "      <td>chr7</td>\n",
       "      <td>99836153</td>\n",
       "      <td>99836453</td>\n",
       "      <td>301</td>\n",
       "      <td>*</td>\n",
       "      <td>Adipocyte_UnifiedFiltVariable_shuf_4</td>\n",
       "      <td>chr7:99836153-99836453</td>\n",
       "    </tr>\n",
       "    <tr>\n",
       "      <th>4</th>\n",
       "      <td>chr6</td>\n",
       "      <td>107876617</td>\n",
       "      <td>107876917</td>\n",
       "      <td>301</td>\n",
       "      <td>*</td>\n",
       "      <td>Adipocyte_UnifiedFiltVariable_shuf_5</td>\n",
       "      <td>chr6:107876617-107876917</td>\n",
       "    </tr>\n",
       "  </tbody>\n",
       "</table>\n",
       "</div>"
      ],
      "text/plain": [
       "   chrom      start        end  width strand  \\\n",
       "0  chr14   82314125   82314425    301      *   \n",
       "1   chr4  180566465  180566765    301      *   \n",
       "2   chrX  117732382  117732682    301      *   \n",
       "3   chr7   99836153   99836453    301      *   \n",
       "4   chr6  107876617  107876917    301      *   \n",
       "\n",
       "                                   name                     range  \n",
       "0  Adipocyte_UnifiedFiltVariable_shuf_1   chr14:82314125-82314425  \n",
       "1  Adipocyte_UnifiedFiltVariable_shuf_2  chr4:180566465-180566765  \n",
       "2  Adipocyte_UnifiedFiltVariable_shuf_3  chrX:117732382-117732682  \n",
       "3  Adipocyte_UnifiedFiltVariable_shuf_4    chr7:99836153-99836453  \n",
       "4  Adipocyte_UnifiedFiltVariable_shuf_5  chr6:107876617-107876917  "
      ]
     },
     "execution_count": 76,
     "metadata": {},
     "output_type": "execute_result"
    }
   ],
   "source": [
    "shuf_peaks = pd.read_csv('../10.conserved_peaks/peak2cnt/shufflePeak/all_shuffle.bed', sep = '\\t', names = ['chrom', 'start', 'end', 'width', 'strand', 'name'])\n",
    "shuf_peaks['range'] = shuf_peaks.chrom + \":\" + shuf_peaks.start.astype(str) + \"-\" + shuf_peaks.end.astype(str)\n",
    "shuf_peaks.head()"
   ]
  },
  {
   "cell_type": "code",
   "execution_count": 64,
   "id": "bc846c54",
   "metadata": {
    "scrolled": true
   },
   "outputs": [
    {
     "name": "stderr",
     "output_type": "stream",
     "text": [
      "/home/y2xie/miniconda3/envs/seurat/lib/python3.11/site-packages/anndata/_core/anndata.py:183: ImplicitModificationWarning: Transforming to str index.\n",
      "  warnings.warn(\"Transforming to str index.\", ImplicitModificationWarning)\n",
      "/home/y2xie/miniconda3/envs/seurat/lib/python3.11/site-packages/anndata/_core/anndata.py:183: ImplicitModificationWarning: Transforming to str index.\n",
      "  warnings.warn(\"Transforming to str index.\", ImplicitModificationWarning)\n",
      "/home/y2xie/miniconda3/envs/seurat/lib/python3.11/site-packages/anndata/_core/anndata.py:183: ImplicitModificationWarning: Transforming to str index.\n",
      "  warnings.warn(\"Transforming to str index.\", ImplicitModificationWarning)\n",
      "/home/y2xie/miniconda3/envs/seurat/lib/python3.11/site-packages/anndata/_core/anndata.py:183: ImplicitModificationWarning: Transforming to str index.\n",
      "  warnings.warn(\"Transforming to str index.\", ImplicitModificationWarning)\n",
      "/home/y2xie/miniconda3/envs/seurat/lib/python3.11/site-packages/anndata/_core/anndata.py:183: ImplicitModificationWarning: Transforming to str index.\n",
      "  warnings.warn(\"Transforming to str index.\", ImplicitModificationWarning)\n",
      "/home/y2xie/miniconda3/envs/seurat/lib/python3.11/site-packages/anndata/_core/anndata.py:183: ImplicitModificationWarning: Transforming to str index.\n",
      "  warnings.warn(\"Transforming to str index.\", ImplicitModificationWarning)\n",
      "/home/y2xie/miniconda3/envs/seurat/lib/python3.11/site-packages/anndata/_core/anndata.py:183: ImplicitModificationWarning: Transforming to str index.\n",
      "  warnings.warn(\"Transforming to str index.\", ImplicitModificationWarning)\n",
      "/home/y2xie/miniconda3/envs/seurat/lib/python3.11/site-packages/anndata/_core/anndata.py:183: ImplicitModificationWarning: Transforming to str index.\n",
      "  warnings.warn(\"Transforming to str index.\", ImplicitModificationWarning)\n",
      "/home/y2xie/miniconda3/envs/seurat/lib/python3.11/site-packages/anndata/_core/anndata.py:183: ImplicitModificationWarning: Transforming to str index.\n",
      "  warnings.warn(\"Transforming to str index.\", ImplicitModificationWarning)\n",
      "/home/y2xie/miniconda3/envs/seurat/lib/python3.11/site-packages/anndata/_core/anndata.py:183: ImplicitModificationWarning: Transforming to str index.\n",
      "  warnings.warn(\"Transforming to str index.\", ImplicitModificationWarning)\n",
      "/home/y2xie/miniconda3/envs/seurat/lib/python3.11/site-packages/anndata/_core/anndata.py:183: ImplicitModificationWarning: Transforming to str index.\n",
      "  warnings.warn(\"Transforming to str index.\", ImplicitModificationWarning)\n",
      "/home/y2xie/miniconda3/envs/seurat/lib/python3.11/site-packages/anndata/_core/anndata.py:183: ImplicitModificationWarning: Transforming to str index.\n",
      "  warnings.warn(\"Transforming to str index.\", ImplicitModificationWarning)\n",
      "/home/y2xie/miniconda3/envs/seurat/lib/python3.11/site-packages/anndata/_core/anndata.py:183: ImplicitModificationWarning: Transforming to str index.\n",
      "  warnings.warn(\"Transforming to str index.\", ImplicitModificationWarning)\n",
      "/home/y2xie/miniconda3/envs/seurat/lib/python3.11/site-packages/anndata/_core/anndata.py:183: ImplicitModificationWarning: Transforming to str index.\n",
      "  warnings.warn(\"Transforming to str index.\", ImplicitModificationWarning)\n",
      "/home/y2xie/miniconda3/envs/seurat/lib/python3.11/site-packages/anndata/_core/anndata.py:183: ImplicitModificationWarning: Transforming to str index.\n",
      "  warnings.warn(\"Transforming to str index.\", ImplicitModificationWarning)\n",
      "/home/y2xie/miniconda3/envs/seurat/lib/python3.11/site-packages/anndata/_core/anndata.py:183: ImplicitModificationWarning: Transforming to str index.\n",
      "  warnings.warn(\"Transforming to str index.\", ImplicitModificationWarning)\n"
     ]
    }
   ],
   "source": [
    "peak_list = []\n",
    "for sample, f in zip(dna, file_dna):\n",
    "    data = snap.read(\"snapatac/\" + f)\n",
    "    tmp = snap.pp.make_peak_matrix(data, peak_file = '../10.conserved_peaks/peak2cnt/shufflePeak/all_shuffle.bed', \n",
    "                                   min_frag_size=10, max_frag_size=5000, counting_strategy = 'fragment')\n",
    "    tmp.obs_names = sample + \":\" + tmp.obs_names\n",
    "    \n",
    "    ### is there dup var?\n",
    "    rrm = tmp.var.index.duplicated()\n",
    "    ttmp = tmp[:, ~rrm].copy()\n",
    "    peak_list.append(ttmp)\n",
    "    data.close()\n",
    "    \n",
    "allpeaks = an.concat(peak_list)\n",
    "k27ac_peaks = allpeaks[k27ac_data.obs_names,:]\n",
    "k27ac_peaks.obs = k27ac_data.obs.loc[k27ac_peaks.obs_names]"
   ]
  },
  {
   "cell_type": "code",
   "execution_count": 92,
   "id": "7251aa9c",
   "metadata": {},
   "outputs": [],
   "source": [
    "meta = k27ac_data.obs\n",
    "dinfo = pd.read_csv('../reference/CAREHF_FNIH_donor.simple.info', sep = '\\t', index_col=0)\n",
    "nrmeta = pd.read_csv('FNIH_Heart_cluster/FNIH_Heart_pool_DPT_SNG_SoupX_reference_mapping_filtered.meta.xls', index_col=0, sep = '\\t')\n",
    "nrmeta.index = nrmeta['dna'] + \":\" + nrmeta['dna_bc']\n",
    "k27ac_peaks.obs['Donor'] = nrmeta.loc[k27ac_peaks.obs_names]['Donor']\n",
    "# k27ac_peaks.obs['n_fragment'] = k27ac_peaks.obs['n_fragment'].cat.codes"
   ]
  },
  {
   "cell_type": "code",
   "execution_count": 119,
   "id": "ec2de3f3",
   "metadata": {},
   "outputs": [
    {
     "name": "stderr",
     "output_type": "stream",
     "text": [
      "... storing 'Donor' as categorical\n"
     ]
    }
   ],
   "source": [
    "k27ac_peaks.write(\"../10.conserved_peaks/peak2cnt/shufflePeak/FNIH_Heart_pool.H3K27ac.all_shuffle.h5ad\")"
   ]
  },
  {
   "cell_type": "code",
   "execution_count": 121,
   "id": "40d20ff0",
   "metadata": {
    "scrolled": true
   },
   "outputs": [
    {
     "name": "stderr",
     "output_type": "stream",
     "text": [
      "/tmp/ipykernel_2005032/3342923700.py:8: ImplicitModificationWarning: Trying to modify attribute `.obs` of view, initializing view as actual.\n",
      "  tmp.obs['n_fragment'] = meta.loc[tmp.obs_names]['n_fragment'].cat.codes\n",
      "/tmp/ipykernel_2005032/3342923700.py:8: ImplicitModificationWarning: Trying to modify attribute `.obs` of view, initializing view as actual.\n",
      "  tmp.obs['n_fragment'] = meta.loc[tmp.obs_names]['n_fragment'].cat.codes\n",
      "/tmp/ipykernel_2005032/3342923700.py:8: ImplicitModificationWarning: Trying to modify attribute `.obs` of view, initializing view as actual.\n",
      "  tmp.obs['n_fragment'] = meta.loc[tmp.obs_names]['n_fragment'].cat.codes\n",
      "/tmp/ipykernel_2005032/3342923700.py:8: ImplicitModificationWarning: Trying to modify attribute `.obs` of view, initializing view as actual.\n",
      "  tmp.obs['n_fragment'] = meta.loc[tmp.obs_names]['n_fragment'].cat.codes\n",
      "/home/y2xie/miniconda3/envs/seurat/lib/python3.11/site-packages/anndata/_core/anndata.py:1908: UserWarning: Variable names are not unique. To make them unique, call `.var_names_make_unique`.\n",
      "  utils.warn_names_duplicates(\"var\")\n",
      "/home/y2xie/miniconda3/envs/seurat/lib/python3.11/site-packages/anndata/_core/anndata.py:1908: UserWarning: Variable names are not unique. To make them unique, call `.var_names_make_unique`.\n",
      "  utils.warn_names_duplicates(\"var\")\n",
      "/tmp/ipykernel_2005032/3342923700.py:8: ImplicitModificationWarning: Trying to modify attribute `.obs` of view, initializing view as actual.\n",
      "  tmp.obs['n_fragment'] = meta.loc[tmp.obs_names]['n_fragment'].cat.codes\n",
      "/tmp/ipykernel_2005032/3342923700.py:8: ImplicitModificationWarning: Trying to modify attribute `.obs` of view, initializing view as actual.\n",
      "  tmp.obs['n_fragment'] = meta.loc[tmp.obs_names]['n_fragment'].cat.codes\n",
      "/tmp/ipykernel_2005032/3342923700.py:8: ImplicitModificationWarning: Trying to modify attribute `.obs` of view, initializing view as actual.\n",
      "  tmp.obs['n_fragment'] = meta.loc[tmp.obs_names]['n_fragment'].cat.codes\n",
      "/home/y2xie/miniconda3/envs/seurat/lib/python3.11/site-packages/anndata/_core/anndata.py:1908: UserWarning: Variable names are not unique. To make them unique, call `.var_names_make_unique`.\n",
      "  utils.warn_names_duplicates(\"var\")\n",
      "/home/y2xie/miniconda3/envs/seurat/lib/python3.11/site-packages/anndata/_core/anndata.py:1908: UserWarning: Variable names are not unique. To make them unique, call `.var_names_make_unique`.\n",
      "  utils.warn_names_duplicates(\"var\")\n",
      "/tmp/ipykernel_2005032/3342923700.py:8: ImplicitModificationWarning: Trying to modify attribute `.obs` of view, initializing view as actual.\n",
      "  tmp.obs['n_fragment'] = meta.loc[tmp.obs_names]['n_fragment'].cat.codes\n",
      "/tmp/ipykernel_2005032/3342923700.py:8: ImplicitModificationWarning: Trying to modify attribute `.obs` of view, initializing view as actual.\n",
      "  tmp.obs['n_fragment'] = meta.loc[tmp.obs_names]['n_fragment'].cat.codes\n",
      "/home/y2xie/miniconda3/envs/seurat/lib/python3.11/site-packages/anndata/_core/anndata.py:1908: UserWarning: Variable names are not unique. To make them unique, call `.var_names_make_unique`.\n",
      "  utils.warn_names_duplicates(\"var\")\n",
      "/home/y2xie/miniconda3/envs/seurat/lib/python3.11/site-packages/anndata/_core/anndata.py:1908: UserWarning: Variable names are not unique. To make them unique, call `.var_names_make_unique`.\n",
      "  utils.warn_names_duplicates(\"var\")\n",
      "/tmp/ipykernel_2005032/3342923700.py:8: ImplicitModificationWarning: Trying to modify attribute `.obs` of view, initializing view as actual.\n",
      "  tmp.obs['n_fragment'] = meta.loc[tmp.obs_names]['n_fragment'].cat.codes\n",
      "/tmp/ipykernel_2005032/3342923700.py:8: ImplicitModificationWarning: Trying to modify attribute `.obs` of view, initializing view as actual.\n",
      "  tmp.obs['n_fragment'] = meta.loc[tmp.obs_names]['n_fragment'].cat.codes\n",
      "/home/y2xie/miniconda3/envs/seurat/lib/python3.11/site-packages/anndata/_core/anndata.py:1908: UserWarning: Variable names are not unique. To make them unique, call `.var_names_make_unique`.\n",
      "  utils.warn_names_duplicates(\"var\")\n",
      "/home/y2xie/miniconda3/envs/seurat/lib/python3.11/site-packages/anndata/_core/anndata.py:1908: UserWarning: Variable names are not unique. To make them unique, call `.var_names_make_unique`.\n",
      "  utils.warn_names_duplicates(\"var\")\n",
      "/tmp/ipykernel_2005032/3342923700.py:8: ImplicitModificationWarning: Trying to modify attribute `.obs` of view, initializing view as actual.\n",
      "  tmp.obs['n_fragment'] = meta.loc[tmp.obs_names]['n_fragment'].cat.codes\n",
      "/home/y2xie/miniconda3/envs/seurat/lib/python3.11/site-packages/anndata/_core/anndata.py:1908: UserWarning: Variable names are not unique. To make them unique, call `.var_names_make_unique`.\n",
      "  utils.warn_names_duplicates(\"var\")\n",
      "/home/y2xie/miniconda3/envs/seurat/lib/python3.11/site-packages/anndata/_core/anndata.py:1908: UserWarning: Variable names are not unique. To make them unique, call `.var_names_make_unique`.\n",
      "  utils.warn_names_duplicates(\"var\")\n"
     ]
    }
   ],
   "source": [
    "import re\n",
    "celltype = [f.split(\"_\")[0] for f in os.listdir(\"/projects/ps-renlab2/y2xie/projects/77.LC/81.FNIH_DPT_IGM_240827/10.conserved_peaks/peak2cnt/shufflePeak\") if f.endswith('_UnifiedFiltVariable_shuf.bed')]\n",
    "for fname in celltype:\n",
    "    var_id = [ff for ff in shuf_peaks['name'] if ff.split(\"_\")[0] in fname]\n",
    "    var_name = shuf_peaks.loc[shuf_peaks['name'].isin(var_id)]['range']\n",
    "    k27ac_cells = meta.loc[(meta['Target'] == 'H3K27ac') & (meta['predicted.celltype'] == fname)].index\n",
    "    tmp = k27ac_peaks[k27ac_cells, var_name]\n",
    "    tmp.obs['n_fragment'] = meta.loc[tmp.obs_names]['n_fragment'].cat.codes\n",
    "    idx = pd.Index(dinfo['Patient.ID']).get_indexer(tmp.obs['Donor'])\n",
    "    tmp.obs['HF'] = np.array(dinfo.iloc[idx]['condition'])\n",
    "    tmp.obs['condition'] = tmp.obs['predicted.celltype'].astype(\"str\") + \"_\" + tmp.obs['HF'].astype(\"str\")\n",
    "    k27ac_rpm = snap.tl.aggregate_X(tmp, groupby = 'condition')\n",
    "    k27ac_rpm = pd.DataFrame(k27ac_rpm.X.T, columns = k27ac_rpm.obs_names, index = k27ac_rpm.var_names)\n",
    "    total_frag = tmp.obs.groupby('condition')['n_fragment'].sum()\n",
    "    k27ac_cpm = (k27ac_rpm / total_frag) * 1e6\n",
    "    k27ac_cpm.to_csv('/projects/ps-renlab2/y2xie/projects/77.LC/81.FNIH_DPT_IGM_240827/10.conserved_peaks/peak2cnt/H3K27ac/' + fname + '_H3K27ac_shuf.cpm.csv')"
   ]
  },
  {
   "cell_type": "code",
   "execution_count": 131,
   "id": "9a168355",
   "metadata": {
    "scrolled": true
   },
   "outputs": [
    {
     "name": "stderr",
     "output_type": "stream",
     "text": [
      "/tmp/ipykernel_2005032/772877569.py:6: ImplicitModificationWarning: Trying to modify attribute `.obs` of view, initializing view as actual.\n",
      "  tmp.obs['n_fragment'] = meta.loc[tmp.obs_names]['n_fragment'].cat.codes\n",
      "/tmp/ipykernel_2005032/772877569.py:6: ImplicitModificationWarning: Trying to modify attribute `.obs` of view, initializing view as actual.\n",
      "  tmp.obs['n_fragment'] = meta.loc[tmp.obs_names]['n_fragment'].cat.codes\n",
      "/tmp/ipykernel_2005032/772877569.py:6: ImplicitModificationWarning: Trying to modify attribute `.obs` of view, initializing view as actual.\n",
      "  tmp.obs['n_fragment'] = meta.loc[tmp.obs_names]['n_fragment'].cat.codes\n",
      "/tmp/ipykernel_2005032/772877569.py:6: ImplicitModificationWarning: Trying to modify attribute `.obs` of view, initializing view as actual.\n",
      "  tmp.obs['n_fragment'] = meta.loc[tmp.obs_names]['n_fragment'].cat.codes\n",
      "/home/y2xie/miniconda3/envs/seurat/lib/python3.11/site-packages/anndata/_core/anndata.py:1908: UserWarning: Variable names are not unique. To make them unique, call `.var_names_make_unique`.\n",
      "  utils.warn_names_duplicates(\"var\")\n",
      "/home/y2xie/miniconda3/envs/seurat/lib/python3.11/site-packages/anndata/_core/anndata.py:1908: UserWarning: Variable names are not unique. To make them unique, call `.var_names_make_unique`.\n",
      "  utils.warn_names_duplicates(\"var\")\n",
      "/tmp/ipykernel_2005032/772877569.py:6: ImplicitModificationWarning: Trying to modify attribute `.obs` of view, initializing view as actual.\n",
      "  tmp.obs['n_fragment'] = meta.loc[tmp.obs_names]['n_fragment'].cat.codes\n",
      "/tmp/ipykernel_2005032/772877569.py:6: ImplicitModificationWarning: Trying to modify attribute `.obs` of view, initializing view as actual.\n",
      "  tmp.obs['n_fragment'] = meta.loc[tmp.obs_names]['n_fragment'].cat.codes\n",
      "/tmp/ipykernel_2005032/772877569.py:6: ImplicitModificationWarning: Trying to modify attribute `.obs` of view, initializing view as actual.\n",
      "  tmp.obs['n_fragment'] = meta.loc[tmp.obs_names]['n_fragment'].cat.codes\n",
      "/home/y2xie/miniconda3/envs/seurat/lib/python3.11/site-packages/anndata/_core/anndata.py:1908: UserWarning: Variable names are not unique. To make them unique, call `.var_names_make_unique`.\n",
      "  utils.warn_names_duplicates(\"var\")\n",
      "/home/y2xie/miniconda3/envs/seurat/lib/python3.11/site-packages/anndata/_core/anndata.py:1908: UserWarning: Variable names are not unique. To make them unique, call `.var_names_make_unique`.\n",
      "  utils.warn_names_duplicates(\"var\")\n",
      "/tmp/ipykernel_2005032/772877569.py:6: ImplicitModificationWarning: Trying to modify attribute `.obs` of view, initializing view as actual.\n",
      "  tmp.obs['n_fragment'] = meta.loc[tmp.obs_names]['n_fragment'].cat.codes\n",
      "/tmp/ipykernel_2005032/772877569.py:6: ImplicitModificationWarning: Trying to modify attribute `.obs` of view, initializing view as actual.\n",
      "  tmp.obs['n_fragment'] = meta.loc[tmp.obs_names]['n_fragment'].cat.codes\n",
      "/home/y2xie/miniconda3/envs/seurat/lib/python3.11/site-packages/anndata/_core/anndata.py:1908: UserWarning: Variable names are not unique. To make them unique, call `.var_names_make_unique`.\n",
      "  utils.warn_names_duplicates(\"var\")\n",
      "/home/y2xie/miniconda3/envs/seurat/lib/python3.11/site-packages/anndata/_core/anndata.py:1908: UserWarning: Variable names are not unique. To make them unique, call `.var_names_make_unique`.\n",
      "  utils.warn_names_duplicates(\"var\")\n",
      "/tmp/ipykernel_2005032/772877569.py:6: ImplicitModificationWarning: Trying to modify attribute `.obs` of view, initializing view as actual.\n",
      "  tmp.obs['n_fragment'] = meta.loc[tmp.obs_names]['n_fragment'].cat.codes\n",
      "/tmp/ipykernel_2005032/772877569.py:6: ImplicitModificationWarning: Trying to modify attribute `.obs` of view, initializing view as actual.\n",
      "  tmp.obs['n_fragment'] = meta.loc[tmp.obs_names]['n_fragment'].cat.codes\n",
      "/home/y2xie/miniconda3/envs/seurat/lib/python3.11/site-packages/anndata/_core/anndata.py:1908: UserWarning: Variable names are not unique. To make them unique, call `.var_names_make_unique`.\n",
      "  utils.warn_names_duplicates(\"var\")\n",
      "/home/y2xie/miniconda3/envs/seurat/lib/python3.11/site-packages/anndata/_core/anndata.py:1908: UserWarning: Variable names are not unique. To make them unique, call `.var_names_make_unique`.\n",
      "  utils.warn_names_duplicates(\"var\")\n",
      "/tmp/ipykernel_2005032/772877569.py:6: ImplicitModificationWarning: Trying to modify attribute `.obs` of view, initializing view as actual.\n",
      "  tmp.obs['n_fragment'] = meta.loc[tmp.obs_names]['n_fragment'].cat.codes\n",
      "/home/y2xie/miniconda3/envs/seurat/lib/python3.11/site-packages/anndata/_core/anndata.py:1908: UserWarning: Variable names are not unique. To make them unique, call `.var_names_make_unique`.\n",
      "  utils.warn_names_duplicates(\"var\")\n",
      "/home/y2xie/miniconda3/envs/seurat/lib/python3.11/site-packages/anndata/_core/anndata.py:1908: UserWarning: Variable names are not unique. To make them unique, call `.var_names_make_unique`.\n",
      "  utils.warn_names_duplicates(\"var\")\n"
     ]
    }
   ],
   "source": [
    "for fname in celltype:\n",
    "    var_id = [ff for ff in shuf_peaks['name'] if ff.split(\"_\")[0] in fname]\n",
    "    var_name = shuf_peaks.loc[shuf_peaks['name'].isin(var_id)]['range']\n",
    "    k27ac_cells = meta.loc[(meta['Target'] == 'H3K27ac') & (meta['predicted.celltype'] == fname)].index\n",
    "    tmp = k27ac_peaks[k27ac_cells, var_name]\n",
    "    tmp.obs['n_fragment'] = meta.loc[tmp.obs_names]['n_fragment'].cat.codes\n",
    "    idx = pd.Index(dinfo['Patient.ID']).get_indexer(tmp.obs['Donor'])\n",
    "    tmp.obs['HF'] = np.array(dinfo.iloc[idx]['condition'])\n",
    "    tmp.obs['condition'] = tmp.obs['predicted.celltype'].astype(\"str\") #+ \"_\" + tmp.obs['HF'].astype(\"str\")\n",
    "    k27ac_rpm = snap.tl.aggregate_X(tmp, groupby = 'condition')\n",
    "    k27ac_rpm = pd.DataFrame(k27ac_rpm.X.T, columns = k27ac_rpm.obs_names, index = k27ac_rpm.var_names)\n",
    "    total_frag = tmp.obs.groupby('condition')['n_fragment'].sum()\n",
    "    k27ac_cpm = (k27ac_rpm / total_frag) * 1e6\n",
    "    k27ac_cpm.to_csv('/projects/ps-renlab2/y2xie/projects/77.LC/81.FNIH_DPT_IGM_240827/10.conserved_peaks/peak2cnt/H3K27ac/' + fname + '_H3K27ac_shuf.cpm.csv')"
   ]
  },
  {
   "cell_type": "code",
   "execution_count": 138,
   "id": "ac36b5ee",
   "metadata": {
    "scrolled": true
   },
   "outputs": [
    {
     "data": {
      "text/plain": [
       "AnnData object with n_obs x n_vars = 68325 x 418170 backed at 'FNIH_Heart_signal/FNIH_Heart_pool.H3K27ac.peaks.h5ad'\n",
       "    obs: 'n_fragment', 'frac_dup', 'frac_mito', 'doublet_probability', 'doublet_score_x', 'orig.ident', 'nCount_RNA', 'nFeature_RNA', 'percent.mt', 'percent.ribo', 'RNA_snn_res.0.3', 'seurat_clusters', 'doublet_score_y', 'doublet_ident', 'DROPLET.TYPE', 'BEST.GUESS', 'NEXT.GUESS', 'rna', 'rna_bc', 'dna', 'library_info', 'dna_bc', 'Donor', 'Batch', 'Target', 'nCount_SCT', 'nFeature_SCT', 'SCT_snn_res.1', 'predicted.celltype', 'predicted.celltype_scores', 'predicted.cellsubtype', 'predicted.cellsubtype_scores', 'atac_bc', 'leiden'"
      ]
     },
     "execution_count": 138,
     "metadata": {},
     "output_type": "execute_result"
    }
   ],
   "source": [
    "test = snap.read(\"FNIH_Heart_signal/FNIH_Heart_pool.H3K27ac.peaks.h5ad\")\n",
    "test"
   ]
  },
  {
   "cell_type": "code",
   "execution_count": 123,
   "id": "19a0d357",
   "metadata": {},
   "outputs": [],
   "source": [
    "# k27ac_peaks.obs['condition'] = atac.obs['cell.sub_types'].astype(\"str\") \n",
    "# k27ac_peaks.obs['n_fragment'] = k27ac_peaks.obs['n_fragment'].cat.codes\n",
    "# rpm = snap.tl.aggregate_X(atac, groupby = 'cell.sub_types')\n",
    "# rpm = pd.DataFrame(rpm.X.T, index=rpm.var_names, columns=rpm.obs_names)\n",
    "total_frag = atac.obs.groupby('cell.sub_types')['n_fragment'].sum()\n",
    "cpm = (rpm / total_frag) * 1e6\n",
    "cpm.to_csv('FNIH_Heart_signal/FNIH_Heart_pool.ATAC.cellsubtype.cpm.csv')"
   ]
  },
  {
   "cell_type": "markdown",
   "id": "1a40c4f6",
   "metadata": {},
   "source": [
    "### Diff test for ATAC peaks"
   ]
  },
  {
   "cell_type": "code",
   "execution_count": 70,
   "id": "60131026",
   "metadata": {},
   "outputs": [
    {
     "name": "stderr",
     "output_type": "stream",
     "text": [
      "/home/y2xie/miniconda3/envs/seurat/lib/python3.11/site-packages/anndata/_core/aligned_df.py:68: ImplicitModificationWarning: Transforming to str index.\n",
      "  warnings.warn(\"Transforming to str index.\", ImplicitModificationWarning)\n"
     ]
    },
    {
     "data": {
      "text/plain": [
       "AnnData object with n_obs × n_vars = 1575608 × 285873\n",
       "    obs: 'n_fragment', 'frac_dup', 'frac_mito'"
      ]
     },
     "execution_count": 70,
     "metadata": {},
     "output_type": "execute_result"
    }
   ],
   "source": [
    "atac = snap.read(\"../reference/ATAC_processed.h5ad\")\n",
    "peak_matrix = snap.pp.make_peak_matrix(atac, counting_strategy = 'fragment',\n",
    "                                       peak_file=\"../reference/FNIH_peaks/Heart_UnionPeak.bed\",  \n",
    "                                       max_frag_size = 5000, min_frag_size = 10)\n",
    "peak_matrix"
   ]
  },
  {
   "cell_type": "code",
   "execution_count": 98,
   "id": "6d5ce6be",
   "metadata": {
    "scrolled": true
   },
   "outputs": [
    {
     "name": "stderr",
     "output_type": "stream",
     "text": [
      "... storing 'orig.ident' as categorical\n",
      "... storing 'library' as categorical\n",
      "... storing 'donor' as categorical\n",
      "... storing 'chamber' as categorical\n",
      "... storing 'condition' as categorical\n",
      "... storing 'disease_status_major' as categorical\n",
      "... storing 'disease_status_sub' as categorical\n",
      "... storing 'diabetes_status' as categorical\n",
      "... storing 'sex' as categorical\n",
      "... storing 'sil.qc' as categorical\n",
      "... storing 'cluster_sil.qc' as categorical\n",
      "... storing 'cell.major_types' as categorical\n",
      "... storing 'cell.sub_types' as categorical\n",
      "... storing 'cell.sub_types_disease' as categorical\n",
      "... storing 'barcode' as categorical\n",
      "... storing 'atac_barcode' as categorical\n",
      "... storing 'chamber_major' as categorical\n",
      "... storing 'cell.sub_types_LUCA' as categorical\n",
      "... storing 'cell.sub_types_chamber' as categorical\n",
      "... storing 'cell.major_types_chamber' as categorical\n"
     ]
    }
   ],
   "source": [
    "ameta = pd.read_csv(\"../reference/LV_RV_LA_RA.multiome.mrg.filt.MTless.silQC.curated.peaks.meta.txt\", sep = '\\t')\n",
    "\n",
    "peak_matrix = peak_matrix[ameta.index,:]\n",
    "peak_matrix.obs[ameta.columns] = ameta.loc[peak_matrix.obs_names]\n",
    "peak_matrix.write(\"../reference/ATAC_processed_peaks.h5ad\")\n",
    "\n",
    "atac.close()"
   ]
  },
  {
   "cell_type": "code",
   "execution_count": 9,
   "id": "318e63a7",
   "metadata": {},
   "outputs": [
    {
     "data": {
      "text/plain": [
       "AnnData object with n_obs × n_vars = 329255 × 285873\n",
       "    obs: 'n_fragment', 'frac_dup', 'frac_mito', 'orig.ident', 'nCount_RNA', 'nFeature_RNA', 'percent.mt', 'nCount_RNA_raw', 'nFeature_RNA_raw', 'nCount_ATAC', 'nFeature_ATAC', 'nCount_SCT', 'nFeature_SCT', 'SCT.weight', 'ATAC.weight', 'wsnn_res.0.2', 'seurat_clusters', 'log_nCount_ATAC', 'log_nCount_SCT', 'log_nFeature_ATAC', 'log_nFeature_SCT', 'wsnn_res.0.25', 'library', 'gex_raw_reads', 'gex_mapped_reads', 'gex_conf_intergenic_reads', 'gex_conf_exonic_reads', 'gex_conf_intronic_reads', 'gex_conf_exonic_unique_reads', 'gex_conf_exonic_antisense_reads', 'gex_conf_exonic_dup_reads', 'gex_exonic_umis', 'gex_conf_intronic_unique_reads', 'gex_conf_intronic_antisense_reads', 'gex_conf_intronic_dup_reads', 'gex_intronic_umis', 'gex_conf_txomic_unique_reads', 'gex_umis_count', 'gex_genes_count', 'atac_raw_reads', 'atac_unmapped_reads', 'atac_lowmapq', 'atac_dup_reads', 'atac_chimeric_reads', 'atac_mitochondrial_reads', 'atac_fragments', 'atac_TSS_fragments', 'atac_peak_region_fragments', 'atac_peak_region_cutsites', 'donor', 'chamber', 'condition', 'disease_status_major', 'disease_status_sub', 'diabetes_status', 'age', 'sex', 'height', 'weight', 'BMI', 'BMI.scaled', 'weight.scaled', 'height.scaled', 'age.scaled', 'TSS.enrichment', 'TSS.percentile', 'wsnn_res.0.5', 'sil.qc', 'cluster_sil.qc', 'wsnn_res.0.6', 'wsnn_res.1', 'cell.major_types', 'cell.sub_types', 'cell.sub_types_disease', 'barcode', 'gex_barcode', 'atac_barcode', 'is_cell', 'excluded_reason', 'chamber_major', 'cell.sub_types_LUCA', 'cell.sub_types_chamber', 'cell.major_types_chamber'"
      ]
     },
     "execution_count": 9,
     "metadata": {},
     "output_type": "execute_result"
    }
   ],
   "source": [
    "atac = snap.read(\"../reference/ATAC_processed_peaks.h5ad\", backed = None)\n",
    "atac"
   ]
  },
  {
   "cell_type": "code",
   "execution_count": 10,
   "id": "a7dfb0cf",
   "metadata": {},
   "outputs": [],
   "source": [
    "atac.obs['condition'] = atac.obs['donor'].astype(\"str\")\n",
    "atac.obs['n_fragment'] = pd.to_numeric(atac.obs['n_fragment'])\n",
    "rpm = snap.tl.aggregate_X(atac, groupby = 'condition')\n",
    "rpm = pd.DataFrame(rpm.X.T, index=rpm.var_names, columns=rpm.obs_names)\n",
    "total_frag = atac.obs.groupby('condition')['n_fragment'].sum()\n",
    "cpm = (rpm / total_frag) * 1e6\n",
    "cpm.to_csv('FNIH_Heart_signal/FNIH_Heart_pool.ATAC.donor.cpm.csv')"
   ]
  },
  {
   "cell_type": "code",
   "execution_count": 20,
   "id": "1f54c942",
   "metadata": {},
   "outputs": [],
   "source": [
    "atac.obs['condition'] = atac.obs['donor'].astype(\"str\") + \"_\" + atac.obs['cell.major_types'].astype(\"str\") + \"_\" + atac.obs['disease_status_major'].astype(\"str\") \n",
    "rpm = snap.tl.aggregate_X(atac, groupby = 'condition')\n",
    "rpm = pd.DataFrame(rpm.X.T, index=rpm.var_names, columns=rpm.obs_names)\n",
    "total_frag = atac.obs.groupby('condition')['n_fragment'].sum()\n",
    "cpm = (rpm / total_frag) * 1e6\n",
    "cpm.to_csv('FNIH_Heart_signal/FNIH_Heart_pool.ATAC.donor_celltype_HF.cpm.csv')"
   ]
  },
  {
   "cell_type": "code",
   "execution_count": 23,
   "id": "523d8b03",
   "metadata": {},
   "outputs": [],
   "source": [
    "atac.obs['condition'] = atac.obs['cell.major_types'].astype(\"str\") + \"_\" + atac.obs['chamber'].astype(\"str\") + \"_\" + atac.obs['disease_status_major'].astype(\"str\") \n",
    "rpm = snap.tl.aggregate_X(atac, groupby = 'condition')\n",
    "rpm = pd.DataFrame(rpm.X.T, index=rpm.var_names, columns=rpm.obs_names)\n",
    "total_frag = atac.obs.groupby('condition')['n_fragment'].sum()\n",
    "cpm = (rpm / total_frag) * 1e6\n",
    "cpm.to_csv('FNIH_Heart_signal/FNIH_Heart_pool.ATAC.chamber_celltype_HF.cpm.csv')"
   ]
  },
  {
   "cell_type": "code",
   "execution_count": 108,
   "id": "3409c7dd",
   "metadata": {},
   "outputs": [
    {
     "name": "stderr",
     "output_type": "stream",
     "text": [
      "2024-12-01 22:21:41 - INFO - Input contains 35501 features, now perform filtering with 'min_log_fc = 0.25' and 'min_pct = 0.05' ...\n",
      "2024-12-01 22:22:02 - INFO - Testing 4999 features ...\n",
      "100%|████████████████████████████████████████████████████████████████████████████████████████████████████████████████████████████████████████████████████████████████| 4999/4999 [07:32<00:00, 11.04it/s]\n",
      "2024-12-01 22:29:39 - INFO - Input contains 62275 features, now perform filtering with 'min_log_fc = 0.25' and 'min_pct = 0.05' ...\n",
      "2024-12-01 22:30:16 - INFO - Testing 3922 features ...\n",
      " 47%|██████████████████████████████████████████████████████████████████████████▊                                                                                     | 1833/3922 [04:44<02:42, 12.84it/s]"
     ]
    }
   ],
   "source": [
    "import warnings\n",
    "warnings.filterwarnings(\"ignore\")\n",
    "\n",
    "mregion = []\n",
    "for f in np.unique(ameta['cell.major_types']):\n",
    "    fcell = ameta.loc[ameta['cell.major_types'] == f].index\n",
    "    rcell = []\n",
    "    for i in np.unique(ameta['cell.major_types']):\n",
    "        if i != f:\n",
    "            cells = np.random.choice(ameta.loc[ameta['cell.major_types'] == i].index, size=500, replace=False)\n",
    "            rcell.append(cells)\n",
    "            \n",
    "    rcell = np.concatenate(rcell)\n",
    "#     rcell = ameta.loc[ameta.cluster != f]['barcode']\n",
    "    ffeatures = pd.read_csv(f\"../reference/FNIH_peaks/{f}_UnifiedFiltVariable.bed\", sep =\"\\t\", names = ['chrom', 'start', 'end','width', 'strand'])\n",
    "    ffeatures = ffeatures.chrom + \":\" + ffeatures.start.astype(str) + \"-\" + ffeatures.end.astype(str)\n",
    "    fmarker = snap.tl.diff_test(peak_matrix, fcell, rcell, features = ffeatures, \n",
    "                                # covariates = ['library', 'sex'], ### This is what Elie and Luca suggests\n",
    "                                direction='positive', \n",
    "                                min_log_fc=0.25, min_pct=0.05)\n",
    "    tmp = pd.DataFrame(fmarker, columns = fmarker.columns)\n",
    "    tmp['celltype'] = f\n",
    "    mregion.append(tmp)"
   ]
  },
  {
   "cell_type": "code",
   "execution_count": 113,
   "id": "47e5f3fc",
   "metadata": {},
   "outputs": [],
   "source": [
    "pd.concat(mregion, axis = 0).to_csv(\"../reference/FNIH_peaks/snapatac2_LR_test.csv\")"
   ]
  },
  {
   "cell_type": "markdown",
   "id": "493e5090",
   "metadata": {},
   "source": [
    "### Generate 25kb bins for insulation analysis"
   ]
  },
  {
   "cell_type": "code",
   "execution_count": 150,
   "id": "fd87099a",
   "metadata": {},
   "outputs": [],
   "source": [
    "peak_list = []\n",
    "for sample, f in zip(dna, file_dna):\n",
    "    data = snap.read(\"snapatac/\" + f)\n",
    "    tmp = snap.pp.add_tile_matrix(data, bin_size = 25000, max_frag_size = 5000, min_frag_size = 10, \n",
    "                                   inplace = False, counting_strategy = 'fragment')\n",
    "    tmp.obs_names = sample + \":\" + tmp.obs_names\n",
    "    peak_list.append(tmp)\n",
    "    data.close()"
   ]
  },
  {
   "cell_type": "code",
   "execution_count": 189,
   "id": "b1dac746",
   "metadata": {
    "scrolled": true
   },
   "outputs": [],
   "source": [
    "import anndata as an\n",
    "# bin25k = an.concat(peak_list)\n",
    "tmp = bin25k[k27ac_peaks.obs_names,:]\n",
    "tmp.obs = k27ac_peaks.obs.loc[tmp.obs_names]\n",
    "tmp.write(\"FNIH_Heart_signal/FNIH_Heart_pool.H3K27ac.25kb.h5ad\")\n",
    "\n",
    "tmp = bin25k[k27me3_peaks.obs_names,:]\n",
    "tmp.obs = k27me3_peaks.obs.loc[tmp.obs_names]\n",
    "tmp.write(\"FNIH_Heart_signal/FNIH_Heart_pool.H3K27me3.25kb.h5ad\")"
   ]
  },
  {
   "cell_type": "code",
   "execution_count": 51,
   "id": "c6dfbf47",
   "metadata": {
    "scrolled": false
   },
   "outputs": [],
   "source": [
    "dinfo = pd.read_csv('../reference/CAREHF_FNIH_donor.simple.info', sep = '\\t', index_col=0)\n",
    "\n",
    "tmp = snap.read(\"FNIH_Heart_signal/FNIH_Heart_pool.H3K27ac.25kb.h5ad\", backed=None)\n",
    "idx = pd.Index(dinfo['Patient.ID']).get_indexer(tmp.obs['Donor'])\n",
    "tmp.obs['HF'] = np.array(dinfo.iloc[idx]['condition'])\n",
    "tmp.obs['condition'] = tmp.obs['predicted.celltype'].astype(\"str\") + \"_\" + tmp.obs['HF'].astype(\"str\")\n",
    "tmp.obs['n_fragment'] = pd.to_numeric(tmp.obs.loc[tmp.obs_names]['n_fragment'])\n",
    "\n",
    "k27ac_rpm = snap.tl.aggregate_X(tmp, groupby = 'condition')\n",
    "k27ac_rpm = pd.DataFrame(k27ac_rpm.X.T, columns = k27ac_rpm.obs_names, index = k27ac_rpm.var_names)\n",
    "total_frag = tmp.obs.groupby('condition')['n_fragment'].sum()\n",
    "k27ac_cpm = (k27ac_rpm / total_frag) * 1e6\n",
    "k27ac_cpm.to_csv('/projects/ps-renlab2/y2xie/projects/77.LC/81.FNIH_DPT_IGM_240827/05.R/FNIH_Heart_signal/FNIH_Heart_pool.H3K27ac.25kb.cpm.csv')"
   ]
  },
  {
   "cell_type": "code",
   "execution_count": 52,
   "id": "78d54519",
   "metadata": {},
   "outputs": [],
   "source": [
    "tmp = snap.read(\"FNIH_Heart_signal/FNIH_Heart_pool.H3K27me3.25kb.h5ad\", backed=None)\n",
    "idx = pd.Index(dinfo['Patient.ID']).get_indexer(tmp.obs['Donor'])\n",
    "tmp.obs['HF'] = np.array(dinfo.iloc[idx]['condition'])\n",
    "tmp.obs['condition'] = tmp.obs['predicted.celltype'].astype(\"str\") + \"_\" + tmp.obs['HF'].astype(\"str\")\n",
    "\n",
    "k27ac_rpm = snap.tl.aggregate_X(tmp, groupby = 'condition')\n",
    "k27ac_rpm = pd.DataFrame(k27ac_rpm.X.T, columns = k27ac_rpm.obs_names, index = k27ac_rpm.var_names)\n",
    "\n",
    "tmp.obs['n_fragment'] = pd.to_numeric(tmp.obs.loc[tmp.obs_names]['n_fragment'])\n",
    "total_frag = tmp.obs.groupby('condition')['n_fragment'].sum()\n",
    "k27ac_cpm = (k27ac_rpm / total_frag) * 1e6\n",
    "k27ac_cpm.to_csv('/projects/ps-renlab2/y2xie/projects/77.LC/81.FNIH_DPT_IGM_240827/05.R/FNIH_Heart_signal/FNIH_Heart_pool.H3K27me3.25kb.cpm.csv')"
   ]
  },
  {
   "cell_type": "markdown",
   "id": "89d1f556",
   "metadata": {},
   "source": [
    "## Process CAREHF ATAC data to get 15kb matrix"
   ]
  },
  {
   "cell_type": "code",
   "execution_count": null,
   "id": "4bd3f673",
   "metadata": {},
   "outputs": [],
   "source": [
    "libs = [f.split(\"__\")[0] for f in os.listdir(\"/projects/ps-renlab2/y2xie/projects/77.LC/81.FNIH_DPT_IGM_240827/reference/CAREHF/fragment/fragment/\") if f.endswith('__fragments.tsv.gz')]\n",
    "for lib in libs:\n",
    "    data = snap.pp.import_data(f\"../reference/CAREHF/fragment/fragment/{lib}__fragments.tsv.gz\",\n",
    "                               sorted_by_barcode = False,\n",
    "                               file = f\"../reference/CAREHF/fragment/snapatac2/{lib}_processed.h5ad\",\n",
    "                               chrom_sizes = snap.genome.hg38)\n",
    "    snap.pp.add_tile_matrix(data, bin_size = 15000, max_frag_size = 5000, min_frag_size = 10)\n",
    "    data.close()"
   ]
  },
  {
   "cell_type": "code",
   "execution_count": 68,
   "id": "ad174e0c",
   "metadata": {},
   "outputs": [
    {
     "data": {
      "text/plain": [
       "View of AnnData object with n_obs × n_vars = 245534 × 202081\n",
       "    obs: 'n_fragment', 'frac_dup', 'frac_mito', 'bc'\n",
       "    obsm: 'fragment_paired'"
      ]
     },
     "execution_count": 68,
     "metadata": {},
     "output_type": "execute_result"
    }
   ],
   "source": [
    "### Filter valid ATAC files\n",
    "meta = pd.read_csv(\"integration/All_data_int_metadata.file.txt\", sep = '\\t')\n",
    "blist = []\n",
    "for lib in libs:\n",
    "    tdata = snap.read(f'../reference/CAREHF/fragment/snapatac2/{lib}_processed.filt.h5ad', backed = None)\n",
    "    data = snap.read(f'../reference/CAREHF/fragment/snapatac2/{lib}_processed.h5ad', backed = None)\n",
    "    data.obs['bc'] = f'{lib}:' + data.obs_names\n",
    "    validc = np.intersect1d(data.obs.bc, meta[meta.index.str.contains(lib, regex=True)].index)\n",
    "    tdata = data[data.obs.bc.isin(validc),:]\n",
    "    tdata.write(f'../reference/CAREHF/fragment/snapatac2/{lib}_processed.filt.h5ad')\n",
    "    blist.append(tdata)\n",
    "\n",
    "import anndata as an\n",
    "carehf = an.concat(blist)\n",
    "carehf.write(\"../reference/CAREHF_ATAC_processed_valid.h5ad\")\n",
    "\n",
    "carehf"
   ]
  },
  {
   "cell_type": "code",
   "execution_count": 90,
   "id": "8c878314",
   "metadata": {},
   "outputs": [],
   "source": [
    "carehf.obs['donor'] = np.array(meta.loc[carehf.obs['bc'], 'DONOR'])\n",
    "rpm = snap.tl.aggregate_X(carehf, groupby = 'donor')\n",
    "rpm = pd.DataFrame(rpm.X.T, columns = rpm.obs_names, index = rpm.var_names)\n",
    "\n",
    "carehf.obs['n_fragment'] = pd.to_numeric(carehf.obs['n_fragment'])\n",
    "total_frag = carehf.obs.groupby('donor')['n_fragment'].sum()\n",
    "cpm = (rpm / total_frag) * 1e6\n",
    "cpm.to_csv('FNIH_Heart_signal/CAREHF_Heart_pool.ATAC.donor.15kb.cpm.csv')"
   ]
  },
  {
   "cell_type": "code",
   "execution_count": 71,
   "id": "f629ca37",
   "metadata": {},
   "outputs": [
    {
     "data": {
      "text/plain": [
       "245534"
      ]
     },
     "execution_count": 71,
     "metadata": {},
     "output_type": "execute_result"
    }
   ],
   "source": [
    "## Also processed FNIH ATAC\n",
    "tdata = snap.read(\"../reference/FNIH_ATAC_processed_valid.h5ad\", backed = None)\n",
    "rpm = snap.tl.aggregate_X(tdata, groupby = 'donor')\n",
    "rpm = pd.DataFrame(rpm.X.T, columns = rpm.obs_names, index = rpm.var_names)\n",
    "\n",
    "tdata.obs['n_fragment'] = pd.to_numeric(tdata.obs['n_fragment'])\n",
    "total_frag = tdata.obs.groupby('donor')['n_fragment'].sum()\n",
    "cpm = (rpm / total_frag) * 1e6\n",
    "cpm.to_csv('FNIH_Heart_signal/FNIH_Heart_pool.ATAC.donor.15kb.cpm.csv')"
   ]
  },
  {
   "cell_type": "code",
   "execution_count": 9,
   "id": "d5aa8580",
   "metadata": {},
   "outputs": [
    {
     "ename": "NameError",
     "evalue": "name 'meta' is not defined",
     "output_type": "error",
     "traceback": [
      "\u001b[0;31m---------------------------------------------------------------------------\u001b[0m",
      "\u001b[0;31mNameError\u001b[0m                                 Traceback (most recent call last)",
      "Cell \u001b[0;32mIn[9], line 1\u001b[0m\n\u001b[0;32m----> 1\u001b[0m meta\n",
      "\u001b[0;31mNameError\u001b[0m: name 'meta' is not defined"
     ]
    }
   ],
   "source": [
    "meta"
   ]
  },
  {
   "cell_type": "markdown",
   "id": "575543e4",
   "metadata": {},
   "source": [
    "## Output clean object for upload"
   ]
  },
  {
   "cell_type": "code",
   "execution_count": 35,
   "id": "f74c50a8",
   "metadata": {},
   "outputs": [
    {
     "name": "stderr",
     "output_type": "stream",
     "text": [
      "/tmp/ipykernel_1353931/3739330507.py:3: DtypeWarning: Columns (4,5,6,7,54,55,58,59,60,62,63,64,66,74,75,78,79,80,81,82,83,84,88,89,90,91,92,93,94,95,96,97,98,99,101,103) have mixed types. Specify dtype option on import or set low_memory=False.\n",
      "  nrmeta = pd.read_csv('integration/CAREHF_Multiome_DPT_RNA_int.meta.csv', index_col=0)\n"
     ]
    }
   ],
   "source": [
    "k27ac_data = snap.read(\"FNIH_Heart_cluster/FNIH_Heart_pool.H3K27ac.h5ad\", backed = None)\n",
    "k27me3_data = snap.read(\"FNIH_Heart_cluster/FNIH_Heart_pool.H3K27me3.h5ad\", backed = None)\n",
    "nrmeta = pd.read_csv('integration/CAREHF_Multiome_DPT_RNA_int.meta.csv', index_col=0)\n",
    "nrmeta = nrmeta.loc[(nrmeta['orig.ident'] == 'DPT') & (nrmeta['integrated_majortype'] == 1)]\n",
    "nrmeta.index = nrmeta['dna'] + \":\" + nrmeta['dna_bc']"
   ]
  },
  {
   "cell_type": "code",
   "execution_count": 42,
   "id": "5f491848",
   "metadata": {},
   "outputs": [],
   "source": [
    "valid_col = ['n_fragment', 'frac_dup', 'rna', 'rna_bc', 'dna', 'dna_bc', 'Donor', 'Target']\n",
    "valid_col2 = ['chamber', 'Age', 'Gender', 'HF', 'Diabetes', 'condition', \n",
    "              'nn2.celltype', 'integrated_majortype', 'nn2.cell_subtype','integrated_subtype']"
   ]
  },
  {
   "cell_type": "code",
   "execution_count": 54,
   "id": "9257829e",
   "metadata": {
    "scrolled": true
   },
   "outputs": [],
   "source": [
    "qcell1 = np.intersect1d(nrmeta.loc[nrmeta['Target'] == 'H3K27ac'].index, k27ac_data.obs_names)\n",
    "k27ac_data = k27ac_data[qcell1, :]\n",
    "\n",
    "k27ac_data.obs = k27ac_data.obs[valid_col]\n",
    "k27ac_data.obs[valid_col2] = nrmeta.loc[k27ac_data.obs_names, valid_col2]"
   ]
  },
  {
   "cell_type": "code",
   "execution_count": 56,
   "id": "a0bd03e9",
   "metadata": {},
   "outputs": [],
   "source": [
    "qcell2 = np.intersect1d(nrmeta.loc[nrmeta['Target'] == 'H3K27me3'].index, k27me3_data.obs_names)\n",
    "k27me3_data = k27me3_data[qcell2, :]\n",
    "\n",
    "k27me3_data.obs = k27me3_data.obs[valid_col]\n",
    "k27me3_data.obs[valid_col2] = nrmeta.loc[k27me3_data.obs_names, valid_col2]"
   ]
  },
  {
   "cell_type": "code",
   "execution_count": 60,
   "id": "b1af61a7",
   "metadata": {
    "scrolled": true
   },
   "outputs": [
    {
     "name": "stderr",
     "output_type": "stream",
     "text": [
      "... storing 'chamber' as categorical\n",
      "... storing 'Gender' as categorical\n",
      "... storing 'HF' as categorical\n",
      "... storing 'condition' as categorical\n",
      "... storing 'nn2.celltype' as categorical\n",
      "... storing 'nn2.cell_subtype' as categorical\n",
      "... storing 'chamber' as categorical\n",
      "... storing 'Gender' as categorical\n",
      "... storing 'HF' as categorical\n",
      "... storing 'condition' as categorical\n",
      "... storing 'nn2.celltype' as categorical\n",
      "... storing 'nn2.cell_subtype' as categorical\n"
     ]
    }
   ],
   "source": [
    "k27ac_data.write('FNIH_Heart_cluster/FNIH_Heart_pool.H3K27ac.clean.h5ad')\n",
    "k27me3_data.write('FNIH_Heart_cluster/FNIH_Heart_pool.H3K27me3.clean.h5ad')"
   ]
  },
  {
   "cell_type": "code",
   "execution_count": 77,
   "id": "24f6d92b",
   "metadata": {
    "scrolled": false
   },
   "outputs": [],
   "source": [
    "nrmeta.loc[np.union1d(k27ac_data.obs_names, k27me3_data.obs_names)].to_csv('FNIH_Heart_cluster/FNIH_Heart_pool.histone.clean.csv')"
   ]
  },
  {
   "cell_type": "code",
   "execution_count": 79,
   "id": "a8f26a7b",
   "metadata": {},
   "outputs": [
    {
     "data": {
      "text/plain": [
       "array([[18.152824 , -3.8232155],\n",
       "       [12.873262 ,  4.0964913],\n",
       "       [-2.6171577,  7.6496487],\n",
       "       ...,\n",
       "       [ 9.951865 , 14.571682 ],\n",
       "       [ 8.205806 , 14.018081 ],\n",
       "       [-2.2810047,  5.701026 ]], dtype=float32)"
      ]
     },
     "execution_count": 79,
     "metadata": {},
     "output_type": "execute_result"
    }
   ],
   "source": [
    "k27me3_data.obsm[\"X_umap\"]"
   ]
  }
 ],
 "metadata": {
  "kernelspec": {
   "display_name": "Python 3 (ipykernel)",
   "language": "python",
   "name": "python3"
  },
  "language_info": {
   "codemirror_mode": {
    "name": "ipython",
    "version": 3
   },
   "file_extension": ".py",
   "mimetype": "text/x-python",
   "name": "python",
   "nbconvert_exporter": "python",
   "pygments_lexer": "ipython3",
   "version": "3.11.8"
  }
 },
 "nbformat": 4,
 "nbformat_minor": 5
}
