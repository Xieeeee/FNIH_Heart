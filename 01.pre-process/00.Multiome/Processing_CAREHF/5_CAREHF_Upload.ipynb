{
 "cells": [
  {
   "cell_type": "markdown",
   "id": "67b75dfc",
   "metadata": {},
   "source": [
    "# Settings"
   ]
  },
  {
   "cell_type": "code",
   "execution_count": 1,
   "id": "fdf5299f",
   "metadata": {
    "scrolled": true
   },
   "outputs": [
    {
     "data": {
      "text/html": [
       "TRUE"
      ],
      "text/latex": [
       "TRUE"
      ],
      "text/markdown": [
       "TRUE"
      ],
      "text/plain": [
       "[1] TRUE"
      ]
     },
     "metadata": {},
     "output_type": "display_data"
    },
    {
     "data": {
      "text/plain": [
       "Module(anndata)"
      ]
     },
     "metadata": {},
     "output_type": "display_data"
    },
    {
     "data": {
      "text/html": [
       "TRUE"
      ],
      "text/latex": [
       "TRUE"
      ],
      "text/markdown": [
       "TRUE"
      ],
      "text/plain": [
       "[1] TRUE"
      ]
     },
     "metadata": {},
     "output_type": "display_data"
    },
    {
     "data": {
      "text/plain": [
       "Module(leidenalg)"
      ]
     },
     "metadata": {},
     "output_type": "display_data"
    }
   ],
   "source": [
    "# Load Reticulate function\n",
    "Sys.setenv(RETICULATE_PYTHON=\"/home/luca/anaconda3/envs/reticulate/bin/python\")\n",
    "library(reticulate)\n",
    "reticulate::use_python(\"/home/luca/anaconda3/envs/reticulate/bin/python\")\n",
    "reticulate::use_condaenv(\"/home/luca/anaconda3/envs/reticulate\")\n",
    "reticulate::py_module_available(module='anndata') #needs to be TRUE\n",
    "reticulate::import('anndata') #good to make sure this doesn't error\n",
    "reticulate::py_module_available(module='leidenalg') #needs to be TRUE\n",
    "reticulate::import('leidenalg') #good to make sure this doesn't error"
   ]
  },
  {
   "cell_type": "code",
   "execution_count": 2,
   "id": "3a9b85ae",
   "metadata": {},
   "outputs": [],
   "source": [
    "## Patch for annotations in R4.1\n",
    "# BiocManager::install(\"Bioconductor/GenomeInfoDb\",lib = \"/home/luca/R/x86_64-pc-linux-gnu-library/4.1\",force = TRUE)\n",
    "# library(GenomeInfoDb,lib.loc=\"/home/luca/R/x86_64-pc-linux-gnu-library/4.1\")"
   ]
  },
  {
   "cell_type": "code",
   "execution_count": 13,
   "id": "1ee9d2cd",
   "metadata": {},
   "outputs": [],
   "source": [
    "# Load packages\n",
    "pacman::p_load(dplyr, stringr, data.table, tidyr, data.table, Matrix, future, \n",
    "               hdf5r, Seurat, Signac,harmony, knitr, SoupX, \n",
    "               EnsDb.Hsapiens.v86, SeuratDisk,\n",
    "               logr, parallel, \n",
    "               ggplot2, ggpubr, ggrepel, ggbreak, gridExtra, patchwork, grid, ggh4x)"
   ]
  },
  {
   "cell_type": "code",
   "execution_count": 4,
   "id": "d0aa821f",
   "metadata": {},
   "outputs": [],
   "source": [
    "# Load genome\n",
    "#suppressMessages(annotations <- GetGRangesFromEnsDb(ensdb=EnsDb.Hsapiens.v86))\n",
    "#genome(annotations) <- 'hg38'\n",
    "#seqlevelsStyle(annotations) <- 'UCSC'\n",
    "# Save table\n",
    "# writeRDS(annotations, \"/nfs/lab/Luca/Assets/references/Cellranger/hg38.annotations.rds\")\n",
    "\n",
    "# Load table\n",
    "annotations = readRDS(\"/nfs/lab/Luca/Assets/references/Cellranger/hg38.annotations.rds\")\n",
    "seqlevelsStyle(annotations) <- 'UCSC'\n",
    "genome(annotations) <- 'hg38'\n",
    "\n",
    "# Seq info downloaded from: https://github.com/broadinstitute/ichorCNA/issues/84\n",
    "seq.info = readRDS(\"/nfs/lab/Luca/Assets/references/Cellranger/seqinfo_hg38_ucsc.rds\")"
   ]
  },
  {
   "cell_type": "code",
   "execution_count": 5,
   "id": "d38bb6f4",
   "metadata": {},
   "outputs": [],
   "source": [
    "# Set options\n",
    "options(stringsAsFactors = FALSE)\n",
    "warnLevel <- getOption('warn')\n",
    "options(warn = -1)\n",
    "opts_chunk$set(tidy=TRUE)\n",
    "\n",
    "# set Future\n",
    "plan(\"multicore\", workers = 4)\n",
    "# set RAM treshold\n",
    "## 1000 = 1gb\n",
    "RAM.tresh = 10000 * 1024^2\n",
    "options(future.globals.maxSize = RAM.tresh)\n",
    "options(scipen = 999)"
   ]
  },
  {
   "cell_type": "code",
   "execution_count": 6,
   "id": "1d4c391f",
   "metadata": {},
   "outputs": [],
   "source": [
    "# Set directories\n",
    "base.dir = \"/nfs/lab/projects/mega_heart/CAREHF/multiome/\"\n",
    "assets.dir = \"/nfs/lab/projects/mega_heart/CAREHF/multiome/Assets/\"\n",
    "\n",
    "cell.ranger.dir = \"/nfs/lab/projects/mega_heart/CAREHF/multiome/cellranger.symlinks/\"\n",
    "\n",
    "step1.dir = \"/nfs/lab/projects/mega_heart/CAREHF/multiome/Analysys/1_preprocessing/\"\n",
    "step2.dir = \"/nfs/lab/projects/mega_heart/CAREHF/multiome/Analysys/2_PeaksReformat/\"\n",
    "step3.dir = \"/nfs/lab/projects/mega_heart/CAREHF/multiome/Analysys/3_SoupX/\"\n",
    "step4.dir = \"/nfs/lab/projects/mega_heart/CAREHF/multiome/Analysys/4_Doublet_cleanup/\"\n",
    "log.dir = \"/nfs/lab/projects/mega_heart/CAREHF/multiome/log/\"\n",
    "\n",
    "dir.create(paste0(step4.dir, \"MM_counts/\"))"
   ]
  },
  {
   "cell_type": "code",
   "execution_count": 7,
   "id": "e2f28087",
   "metadata": {},
   "outputs": [],
   "source": [
    "# start log\n",
    "options(\"logr.on\" = TRUE, \"logr.notes\" = TRUE)\n",
    "options(\"logr.autolog\" = TRUE)\n",
    "options(\"logr.compact\" = TRUE)\n",
    "options(\"logr.traceback\" = TRUE)\n",
    "log.file = paste(base.dir, Sys.Date(),\".7_Upload_part1.log\", sep=\"\")"
   ]
  },
  {
   "cell_type": "code",
   "execution_count": 8,
   "id": "f228f84e",
   "metadata": {},
   "outputs": [
    {
     "data": {
      "text/html": [
       "'/nfs/lab/projects/mega_heart/CAREHF/multiome/log/2025-03-24.7_Upload_part1.log'"
      ],
      "text/latex": [
       "'/nfs/lab/projects/mega\\_heart/CAREHF/multiome/log/2025-03-24.7\\_Upload\\_part1.log'"
      ],
      "text/markdown": [
       "'/nfs/lab/projects/mega_heart/CAREHF/multiome/log/2025-03-24.7_Upload_part1.log'"
      ],
      "text/plain": [
       "[1] \"/nfs/lab/projects/mega_heart/CAREHF/multiome/log/2025-03-24.7_Upload_part1.log\""
      ]
     },
     "metadata": {},
     "output_type": "display_data"
    }
   ],
   "source": [
    "log_open(log.file)"
   ]
  },
  {
   "cell_type": "code",
   "execution_count": 12,
   "id": "cb23a225",
   "metadata": {},
   "outputs": [
    {
     "data": {
      "text/html": [
       "'KA_49_1_2_KA_45_1_2'"
      ],
      "text/latex": [
       "'KA\\_49\\_1\\_2\\_KA\\_45\\_1\\_2'"
      ],
      "text/markdown": [
       "'KA_49_1_2_KA_45_1_2'"
      ],
      "text/plain": [
       "[1] \"KA_49_1_2_KA_45_1_2\""
      ]
     },
     "metadata": {},
     "output_type": "display_data"
    },
    {
     "data": {
      "text/html": [
       "'/nfs/lab/projects/CARE_HF/DATA/multiome/LA/KA_49_1_2_KA_45_1_2/outs/'"
      ],
      "text/latex": [
       "'/nfs/lab/projects/CARE\\_HF/DATA/multiome/LA/KA\\_49\\_1\\_2\\_KA\\_45\\_1\\_2/outs/'"
      ],
      "text/markdown": [
       "'/nfs/lab/projects/CARE_HF/DATA/multiome/LA/KA_49_1_2_KA_45_1_2/outs/'"
      ],
      "text/plain": [
       "[1] \"/nfs/lab/projects/CARE_HF/DATA/multiome/LA/KA_49_1_2_KA_45_1_2/outs/\""
      ]
     },
     "metadata": {},
     "output_type": "display_data"
    },
    {
     "data": {
      "text/html": [
       "36"
      ],
      "text/latex": [
       "36"
      ],
      "text/markdown": [
       "36"
      ],
      "text/plain": [
       "[1] 36"
      ]
     },
     "metadata": {},
     "output_type": "display_data"
    }
   ],
   "source": [
    "# Load sample info\n",
    "sample.info = read.table(paste(assets.dir, \"sample.info\", sep = \"\"), sep = \"\\t\", header = TRUE)\n",
    "# Build variables\n",
    "sample.ls = sample.info$ID\n",
    "cellranger.outs.ls = paste0(sample.info$CellRanger,\n",
    "                            sample.info$Chamber, \"/\",\n",
    "                            sample.info$ID, \"/outs/\")\n",
    "\n",
    "# Check the paths r right\n",
    "sample.ls[1]\n",
    "cellranger.outs.ls[1]\n",
    "length(sample.ls)"
   ]
  },
  {
   "cell_type": "code",
   "execution_count": 78,
   "id": "0c9468f3",
   "metadata": {},
   "outputs": [],
   "source": [
    "# Load final list of barcodes\n",
    "meta = fread(\"/nfs/lab/tscc/luca/MEGA_Heart/CAREHF_rna.meta\")\n",
    "# Ensure barcodes match the cell names in Seurat object\n",
    "meta$V1 <- gsub(\":\", \"_\", meta$V1)\n",
    "rownames(meta) <- meta$V1  # Set row names to barcodes"
   ]
  },
  {
   "cell_type": "code",
   "execution_count": null,
   "id": "623a9fb6",
   "metadata": {},
   "outputs": [],
   "source": [
    "for (i in seq_along(sample.ls)){\n",
    "    gc(reset = TRUE)\n",
    "    # Set sample variable\n",
    "    sample = sample.ls[i]\n",
    "    out.dir = paste0(step4.dir, \"MM_counts/\", sample, \"/\")\n",
    "    dir.create(out.dir)\n",
    "    log_print(paste(\"Processing: \", sample))\n",
    "    # Load sample\n",
    "    adata = readRDS(file = paste(step4.dir, sample, \"_prefilt.Peaks.SoupX.RmMult.rds\", sep = \"\"))\n",
    "    # Create new idents\n",
    "    barcodes_library = paste0(adata@meta.data$samples, \n",
    "                             \"_\",\n",
    "                             adata@meta.data$barcode)\n",
    "\n",
    "    names(barcodes_library) <- colnames(adata)\n",
    "    adata <- RenameCells(adata, new.names = barcodes_library)\n",
    "\n",
    "    # Subset annotations to match cells present in the Seurat object\n",
    "    log_print(paste(\"   - cells before cleanup: \", ncol(adata)))\n",
    "    cell.keep <- meta[rownames(meta) %in% colnames(adata), ]\n",
    "    adata_sub <- subset(adata, cells = cell.keep$V1)\n",
    "    log_print(paste(\"   - cells after cleanup: \", ncol(adata_sub)))\n",
    "\n",
    "    # Get counts\n",
    "    counts_matrix <- GetAssayData(adata, assay = \"ATAC\", slot = \"counts\")\n",
    "\n",
    "    writeMM(counts_matrix,\n",
    "            file = paste0(out.dir,\n",
    "                          \"ATAC_counts.mtx\"))\n",
    "\n",
    "    write.table(rownames(counts_matrix),\n",
    "            file = paste0(out.dir,\n",
    "                          \"ATAC_features.tsv\"),\n",
    "                sep = \"\\t\", row.names = FALSE, col.names = FALSE, quote = FALSE)\n",
    "\n",
    "    # Write cell barcodes\n",
    "    write.table(colnames(counts_matrix),\n",
    "            file = paste0(out.dir,\n",
    "                          \"Barcodes.tsv\"),\n",
    "                sep = \"\\t\", row.names = FALSE, col.names = FALSE, quote = FALSE)\n",
    "}"
   ]
  }
 ],
 "metadata": {
  "kernelspec": {
   "display_name": "R Seurat.5",
   "language": "R",
   "name": "irseurat5"
  },
  "language_info": {
   "codemirror_mode": "r",
   "file_extension": ".r",
   "mimetype": "text/x-r-source",
   "name": "R",
   "pygments_lexer": "r",
   "version": "4.2.3"
  },
  "toc": {
   "base_numbering": 1,
   "nav_menu": {},
   "number_sections": true,
   "sideBar": true,
   "skip_h1_title": false,
   "title_cell": "Table of Contents",
   "title_sidebar": "Contents",
   "toc_cell": false,
   "toc_position": {},
   "toc_section_display": true,
   "toc_window_display": false
  }
 },
 "nbformat": 4,
 "nbformat_minor": 5
}
