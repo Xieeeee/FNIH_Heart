{
 "cells": [
  {
   "cell_type": "markdown",
   "id": "e2269acc",
   "metadata": {},
   "source": [
    "# Settings"
   ]
  },
  {
   "cell_type": "code",
   "execution_count": 1,
   "id": "d12a6d90",
   "metadata": {},
   "outputs": [
    {
     "data": {
      "text/html": [
       "TRUE"
      ],
      "text/latex": [
       "TRUE"
      ],
      "text/markdown": [
       "TRUE"
      ],
      "text/plain": [
       "[1] TRUE"
      ]
     },
     "metadata": {},
     "output_type": "display_data"
    },
    {
     "data": {
      "text/plain": [
       "Module(anndata)"
      ]
     },
     "metadata": {},
     "output_type": "display_data"
    },
    {
     "data": {
      "text/html": [
       "TRUE"
      ],
      "text/latex": [
       "TRUE"
      ],
      "text/markdown": [
       "TRUE"
      ],
      "text/plain": [
       "[1] TRUE"
      ]
     },
     "metadata": {},
     "output_type": "display_data"
    },
    {
     "data": {
      "text/plain": [
       "Module(leidenalg)"
      ]
     },
     "metadata": {},
     "output_type": "display_data"
    }
   ],
   "source": [
    "# Load Reticulate function\n",
    "Sys.setenv(RETICULATE_PYTHON=\"/home/luca/anaconda3/envs/reticulate/bin/python\")\n",
    "library(reticulate)\n",
    "reticulate::use_python(\"/home/luca/anaconda3/envs/reticulate/bin/python\")\n",
    "reticulate::use_condaenv(\"/home/luca/anaconda3/envs/reticulate\")\n",
    "reticulate::py_module_available(module='anndata') #needs to be TRUE\n",
    "reticulate::import('anndata') #good to make sure this doesn't error\n",
    "reticulate::py_module_available(module='leidenalg') #needs to be TRUE\n",
    "reticulate::import('leidenalg') #good to make sure this doesn't error"
   ]
  },
  {
   "cell_type": "code",
   "execution_count": 2,
   "id": "63f0e65b",
   "metadata": {},
   "outputs": [],
   "source": [
    "# Load packages\n",
    "pacman::p_load(dplyr, stringr, data.table, tidyr, data.table, Matrix,\n",
    "               hdf5r, Seurat, Signac,harmony, knitr, SoupX,\n",
    "               EnsDb.Hsapiens.v86, \n",
    "               logr, parallel, \n",
    "               ggplot2, ggpubr, ggrepel, ggbreak, gridExtra)"
   ]
  },
  {
   "cell_type": "code",
   "execution_count": 3,
   "id": "c5328710",
   "metadata": {},
   "outputs": [],
   "source": [
    "# Set options\n",
    "options(stringsAsFactors = FALSE)\n",
    "warnLevel <- getOption('warn')\n",
    "options(warn = -1)\n",
    "opts_chunk$set(tidy=TRUE)\n",
    "options(scipen = 999)\n",
    "\n",
    "# set Future\n",
    "plan(\"multicore\", workers = 4)\n",
    "# set RAM treshold\n",
    "## 1000 = 1gb\n",
    "RAM.tresh = 10000 * 1024^2\n",
    "options(future.globals.maxSize = RAM.tresh)"
   ]
  },
  {
   "cell_type": "code",
   "execution_count": 4,
   "id": "ef39f4fd",
   "metadata": {},
   "outputs": [],
   "source": [
    "# Load table\n",
    "annotations = readRDS(\"/nfs/lab/Luca/Assets/references/Cellranger/hg38.annotations.rds\")\n",
    "seqlevelsStyle(annotations) <- 'UCSC'\n",
    "genome(annotations) <- 'hg38'\n",
    "\n",
    "# Seq info downloaded from: https://github.com/broadinstitute/ichorCNA/issues/84\n",
    "seq.info = readRDS(\"/nfs/lab/Luca/Assets/references/Cellranger/seqinfo_hg38_ucsc.rds\")"
   ]
  },
  {
   "cell_type": "code",
   "execution_count": 5,
   "id": "447167ab",
   "metadata": {},
   "outputs": [],
   "source": [
    "# Set directories\n",
    "base.dir = \"/nfs/lab/projects/mega_heart/CAREHF/multiome/\"\n",
    "assets.dir = \"/nfs/lab/projects/mega_heart/CAREHF/multiome/Assets/\"\n",
    "\n",
    "cell.ranger.dir = \"/nfs/lab/projects/mega_heart/CAREHF/multiome/cellranger.symlinks/\"\n",
    "\n",
    "step1.dir = \"/nfs/lab/projects/mega_heart/CAREHF/multiome/Analysys/1_preprocessing/\"\n",
    "step2.dir = \"/nfs/lab/projects/mega_heart/CAREHF/multiome/Analysys/2_PeaksReformat/\"\n",
    "\n",
    "log.dir = \"/nfs/lab/projects/mega_heart/CAREHF/multiome/log/\""
   ]
  },
  {
   "cell_type": "code",
   "execution_count": 6,
   "id": "c295f230",
   "metadata": {},
   "outputs": [],
   "source": [
    "# start log\n",
    "options(\"logr.on\" = TRUE, \"logr.notes\" = TRUE)\n",
    "options(\"logr.autolog\" = TRUE)\n",
    "options(\"logr.compact\" = TRUE)\n",
    "options(\"logr.traceback\" = TRUE)\n",
    "log.file = paste(base.dir, Sys.Date(),\"2_PeaksReformat\", sep=\"\")"
   ]
  },
  {
   "cell_type": "code",
   "execution_count": 7,
   "id": "a390bcd6",
   "metadata": {
    "scrolled": true
   },
   "outputs": [
    {
     "data": {
      "text/html": [
       "'/nfs/lab/projects/mega_heart/CAREHF/multiome/log/2024-09-172_PeaksReformat.log'"
      ],
      "text/latex": [
       "'/nfs/lab/projects/mega\\_heart/CAREHF/multiome/log/2024-09-172\\_PeaksReformat.log'"
      ],
      "text/markdown": [
       "'/nfs/lab/projects/mega_heart/CAREHF/multiome/log/2024-09-172_PeaksReformat.log'"
      ],
      "text/plain": [
       "[1] \"/nfs/lab/projects/mega_heart/CAREHF/multiome/log/2024-09-172_PeaksReformat.log\""
      ]
     },
     "metadata": {},
     "output_type": "display_data"
    }
   ],
   "source": [
    "log_open(log.file)"
   ]
  },
  {
   "cell_type": "markdown",
   "id": "de7bd23e",
   "metadata": {},
   "source": [
    "# Load peak list"
   ]
  },
  {
   "cell_type": "code",
   "execution_count": 8,
   "id": "e70435e3",
   "metadata": {},
   "outputs": [
    {
     "data": {
      "text/plain": [
       "GRanges object with 285873 ranges and 0 metadata columns:\n",
       "           seqnames              ranges strand\n",
       "              <Rle>           <IRanges>  <Rle>\n",
       "       [1]     chr1       181260-181560      *\n",
       "       [2]     chr1       191308-191608      *\n",
       "       [3]     chr1       779626-779926      *\n",
       "       [4]     chr1       807726-808026      *\n",
       "       [5]     chr1       818649-818949      *\n",
       "       ...      ...                 ...    ...\n",
       "  [285869]     chr9   95784035-95784234      *\n",
       "  [285870]     chr9 135804950-135805250      *\n",
       "  [285871]     chrX       338438-338682      *\n",
       "  [285872]     chrX   47573934-47574234      *\n",
       "  [285873]     chrX   68652886-68653186      *\n",
       "  -------\n",
       "  seqinfo: 24 sequences from an unspecified genome; no seqlengths"
      ]
     },
     "metadata": {},
     "output_type": "display_data"
    }
   ],
   "source": [
    "file = \"/nfs/lab/projects/mega_heart/FNIH/multiome/Analysis/1_preprocessing/PeakCalling/2_PeaksMap_Peakcalls/unified_peaks/FNIH_MultiomePeaks_FiltVariable.bed\"\n",
    "peaks = read.table(file)\n",
    "peaks = peaks$V1\n",
    "peaks = StringToGRanges(peaks, sep = c(\":\", \"-\"))\n",
    "peaks"
   ]
  },
  {
   "cell_type": "markdown",
   "id": "a1c60a42",
   "metadata": {},
   "source": [
    "# Create ATAC_counts from feature matrix"
   ]
  },
  {
   "cell_type": "code",
   "execution_count": 9,
   "id": "776eb9d3",
   "metadata": {},
   "outputs": [],
   "source": [
    "# Load sample info\n",
    "sample.info = read.table(paste(assets.dir, \"sample.info\", sep = \"\"), sep = \"\\t\", header = TRUE)"
   ]
  },
  {
   "cell_type": "code",
   "execution_count": 10,
   "id": "caa5e6de",
   "metadata": {},
   "outputs": [
    {
     "data": {
      "text/html": [
       "<table class=\"dataframe\">\n",
       "<caption>A data.frame: 2 × 4</caption>\n",
       "<thead>\n",
       "\t<tr><th></th><th scope=col>ID</th><th scope=col>Chamber</th><th scope=col>Donor</th><th scope=col>CellRanger</th></tr>\n",
       "\t<tr><th></th><th scope=col>&lt;chr&gt;</th><th scope=col>&lt;chr&gt;</th><th scope=col>&lt;chr&gt;</th><th scope=col>&lt;chr&gt;</th></tr>\n",
       "</thead>\n",
       "<tbody>\n",
       "\t<tr><th scope=row>1</th><td>KA_49_1_2_KA_45_1_2    </td><td>LA</td><td>HF3</td><td>/nfs/lab/projects/CARE_HF/DATA/multiome/</td></tr>\n",
       "\t<tr><th scope=row>2</th><td>QY_1880_1_2_QY_1879_1_2</td><td>LA</td><td>D9 </td><td>/nfs/lab/projects/CARE_HF/DATA/multiome/</td></tr>\n",
       "</tbody>\n",
       "</table>\n"
      ],
      "text/latex": [
       "A data.frame: 2 × 4\n",
       "\\begin{tabular}{r|llll}\n",
       "  & ID & Chamber & Donor & CellRanger\\\\\n",
       "  & <chr> & <chr> & <chr> & <chr>\\\\\n",
       "\\hline\n",
       "\t1 & KA\\_49\\_1\\_2\\_KA\\_45\\_1\\_2     & LA & HF3 & /nfs/lab/projects/CARE\\_HF/DATA/multiome/\\\\\n",
       "\t2 & QY\\_1880\\_1\\_2\\_QY\\_1879\\_1\\_2 & LA & D9  & /nfs/lab/projects/CARE\\_HF/DATA/multiome/\\\\\n",
       "\\end{tabular}\n"
      ],
      "text/markdown": [
       "\n",
       "A data.frame: 2 × 4\n",
       "\n",
       "| <!--/--> | ID &lt;chr&gt; | Chamber &lt;chr&gt; | Donor &lt;chr&gt; | CellRanger &lt;chr&gt; |\n",
       "|---|---|---|---|---|\n",
       "| 1 | KA_49_1_2_KA_45_1_2     | LA | HF3 | /nfs/lab/projects/CARE_HF/DATA/multiome/ |\n",
       "| 2 | QY_1880_1_2_QY_1879_1_2 | LA | D9  | /nfs/lab/projects/CARE_HF/DATA/multiome/ |\n",
       "\n"
      ],
      "text/plain": [
       "  ID                      Chamber Donor\n",
       "1 KA_49_1_2_KA_45_1_2     LA      HF3  \n",
       "2 QY_1880_1_2_QY_1879_1_2 LA      D9   \n",
       "  CellRanger                              \n",
       "1 /nfs/lab/projects/CARE_HF/DATA/multiome/\n",
       "2 /nfs/lab/projects/CARE_HF/DATA/multiome/"
      ]
     },
     "metadata": {},
     "output_type": "display_data"
    },
    {
     "data": {
      "text/html": [
       "36"
      ],
      "text/latex": [
       "36"
      ],
      "text/markdown": [
       "36"
      ],
      "text/plain": [
       "[1] 36"
      ]
     },
     "metadata": {},
     "output_type": "display_data"
    }
   ],
   "source": [
    "head(sample.info, n=2)\n",
    "nrow(sample.info)"
   ]
  },
  {
   "cell_type": "code",
   "execution_count": 11,
   "id": "a9e0092d",
   "metadata": {},
   "outputs": [
    {
     "data": {
      "text/html": [
       "'KA_49_1_2_KA_45_1_2'"
      ],
      "text/latex": [
       "'KA\\_49\\_1\\_2\\_KA\\_45\\_1\\_2'"
      ],
      "text/markdown": [
       "'KA_49_1_2_KA_45_1_2'"
      ],
      "text/plain": [
       "[1] \"KA_49_1_2_KA_45_1_2\""
      ]
     },
     "metadata": {},
     "output_type": "display_data"
    }
   ],
   "source": [
    "# Build variables\n",
    "sample.ls = sample.info$ID\n",
    "\n",
    "# Check the paths r right\n",
    "sample.ls[1]"
   ]
  },
  {
   "cell_type": "code",
   "execution_count": 12,
   "id": "48e50b4b",
   "metadata": {
    "scrolled": true
   },
   "outputs": [
    {
     "name": "stdout",
     "output_type": "stream",
     "text": [
      "[1] \"Processing sample:  KA_49_1_2_KA_45_1_2\"\n",
      "[1] \"Creating LFM\"\n"
     ]
    },
    {
     "name": "stderr",
     "output_type": "stream",
     "text": [
      "Extracting reads overlapping genomic regions\n",
      "\n"
     ]
    },
    {
     "name": "stdout",
     "output_type": "stream",
     "text": [
      "[1] \"Creating chrom_assay\"\n",
      "[1] \"Replace with old ATAC assay\"\n",
      "[1] \"Saving\"\n",
      "[1] \"Processing sample:  QY_1880_1_2_QY_1879_1_2\"\n",
      "[1] \"Creating LFM\"\n"
     ]
    },
    {
     "name": "stderr",
     "output_type": "stream",
     "text": [
      "Extracting reads overlapping genomic regions\n",
      "\n"
     ]
    },
    {
     "name": "stdout",
     "output_type": "stream",
     "text": [
      "[1] \"Creating chrom_assay\"\n",
      "[1] \"Replace with old ATAC assay\"\n",
      "[1] \"Saving\"\n",
      "[1] \"Processing sample:  QY_1882_1_2_QY_1881_1_2\"\n",
      "[1] \"Creating LFM\"\n"
     ]
    },
    {
     "name": "stderr",
     "output_type": "stream",
     "text": [
      "Extracting reads overlapping genomic regions\n",
      "\n"
     ]
    },
    {
     "name": "stdout",
     "output_type": "stream",
     "text": [
      "[1] \"Creating chrom_assay\"\n",
      "[1] \"Replace with old ATAC assay\"\n",
      "[1] \"Saving\"\n",
      "[1] \"Processing sample:  QY_1920_1_2_QY_1919_1_2\"\n",
      "[1] \"Creating LFM\"\n"
     ]
    },
    {
     "name": "stderr",
     "output_type": "stream",
     "text": [
      "Extracting reads overlapping genomic regions\n",
      "\n"
     ]
    },
    {
     "name": "stdout",
     "output_type": "stream",
     "text": [
      "[1] \"Creating chrom_assay\"\n",
      "[1] \"Replace with old ATAC assay\"\n",
      "[1] \"Saving\"\n",
      "[1] \"Processing sample:  QY_1971_1_2_QY_1970_1_2\"\n",
      "[1] \"Creating LFM\"\n"
     ]
    },
    {
     "name": "stderr",
     "output_type": "stream",
     "text": [
      "Extracting reads overlapping genomic regions\n",
      "\n"
     ]
    },
    {
     "name": "stdout",
     "output_type": "stream",
     "text": [
      "[1] \"Creating chrom_assay\"\n",
      "[1] \"Replace with old ATAC assay\"\n",
      "[1] \"Saving\"\n",
      "[1] \"Processing sample:  QY_2015_1_2_QY_2014_1_2\"\n",
      "[1] \"Creating LFM\"\n"
     ]
    },
    {
     "name": "stderr",
     "output_type": "stream",
     "text": [
      "Extracting reads overlapping genomic regions\n",
      "\n"
     ]
    },
    {
     "name": "stdout",
     "output_type": "stream",
     "text": [
      "[1] \"Creating chrom_assay\"\n",
      "[1] \"Replace with old ATAC assay\"\n",
      "[1] \"Saving\"\n",
      "[1] \"Processing sample:  QY_2039_1_2_QY_2038_1_2\"\n",
      "[1] \"Creating LFM\"\n"
     ]
    },
    {
     "name": "stderr",
     "output_type": "stream",
     "text": [
      "Extracting reads overlapping genomic regions\n",
      "\n"
     ]
    },
    {
     "name": "stdout",
     "output_type": "stream",
     "text": [
      "[1] \"Creating chrom_assay\"\n",
      "[1] \"Replace with old ATAC assay\"\n",
      "[1] \"Saving\"\n",
      "[1] \"Processing sample:  QY_2047_1_2_QY_2046_1_2\"\n",
      "[1] \"Creating LFM\"\n"
     ]
    },
    {
     "name": "stderr",
     "output_type": "stream",
     "text": [
      "Extracting reads overlapping genomic regions\n",
      "\n"
     ]
    },
    {
     "name": "stdout",
     "output_type": "stream",
     "text": [
      "[1] \"Creating chrom_assay\"\n",
      "[1] \"Replace with old ATAC assay\"\n",
      "[1] \"Saving\"\n",
      "[1] \"Processing sample:  QY_2051_1_2_QY_2050_1_2\"\n",
      "[1] \"Creating LFM\"\n"
     ]
    },
    {
     "name": "stderr",
     "output_type": "stream",
     "text": [
      "Extracting reads overlapping genomic regions\n",
      "\n"
     ]
    },
    {
     "name": "stdout",
     "output_type": "stream",
     "text": [
      "[1] \"Creating chrom_assay\"\n",
      "[1] \"Replace with old ATAC assay\"\n",
      "[1] \"Saving\"\n",
      "[1] \"Processing sample:  JB_631_1_2_JB_627_1_2\"\n",
      "[1] \"Creating LFM\"\n"
     ]
    },
    {
     "name": "stderr",
     "output_type": "stream",
     "text": [
      "Extracting reads overlapping genomic regions\n",
      "\n"
     ]
    },
    {
     "name": "stdout",
     "output_type": "stream",
     "text": [
      "[1] \"Creating chrom_assay\"\n",
      "[1] \"Replace with old ATAC assay\"\n",
      "[1] \"Saving\"\n",
      "[1] \"Processing sample:  JB_632_1_2_JB_628_1_2\"\n",
      "[1] \"Creating LFM\"\n"
     ]
    },
    {
     "name": "stderr",
     "output_type": "stream",
     "text": [
      "Extracting reads overlapping genomic regions\n",
      "\n"
     ]
    },
    {
     "name": "stdout",
     "output_type": "stream",
     "text": [
      "[1] \"Creating chrom_assay\"\n",
      "[1] \"Replace with old ATAC assay\"\n",
      "[1] \"Saving\"\n",
      "[1] \"Processing sample:  JB_633_1_2_JB_629_1_2\"\n",
      "[1] \"Creating LFM\"\n"
     ]
    },
    {
     "name": "stderr",
     "output_type": "stream",
     "text": [
      "Extracting reads overlapping genomic regions\n",
      "\n"
     ]
    },
    {
     "name": "stdout",
     "output_type": "stream",
     "text": [
      "[1] \"Creating chrom_assay\"\n",
      "[1] \"Replace with old ATAC assay\"\n",
      "[1] \"Saving\"\n",
      "[1] \"Processing sample:  JB_634_1_2_3_JB_630_1_2_3\"\n",
      "[1] \"Creating LFM\"\n"
     ]
    },
    {
     "name": "stderr",
     "output_type": "stream",
     "text": [
      "Extracting reads overlapping genomic regions\n",
      "\n"
     ]
    },
    {
     "name": "stdout",
     "output_type": "stream",
     "text": [
      "[1] \"Creating chrom_assay\"\n",
      "[1] \"Replace with old ATAC assay\"\n",
      "[1] \"Saving\"\n",
      "[1] \"Processing sample:  MM_507_1_2_MM_512_1_2\"\n",
      "[1] \"Creating LFM\"\n"
     ]
    },
    {
     "name": "stderr",
     "output_type": "stream",
     "text": [
      "Extracting reads overlapping genomic regions\n",
      "\n"
     ]
    },
    {
     "name": "stdout",
     "output_type": "stream",
     "text": [
      "[1] \"Creating chrom_assay\"\n",
      "[1] \"Replace with old ATAC assay\"\n",
      "[1] \"Saving\"\n",
      "[1] \"Processing sample:  QY_1856_1_2_QY_1855_1_2\"\n",
      "[1] \"Creating LFM\"\n"
     ]
    },
    {
     "name": "stderr",
     "output_type": "stream",
     "text": [
      "Extracting reads overlapping genomic regions\n",
      "\n"
     ]
    },
    {
     "name": "stdout",
     "output_type": "stream",
     "text": [
      "[1] \"Creating chrom_assay\"\n",
      "[1] \"Replace with old ATAC assay\"\n",
      "[1] \"Saving\"\n",
      "[1] \"Processing sample:  QY_1854_1_2_QY_1853_1_2\"\n",
      "[1] \"Creating LFM\"\n"
     ]
    },
    {
     "name": "stderr",
     "output_type": "stream",
     "text": [
      "Extracting reads overlapping genomic regions\n",
      "\n"
     ]
    },
    {
     "name": "stdout",
     "output_type": "stream",
     "text": [
      "[1] \"Creating chrom_assay\"\n",
      "[1] \"Replace with old ATAC assay\"\n",
      "[1] \"Saving\"\n",
      "[1] \"Processing sample:  QY_1858_1_2_QY_1857_1_2\"\n",
      "[1] \"Creating LFM\"\n"
     ]
    },
    {
     "name": "stderr",
     "output_type": "stream",
     "text": [
      "Extracting reads overlapping genomic regions\n",
      "\n"
     ]
    },
    {
     "name": "stdout",
     "output_type": "stream",
     "text": [
      "[1] \"Creating chrom_assay\"\n",
      "[1] \"Replace with old ATAC assay\"\n",
      "[1] \"Saving\"\n",
      "[1] \"Processing sample:  QY_1860_1_2_QY_1859_1_2\"\n",
      "[1] \"Creating LFM\"\n"
     ]
    },
    {
     "name": "stderr",
     "output_type": "stream",
     "text": [
      "Extracting reads overlapping genomic regions\n",
      "\n"
     ]
    },
    {
     "name": "stdout",
     "output_type": "stream",
     "text": [
      "[1] \"Creating chrom_assay\"\n",
      "[1] \"Replace with old ATAC assay\"\n",
      "[1] \"Saving\"\n",
      "[1] \"Processing sample:  KA_47_1_2_KA_43_1_2\"\n",
      "[1] \"Creating LFM\"\n"
     ]
    },
    {
     "name": "stderr",
     "output_type": "stream",
     "text": [
      "Extracting reads overlapping genomic regions\n",
      "\n"
     ]
    },
    {
     "name": "stdout",
     "output_type": "stream",
     "text": [
      "[1] \"Creating chrom_assay\"\n",
      "[1] \"Replace with old ATAC assay\"\n",
      "[1] \"Saving\"\n",
      "[1] \"Processing sample:  KA_50_1_2_KA_46_1_2\"\n",
      "[1] \"Creating LFM\"\n"
     ]
    },
    {
     "name": "stderr",
     "output_type": "stream",
     "text": [
      "Extracting reads overlapping genomic regions\n",
      "\n"
     ]
    },
    {
     "name": "stdout",
     "output_type": "stream",
     "text": [
      "[1] \"Creating chrom_assay\"\n",
      "[1] \"Replace with old ATAC assay\"\n",
      "[1] \"Saving\"\n",
      "[1] \"Processing sample:  QY_1886_1_2_QY_1885_1_2\"\n",
      "[1] \"Creating LFM\"\n"
     ]
    },
    {
     "name": "stderr",
     "output_type": "stream",
     "text": [
      "Extracting reads overlapping genomic regions\n",
      "\n"
     ]
    },
    {
     "name": "stdout",
     "output_type": "stream",
     "text": [
      "[1] \"Creating chrom_assay\"\n",
      "[1] \"Replace with old ATAC assay\"\n",
      "[1] \"Saving\"\n",
      "[1] \"Processing sample:  QY_1914_1_2_QY_1913_1_2\"\n",
      "[1] \"Creating LFM\"\n"
     ]
    },
    {
     "name": "stderr",
     "output_type": "stream",
     "text": [
      "Extracting reads overlapping genomic regions\n",
      "\n"
     ]
    },
    {
     "name": "stdout",
     "output_type": "stream",
     "text": [
      "[1] \"Creating chrom_assay\"\n",
      "[1] \"Replace with old ATAC assay\"\n",
      "[1] \"Saving\"\n",
      "[1] \"Processing sample:  QY_1916_1_2_QY_1915_1_2\"\n",
      "[1] \"Creating LFM\"\n"
     ]
    },
    {
     "name": "stderr",
     "output_type": "stream",
     "text": [
      "Extracting reads overlapping genomic regions\n",
      "\n"
     ]
    },
    {
     "name": "stdout",
     "output_type": "stream",
     "text": [
      "[1] \"Creating chrom_assay\"\n",
      "[1] \"Replace with old ATAC assay\"\n",
      "[1] \"Saving\"\n",
      "[1] \"Processing sample:  QY_1969_1_2_QY_1968_1_2\"\n",
      "[1] \"Creating LFM\"\n"
     ]
    },
    {
     "name": "stderr",
     "output_type": "stream",
     "text": [
      "Extracting reads overlapping genomic regions\n",
      "\n"
     ]
    },
    {
     "name": "stdout",
     "output_type": "stream",
     "text": [
      "[1] \"Creating chrom_assay\"\n",
      "[1] \"Replace with old ATAC assay\"\n",
      "[1] \"Saving\"\n",
      "[1] \"Processing sample:  QY_2019_1_2_QY_2018_1_2\"\n",
      "[1] \"Creating LFM\"\n"
     ]
    },
    {
     "name": "stderr",
     "output_type": "stream",
     "text": [
      "Extracting reads overlapping genomic regions\n",
      "\n"
     ]
    },
    {
     "name": "stdout",
     "output_type": "stream",
     "text": [
      "[1] \"Creating chrom_assay\"\n",
      "[1] \"Replace with old ATAC assay\"\n",
      "[1] \"Saving\"\n",
      "[1] \"Processing sample:  QY_2045_1_2_QY_2044_1_2\"\n",
      "[1] \"Creating LFM\"\n"
     ]
    },
    {
     "name": "stderr",
     "output_type": "stream",
     "text": [
      "Extracting reads overlapping genomic regions\n",
      "\n"
     ]
    },
    {
     "name": "stdout",
     "output_type": "stream",
     "text": [
      "[1] \"Creating chrom_assay\"\n",
      "[1] \"Replace with old ATAC assay\"\n",
      "[1] \"Saving\"\n",
      "[1] \"Processing sample:  QY_2049_1_2_QY_2048_1_2\"\n",
      "[1] \"Creating LFM\"\n"
     ]
    },
    {
     "name": "stderr",
     "output_type": "stream",
     "text": [
      "Extracting reads overlapping genomic regions\n",
      "\n"
     ]
    },
    {
     "name": "stdout",
     "output_type": "stream",
     "text": [
      "[1] \"Creating chrom_assay\"\n",
      "[1] \"Replace with old ATAC assay\"\n",
      "[1] \"Saving\"\n",
      "[1] \"Processing sample:  KA_48_1_2_KA_44_1_2\"\n",
      "[1] \"Creating LFM\"\n"
     ]
    },
    {
     "name": "stderr",
     "output_type": "stream",
     "text": [
      "Extracting reads overlapping genomic regions\n",
      "\n"
     ]
    },
    {
     "name": "stdout",
     "output_type": "stream",
     "text": [
      "[1] \"Creating chrom_assay\"\n",
      "[1] \"Replace with old ATAC assay\"\n",
      "[1] \"Saving\"\n",
      "[1] \"Processing sample:  QY_1922_1_2_QY_1921_1_2\"\n",
      "[1] \"Creating LFM\"\n"
     ]
    },
    {
     "name": "stderr",
     "output_type": "stream",
     "text": [
      "Extracting reads overlapping genomic regions\n",
      "\n"
     ]
    },
    {
     "name": "stdout",
     "output_type": "stream",
     "text": [
      "[1] \"Creating chrom_assay\"\n",
      "[1] \"Replace with old ATAC assay\"\n",
      "[1] \"Saving\"\n",
      "[1] \"Processing sample:  QY_1924_1_2_QY_1923_1_2\"\n",
      "[1] \"Creating LFM\"\n"
     ]
    },
    {
     "name": "stderr",
     "output_type": "stream",
     "text": [
      "Extracting reads overlapping genomic regions\n",
      "\n"
     ]
    },
    {
     "name": "stdout",
     "output_type": "stream",
     "text": [
      "[1] \"Creating chrom_assay\"\n",
      "[1] \"Replace with old ATAC assay\"\n",
      "[1] \"Saving\"\n",
      "[1] \"Processing sample:  QY_1967_1_2_QY_1966_1_2\"\n",
      "[1] \"Creating LFM\"\n"
     ]
    },
    {
     "name": "stderr",
     "output_type": "stream",
     "text": [
      "Extracting reads overlapping genomic regions\n",
      "\n"
     ]
    },
    {
     "name": "stdout",
     "output_type": "stream",
     "text": [
      "[1] \"Creating chrom_assay\"\n",
      "[1] \"Replace with old ATAC assay\"\n",
      "[1] \"Saving\"\n",
      "[1] \"Processing sample:  QY_1973_1_2_QY_1972_1_2\"\n",
      "[1] \"Creating LFM\"\n"
     ]
    },
    {
     "name": "stderr",
     "output_type": "stream",
     "text": [
      "Extracting reads overlapping genomic regions\n",
      "\n"
     ]
    },
    {
     "name": "stdout",
     "output_type": "stream",
     "text": [
      "[1] \"Creating chrom_assay\"\n",
      "[1] \"Replace with old ATAC assay\"\n",
      "[1] \"Saving\"\n",
      "[1] \"Processing sample:  QY_2017_1_2_QY_2016_1_2\"\n",
      "[1] \"Creating LFM\"\n"
     ]
    },
    {
     "name": "stderr",
     "output_type": "stream",
     "text": [
      "Extracting reads overlapping genomic regions\n",
      "\n"
     ]
    },
    {
     "name": "stdout",
     "output_type": "stream",
     "text": [
      "[1] \"Creating chrom_assay\"\n",
      "[1] \"Replace with old ATAC assay\"\n",
      "[1] \"Saving\"\n",
      "[1] \"Processing sample:  QY_2041_1_2_QY_2040_1_2\"\n",
      "[1] \"Creating LFM\"\n"
     ]
    },
    {
     "name": "stderr",
     "output_type": "stream",
     "text": [
      "Extracting reads overlapping genomic regions\n",
      "\n"
     ]
    },
    {
     "name": "stdout",
     "output_type": "stream",
     "text": [
      "[1] \"Creating chrom_assay\"\n",
      "[1] \"Replace with old ATAC assay\"\n",
      "[1] \"Saving\"\n",
      "[1] \"Processing sample:  QY_2043_1_2_QY_2042_1_2\"\n",
      "[1] \"Creating LFM\"\n"
     ]
    },
    {
     "name": "stderr",
     "output_type": "stream",
     "text": [
      "Extracting reads overlapping genomic regions\n",
      "\n"
     ]
    },
    {
     "name": "stdout",
     "output_type": "stream",
     "text": [
      "[1] \"Creating chrom_assay\"\n",
      "[1] \"Replace with old ATAC assay\"\n",
      "[1] \"Saving\"\n",
      "[1] \"Processing sample:  QY_2053_1_2_QY_2052_1_2\"\n",
      "[1] \"Creating LFM\"\n"
     ]
    },
    {
     "name": "stderr",
     "output_type": "stream",
     "text": [
      "Extracting reads overlapping genomic regions\n",
      "\n"
     ]
    },
    {
     "name": "stdout",
     "output_type": "stream",
     "text": [
      "[1] \"Creating chrom_assay\"\n",
      "[1] \"Replace with old ATAC assay\"\n",
      "[1] \"Saving\"\n"
     ]
    }
   ],
   "source": [
    "for (i in seq_along(sample.ls)){\n",
    "    sample = sample.ls[i]\n",
    "    gc(reset = TRUE)\n",
    "    # Set sample variable\n",
    "    log_print(paste(\"Processing sample: \", sample))\n",
    "    adata = readRDS(paste(step1.dir, sample, \"_pre.filt.rds\", sep = \"\"))\n",
    "    log_print(paste(\"Creating LFM\"))\n",
    "    # Create a peak/cell count matrix\n",
    "    atac_counts <- FeatureMatrix(fragments = adata@assays$ATAC@fragments,\n",
    "                                 features = peaks,\n",
    "                                 cells = colnames(adata@assays$ATAC))\n",
    "    # Create adata.python\n",
    "    log_print(paste(\"Creating chrom_assay\"))\n",
    "    suppressWarnings(chrom_assay <- CreateChromatinAssay(counts=atac_counts,\n",
    "                                                         sep=c(':', '-'),\n",
    "                                                         genome= seq.info,\n",
    "                                                         fragments = adata@assays$ATAC@fragments,\n",
    "                                                         min.cells=0,\n",
    "                                                         min.features=0,\n",
    "                                                         annotation=annotations))\n",
    "    log_print(paste(\"Replace with old ATAC assay\"))\n",
    "    DefaultAssay(adata) <- 'RNA'\n",
    "    adata[['ATAC']] <- NULL\n",
    "    adata[['ATAC']] <- chrom_assay\n",
    "    log_print(paste(\"Saving\"))\n",
    "    saveRDS(adata, paste(step2.dir, sample, \"_pre.filt.peaks.rds\", sep = \"\"))\n",
    "}"
   ]
  },
  {
   "cell_type": "code",
   "execution_count": null,
   "id": "beb20506",
   "metadata": {},
   "outputs": [],
   "source": []
  }
 ],
 "metadata": {
  "kernelspec": {
   "display_name": "Main_R_4.3",
   "language": "R",
   "name": "irs5"
  },
  "language_info": {
   "codemirror_mode": "r",
   "file_extension": ".r",
   "mimetype": "text/x-r-source",
   "name": "R",
   "pygments_lexer": "r",
   "version": "4.3.2"
  },
  "toc": {
   "base_numbering": 1,
   "nav_menu": {},
   "number_sections": true,
   "sideBar": true,
   "skip_h1_title": false,
   "title_cell": "Table of Contents",
   "title_sidebar": "Contents",
   "toc_cell": false,
   "toc_position": {},
   "toc_section_display": true,
   "toc_window_display": false
  }
 },
 "nbformat": 4,
 "nbformat_minor": 5
}
