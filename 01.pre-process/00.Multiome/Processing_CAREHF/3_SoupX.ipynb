{
 "cells": [
  {
   "cell_type": "markdown",
   "metadata": {},
   "source": [
    "# Settings"
   ]
  },
  {
   "cell_type": "code",
   "execution_count": 1,
   "metadata": {},
   "outputs": [
    {
     "data": {
      "text/html": [
       "TRUE"
      ],
      "text/latex": [
       "TRUE"
      ],
      "text/markdown": [
       "TRUE"
      ],
      "text/plain": [
       "[1] TRUE"
      ]
     },
     "metadata": {},
     "output_type": "display_data"
    },
    {
     "data": {
      "text/plain": [
       "Module(anndata)"
      ]
     },
     "metadata": {},
     "output_type": "display_data"
    },
    {
     "data": {
      "text/html": [
       "TRUE"
      ],
      "text/latex": [
       "TRUE"
      ],
      "text/markdown": [
       "TRUE"
      ],
      "text/plain": [
       "[1] TRUE"
      ]
     },
     "metadata": {},
     "output_type": "display_data"
    },
    {
     "data": {
      "text/plain": [
       "Module(leidenalg)"
      ]
     },
     "metadata": {},
     "output_type": "display_data"
    }
   ],
   "source": [
    "# Load Reticulate function\n",
    "Sys.setenv(RETICULATE_PYTHON=\"/home/luca/anaconda3/envs/reticulate/bin/python\")\n",
    "library(reticulate)\n",
    "reticulate::use_python(\"/home/luca/anaconda3/envs/reticulate/bin/python\")\n",
    "reticulate::use_condaenv(\"/home/luca/anaconda3/envs/reticulate\")\n",
    "reticulate::py_module_available(module='anndata') #needs to be TRUE\n",
    "reticulate::import('anndata') #good to make sure this doesn't error\n",
    "reticulate::py_module_available(module='leidenalg') #needs to be TRUE\n",
    "reticulate::import('leidenalg') #good to make sure this doesn't error"
   ]
  },
  {
   "cell_type": "code",
   "execution_count": 2,
   "metadata": {},
   "outputs": [],
   "source": [
    "## Patch for annotations in R4.1\n",
    "# BiocManager::install(\"Bioconductor/GenomeInfoDb\",lib = \"/home/luca/R/x86_64-pc-linux-gnu-library/4.1\",force = TRUE)\n",
    "# library(GenomeInfoDb,lib.loc=\"/home/luca/R/x86_64-pc-linux-gnu-library/4.1\")"
   ]
  },
  {
   "cell_type": "code",
   "execution_count": 3,
   "metadata": {},
   "outputs": [],
   "source": [
    "# Load packages\n",
    "pacman::p_load(dplyr, stringr, data.table, tidyr, data.table, Matrix,\n",
    "               hdf5r, Seurat, Signac,harmony, knitr, SoupX,\n",
    "               EnsDb.Hsapiens.v86, \n",
    "               logr, parallel, \n",
    "               ggplot2, ggpubr, ggrepel, ggbreak, gridExtra,grid, ggh4x)"
   ]
  },
  {
   "cell_type": "code",
   "execution_count": 4,
   "metadata": {
    "scrolled": true
   },
   "outputs": [],
   "source": [
    "# Load genome\n",
    "#suppressMessages(annotations <- GetGRangesFromEnsDb(ensdb=EnsDb.Hsapiens.v86))\n",
    "#genome(annotations) <- 'hg38'\n",
    "#seqlevelsStyle(annotations) <- 'UCSC'\n",
    "# Save table\n",
    "# writeRDS(annotations, \"/nfs/lab/Luca/Assets/references/Cellranger/hg38.annotations.rds\")\n",
    "\n",
    "# Load table\n",
    "annotations = readRDS(\"/nfs/lab/Luca/Assets/references/Cellranger/hg38.annotations.rds\")\n",
    "seqlevelsStyle(annotations) <- 'UCSC'\n",
    "genome(annotations) <- 'hg38'\n",
    "\n",
    "# Seq info downloaded from: https://github.com/broadinstitute/ichorCNA/issues/84\n",
    "seq.info = readRDS(\"/nfs/lab/Luca/Assets/references/Cellranger/seqinfo_hg38_ucsc.rds\")"
   ]
  },
  {
   "cell_type": "code",
   "execution_count": 5,
   "metadata": {},
   "outputs": [],
   "source": [
    "# Set options\n",
    "options(stringsAsFactors = FALSE)\n",
    "warnLevel <- getOption('warn')\n",
    "options(warn = -1)\n",
    "opts_chunk$set(tidy=TRUE)"
   ]
  },
  {
   "cell_type": "code",
   "execution_count": 6,
   "metadata": {},
   "outputs": [],
   "source": [
    "# Set directories\n",
    "base.dir = \"/nfs/lab/projects/mega_heart/CAREHF/multiome/\"\n",
    "assets.dir = \"/nfs/lab/projects/mega_heart/CAREHF/multiome/Assets/\"\n",
    "\n",
    "cell.ranger.dir = \"/nfs/lab/projects/mega_heart/CAREHF/multiome/cellranger.symlinks/\"\n",
    "\n",
    "step1.dir = \"/nfs/lab/projects/mega_heart/CAREHF/multiome/Analysys/1_preprocessing/\"\n",
    "step2.dir = \"/nfs/lab/projects/mega_heart/CAREHF/multiome/Analysys/2_PeaksReformat/\"\n",
    "step3.dir = \"/nfs/lab/projects/mega_heart/CAREHF/multiome/Analysys/3_SoupX/\"\n",
    "\n",
    "log.dir = \"/nfs/lab/projects/mega_heart/CAREHF/multiome/log/\""
   ]
  },
  {
   "cell_type": "code",
   "execution_count": 7,
   "metadata": {},
   "outputs": [],
   "source": [
    "# start log\n",
    "options(\"logr.on\" = TRUE, \"logr.notes\" = TRUE)\n",
    "options(\"logr.autolog\" = TRUE)\n",
    "options(\"logr.compact\" = TRUE)\n",
    "options(\"logr.traceback\" = TRUE)\n",
    "log.file = paste(base.dir, Sys.Date(),\".3_SoupX.log\", sep=\"\")"
   ]
  },
  {
   "cell_type": "code",
   "execution_count": 8,
   "metadata": {
    "scrolled": true
   },
   "outputs": [
    {
     "data": {
      "text/html": [
       "'/nfs/lab/projects/mega_heart/CAREHF/multiome/log/2024-09-17.3_SoupX.log'"
      ],
      "text/latex": [
       "'/nfs/lab/projects/mega\\_heart/CAREHF/multiome/log/2024-09-17.3\\_SoupX.log'"
      ],
      "text/markdown": [
       "'/nfs/lab/projects/mega_heart/CAREHF/multiome/log/2024-09-17.3_SoupX.log'"
      ],
      "text/plain": [
       "[1] \"/nfs/lab/projects/mega_heart/CAREHF/multiome/log/2024-09-17.3_SoupX.log\""
      ]
     },
     "metadata": {},
     "output_type": "display_data"
    }
   ],
   "source": [
    "log_open(log.file)"
   ]
  },
  {
   "cell_type": "markdown",
   "metadata": {},
   "source": [
    "# Load sample list"
   ]
  },
  {
   "cell_type": "code",
   "execution_count": 9,
   "metadata": {},
   "outputs": [
    {
     "data": {
      "text/html": [
       "'KA_49_1_2_KA_45_1_2'"
      ],
      "text/latex": [
       "'KA\\_49\\_1\\_2\\_KA\\_45\\_1\\_2'"
      ],
      "text/markdown": [
       "'KA_49_1_2_KA_45_1_2'"
      ],
      "text/plain": [
       "[1] \"KA_49_1_2_KA_45_1_2\""
      ]
     },
     "metadata": {},
     "output_type": "display_data"
    },
    {
     "data": {
      "text/html": [
       "'/nfs/lab/projects/CARE_HF/DATA/multiome/LA/KA_49_1_2_KA_45_1_2/outs/'"
      ],
      "text/latex": [
       "'/nfs/lab/projects/CARE\\_HF/DATA/multiome/LA/KA\\_49\\_1\\_2\\_KA\\_45\\_1\\_2/outs/'"
      ],
      "text/markdown": [
       "'/nfs/lab/projects/CARE_HF/DATA/multiome/LA/KA_49_1_2_KA_45_1_2/outs/'"
      ],
      "text/plain": [
       "[1] \"/nfs/lab/projects/CARE_HF/DATA/multiome/LA/KA_49_1_2_KA_45_1_2/outs/\""
      ]
     },
     "metadata": {},
     "output_type": "display_data"
    },
    {
     "data": {
      "text/html": [
       "36"
      ],
      "text/latex": [
       "36"
      ],
      "text/markdown": [
       "36"
      ],
      "text/plain": [
       "[1] 36"
      ]
     },
     "metadata": {},
     "output_type": "display_data"
    }
   ],
   "source": [
    "# Load sample info\n",
    "sample.info = read.table(paste(assets.dir, \"sample.info\", sep = \"\"), sep = \"\\t\", header = TRUE)\n",
    "# Build variables\n",
    "sample.ls = sample.info$ID\n",
    "cellranger.outs.ls = paste0(sample.info$CellRanger,\n",
    "                            sample.info$Chamber, \"/\",\n",
    "                            sample.info$ID, \"/outs/\")\n",
    "\n",
    "# Check the paths r right\n",
    "sample.ls[1]\n",
    "cellranger.outs.ls[1]\n",
    "length(sample.ls)"
   ]
  },
  {
   "cell_type": "code",
   "execution_count": 10,
   "metadata": {},
   "outputs": [
    {
     "data": {
      "text/html": [
       "<table class=\"dataframe\">\n",
       "<caption>A data.frame: 2 × 4</caption>\n",
       "<thead>\n",
       "\t<tr><th></th><th scope=col>ID</th><th scope=col>Chamber</th><th scope=col>Donor</th><th scope=col>CellRanger</th></tr>\n",
       "\t<tr><th></th><th scope=col>&lt;chr&gt;</th><th scope=col>&lt;chr&gt;</th><th scope=col>&lt;chr&gt;</th><th scope=col>&lt;chr&gt;</th></tr>\n",
       "</thead>\n",
       "<tbody>\n",
       "\t<tr><th scope=row>1</th><td>KA_49_1_2_KA_45_1_2    </td><td>LA</td><td>HF3</td><td>/nfs/lab/projects/CARE_HF/DATA/multiome/</td></tr>\n",
       "\t<tr><th scope=row>2</th><td>QY_1880_1_2_QY_1879_1_2</td><td>LA</td><td>D9 </td><td>/nfs/lab/projects/CARE_HF/DATA/multiome/</td></tr>\n",
       "</tbody>\n",
       "</table>\n"
      ],
      "text/latex": [
       "A data.frame: 2 × 4\n",
       "\\begin{tabular}{r|llll}\n",
       "  & ID & Chamber & Donor & CellRanger\\\\\n",
       "  & <chr> & <chr> & <chr> & <chr>\\\\\n",
       "\\hline\n",
       "\t1 & KA\\_49\\_1\\_2\\_KA\\_45\\_1\\_2     & LA & HF3 & /nfs/lab/projects/CARE\\_HF/DATA/multiome/\\\\\n",
       "\t2 & QY\\_1880\\_1\\_2\\_QY\\_1879\\_1\\_2 & LA & D9  & /nfs/lab/projects/CARE\\_HF/DATA/multiome/\\\\\n",
       "\\end{tabular}\n"
      ],
      "text/markdown": [
       "\n",
       "A data.frame: 2 × 4\n",
       "\n",
       "| <!--/--> | ID &lt;chr&gt; | Chamber &lt;chr&gt; | Donor &lt;chr&gt; | CellRanger &lt;chr&gt; |\n",
       "|---|---|---|---|---|\n",
       "| 1 | KA_49_1_2_KA_45_1_2     | LA | HF3 | /nfs/lab/projects/CARE_HF/DATA/multiome/ |\n",
       "| 2 | QY_1880_1_2_QY_1879_1_2 | LA | D9  | /nfs/lab/projects/CARE_HF/DATA/multiome/ |\n",
       "\n"
      ],
      "text/plain": [
       "  ID                      Chamber Donor\n",
       "1 KA_49_1_2_KA_45_1_2     LA      HF3  \n",
       "2 QY_1880_1_2_QY_1879_1_2 LA      D9   \n",
       "  CellRanger                              \n",
       "1 /nfs/lab/projects/CARE_HF/DATA/multiome/\n",
       "2 /nfs/lab/projects/CARE_HF/DATA/multiome/"
      ]
     },
     "metadata": {},
     "output_type": "display_data"
    }
   ],
   "source": [
    "head(sample.info, n=2)"
   ]
  },
  {
   "cell_type": "markdown",
   "metadata": {},
   "source": [
    "# SoupX"
   ]
  },
  {
   "cell_type": "code",
   "execution_count": 11,
   "metadata": {},
   "outputs": [],
   "source": [
    "Run_SoupX <- function(i) {\n",
    "    gc(reset = TRUE)\n",
    "    # Set sample variable\n",
    "    sample = sample.ls[i]\n",
    "    cellranger.dir <- cellranger.outs.ls[i]\n",
    "    log_print(paste(\"Removing doublets via demuxlet of:\", sample))\n",
    "    # Load adata\n",
    "    adata = readRDS(paste(step2.dir, sample, \"_pre.filt.peaks.rds\", sep = \"\"))\n",
    "    #Read in RNA assay counts from filtered seurat object\n",
    "    DefaultAssay(adata) <- 'RNA'\n",
    "    toc = GetAssayData(object = adata, slot = \"counts\") #filtered cells\n",
    "    #Read in raw RNA counts from CellRanger outputs\n",
    "    tod = Seurat::Read10X_h5(file.path(cellranger.dir, 'raw_feature_bc_matrix.h5'))$`Gene Expression`\n",
    "    #Compile necessary metadata (pull out the required metadata from the clustered filtered \n",
    "    #adata object; we need the UMAP coordinates (RD1 and RD2) and the cluster assignments at minimum)\n",
    "    metadata <- (cbind(as.data.frame(adata[[\"umap.wnn\"]]@cell.embeddings),\n",
    "                       as.data.frame(Idents(adata))))\n",
    "    colnames(metadata) <- c(\"RD1\",\"RD2\",\"Cluster\")\n",
    "    log_print(\"Check that TOC and TOD barcodes match\")\n",
    "    #Make sure the metadata BCs match the toc matrix barcodes\n",
    "    log_print(\"Checking all necssary barcode and gene indices match\")\n",
    "    if (FALSE %in% (row.names(metadata) %in% colnames(toc)) == TRUE) {\n",
    "      stop('Not all metadata barcodes found in toc')}\n",
    "    if (FALSE %in% (colnames(toc) %in% row.names(metadata)) == TRUE) {\n",
    "      stop('Not all toc barcodes found in metadata')}\n",
    "\n",
    "    #Make sure the toc and tod indices match\n",
    "    if (FALSE %in% (row.names(tod) %in% row.names(toc)) == TRUE) {\n",
    "      stop(\"Not all tod genes found in toc\")}\n",
    "    if (FALSE %in% (row.names(toc) %in% row.names(tod)) == TRUE) {\n",
    "      stop(\"Not all toc genes found in tod\")}\n",
    "    if (FALSE %in% (row.names(toc) == row.names(tod)) == TRUE) {\n",
    "      stop(\"toc and tod gene indices don't match\")\n",
    "    }\n",
    "    log_print(\"Looks good!\")\n",
    "    \n",
    "    # Create a Soup Channel object and add in the metadata\n",
    "    sc <- SoupChannel(tod,toc)\n",
    "    sc <- setDR(sc,metadata[colnames(sc$toc),c(\"RD1\",\"RD2\")])\n",
    "    sc <- setClusters(sc,setNames(metadata$Cluster,rownames(metadata)))\n",
    "    # Autodetect noise\n",
    "    sc <- autoEstCont(sc)\n",
    "        #Output the estimated percentage of background as a separate file\n",
    "        background <- sc$soupProfile[order(sc$soupProfile$est,decreasing=TRUE),] \n",
    "        write.table(background, paste(step3.dir, sample, \"_SoupX_est_background.csv\", sep = \"\"),\n",
    "                    sep='\\t', col.names = TRUE, row.names = TRUE, quote = FALSE) \n",
    "        # Grab Contamination Fraction\n",
    "        contamination_fraction <- mean(sc$metaData$rho*100)\n",
    "    # round soupX count for downstream\n",
    "    out <- adjustCounts(sc, roundToInt=TRUE)\n",
    "\n",
    "    # Store raw RNA data as another assay (RNA_raw)\n",
    "    DefaultAssay(adata) <- 'RNA'\n",
    "    raw_rna <-  GetAssayData(object = adata, slot = \"counts\")\n",
    "    raw_rna_assay <- CreateAssayObject(counts = raw_rna)\n",
    "    adata[['RNA_raw']] <- raw_rna_assay\n",
    "    DefaultAssay(adata) <- 'RNA_raw'\n",
    "    # Sobstitute RNA assay with soupX correct assay\n",
    "    adata[['RNA']] = NULL\n",
    "    adata[['RNA']] = CreateAssayObject(counts = out)\n",
    "    \n",
    "    ### Save intermediate RDS\n",
    "    file = paste(step3.dir, sample, \"_pre.filt.peaks.SoupX.rds\", sep = \"\")\n",
    "    saveRDS(adata, file = file)  \n",
    "    \n",
    "    # Pile up QC \n",
    "    qc.data$sample = rbind(qc.data$sample, sample)\n",
    "    qc.data$contamination_fraction <- rbind(qc.data$contamination_fraction, contamination_fraction)\n",
    "    return(qc.data)\n",
    "}"
   ]
  },
  {
   "cell_type": "code",
   "execution_count": 12,
   "metadata": {},
   "outputs": [
    {
     "name": "stdout",
     "output_type": "stream",
     "text": [
      "[1] \"Running SoupX\"\n"
     ]
    }
   ],
   "source": [
    "cores <- 4\n",
    "cl <- makeCluster(cores)\n",
    "setDefaultCluster(cl)\n",
    "\n",
    "log_print(paste(\"Running SoupX\"))\n",
    "qc.data.ls = NULL\n",
    "qc.data = NULL\n",
    "# Process samples\n",
    "qc.data.ls = mclapply(1:length(sample.ls), function(i) Run_SoupX(i), mc.cores = cores)"
   ]
  },
  {
   "cell_type": "code",
   "execution_count": 13,
   "metadata": {
    "scrolled": true
   },
   "outputs": [],
   "source": [
    "qc.data <- as.data.frame(do.call(rbind, qc.data.ls))\n",
    "qc.data$contamination_fraction = as.numeric(qc.data$contamination_fraction)\n",
    "# Ensure the sample column is a character vector\n",
    "qc.data$sample <- as.character(qc.data$sample)\n",
    "qc.data = merge(qc.data, sample.info, by.x = \"sample\", by.y = \"ID\")"
   ]
  },
  {
   "cell_type": "code",
   "execution_count": 14,
   "metadata": {},
   "outputs": [
    {
     "data": {
      "image/png": "[encoded data removed]",
      "text/plain": [
       "plot without title"
      ]
     },
     "metadata": {
      "image/png": {
       "height": 600,
       "width": 600
      }
     },
     "output_type": "display_data"
    }
   ],
   "source": [
    "options(repr.plot.width = 10, repr.plot.height = 10)\n",
    "gg1 = ggplot(qc.data, aes(x = sample, y = contamination_fraction)) + \n",
    "            theme_bw() +\n",
    "            labs(y = \"\\n % mean Contamination Fraction\", x = \"\", title = \"Contamination Fraction\") +\n",
    "            geom_bar(stat = \"identity\", \n",
    "                     colour = \"black\") +\n",
    "            theme(axis.text = element_text(size = 12), axis.title = element_text(size = 12, face = \"bold\"),\n",
    "                  axis.text.x = element_text(angle = 90),\n",
    "                             plot.title = element_text(size = 18, face = \"bold\", hjust = 0.5)) +\n",
    "            coord_flip() +\n",
    "            facet_wrap(. ~ Chamber, scales = \"free_y\")\n",
    "gg1"
   ]
  },
  {
   "cell_type": "code",
   "execution_count": null,
   "metadata": {},
   "outputs": [],
   "source": []
  }
 ],
 "metadata": {
  "kernelspec": {
   "display_name": "R 4.1",
   "language": "R",
   "name": "ir41"
  },
  "language_info": {
   "codemirror_mode": "r",
   "file_extension": ".r",
   "mimetype": "text/x-r-source",
   "name": "R",
   "pygments_lexer": "r",
   "version": "4.1.1"
  },
  "toc": {
   "base_numbering": 1,
   "nav_menu": {},
   "number_sections": true,
   "sideBar": true,
   "skip_h1_title": false,
   "title_cell": "Table of Contents",
   "title_sidebar": "Contents",
   "toc_cell": false,
   "toc_position": {
    "height": "calc(100% - 180px)",
    "left": "10px",
    "top": "150px",
    "width": "167.59375px"
   },
   "toc_section_display": true,
   "toc_window_display": true
  }
 },
 "nbformat": 4,
 "nbformat_minor": 4
}
