{
 "cells": [
  {
   "cell_type": "markdown",
   "id": "3aed3e1e",
   "metadata": {},
   "source": [
    "# Settings"
   ]
  },
  {
   "cell_type": "code",
   "execution_count": 1,
   "id": "bec61104",
   "metadata": {},
   "outputs": [
    {
     "data": {
      "text/html": [
       "TRUE"
      ],
      "text/latex": [
       "TRUE"
      ],
      "text/markdown": [
       "TRUE"
      ],
      "text/plain": [
       "[1] TRUE"
      ]
     },
     "metadata": {},
     "output_type": "display_data"
    },
    {
     "data": {
      "text/plain": [
       "Module(anndata)"
      ]
     },
     "metadata": {},
     "output_type": "display_data"
    },
    {
     "data": {
      "text/html": [
       "TRUE"
      ],
      "text/latex": [
       "TRUE"
      ],
      "text/markdown": [
       "TRUE"
      ],
      "text/plain": [
       "[1] TRUE"
      ]
     },
     "metadata": {},
     "output_type": "display_data"
    },
    {
     "data": {
      "text/plain": [
       "Module(leidenalg)"
      ]
     },
     "metadata": {},
     "output_type": "display_data"
    }
   ],
   "source": [
    "# Load Reticulate function\n",
    "Sys.setenv(RETICULATE_PYTHON=\"/home/luca/anaconda3/envs/reticulate/bin/python\")\n",
    "library(reticulate)\n",
    "reticulate::use_python(\"/home/luca/anaconda3/envs/reticulate/bin/python\")\n",
    "reticulate::use_condaenv(\"/home/luca/anaconda3/envs/reticulate\")\n",
    "reticulate::py_module_available(module='anndata') #needs to be TRUE\n",
    "reticulate::import('anndata') #good to make sure this doesn't error\n",
    "reticulate::py_module_available(module='leidenalg') #needs to be TRUE\n",
    "reticulate::import('leidenalg') #good to make sure this doesn't error"
   ]
  },
  {
   "cell_type": "code",
   "execution_count": 2,
   "id": "e121152f",
   "metadata": {},
   "outputs": [],
   "source": [
    "## Patch for annotations in R4.1\n",
    "# BiocManager::install(\"Bioconductor/GenomeInfoDb\",lib = \"/home/luca/R/x86_64-pc-linux-gnu-library/4.1\",force = TRUE)\n",
    "# library(GenomeInfoDb,lib.loc=\"/home/luca/R/x86_64-pc-linux-gnu-library/4.1\")"
   ]
  },
  {
   "cell_type": "code",
   "execution_count": 3,
   "id": "2c1d86c4",
   "metadata": {},
   "outputs": [],
   "source": [
    "# Load packages\n",
    "pacman::p_load(dplyr, stringr, data.table, tidyr, data.table, Matrix,\n",
    "               hdf5r, Seurat, Signac,harmony, knitr, SoupX,\n",
    "               EnsDb.Hsapiens.v86, \n",
    "               logr, parallel, \n",
    "               ggplot2, ggpubr, ggrepel, ggbreak, gridExtra)"
   ]
  },
  {
   "cell_type": "code",
   "execution_count": 9,
   "id": "57f146f0",
   "metadata": {},
   "outputs": [],
   "source": [
    "# Set directories\n",
    "base.dir = \"/nfs/lab/projects/mega_heart/CAREHF/multiome/\"\n",
    "assets.dir = \"/nfs/lab/projects/mega_heart/CAREHF/multiome/Assets/\"\n",
    "\n",
    "cell.ranger.dir = \"/nfs/lab/projects/mega_heart/CAREHF/multiome/cellranger.symlinks/\"\n",
    "\n",
    "step1.dir = \"/nfs/lab/projects/mega_heart/CAREHF/multiome/1_preprocessing/\"\n",
    "step2.dir = \"/nfs/lab/projects/mega_heart/CAREHF/multiome/2_PeaksReformat/\"\n",
    "step3.dir = \"/nfs/lab/projects/mega_heart/CAREHF/multiome/Analysys/3_SoupX/\"\n",
    "step4.dir = \"/nfs/lab/projects/mega_heart/CAREHF/multiome/Analysys/4_Doublet_cleanup/scrublet/\"\n",
    "log.dir = \"/nfs/lab/projects/mega_heart/CAREHF/multiome/log/\""
   ]
  },
  {
   "cell_type": "code",
   "execution_count": 5,
   "id": "ca85bdf7",
   "metadata": {},
   "outputs": [],
   "source": [
    "# start log\n",
    "options(\"logr.on\" = TRUE, \"logr.notes\" = TRUE)\n",
    "options(\"logr.autolog\" = TRUE)\n",
    "options(\"logr.compact\" = TRUE)\n",
    "options(\"logr.traceback\" = TRUE)\n",
    "log.file = paste(base.dir, Sys.Date(),\".06_Scrublet.log\", sep=\"\")"
   ]
  },
  {
   "cell_type": "code",
   "execution_count": 6,
   "id": "277a7022",
   "metadata": {},
   "outputs": [
    {
     "data": {
      "text/html": [
       "'/nfs/lab/projects/mega_heart/CAREHF/multiome/log/2024-09-30.06_Scrublet.log'"
      ],
      "text/latex": [
       "'/nfs/lab/projects/mega\\_heart/CAREHF/multiome/log/2024-09-30.06\\_Scrublet.log'"
      ],
      "text/markdown": [
       "'/nfs/lab/projects/mega_heart/CAREHF/multiome/log/2024-09-30.06_Scrublet.log'"
      ],
      "text/plain": [
       "[1] \"/nfs/lab/projects/mega_heart/CAREHF/multiome/log/2024-09-30.06_Scrublet.log\""
      ]
     },
     "metadata": {},
     "output_type": "display_data"
    }
   ],
   "source": [
    "log_open(log.file)"
   ]
  },
  {
   "cell_type": "markdown",
   "id": "30c15aca",
   "metadata": {},
   "source": [
    "# Prepare files for scrublet"
   ]
  },
  {
   "cell_type": "code",
   "execution_count": 10,
   "id": "9b41248e",
   "metadata": {},
   "outputs": [
    {
     "data": {
      "text/html": [
       "'KA_49_1_2_KA_45_1_2'"
      ],
      "text/latex": [
       "'KA\\_49\\_1\\_2\\_KA\\_45\\_1\\_2'"
      ],
      "text/markdown": [
       "'KA_49_1_2_KA_45_1_2'"
      ],
      "text/plain": [
       "[1] \"KA_49_1_2_KA_45_1_2\""
      ]
     },
     "metadata": {},
     "output_type": "display_data"
    },
    {
     "data": {
      "text/html": [
       "'/nfs/lab/projects/CARE_HF/DATA/multiome/LA/KA_49_1_2_KA_45_1_2/outs/'"
      ],
      "text/latex": [
       "'/nfs/lab/projects/CARE\\_HF/DATA/multiome/LA/KA\\_49\\_1\\_2\\_KA\\_45\\_1\\_2/outs/'"
      ],
      "text/markdown": [
       "'/nfs/lab/projects/CARE_HF/DATA/multiome/LA/KA_49_1_2_KA_45_1_2/outs/'"
      ],
      "text/plain": [
       "[1] \"/nfs/lab/projects/CARE_HF/DATA/multiome/LA/KA_49_1_2_KA_45_1_2/outs/\""
      ]
     },
     "metadata": {},
     "output_type": "display_data"
    }
   ],
   "source": [
    "# Load sample info\n",
    "sample.info = read.table(paste(assets.dir, \"sample.info\", sep = \"\"), sep = \"\\t\", header = TRUE)\n",
    "# Build variables\n",
    "sample.ls = sample.info$ID\n",
    "cellranger.outs.ls = paste0(sample.info$CellRanger,\n",
    "                            sample.info$Chamber, \"/\",\n",
    "                            sample.info$ID, \"/outs/\")\n",
    "\n",
    "# Check the paths r right\n",
    "sample.ls[1]\n",
    "cellranger.outs.ls[1]"
   ]
  },
  {
   "cell_type": "code",
   "execution_count": 11,
   "id": "e04c10bc",
   "metadata": {
    "scrolled": true
   },
   "outputs": [
    {
     "name": "stdout",
     "output_type": "stream",
     "text": [
      "[1] \"Processing sample:  KA_49_1_2_KA_45_1_2\"\n"
     ]
    },
    {
     "name": "stderr",
     "output_type": "stream",
     "text": [
      "Warning message:\n",
      "\"\u001b[1m\u001b[22mThe `slot` argument of `GetAssayData()` is deprecated as of SeuratObject 5.0.0.\n",
      "\u001b[36mℹ\u001b[39m Please use the `layer` argument instead.\"\n"
     ]
    },
    {
     "name": "stdout",
     "output_type": "stream",
     "text": [
      "[1] \"Processing sample:  QY_1880_1_2_QY_1879_1_2\"\n",
      "[1] \"Processing sample:  QY_1882_1_2_QY_1881_1_2\"\n",
      "[1] \"Processing sample:  QY_1920_1_2_QY_1919_1_2\"\n",
      "[1] \"Processing sample:  QY_1971_1_2_QY_1970_1_2\"\n",
      "[1] \"Processing sample:  QY_2015_1_2_QY_2014_1_2\"\n",
      "[1] \"Processing sample:  QY_2039_1_2_QY_2038_1_2\"\n",
      "[1] \"Processing sample:  QY_2047_1_2_QY_2046_1_2\"\n",
      "[1] \"Processing sample:  QY_2051_1_2_QY_2050_1_2\"\n",
      "[1] \"Processing sample:  JB_631_1_2_JB_627_1_2\"\n",
      "[1] \"Processing sample:  JB_632_1_2_JB_628_1_2\"\n",
      "[1] \"Processing sample:  JB_633_1_2_JB_629_1_2\"\n",
      "[1] \"Processing sample:  JB_634_1_2_3_JB_630_1_2_3\"\n",
      "[1] \"Processing sample:  MM_507_1_2_MM_512_1_2\"\n",
      "[1] \"Processing sample:  QY_1856_1_2_QY_1855_1_2\"\n",
      "[1] \"Processing sample:  QY_1854_1_2_QY_1853_1_2\"\n",
      "[1] \"Processing sample:  QY_1858_1_2_QY_1857_1_2\"\n",
      "[1] \"Processing sample:  QY_1860_1_2_QY_1859_1_2\"\n",
      "[1] \"Processing sample:  KA_47_1_2_KA_43_1_2\"\n",
      "[1] \"Processing sample:  KA_50_1_2_KA_46_1_2\"\n",
      "[1] \"Processing sample:  QY_1886_1_2_QY_1885_1_2\"\n",
      "[1] \"Processing sample:  QY_1914_1_2_QY_1913_1_2\"\n",
      "[1] \"Processing sample:  QY_1916_1_2_QY_1915_1_2\"\n",
      "[1] \"Processing sample:  QY_1969_1_2_QY_1968_1_2\"\n",
      "[1] \"Processing sample:  QY_2019_1_2_QY_2018_1_2\"\n",
      "[1] \"Processing sample:  QY_2045_1_2_QY_2044_1_2\"\n",
      "[1] \"Processing sample:  QY_2049_1_2_QY_2048_1_2\"\n",
      "[1] \"Processing sample:  KA_48_1_2_KA_44_1_2\"\n",
      "[1] \"Processing sample:  QY_1922_1_2_QY_1921_1_2\"\n",
      "[1] \"Processing sample:  QY_1924_1_2_QY_1923_1_2\"\n",
      "[1] \"Processing sample:  QY_1967_1_2_QY_1966_1_2\"\n",
      "[1] \"Processing sample:  QY_1973_1_2_QY_1972_1_2\"\n",
      "[1] \"Processing sample:  QY_2017_1_2_QY_2016_1_2\"\n",
      "[1] \"Processing sample:  QY_2041_1_2_QY_2040_1_2\"\n",
      "[1] \"Processing sample:  QY_2043_1_2_QY_2042_1_2\"\n",
      "[1] \"Processing sample:  QY_2053_1_2_QY_2052_1_2\"\n"
     ]
    }
   ],
   "source": [
    "for (i in seq_along(sample.ls)){\n",
    "    gc(reset = TRUE)\n",
    "    # Set sample variable\n",
    "    sample = sample.ls[i]\n",
    "    log_print(paste(\"Processing sample: \", sample))\n",
    "    # Load data\n",
    "    adata <- readRDS(file = paste(step3.dir, sample, \"_pre.filt.peaks.SoupX.rds\", sep = \"\"))\n",
    "    \n",
    "    #pull out RNA counts to a separate object and writeMM\n",
    "    DefaultAssay(adata) <- 'RNA'\n",
    "    rna.counts <- GetAssayData(adata,slot='counts')       \n",
    "    file <- paste(step4.dir, sample, \"_matrix.mtx\", sep = \"\")\n",
    "    writeMM(rna.counts, file)\n",
    "    \n",
    "    #also export the gene list    \n",
    "    file <- paste(step4.dir, sample, \"_genes.tsv\", sep = \"\")\n",
    "    write(row.names(rna.counts),file,sep='\\n')\n",
    "    \n",
    "    # (and barcodes just in case) \n",
    "    file <- paste(step4.dir, sample, \"_barcodes.tsv\", sep = \"\")              \n",
    "    write(colnames(rna.counts),file,sep='\\n')                     \n",
    "}"
   ]
  },
  {
   "cell_type": "code",
   "execution_count": null,
   "id": "09b5b983",
   "metadata": {},
   "outputs": [],
   "source": []
  },
  {
   "cell_type": "code",
   "execution_count": null,
   "id": "17acb9ec",
   "metadata": {},
   "outputs": [],
   "source": []
  }
 ],
 "metadata": {
  "kernelspec": {
   "display_name": "R 4.1",
   "language": "R",
   "name": "ir41"
  },
  "language_info": {
   "codemirror_mode": "r",
   "file_extension": ".r",
   "mimetype": "text/x-r-source",
   "name": "R",
   "pygments_lexer": "r",
   "version": "4.1.1"
  },
  "toc": {
   "base_numbering": 1,
   "nav_menu": {},
   "number_sections": true,
   "sideBar": true,
   "skip_h1_title": false,
   "title_cell": "Table of Contents",
   "title_sidebar": "Contents",
   "toc_cell": false,
   "toc_position": {},
   "toc_section_display": true,
   "toc_window_display": false
  }
 },
 "nbformat": 4,
 "nbformat_minor": 5
}
