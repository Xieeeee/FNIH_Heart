{
 "cells": [
  {
   "cell_type": "markdown",
   "id": "5ab36bc8",
   "metadata": {},
   "source": [
    "# Settings"
   ]
  },
  {
   "cell_type": "code",
   "execution_count": 1,
   "id": "2f305f84",
   "metadata": {
    "scrolled": true
   },
   "outputs": [
    {
     "data": {
      "text/html": [
       "TRUE"
      ],
      "text/latex": [
       "TRUE"
      ],
      "text/markdown": [
       "TRUE"
      ],
      "text/plain": [
       "[1] TRUE"
      ]
     },
     "metadata": {},
     "output_type": "display_data"
    },
    {
     "data": {
      "text/plain": [
       "Module(anndata)"
      ]
     },
     "metadata": {},
     "output_type": "display_data"
    },
    {
     "data": {
      "text/html": [
       "TRUE"
      ],
      "text/latex": [
       "TRUE"
      ],
      "text/markdown": [
       "TRUE"
      ],
      "text/plain": [
       "[1] TRUE"
      ]
     },
     "metadata": {},
     "output_type": "display_data"
    },
    {
     "data": {
      "text/plain": [
       "Module(leidenalg)"
      ]
     },
     "metadata": {},
     "output_type": "display_data"
    }
   ],
   "source": [
    "# Load Reticulate function\n",
    "Sys.setenv(RETICULATE_PYTHON=\"/home/luca/anaconda3/envs/reticulate/bin/python\")\n",
    "library(reticulate)\n",
    "reticulate::use_python(\"/home/luca/anaconda3/envs/reticulate/bin/python\")\n",
    "reticulate::use_condaenv(\"/home/luca/anaconda3/envs/reticulate\")\n",
    "reticulate::py_module_available(module='anndata') #needs to be TRUE\n",
    "reticulate::import('anndata') #good to make sure this doesn't error\n",
    "reticulate::py_module_available(module='leidenalg') #needs to be TRUE\n",
    "reticulate::import('leidenalg') #good to make sure this doesn't error"
   ]
  },
  {
   "cell_type": "code",
   "execution_count": 2,
   "id": "0497c8b4",
   "metadata": {},
   "outputs": [],
   "source": [
    "## Patch for annotations in R4.1\n",
    "# BiocManager::install(\"Bioconductor/GenomeInfoDb\",lib = \"/home/luca/R/x86_64-pc-linux-gnu-library/4.1\",force = TRUE)\n",
    "# library(GenomeInfoDb,lib.loc=\"/home/luca/R/x86_64-pc-linux-gnu-library/4.1\")"
   ]
  },
  {
   "cell_type": "code",
   "execution_count": 3,
   "id": "c47737ca",
   "metadata": {},
   "outputs": [],
   "source": [
    "# Load packages\n",
    "pacman::p_load(dplyr, stringr, data.table, tidyr, data.table, Matrix, future, \n",
    "               hdf5r, Seurat, Signac,harmony, knitr, SoupX, \n",
    "               EnsDb.Hsapiens.v86, \n",
    "               logr, parallel, \n",
    "               ggplot2, ggpubr, ggrepel, ggbreak, gridExtra, patchwork, grid, ggh4x)"
   ]
  },
  {
   "cell_type": "code",
   "execution_count": 4,
   "id": "bf052de8",
   "metadata": {},
   "outputs": [],
   "source": [
    "# Load genome\n",
    "#suppressMessages(annotations <- GetGRangesFromEnsDb(ensdb=EnsDb.Hsapiens.v86))\n",
    "#genome(annotations) <- 'hg38'\n",
    "#seqlevelsStyle(annotations) <- 'UCSC'\n",
    "# Save table\n",
    "# writeRDS(annotations, \"/nfs/lab/Luca/Assets/references/Cellranger/hg38.annotations.rds\")\n",
    "\n",
    "# Load table\n",
    "annotations = readRDS(\"/nfs/lab/Luca/Assets/references/Cellranger/hg38.annotations.rds\")\n",
    "seqlevelsStyle(annotations) <- 'UCSC'\n",
    "genome(annotations) <- 'hg38'\n",
    "\n",
    "# Seq info downloaded from: https://github.com/broadinstitute/ichorCNA/issues/84\n",
    "seq.info = readRDS(\"/nfs/lab/Luca/Assets/references/Cellranger/seqinfo_hg38_ucsc.rds\")"
   ]
  },
  {
   "cell_type": "code",
   "execution_count": 5,
   "id": "4f09997d",
   "metadata": {},
   "outputs": [],
   "source": [
    "# Set options\n",
    "options(stringsAsFactors = FALSE)\n",
    "warnLevel <- getOption('warn')\n",
    "options(warn = -1)\n",
    "opts_chunk$set(tidy=TRUE)\n",
    "\n",
    "# set Future\n",
    "plan(\"multicore\", workers = 4)\n",
    "# set RAM treshold\n",
    "## 1000 = 1gb\n",
    "RAM.tresh = 10000 * 1024^2\n",
    "options(future.globals.maxSize = RAM.tresh)\n",
    "\n",
    "# THIS OPTION IS NEEDED FOR THE BEDOPS PART\n",
    "options(scipen = 999)"
   ]
  },
  {
   "cell_type": "code",
   "execution_count": 6,
   "id": "1444f87d",
   "metadata": {},
   "outputs": [],
   "source": [
    "# Set directories\n",
    "base.dir = \"/nfs/lab/projects/mega_heart/\"\n",
    "assets.dir = \"/nfs/lab/projects/mega_heart/FNIH/multiome/Assets/\"\n",
    "\n",
    "reference.dir = \"/nfs/lab/projects/mega_heart/FNIH/multiome/Analysis/1_preprocessing/LV_RV_LA_RA.multiome.mrg.filt.MTless.silQC.curated.peaks.rds\"\n",
    "reference.LV.dir = paste0(\"/nfs/lab/projects/mega_heart/FNIH/multiome/Analysis/1_preprocessing/single_chambers/\", \n",
    "                       \"LV_LibrarySex.multiome.mrg.filt.MTless.silQC.curated.peaks.rds\")\n",
    "reference.RV.dir = paste0(\"/nfs/lab/projects/mega_heart/FNIH/multiome/Analysis/1_preprocessing/single_chambers/\", \n",
    "                       \"RV_LibrarySex.multiome.mrg.filt.MTless.silQC.curated.peaks.rds\")\n",
    "reference.LA.dir = paste0(\"/nfs/lab/projects/mega_heart/FNIH/multiome/Analysis/1_preprocessing/single_chambers/\", \n",
    "                       \"LA_LibrarySex.multiome.mrg.filt.MTless.silQC.curated.peaks.rds\")\n",
    "reference.RA.dir = paste0(\"/nfs/lab/projects/mega_heart/FNIH/multiome/Analysis/1_preprocessing/single_chambers/\", \n",
    "                       \"RA_LibrarySex.multiome.mrg.filt.MTless.silQC.curated.peaks.rds\")\n"
   ]
  },
  {
   "cell_type": "code",
   "execution_count": 7,
   "id": "331f2ca6",
   "metadata": {},
   "outputs": [],
   "source": [
    "# Load markers list\n",
    "cell.markers = read.table(paste(\"/nfs/lab/projects/mega_heart/Assets/\", \"Cell.markers_4.txt\", sep = \"\"), sep = \"\\t\", header = TRUE)\n",
    "# Make it long, remove useless column and void markers\n",
    "cell.markers <- cell.markers %>% gather(Key, marker, c(3:ncol(cell.markers)))\n",
    "cell.markers = cell.markers[,-3]\n",
    "cell.markers = cell.markers[cell.markers$marker != \"\", ]\n",
    "# Factorize columns\n",
    "cell.markers$Compartment = factor(cell.markers$Compartment, \n",
    "                        levels = c(\"Muscular\", \"Vascular\", \"Neuro\", \"Stromal\", \"Immune\", \"Erythroid\"))\n",
    "cell.markers$CellType = factor(cell.markers$CellType,\n",
    "                        levels = c(\"CardioMyocyte\", \"a-CM\", \"v-CM\", \"SM\", \"Endothelial\", \"Arterial-Endo\", \"Venous-Endo\", \"Capillary-Endo\", \"Endocardial\", \"Epicardial\", \"Lymph-Endo\", \"Pericyte\", \"Neuronal\", \"Fibroblast\", \"a-Fibroblast\", \"Adipocyte\", \"Macrophage\", \"DC\", \"T\", \"T-CD4\", \"T-CD8\", \"NK\", \"NK-16\", \"NK-56\", \"B\", \"Plasma\", \"Mast\", \"Erythroid\"))\n",
    "\n",
    "cell.compartment = cell.markers[,-3]"
   ]
  },
  {
   "cell_type": "code",
   "execution_count": 8,
   "id": "85c69499",
   "metadata": {},
   "outputs": [
    {
     "data": {
      "text/html": [
       "'/nfs/lab/projects/mega_heart/log/Metadata_label.log'"
      ],
      "text/latex": [
       "'/nfs/lab/projects/mega\\_heart/log/Metadata\\_label.log'"
      ],
      "text/markdown": [
       "'/nfs/lab/projects/mega_heart/log/Metadata_label.log'"
      ],
      "text/plain": [
       "[1] \"/nfs/lab/projects/mega_heart/log/Metadata_label.log\""
      ]
     },
     "metadata": {},
     "output_type": "display_data"
    }
   ],
   "source": [
    "log_open(file_name = paste0(base.dir, \"Metadata_label.log\"))"
   ]
  },
  {
   "cell_type": "markdown",
   "id": "d75d2dbc",
   "metadata": {},
   "source": [
    "# Re-label reference"
   ]
  },
  {
   "cell_type": "code",
   "execution_count": 9,
   "id": "c5600ccc",
   "metadata": {},
   "outputs": [],
   "source": [
    "colors.use = c(\"cadetblue4\", \"salmon\", \"lightgoldenrod\", \n",
    "    \"paleturquoise3\",\"palegreen3\", \"mediumpurple1\", \n",
    "    \"lightblue4\", \"navajowhite1\", \"magenta\", \"coral2\", \n",
    "    \"mediumorchid1\", \"midnightblue\", \"lightgoldenrodyellow\", \n",
    "    \"black\", \"lightgrey\", \"mistyrose4\",\"darkcyan\", \"steelblue2\", \n",
    "    \"darkolivegreen3\", \"mediumpurple1\", \"lightskyblue\", \"firebrick2\",\n",
    "    \"burlywood\", \"chartreuse1\", \"deeppink2\", \"khaki\", \"powderblue\",\n",
    "    \"slategrey\", \"springgreen\", \"yellow3\", \"orange2\", \"lightsteelblue3\", \n",
    "    \"tomato3\", \"palegreen4\", \"grey27\", \"darkseagreen\", \"blue\", \"darkorchid\",\n",
    "    \"snow2\", \"peachpuff2\", \"magenta2\", \"yellowgreen\", \"cornflowerblue\",\n",
    "    \"chocolate\", \"blueviolet\", \"lighblue1\", \"plum2\")"
   ]
  },
  {
   "cell_type": "code",
   "execution_count": 10,
   "id": "99d29cc7",
   "metadata": {},
   "outputs": [],
   "source": [
    "in.dir = reference.dir"
   ]
  },
  {
   "cell_type": "code",
   "execution_count": 11,
   "id": "35349a8e",
   "metadata": {},
   "outputs": [
    {
     "name": "stdout",
     "output_type": "stream",
     "text": [
      "[1] \" Loading data\"\n",
      "[1] \"Done\"\n"
     ]
    }
   ],
   "source": [
    "log_print(\" Loading data\")\n",
    "adata = readRDS(in.dir)\n",
    "log_print(paste(\"Done\"))"
   ]
  },
  {
   "cell_type": "markdown",
   "id": "f4685bec",
   "metadata": {},
   "source": [
    "# Call peaks by MajorCelltypes and chambers"
   ]
  },
  {
   "cell_type": "code",
   "execution_count": 12,
   "id": "805f57e1",
   "metadata": {},
   "outputs": [
    {
     "name": "stdout",
     "output_type": "stream",
     "text": [
      "[1] \"Calling peaks\"\n"
     ]
    },
    {
     "name": "stderr",
     "output_type": "stream",
     "text": [
      "Processing file /nfs/lab/projects/mega_heart/FNIH/multiome/Analysis/1_preprocessing/merged.atac_fragments.tsv.gz\n",
      "\n",
      "\n",
      "\n",
      "\n"
     ]
    },
    {
     "name": "stdout",
     "output_type": "stream",
     "text": [
      "[1] \"Done\"\n"
     ]
    }
   ],
   "source": [
    "peaks.dir = \"/nfs/lab/projects/mega_heart/FNIH/multiome/Analysis/1_preprocessing/PeakCalling/3_PeaksMap_byChamber_PeakCalls/\"\n",
    "\n",
    "log_print(paste0(\"Calling peaks\"))\n",
    "peaks <- CallPeaks(\n",
    "    object = adata,\n",
    "    assay = \"ATAC\",\n",
    "    group.by = \"cell.major_types_chamber\",\n",
    "    macs2.path = '/home/luca/.local/bin/macs2',\n",
    "    broad = FALSE,\n",
    "    format = \"BED\", \n",
    "    combine.peaks = FALSE,\n",
    "    outdir = peaks.dir,\n",
    "    cleanup = FALSE,\n",
    "    verbose = TRUE)\n",
    "log_print(paste0(\"Done\"))"
   ]
  },
  {
   "cell_type": "markdown",
   "id": "edc578c1",
   "metadata": {},
   "source": [
    "# Call peaks by cell-subtypes"
   ]
  },
  {
   "cell_type": "code",
   "execution_count": 13,
   "id": "b1bcc413",
   "metadata": {},
   "outputs": [
    {
     "name": "stdout",
     "output_type": "stream",
     "text": [
      "[1] \"Calling peaks\"\n"
     ]
    },
    {
     "name": "stderr",
     "output_type": "stream",
     "text": [
      "Processing file /nfs/lab/projects/mega_heart/FNIH/multiome/Analysis/1_preprocessing/merged.atac_fragments.tsv.gz\n",
      "\n",
      "\n",
      "\n",
      "\n"
     ]
    },
    {
     "name": "stdout",
     "output_type": "stream",
     "text": [
      "[1] \"Done\"\n"
     ]
    }
   ],
   "source": [
    "peaks.dir = \"/nfs/lab/projects/mega_heart/FNIH/multiome/Analysis/1_preprocessing/PeakCalling/4_PeakMap_Peakcalls_CellSubTypes/\"\n",
    "\n",
    "log_print(paste0(\"Calling peaks\"))\n",
    "peaks <- CallPeaks(\n",
    "    object = adata,\n",
    "    assay = \"ATAC\",\n",
    "    group.by = \"cell.sub_types\",\n",
    "    macs2.path = '/home/luca/.local/bin/macs2',\n",
    "    broad = FALSE,\n",
    "    format = \"BED\", \n",
    "    combine.peaks = FALSE,\n",
    "    outdir = peaks.dir,\n",
    "    cleanup = FALSE,\n",
    "    verbose = TRUE)\n",
    "log_print(paste0(\"Done\"))"
   ]
  },
  {
   "cell_type": "code",
   "execution_count": null,
   "id": "48cbe7d0",
   "metadata": {},
   "outputs": [],
   "source": []
  }
 ],
 "metadata": {
  "kernelspec": {
   "display_name": "Main_R_4.3",
   "language": "R",
   "name": "irs5"
  },
  "language_info": {
   "codemirror_mode": "r",
   "file_extension": ".r",
   "mimetype": "text/x-r-source",
   "name": "R",
   "pygments_lexer": "r",
   "version": "4.3.2"
  },
  "toc": {
   "base_numbering": 1,
   "nav_menu": {},
   "number_sections": true,
   "sideBar": true,
   "skip_h1_title": false,
   "title_cell": "Table of Contents",
   "title_sidebar": "Contents",
   "toc_cell": false,
   "toc_position": {
    "height": "calc(100% - 180px)",
    "left": "10px",
    "top": "150px",
    "width": "254.390625px"
   },
   "toc_section_display": true,
   "toc_window_display": true
  }
 },
 "nbformat": 4,
 "nbformat_minor": 5
}
