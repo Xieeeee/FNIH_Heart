{
 "cells": [
  {
   "cell_type": "code",
   "execution_count": null,
   "id": "f0c9b418",
   "metadata": {},
   "outputs": [],
   "source": [
    "suppressPackageStartupMessages(library(dplyr)) \n",
    "suppressPackageStartupMessages(library(Seurat))\n",
    "suppressPackageStartupMessages(library(harmony))\n",
    "\n",
    "library(ggplot2)\n",
    "library(pheatmap)\n",
    "library(RColorBrewer)\n",
    "library(repr)\n",
    "\n",
    "source(\"/projects/ps-renlab2/y2xie/scripts/basics.R\")\n",
    "source(\"/projects/ps-renlab2/y2xie/scripts/DPT_help.R\")\n",
    "\n",
    "options(future.globals.maxSize = 64000 * 1024^2)"
   ]
  },
  {
   "cell_type": "markdown",
   "id": "2024271d",
   "metadata": {},
   "source": [
    "## Process single channel Multiome data"
   ]
  },
  {
   "cell_type": "code",
   "execution_count": null,
   "id": "630c33a8",
   "metadata": {},
   "outputs": [],
   "source": [
    "### Process carehf object into one\n",
    "library(foreach)\n",
    "library(doParallel)\n",
    "registerDoParallel(cores = 16)\n",
    "\n",
    "allf <- list.files(\"../reference/CAREHF/\", pattern = \".*.RmMult.rds\")\n",
    "crna_list <- foreach(f = allf, .packages = \"Seurat\") %dopar% {\n",
    "    read_attempt <- try(readRDS(paste0(\"../reference/CAREHF/\", f)), silent = TRUE)\n",
    "    if (inherits(read_attempt, \"try-error\")) {\n",
    "        stop(\"Error reading \", f, \"- skipping to next file.\\n\")\n",
    "    }\n",
    "    mmg <- readRDS(paste0(\"../reference/CAREHF/\", f))\n",
    "    tmp <- mmg@meta.data\n",
    "\n",
    "    rownames(tmp) <- paste0(tmp$samples, \":\", rownames(tmp)) \n",
    "    \n",
    "    mtx <- mmg[[\"RNA\"]]@counts\n",
    "    colnames(mtx) <- paste0(mmg$samples, \":\", colnames(mtx))\n",
    "    return(list(mtx, tmp))\n",
    "}\n",
    "\n",
    "### Process CAREHF DNA count matrix\n",
    "dna_list <- foreach(f = allf, .packages = \"Seurat\") %dopar% {\n",
    "    read_attempt <- try(readRDS(paste0(\"../reference/CAREHF/\", f)), silent = TRUE)\n",
    "    if (inherits(read_attempt, \"try-error\")) {\n",
    "        stop(\"Error reading \", f, \"- skipping to next file.\\n\")\n",
    "    }\n",
    "    mmg <- readRDS(paste0(\"../reference/CAREHF/\", f))\n",
    "    tmp <- mmg@meta.data\n",
    "\n",
    "    rownames(tmp) <- paste0(tmp$samples, \":\", rownames(tmp)) \n",
    "    \n",
    "    mtx <- mmg[[\"ATAC\"]]@counts\n",
    "    colnames(mtx) <- paste0(mmg$samples, \":\", colnames(mtx))\n",
    "    return(list(mtx, tmp))\n",
    "}"
   ]
  },
  {
   "cell_type": "code",
   "execution_count": null,
   "id": "cf94ca50",
   "metadata": {},
   "outputs": [],
   "source": [
    "mtx_list <- lapply(crna_list, function(x) x[[1]])\n",
    "meta_list <- lapply(crna_list, function(x) x[[2]])\n",
    "\n",
    "### merge object\n",
    "tmp <- Reduce(cbind, mtx_list[-1], mtx_list[[1]]) ### dont use do.call for cbind\n",
    "tmeta <- do.call(rbind, meta_list)\n",
    "mmg <- CreateSeuratObject(tmp, meta.data = tmeta)"
   ]
  },
  {
   "cell_type": "code",
   "execution_count": null,
   "id": "16e64741",
   "metadata": {},
   "outputs": [],
   "source": [
    "ref2 <- subset(mmg, subset = is_cell == 1)\n",
    "carehf_donor <- read.table(\"../reference/CARE_HF_sample.info\", header = T, sep = \"\\t\")\n",
    "ref2@meta.data[,c('Chamber', 'Donor')] <- carehf_donor[match(ref2$samples, carehf_donor$ID), c('Chamber', 'Donor')] "
   ]
  },
  {
   "cell_type": "code",
   "execution_count": 43,
   "id": "f28fa428",
   "metadata": {},
   "outputs": [
    {
     "data": {
      "text/plain": [
       "An object of class Seurat \n",
       "69963 features across 252832 samples within 2 assays \n",
       "Active assay: SCT (33362 features, 3000 variable features)\n",
       " 3 layers present: counts, data, scale.data\n",
       " 1 other assay present: RNA\n",
       " 3 dimensional reductions calculated: pca, harmony, umap"
      ]
     },
     "metadata": {},
     "output_type": "display_data"
    }
   ],
   "source": [
    "ref2 <- RunRNA2(ref2, batch.label = \"samples\")\n",
    "qs::qsave(ref2, \"../reference/CAREHF/merge.rna.qs\", preset = \"balanced\", nthreads = 32)\n",
    "ref2"
   ]
  }
 ],
 "metadata": {
  "kernelspec": {
   "display_name": "R [conda env:seurat] *",
   "language": "R",
   "name": "conda-env-seurat-r"
  },
  "language_info": {
   "codemirror_mode": "r",
   "file_extension": ".r",
   "mimetype": "text/x-r-source",
   "name": "R",
   "pygments_lexer": "r",
   "version": "4.2.3"
  }
 },
 "nbformat": 4,
 "nbformat_minor": 5
}
